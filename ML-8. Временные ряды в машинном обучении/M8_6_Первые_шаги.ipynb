{
  "cells": [
    {
      "cell_type": "markdown",
      "source": "# \"Первые шаги\"",
      "metadata": {
        "cell_id": "00000-6aae1d05-b6ef-495d-b55f-fddbe84ae0b8",
        "deepnote_cell_type": "markdown"
      }
    },
    {
      "cell_type": "code",
      "metadata": {
        "ExecuteTime": {
          "end_time": "2019-08-11T16:38:24.515634Z",
          "start_time": "2019-08-11T16:38:22.013322Z"
        },
        "cell_id": "00001-8aab463e-1a6f-4146-938d-8b22c635e398",
        "deepnote_to_be_reexecuted": false,
        "source_hash": "b8c133b2",
        "execution_millis": 0,
        "execution_start": 1614598699970,
        "deepnote_cell_type": "code"
      },
      "source": "import numpy as np, pandas as pd\nimport matplotlib.pyplot as plt",
      "execution_count": null,
      "outputs": []
    },
    {
      "cell_type": "code",
      "metadata": {
        "ExecuteTime": {
          "end_time": "2019-08-11T16:38:27.710187Z",
          "start_time": "2019-08-11T16:38:27.679268Z"
        },
        "cell_id": "00002-32949780-9755-42a9-bf72-466017444318",
        "deepnote_to_be_reexecuted": false,
        "source_hash": "a0690717",
        "execution_millis": 5,
        "execution_start": 1614599549575,
        "deepnote_cell_type": "code"
      },
      "source": "df = pd.read_csv('/work/data/srt_data.csv')\ndf.head()",
      "execution_count": null,
      "outputs": [
        {
          "output_type": "execute_result",
          "execution_count": 41,
          "data": {
            "application/vnd.deepnote.dataframe.v2+json": {
              "row_count": 5,
              "column_count": 6,
              "columns": [
                {
                  "name": "ts",
                  "dtype": "object",
                  "stats": {
                    "unique_count": 5,
                    "nan_count": 0,
                    "categories": [
                      {
                        "name": "2018-10-01",
                        "count": 1
                      },
                      {
                        "name": "2018-10-02",
                        "count": 1
                      },
                      {
                        "name": "3 others",
                        "count": 3
                      }
                    ]
                  }
                },
                {
                  "name": "serialNo",
                  "dtype": "object",
                  "stats": {
                    "unique_count": 1,
                    "nan_count": 0,
                    "categories": [
                      {
                        "name": "VA4202760704",
                        "count": 5
                      }
                    ]
                  }
                },
                {
                  "name": "home",
                  "dtype": "int64",
                  "stats": {
                    "unique_count": 1,
                    "nan_count": 0,
                    "min": 165132,
                    "max": 165132,
                    "histogram": [
                      {
                        "bin_start": 165131.5,
                        "bin_end": 165131.6,
                        "count": 0
                      },
                      {
                        "bin_start": 165131.6,
                        "bin_end": 165131.7,
                        "count": 0
                      },
                      {
                        "bin_start": 165131.7,
                        "bin_end": 165131.8,
                        "count": 0
                      },
                      {
                        "bin_start": 165131.8,
                        "bin_end": 165131.9,
                        "count": 0
                      },
                      {
                        "bin_start": 165131.9,
                        "bin_end": 165132,
                        "count": 0
                      },
                      {
                        "bin_start": 165132,
                        "bin_end": 165132.1,
                        "count": 5
                      },
                      {
                        "bin_start": 165132.1,
                        "bin_end": 165132.2,
                        "count": 0
                      },
                      {
                        "bin_start": 165132.2,
                        "bin_end": 165132.3,
                        "count": 0
                      },
                      {
                        "bin_start": 165132.3,
                        "bin_end": 165132.4,
                        "count": 0
                      },
                      {
                        "bin_start": 165132.4,
                        "bin_end": 165132.5,
                        "count": 0
                      }
                    ]
                  }
                },
                {
                  "name": "batteryVoltageMilliV",
                  "dtype": "float64",
                  "stats": {
                    "unique_count": 5,
                    "nan_count": 0,
                    "min": 2773.35,
                    "max": 2787.131,
                    "histogram": [
                      {
                        "bin_start": 2773.35,
                        "bin_end": 2774.7281,
                        "count": 1
                      },
                      {
                        "bin_start": 2774.7281,
                        "bin_end": 2776.1061999999997,
                        "count": 0
                      },
                      {
                        "bin_start": 2776.1061999999997,
                        "bin_end": 2777.4843,
                        "count": 1
                      },
                      {
                        "bin_start": 2777.4843,
                        "bin_end": 2778.8624,
                        "count": 0
                      },
                      {
                        "bin_start": 2778.8624,
                        "bin_end": 2780.2405,
                        "count": 0
                      },
                      {
                        "bin_start": 2780.2405,
                        "bin_end": 2781.6186,
                        "count": 0
                      },
                      {
                        "bin_start": 2781.6186,
                        "bin_end": 2782.9966999999997,
                        "count": 0
                      },
                      {
                        "bin_start": 2782.9966999999997,
                        "bin_end": 2784.3748,
                        "count": 0
                      },
                      {
                        "bin_start": 2784.3748,
                        "bin_end": 2785.7529,
                        "count": 1
                      },
                      {
                        "bin_start": 2785.7529,
                        "bin_end": 2787.131,
                        "count": 2
                      }
                    ]
                  }
                },
                {
                  "name": "insideTemperatureCentiC",
                  "dtype": "float64",
                  "stats": {
                    "unique_count": 5,
                    "nan_count": 0,
                    "min": 1878.0369,
                    "max": 2041.401,
                    "histogram": [
                      {
                        "bin_start": 1878.0369,
                        "bin_end": 1894.37331,
                        "count": 1
                      },
                      {
                        "bin_start": 1894.37331,
                        "bin_end": 1910.70972,
                        "count": 1
                      },
                      {
                        "bin_start": 1910.70972,
                        "bin_end": 1927.0461300000002,
                        "count": 0
                      },
                      {
                        "bin_start": 1927.0461300000002,
                        "bin_end": 1943.38254,
                        "count": 0
                      },
                      {
                        "bin_start": 1943.38254,
                        "bin_end": 1959.71895,
                        "count": 1
                      },
                      {
                        "bin_start": 1959.71895,
                        "bin_end": 1976.05536,
                        "count": 0
                      },
                      {
                        "bin_start": 1976.05536,
                        "bin_end": 1992.3917700000002,
                        "count": 1
                      },
                      {
                        "bin_start": 1992.3917700000002,
                        "bin_end": 2008.72818,
                        "count": 0
                      },
                      {
                        "bin_start": 2008.72818,
                        "bin_end": 2025.06459,
                        "count": 0
                      },
                      {
                        "bin_start": 2025.06459,
                        "bin_end": 2041.401,
                        "count": 1
                      }
                    ]
                  }
                },
                {
                  "name": "humidityMilliPerc",
                  "dtype": "float64",
                  "stats": {
                    "unique_count": 5,
                    "nan_count": 0,
                    "min": 550.09204,
                    "max": 589.7411,
                    "histogram": [
                      {
                        "bin_start": 550.09204,
                        "bin_end": 554.056946,
                        "count": 2
                      },
                      {
                        "bin_start": 554.056946,
                        "bin_end": 558.021852,
                        "count": 0
                      },
                      {
                        "bin_start": 558.021852,
                        "bin_end": 561.986758,
                        "count": 0
                      },
                      {
                        "bin_start": 561.986758,
                        "bin_end": 565.9516639999999,
                        "count": 0
                      },
                      {
                        "bin_start": 565.9516639999999,
                        "bin_end": 569.91657,
                        "count": 0
                      },
                      {
                        "bin_start": 569.91657,
                        "bin_end": 573.881476,
                        "count": 0
                      },
                      {
                        "bin_start": 573.881476,
                        "bin_end": 577.846382,
                        "count": 1
                      },
                      {
                        "bin_start": 577.846382,
                        "bin_end": 581.811288,
                        "count": 0
                      },
                      {
                        "bin_start": 581.811288,
                        "bin_end": 585.7761939999999,
                        "count": 1
                      },
                      {
                        "bin_start": 585.7761939999999,
                        "bin_end": 589.7411,
                        "count": 1
                      }
                    ]
                  }
                },
                {
                  "name": "_deepnote_index_column",
                  "dtype": "int64"
                }
              ],
              "rows_top": [
                {
                  "ts": "2018-10-01",
                  "serialNo": "VA4202760704",
                  "home": 165132,
                  "batteryVoltageMilliV": 2787.131,
                  "insideTemperatureCentiC": 1953.0737,
                  "humidityMilliPerc": 575.4918,
                  "_deepnote_index_column": 0
                },
                {
                  "ts": "2018-10-02",
                  "serialNo": "VA4202760704",
                  "home": 165132,
                  "batteryVoltageMilliV": 2786.1047,
                  "insideTemperatureCentiC": 1901,
                  "humidityMilliPerc": 550.6371,
                  "_deepnote_index_column": 1
                },
                {
                  "ts": "2018-10-03",
                  "serialNo": "VA4202760704",
                  "home": 165132,
                  "batteryVoltageMilliV": 2784.6934,
                  "insideTemperatureCentiC": 1878.0369,
                  "humidityMilliPerc": 550.09204,
                  "_deepnote_index_column": 2
                },
                {
                  "ts": "2018-10-04",
                  "serialNo": "VA4202760704",
                  "home": 165132,
                  "batteryVoltageMilliV": 2773.35,
                  "insideTemperatureCentiC": 1976.9114,
                  "humidityMilliPerc": 583.6582,
                  "_deepnote_index_column": 3
                },
                {
                  "ts": "2018-10-05",
                  "serialNo": "VA4202760704",
                  "home": 165132,
                  "batteryVoltageMilliV": 2776.4314,
                  "insideTemperatureCentiC": 2041.401,
                  "humidityMilliPerc": 589.7411,
                  "_deepnote_index_column": 4
                }
              ],
              "rows_bottom": null
            },
            "text/plain": "           ts      serialNo    home  batteryVoltageMilliV  \\\n0  2018-10-01  VA4202760704  165132             2787.1310   \n1  2018-10-02  VA4202760704  165132             2786.1047   \n2  2018-10-03  VA4202760704  165132             2784.6934   \n3  2018-10-04  VA4202760704  165132             2773.3500   \n4  2018-10-05  VA4202760704  165132             2776.4314   \n\n   insideTemperatureCentiC  humidityMilliPerc  \n0                1953.0737          575.49180  \n1                1901.0000          550.63710  \n2                1878.0369          550.09204  \n3                1976.9114          583.65820  \n4                2041.4010          589.74110  ",
            "text/html": "<div>\n<style scoped>\n    .dataframe tbody tr th:only-of-type {\n        vertical-align: middle;\n    }\n\n    .dataframe tbody tr th {\n        vertical-align: top;\n    }\n\n    .dataframe thead th {\n        text-align: right;\n    }\n</style>\n<table border=\"1\" class=\"dataframe\">\n  <thead>\n    <tr style=\"text-align: right;\">\n      <th></th>\n      <th>ts</th>\n      <th>serialNo</th>\n      <th>home</th>\n      <th>batteryVoltageMilliV</th>\n      <th>insideTemperatureCentiC</th>\n      <th>humidityMilliPerc</th>\n    </tr>\n  </thead>\n  <tbody>\n    <tr>\n      <th>0</th>\n      <td>2018-10-01</td>\n      <td>VA4202760704</td>\n      <td>165132</td>\n      <td>2787.1310</td>\n      <td>1953.0737</td>\n      <td>575.49180</td>\n    </tr>\n    <tr>\n      <th>1</th>\n      <td>2018-10-02</td>\n      <td>VA4202760704</td>\n      <td>165132</td>\n      <td>2786.1047</td>\n      <td>1901.0000</td>\n      <td>550.63710</td>\n    </tr>\n    <tr>\n      <th>2</th>\n      <td>2018-10-03</td>\n      <td>VA4202760704</td>\n      <td>165132</td>\n      <td>2784.6934</td>\n      <td>1878.0369</td>\n      <td>550.09204</td>\n    </tr>\n    <tr>\n      <th>3</th>\n      <td>2018-10-04</td>\n      <td>VA4202760704</td>\n      <td>165132</td>\n      <td>2773.3500</td>\n      <td>1976.9114</td>\n      <td>583.65820</td>\n    </tr>\n    <tr>\n      <th>4</th>\n      <td>2018-10-05</td>\n      <td>VA4202760704</td>\n      <td>165132</td>\n      <td>2776.4314</td>\n      <td>2041.4010</td>\n      <td>589.74110</td>\n    </tr>\n  </tbody>\n</table>\n</div>"
          },
          "metadata": {}
        }
      ]
    },
    {
      "cell_type": "code",
      "metadata": {
        "ExecuteTime": {
          "end_time": "2019-08-11T16:38:42.642291Z",
          "start_time": "2019-08-11T16:38:42.637304Z"
        },
        "cell_id": "00003-f1d780d9-4cf7-47b4-acf6-14b4a40d1d21",
        "deepnote_to_be_reexecuted": false,
        "source_hash": "14f60b8f",
        "execution_start": 1614598704351,
        "execution_millis": 9,
        "deepnote_cell_type": "code"
      },
      "source": "df.shape",
      "execution_count": null,
      "outputs": [
        {
          "output_type": "execute_result",
          "execution_count": 6,
          "data": {
            "text/plain": "(4824, 6)"
          },
          "metadata": {}
        }
      ]
    },
    {
      "cell_type": "code",
      "metadata": {
        "ExecuteTime": {
          "end_time": "2019-08-11T16:39:17.259008Z",
          "start_time": "2019-08-11T16:39:17.253024Z"
        },
        "cell_id": "00004-70e24ba3-bd27-46f9-878b-4b67c0b6ca7a",
        "deepnote_to_be_reexecuted": false,
        "source_hash": "c0cfb176",
        "execution_start": 1614598705993,
        "execution_millis": 13,
        "deepnote_cell_type": "code"
      },
      "source": "print(f'df.ts.min() = {df.ts.min()}')\nprint(f'df.ts.max() = {df.ts.max()}')",
      "execution_count": null,
      "outputs": [
        {
          "name": "stdout",
          "text": "df.ts.min() = 2018-10-01\ndf.ts.max() = 2019-04-30\n",
          "output_type": "stream"
        }
      ]
    },
    {
      "cell_type": "code",
      "metadata": {
        "ExecuteTime": {
          "end_time": "2019-08-11T16:39:40.369262Z",
          "start_time": "2019-08-11T16:39:40.360290Z"
        },
        "cell_id": "00005-d4667656-58de-4fa9-8171-19f53fcd5441",
        "deepnote_to_be_reexecuted": false,
        "source_hash": "d794f466",
        "execution_start": 1614598710791,
        "execution_millis": 15,
        "deepnote_cell_type": "code"
      },
      "source": "df.isna().sum()",
      "execution_count": null,
      "outputs": [
        {
          "output_type": "execute_result",
          "execution_count": 8,
          "data": {
            "text/plain": "ts                         0\nserialNo                   0\nhome                       0\nbatteryVoltageMilliV       3\ninsideTemperatureCentiC    2\nhumidityMilliPerc          0\ndtype: int64"
          },
          "metadata": {}
        }
      ]
    },
    {
      "cell_type": "code",
      "metadata": {
        "ExecuteTime": {
          "end_time": "2019-08-11T16:40:39.218359Z",
          "start_time": "2019-08-11T16:40:39.212375Z"
        },
        "cell_id": "00006-d108b3f5-eaee-441b-8e06-134f5da9b652",
        "deepnote_to_be_reexecuted": false,
        "source_hash": "e37d7cdf",
        "execution_start": 1614598712861,
        "execution_millis": 7,
        "deepnote_cell_type": "code"
      },
      "source": "df.home.nunique()",
      "execution_count": null,
      "outputs": [
        {
          "output_type": "execute_result",
          "execution_count": 9,
          "data": {
            "text/plain": "8"
          },
          "metadata": {}
        }
      ]
    },
    {
      "cell_type": "code",
      "metadata": {
        "ExecuteTime": {
          "end_time": "2019-08-11T16:40:49.799134Z",
          "start_time": "2019-08-11T16:40:49.793149Z"
        },
        "cell_id": "00007-191fce57-3fa3-4400-bee3-33f05e2ae502",
        "deepnote_to_be_reexecuted": false,
        "source_hash": "346c6f9b",
        "execution_start": 1614598714224,
        "execution_millis": 8,
        "deepnote_cell_type": "code"
      },
      "source": "df.home.unique()",
      "execution_count": null,
      "outputs": [
        {
          "output_type": "execute_result",
          "execution_count": 10,
          "data": {
            "text/plain": "array([165132, 174376,  29473, 234419, 193000, 213528, 251841, 300551])"
          },
          "metadata": {}
        }
      ]
    },
    {
      "cell_type": "code",
      "metadata": {
        "ExecuteTime": {
          "end_time": "2019-08-11T16:41:02.362659Z",
          "start_time": "2019-08-11T16:41:02.357672Z"
        },
        "cell_id": "00008-73c57459-19be-4ed0-a709-54b448790748",
        "deepnote_to_be_reexecuted": false,
        "source_hash": "2b3feb82",
        "execution_start": 1614598715742,
        "execution_millis": 7,
        "deepnote_cell_type": "code"
      },
      "source": "df.serialNo.nunique()",
      "execution_count": null,
      "outputs": [
        {
          "output_type": "execute_result",
          "execution_count": 11,
          "data": {
            "text/plain": "25"
          },
          "metadata": {}
        }
      ]
    },
    {
      "cell_type": "code",
      "metadata": {
        "ExecuteTime": {
          "end_time": "2019-08-11T16:41:46.647505Z",
          "start_time": "2019-08-11T16:41:46.429090Z"
        },
        "cell_id": "00009-193e2d93-a635-4437-adab-4162a74bc107",
        "deepnote_to_be_reexecuted": false,
        "source_hash": "47c30f15",
        "execution_start": 1614598720102,
        "execution_millis": 219,
        "deepnote_cell_type": "code"
      },
      "source": "df.plot('ts', 'batteryVoltageMilliV')",
      "execution_count": null,
      "outputs": [
        {
          "output_type": "execute_result",
          "execution_count": 12,
          "data": {
            "text/plain": "<AxesSubplot:xlabel='ts'>"
          },
          "metadata": {}
        },
        {
          "data": {
            "text/plain": "<Figure size 432x288 with 1 Axes>",
            "image/png": "[encoded data removed]"
          },
          "metadata": {
            "needs_background": "light"
          },
          "output_type": "display_data"
        }
      ]
    },
    {
      "cell_type": "code",
      "metadata": {
        "ExecuteTime": {
          "end_time": "2019-08-11T16:42:19.137839Z",
          "start_time": "2019-08-11T16:42:19.124872Z"
        },
        "cell_id": "00010-3b86e444-907d-404e-a4ab-8154fab95954",
        "deepnote_cell_type": "code"
      },
      "source": "df[df.batteryVoltageMilliV.isna()].head()",
      "execution_count": null,
      "outputs": [
        {
          "data": {
            "text/html": "<div>\n<style scoped>\n    .dataframe tbody tr th:only-of-type {\n        vertical-align: middle;\n    }\n\n    .dataframe tbody tr th {\n        vertical-align: top;\n    }\n\n    .dataframe thead th {\n        text-align: right;\n    }\n</style>\n<table border=\"1\" class=\"dataframe\">\n  <thead>\n    <tr style=\"text-align: right;\">\n      <th></th>\n      <th>ts</th>\n      <th>serialNo</th>\n      <th>home</th>\n      <th>batteryVoltageMilliV</th>\n      <th>insideTemperatureCentiC</th>\n      <th>humidityMilliPerc</th>\n    </tr>\n  </thead>\n  <tbody>\n    <tr>\n      <th>10</th>\n      <td>2018-10-11</td>\n      <td>VA4202760704</td>\n      <td>165132</td>\n      <td>NaN</td>\n      <td>2135.1000</td>\n      <td>657.02356</td>\n    </tr>\n    <tr>\n      <th>11</th>\n      <td>2018-10-12</td>\n      <td>VA4202760704</td>\n      <td>165132</td>\n      <td>NaN</td>\n      <td>2138.1677</td>\n      <td>676.12256</td>\n    </tr>\n    <tr>\n      <th>12</th>\n      <td>2018-10-13</td>\n      <td>VA4202760704</td>\n      <td>165132</td>\n      <td>NaN</td>\n      <td>2080.6738</td>\n      <td>653.83685</td>\n    </tr>\n  </tbody>\n</table>\n</div>",
            "text/plain": "            ts      serialNo    home  batteryVoltageMilliV  \\\n10  2018-10-11  VA4202760704  165132                   NaN   \n11  2018-10-12  VA4202760704  165132                   NaN   \n12  2018-10-13  VA4202760704  165132                   NaN   \n\n    insideTemperatureCentiC  humidityMilliPerc  \n10                2135.1000          657.02356  \n11                2138.1677          676.12256  \n12                2080.6738          653.83685  "
          },
          "execution_count": 10,
          "metadata": {},
          "output_type": "execute_result"
        }
      ]
    },
    {
      "cell_type": "code",
      "metadata": {
        "ExecuteTime": {
          "end_time": "2019-08-11T16:42:45.261041Z",
          "start_time": "2019-08-11T16:42:45.249087Z"
        },
        "cell_id": "00011-1f265ac9-06f6-4cb5-b768-8ae559d4afba",
        "deepnote_cell_type": "code"
      },
      "source": "df[df.insideTemperatureCentiC.isna()].head()",
      "execution_count": null,
      "outputs": [
        {
          "data": {
            "text/html": "<div>\n<style scoped>\n    .dataframe tbody tr th:only-of-type {\n        vertical-align: middle;\n    }\n\n    .dataframe tbody tr th {\n        vertical-align: top;\n    }\n\n    .dataframe thead th {\n        text-align: right;\n    }\n</style>\n<table border=\"1\" class=\"dataframe\">\n  <thead>\n    <tr style=\"text-align: right;\">\n      <th></th>\n      <th>ts</th>\n      <th>serialNo</th>\n      <th>home</th>\n      <th>batteryVoltageMilliV</th>\n      <th>insideTemperatureCentiC</th>\n      <th>humidityMilliPerc</th>\n    </tr>\n  </thead>\n  <tbody>\n    <tr>\n      <th>23</th>\n      <td>2018-10-24</td>\n      <td>VA4202760704</td>\n      <td>165132</td>\n      <td>2750.4220</td>\n      <td>NaN</td>\n      <td>605.1256</td>\n    </tr>\n    <tr>\n      <th>24</th>\n      <td>2018-10-25</td>\n      <td>VA4202760704</td>\n      <td>165132</td>\n      <td>2750.6438</td>\n      <td>NaN</td>\n      <td>617.4750</td>\n    </tr>\n  </tbody>\n</table>\n</div>",
            "text/plain": "            ts      serialNo    home  batteryVoltageMilliV  \\\n23  2018-10-24  VA4202760704  165132             2750.4220   \n24  2018-10-25  VA4202760704  165132             2750.6438   \n\n    insideTemperatureCentiC  humidityMilliPerc  \n23                      NaN           605.1256  \n24                      NaN           617.4750  "
          },
          "execution_count": 11,
          "metadata": {},
          "output_type": "execute_result"
        }
      ]
    },
    {
      "cell_type": "code",
      "metadata": {
        "cell_id": "00012-a1b56b79-6f45-4fed-8805-16adaab9c737",
        "deepnote_to_be_reexecuted": false,
        "source_hash": "188ed2dc",
        "execution_millis": 1,
        "execution_start": 1614598963571,
        "deepnote_cell_type": "code"
      },
      "source": "df_battery = df[df.serialNo=='VA2170620672']",
      "execution_count": null,
      "outputs": []
    },
    {
      "cell_type": "code",
      "metadata": {
        "tags": [],
        "cell_id": "00013-bd306ab5-9846-499b-85d1-5b729e538c7d",
        "deepnote_to_be_reexecuted": false,
        "source_hash": "cda99020",
        "execution_start": 1614598970343,
        "execution_millis": 46,
        "deepnote_cell_type": "code"
      },
      "source": "df_battery",
      "execution_count": null,
      "outputs": [
        {
          "output_type": "execute_result",
          "execution_count": 17,
          "data": {
            "application/vnd.deepnote.dataframe.v2+json": {
              "row_count": 202,
              "column_count": 6,
              "columns": [
                {
                  "name": "ts",
                  "dtype": "object",
                  "stats": {
                    "unique_count": 202,
                    "nan_count": 0,
                    "categories": [
                      {
                        "name": "2018-10-11",
                        "count": 1
                      },
                      {
                        "name": "2018-10-12",
                        "count": 1
                      },
                      {
                        "name": "200 others",
                        "count": 200
                      }
                    ]
                  }
                },
                {
                  "name": "serialNo",
                  "dtype": "object",
                  "stats": {
                    "unique_count": 1,
                    "nan_count": 0,
                    "categories": [
                      {
                        "name": "VA2170620672",
                        "count": 202
                      }
                    ]
                  }
                },
                {
                  "name": "home",
                  "dtype": "int64",
                  "stats": {
                    "unique_count": 1,
                    "nan_count": 0,
                    "min": 234419,
                    "max": 234419,
                    "histogram": [
                      {
                        "bin_start": 234418.5,
                        "bin_end": 234418.6,
                        "count": 0
                      },
                      {
                        "bin_start": 234418.6,
                        "bin_end": 234418.7,
                        "count": 0
                      },
                      {
                        "bin_start": 234418.7,
                        "bin_end": 234418.8,
                        "count": 0
                      },
                      {
                        "bin_start": 234418.8,
                        "bin_end": 234418.9,
                        "count": 0
                      },
                      {
                        "bin_start": 234418.9,
                        "bin_end": 234419,
                        "count": 0
                      },
                      {
                        "bin_start": 234419,
                        "bin_end": 234419.1,
                        "count": 202
                      },
                      {
                        "bin_start": 234419.1,
                        "bin_end": 234419.2,
                        "count": 0
                      },
                      {
                        "bin_start": 234419.2,
                        "bin_end": 234419.3,
                        "count": 0
                      },
                      {
                        "bin_start": 234419.3,
                        "bin_end": 234419.4,
                        "count": 0
                      },
                      {
                        "bin_start": 234419.4,
                        "bin_end": 234419.5,
                        "count": 0
                      }
                    ]
                  }
                },
                {
                  "name": "batteryVoltageMilliV",
                  "dtype": "float64",
                  "stats": {
                    "unique_count": 202,
                    "nan_count": 0,
                    "min": 2698.5662,
                    "max": 3219.567,
                    "histogram": [
                      {
                        "bin_start": 2698.5662,
                        "bin_end": 2750.6662800000004,
                        "count": 35
                      },
                      {
                        "bin_start": 2750.6662800000004,
                        "bin_end": 2802.76636,
                        "count": 26
                      },
                      {
                        "bin_start": 2802.76636,
                        "bin_end": 2854.8664400000002,
                        "count": 29
                      },
                      {
                        "bin_start": 2854.8664400000002,
                        "bin_end": 2906.96652,
                        "count": 31
                      },
                      {
                        "bin_start": 2906.96652,
                        "bin_end": 2959.0666,
                        "count": 34
                      },
                      {
                        "bin_start": 2959.0666,
                        "bin_end": 3011.1666800000003,
                        "count": 22
                      },
                      {
                        "bin_start": 3011.1666800000003,
                        "bin_end": 3063.26676,
                        "count": 10
                      },
                      {
                        "bin_start": 3063.26676,
                        "bin_end": 3115.36684,
                        "count": 6
                      },
                      {
                        "bin_start": 3115.36684,
                        "bin_end": 3167.46692,
                        "count": 5
                      },
                      {
                        "bin_start": 3167.46692,
                        "bin_end": 3219.567,
                        "count": 4
                      }
                    ]
                  }
                },
                {
                  "name": "insideTemperatureCentiC",
                  "dtype": "float64",
                  "stats": {
                    "unique_count": 202,
                    "nan_count": 0,
                    "min": 1087.4105,
                    "max": 2719.6428,
                    "histogram": [
                      {
                        "bin_start": 1087.4105,
                        "bin_end": 1250.63373,
                        "count": 3
                      },
                      {
                        "bin_start": 1250.63373,
                        "bin_end": 1413.85696,
                        "count": 2
                      },
                      {
                        "bin_start": 1413.85696,
                        "bin_end": 1577.08019,
                        "count": 11
                      },
                      {
                        "bin_start": 1577.08019,
                        "bin_end": 1740.30342,
                        "count": 8
                      },
                      {
                        "bin_start": 1740.30342,
                        "bin_end": 1903.52665,
                        "count": 8
                      },
                      {
                        "bin_start": 1903.52665,
                        "bin_end": 2066.74988,
                        "count": 76
                      },
                      {
                        "bin_start": 2066.74988,
                        "bin_end": 2229.97311,
                        "count": 83
                      },
                      {
                        "bin_start": 2229.97311,
                        "bin_end": 2393.19634,
                        "count": 9
                      },
                      {
                        "bin_start": 2393.19634,
                        "bin_end": 2556.41957,
                        "count": 0
                      },
                      {
                        "bin_start": 2556.41957,
                        "bin_end": 2719.6428,
                        "count": 2
                      }
                    ]
                  }
                },
                {
                  "name": "humidityMilliPerc",
                  "dtype": "float64",
                  "stats": {
                    "unique_count": 202,
                    "nan_count": 0,
                    "min": 371.4549,
                    "max": 752.94214,
                    "histogram": [
                      {
                        "bin_start": 371.4549,
                        "bin_end": 409.603624,
                        "count": 8
                      },
                      {
                        "bin_start": 409.603624,
                        "bin_end": 447.752348,
                        "count": 15
                      },
                      {
                        "bin_start": 447.752348,
                        "bin_end": 485.901072,
                        "count": 35
                      },
                      {
                        "bin_start": 485.901072,
                        "bin_end": 524.049796,
                        "count": 40
                      },
                      {
                        "bin_start": 524.049796,
                        "bin_end": 562.19852,
                        "count": 45
                      },
                      {
                        "bin_start": 562.19852,
                        "bin_end": 600.347244,
                        "count": 26
                      },
                      {
                        "bin_start": 600.347244,
                        "bin_end": 638.495968,
                        "count": 15
                      },
                      {
                        "bin_start": 638.495968,
                        "bin_end": 676.6446920000001,
                        "count": 11
                      },
                      {
                        "bin_start": 676.6446920000001,
                        "bin_end": 714.793416,
                        "count": 6
                      },
                      {
                        "bin_start": 714.793416,
                        "bin_end": 752.94214,
                        "count": 1
                      }
                    ]
                  }
                },
                {
                  "name": "_deepnote_index_column",
                  "dtype": "int64"
                }
              ],
              "rows_top": [
                {
                  "ts": "2018-10-11",
                  "serialNo": "VA2170620672",
                  "home": 234419,
                  "batteryVoltageMilliV": 3219.567,
                  "insideTemperatureCentiC": 2089.8218,
                  "humidityMilliPerc": 557.5796,
                  "_deepnote_index_column": 2683
                },
                {
                  "ts": "2018-10-12",
                  "serialNo": "VA2170620672",
                  "home": 234419,
                  "batteryVoltageMilliV": 3204.831,
                  "insideTemperatureCentiC": 1991.776,
                  "humidityMilliPerc": 670.36255,
                  "_deepnote_index_column": 2684
                },
                {
                  "ts": "2018-10-13",
                  "serialNo": "VA2170620672",
                  "home": 234419,
                  "batteryVoltageMilliV": 3181.223,
                  "insideTemperatureCentiC": 2087.8027,
                  "humidityMilliPerc": 679.2505,
                  "_deepnote_index_column": 2685
                },
                {
                  "ts": "2018-10-14",
                  "serialNo": "VA2170620672",
                  "home": 234419,
                  "batteryVoltageMilliV": 3167.748,
                  "insideTemperatureCentiC": 2017.21,
                  "humidityMilliPerc": 648.572,
                  "_deepnote_index_column": 2686
                },
                {
                  "ts": "2018-10-15",
                  "serialNo": "VA2170620672",
                  "home": 234419,
                  "batteryVoltageMilliV": 3156.4385,
                  "insideTemperatureCentiC": 2006.8866,
                  "humidityMilliPerc": 714.7051,
                  "_deepnote_index_column": 2687
                },
                {
                  "ts": "2018-10-16",
                  "serialNo": "VA2170620672",
                  "home": 234419,
                  "batteryVoltageMilliV": 3146.2903,
                  "insideTemperatureCentiC": 2026.2712,
                  "humidityMilliPerc": 657.34955,
                  "_deepnote_index_column": 2688
                },
                {
                  "ts": "2018-10-17",
                  "serialNo": "VA2170620672",
                  "home": 234419,
                  "batteryVoltageMilliV": 3136.2937,
                  "insideTemperatureCentiC": 2020.3385,
                  "humidityMilliPerc": 710.98834,
                  "_deepnote_index_column": 2689
                },
                {
                  "ts": "2018-10-18",
                  "serialNo": "VA2170620672",
                  "home": 234419,
                  "batteryVoltageMilliV": 3127.3594,
                  "insideTemperatureCentiC": 2031.4558,
                  "humidityMilliPerc": 611.3162,
                  "_deepnote_index_column": 2690
                },
                {
                  "ts": "2018-10-19",
                  "serialNo": "VA2170620672",
                  "home": 234419,
                  "batteryVoltageMilliV": 3119.0645,
                  "insideTemperatureCentiC": 1991.5312,
                  "humidityMilliPerc": 689.8387,
                  "_deepnote_index_column": 2691
                },
                {
                  "ts": "2018-10-20",
                  "serialNo": "VA2170620672",
                  "home": 234419,
                  "batteryVoltageMilliV": 3110.4348,
                  "insideTemperatureCentiC": 1943.0642,
                  "humidityMilliPerc": 648.63855,
                  "_deepnote_index_column": 2692
                },
                {
                  "ts": "2018-10-21",
                  "serialNo": "VA2170620672",
                  "home": 234419,
                  "batteryVoltageMilliV": 3106.351,
                  "insideTemperatureCentiC": 1866.8741,
                  "humidityMilliPerc": 628.77484,
                  "_deepnote_index_column": 2693
                },
                {
                  "ts": "2018-10-22",
                  "serialNo": "VA2170620672",
                  "home": 234419,
                  "batteryVoltageMilliV": 3096.432,
                  "insideTemperatureCentiC": 1982.5067,
                  "humidityMilliPerc": 588.5994,
                  "_deepnote_index_column": 2694
                },
                {
                  "ts": "2018-10-23",
                  "serialNo": "VA2170620672",
                  "home": 234419,
                  "batteryVoltageMilliV": 3082.0994,
                  "insideTemperatureCentiC": 1937.267,
                  "humidityMilliPerc": 611.1588,
                  "_deepnote_index_column": 2695
                },
                {
                  "ts": "2018-10-24",
                  "serialNo": "VA2170620672",
                  "home": 234419,
                  "batteryVoltageMilliV": 3071.2422,
                  "insideTemperatureCentiC": 1914.356,
                  "humidityMilliPerc": 635.9798,
                  "_deepnote_index_column": 2696
                },
                {
                  "ts": "2018-10-25",
                  "serialNo": "VA2170620672",
                  "home": 234419,
                  "batteryVoltageMilliV": 3063.468,
                  "insideTemperatureCentiC": 1926.7688,
                  "humidityMilliPerc": 675.8177,
                  "_deepnote_index_column": 2697
                },
                {
                  "ts": "2018-10-26",
                  "serialNo": "VA2170620672",
                  "home": 234419,
                  "batteryVoltageMilliV": 3060.7886,
                  "insideTemperatureCentiC": 1972.4641,
                  "humidityMilliPerc": 699.2849,
                  "_deepnote_index_column": 2698
                },
                {
                  "ts": "2018-10-27",
                  "serialNo": "VA2170620672",
                  "home": 234419,
                  "batteryVoltageMilliV": 3053.05,
                  "insideTemperatureCentiC": 2172.803,
                  "humidityMilliPerc": 656.3328,
                  "_deepnote_index_column": 2699
                },
                {
                  "ts": "2018-10-28",
                  "serialNo": "VA2170620672",
                  "home": 234419,
                  "batteryVoltageMilliV": 3049.6792,
                  "insideTemperatureCentiC": 2037.9354,
                  "humidityMilliPerc": 598.5844,
                  "_deepnote_index_column": 2700
                },
                {
                  "ts": "2018-10-29",
                  "serialNo": "VA2170620672",
                  "home": 234419,
                  "batteryVoltageMilliV": 3037.8604,
                  "insideTemperatureCentiC": 2149.3953,
                  "humidityMilliPerc": 624.7365,
                  "_deepnote_index_column": 2701
                },
                {
                  "ts": "2018-10-30",
                  "serialNo": "VA2170620672",
                  "home": 234419,
                  "batteryVoltageMilliV": 3034.7026,
                  "insideTemperatureCentiC": 2007.3379,
                  "humidityMilliPerc": 623.56177,
                  "_deepnote_index_column": 2702
                },
                {
                  "ts": "2018-10-31",
                  "serialNo": "VA2170620672",
                  "home": 234419,
                  "batteryVoltageMilliV": 3032.151,
                  "insideTemperatureCentiC": 1852.8707,
                  "humidityMilliPerc": 595.7338,
                  "_deepnote_index_column": 2703
                },
                {
                  "ts": "2018-11-01",
                  "serialNo": "VA2170620672",
                  "home": 234419,
                  "batteryVoltageMilliV": 3027.3408,
                  "insideTemperatureCentiC": 2003.8884,
                  "humidityMilliPerc": 553.89044,
                  "_deepnote_index_column": 2704
                },
                {
                  "ts": "2018-11-02",
                  "serialNo": "VA2170620672",
                  "home": 234419,
                  "batteryVoltageMilliV": 3020.7388,
                  "insideTemperatureCentiC": 2295.3186,
                  "humidityMilliPerc": 556.7518,
                  "_deepnote_index_column": 2705
                },
                {
                  "ts": "2018-11-03",
                  "serialNo": "VA2170620672",
                  "home": 234419,
                  "batteryVoltageMilliV": 3018.9058,
                  "insideTemperatureCentiC": 1958.0773,
                  "humidityMilliPerc": 593.6045,
                  "_deepnote_index_column": 2706
                },
                {
                  "ts": "2018-11-04",
                  "serialNo": "VA2170620672",
                  "home": 234419,
                  "batteryVoltageMilliV": 3016.7278,
                  "insideTemperatureCentiC": 1805.6438,
                  "humidityMilliPerc": 607.2928,
                  "_deepnote_index_column": 2707
                },
                {
                  "ts": "2018-11-05",
                  "serialNo": "VA2170620672",
                  "home": 234419,
                  "batteryVoltageMilliV": 3010.344,
                  "insideTemperatureCentiC": 2009.0709,
                  "humidityMilliPerc": 579.3564,
                  "_deepnote_index_column": 2708
                },
                {
                  "ts": "2018-11-06",
                  "serialNo": "VA2170620672",
                  "home": 234419,
                  "batteryVoltageMilliV": 3006.6672,
                  "insideTemperatureCentiC": 1998.3143,
                  "humidityMilliPerc": 671.5331,
                  "_deepnote_index_column": 2709
                },
                {
                  "ts": "2018-11-07",
                  "serialNo": "VA2170620672",
                  "home": 234419,
                  "batteryVoltageMilliV": 3002.831,
                  "insideTemperatureCentiC": 2005.6382,
                  "humidityMilliPerc": 567.8942,
                  "_deepnote_index_column": 2710
                },
                {
                  "ts": "2018-11-08",
                  "serialNo": "VA2170620672",
                  "home": 234419,
                  "batteryVoltageMilliV": 3000.4485,
                  "insideTemperatureCentiC": 1932.123,
                  "humidityMilliPerc": 658.2310000000001,
                  "_deepnote_index_column": 2711
                },
                {
                  "ts": "2018-11-09",
                  "serialNo": "VA2170620672",
                  "home": 234419,
                  "batteryVoltageMilliV": 2996.609000000001,
                  "insideTemperatureCentiC": 2069.3584,
                  "humidityMilliPerc": 587.1695599999998,
                  "_deepnote_index_column": 2712
                },
                {
                  "ts": "2018-11-10",
                  "serialNo": "VA2170620672",
                  "home": 234419,
                  "batteryVoltageMilliV": 2993.7898,
                  "insideTemperatureCentiC": 2104.0796,
                  "humidityMilliPerc": 616.51764,
                  "_deepnote_index_column": 2713
                },
                {
                  "ts": "2018-11-11",
                  "serialNo": "VA2170620672",
                  "home": 234419,
                  "batteryVoltageMilliV": 2990.8743,
                  "insideTemperatureCentiC": 2068.2388,
                  "humidityMilliPerc": 696.0341,
                  "_deepnote_index_column": 2714
                },
                {
                  "ts": "2018-11-12",
                  "serialNo": "VA2170620672",
                  "home": 234419,
                  "batteryVoltageMilliV": 2988.5170000000007,
                  "insideTemperatureCentiC": 2041.9753,
                  "humidityMilliPerc": 641.8939,
                  "_deepnote_index_column": 2715
                },
                {
                  "ts": "2018-11-13",
                  "serialNo": "VA2170620672",
                  "home": 234419,
                  "batteryVoltageMilliV": 2986.076,
                  "insideTemperatureCentiC": 1994.7052,
                  "humidityMilliPerc": 752.94214,
                  "_deepnote_index_column": 2716
                },
                {
                  "ts": "2018-11-14",
                  "serialNo": "VA2170620672",
                  "home": 234419,
                  "batteryVoltageMilliV": 2984.258,
                  "insideTemperatureCentiC": 2028.3973,
                  "humidityMilliPerc": 635.96796,
                  "_deepnote_index_column": 2717
                },
                {
                  "ts": "2018-11-15",
                  "serialNo": "VA2170620672",
                  "home": 234419,
                  "batteryVoltageMilliV": 2981.6018,
                  "insideTemperatureCentiC": 1993.8073,
                  "humidityMilliPerc": 596.3473,
                  "_deepnote_index_column": 2718
                },
                {
                  "ts": "2018-11-16",
                  "serialNo": "VA2170620672",
                  "home": 234419,
                  "batteryVoltageMilliV": 2979.7344,
                  "insideTemperatureCentiC": 2000.3619,
                  "humidityMilliPerc": 571.1451,
                  "_deepnote_index_column": 2719
                },
                {
                  "ts": "2018-11-17",
                  "serialNo": "VA2170620672",
                  "home": 234419,
                  "batteryVoltageMilliV": 2976.6177,
                  "insideTemperatureCentiC": 2359.4475,
                  "humidityMilliPerc": 521.3347,
                  "_deepnote_index_column": 2720
                },
                {
                  "ts": "2018-11-18",
                  "serialNo": "VA2170620672",
                  "home": 234419,
                  "batteryVoltageMilliV": 2977.524000000001,
                  "insideTemperatureCentiC": 2719.6428,
                  "humidityMilliPerc": 371.4549,
                  "_deepnote_index_column": 2721
                },
                {
                  "ts": "2018-11-19",
                  "serialNo": "VA2170620672",
                  "home": 234419,
                  "batteryVoltageMilliV": 2968.7996,
                  "insideTemperatureCentiC": 2701.269,
                  "humidityMilliPerc": 403.2225,
                  "_deepnote_index_column": 2722
                },
                {
                  "ts": "2018-11-20",
                  "serialNo": "VA2170620672",
                  "home": 234419,
                  "batteryVoltageMilliV": 2971.3533,
                  "insideTemperatureCentiC": 2160.8762,
                  "humidityMilliPerc": 457.86697,
                  "_deepnote_index_column": 2723
                },
                {
                  "ts": "2018-11-21",
                  "serialNo": "VA2170620672",
                  "home": 234419,
                  "batteryVoltageMilliV": 2968.242,
                  "insideTemperatureCentiC": 2148.3538,
                  "humidityMilliPerc": 532.2130000000002,
                  "_deepnote_index_column": 2724
                },
                {
                  "ts": "2018-11-22",
                  "serialNo": "VA2170620672",
                  "home": 234419,
                  "batteryVoltageMilliV": 2967.8394,
                  "insideTemperatureCentiC": 2088.1687,
                  "humidityMilliPerc": 472.1004,
                  "_deepnote_index_column": 2725
                },
                {
                  "ts": "2018-11-23",
                  "serialNo": "VA2170620672",
                  "home": 234419,
                  "batteryVoltageMilliV": 2962.4521,
                  "insideTemperatureCentiC": 2072.7815,
                  "humidityMilliPerc": 520.1763,
                  "_deepnote_index_column": 2726
                },
                {
                  "ts": "2018-11-24",
                  "serialNo": "VA2170620672",
                  "home": 234419,
                  "batteryVoltageMilliV": 2965.4773,
                  "insideTemperatureCentiC": 1629.8977,
                  "humidityMilliPerc": 564.8182,
                  "_deepnote_index_column": 2727
                },
                {
                  "ts": "2018-11-25",
                  "serialNo": "VA2170620672",
                  "home": 234419,
                  "batteryVoltageMilliV": 2961.041,
                  "insideTemperatureCentiC": 1692.596,
                  "humidityMilliPerc": 543.8219,
                  "_deepnote_index_column": 2728
                },
                {
                  "ts": "2018-11-26",
                  "serialNo": "VA2170620672",
                  "home": 234419,
                  "batteryVoltageMilliV": 2959.4,
                  "insideTemperatureCentiC": 1991.7509,
                  "humidityMilliPerc": 575.89825,
                  "_deepnote_index_column": 2729
                },
                {
                  "ts": "2018-11-27",
                  "serialNo": "VA2170620672",
                  "home": 234419,
                  "batteryVoltageMilliV": 2956.5903,
                  "insideTemperatureCentiC": 2101.9307,
                  "humidityMilliPerc": 544.8403,
                  "_deepnote_index_column": 2730
                },
                {
                  "ts": "2018-11-28",
                  "serialNo": "VA2170620672",
                  "home": 234419,
                  "batteryVoltageMilliV": 2951.4568,
                  "insideTemperatureCentiC": 2200.5032,
                  "humidityMilliPerc": 550.5123,
                  "_deepnote_index_column": 2731
                },
                {
                  "ts": "2018-11-29",
                  "serialNo": "VA2170620672",
                  "home": 234419,
                  "batteryVoltageMilliV": 2954.3584,
                  "insideTemperatureCentiC": 2072.3174,
                  "humidityMilliPerc": 508.9522,
                  "_deepnote_index_column": 2732
                },
                {
                  "ts": "2018-11-30",
                  "serialNo": "VA2170620672",
                  "home": 234419,
                  "batteryVoltageMilliV": 2952.578,
                  "insideTemperatureCentiC": 2023.6743,
                  "humidityMilliPerc": 491.22937,
                  "_deepnote_index_column": 2733
                },
                {
                  "ts": "2018-12-01",
                  "serialNo": "VA2170620672",
                  "home": 234419,
                  "batteryVoltageMilliV": 2945.7024,
                  "insideTemperatureCentiC": 2086.1157,
                  "humidityMilliPerc": 539.9545,
                  "_deepnote_index_column": 2734
                },
                {
                  "ts": "2018-12-02",
                  "serialNo": "VA2170620672",
                  "home": 234419,
                  "batteryVoltageMilliV": 2950.75,
                  "insideTemperatureCentiC": 2034.0491,
                  "humidityMilliPerc": 520.4107,
                  "_deepnote_index_column": 2735
                },
                {
                  "ts": "2018-12-03",
                  "serialNo": "VA2170620672",
                  "home": 234419,
                  "batteryVoltageMilliV": 2949.4375,
                  "insideTemperatureCentiC": 2061.5625,
                  "humidityMilliPerc": 601.1202,
                  "_deepnote_index_column": 2736
                },
                {
                  "ts": "2018-12-04",
                  "serialNo": "VA2170620672",
                  "home": 234419,
                  "batteryVoltageMilliV": 2939.7395,
                  "insideTemperatureCentiC": 2042.6884,
                  "humidityMilliPerc": 583.2325400000002,
                  "_deepnote_index_column": 2737
                },
                {
                  "ts": "2018-12-05",
                  "serialNo": "VA2170620672",
                  "home": 234419,
                  "batteryVoltageMilliV": 2934.9631,
                  "insideTemperatureCentiC": 2108.3364,
                  "humidityMilliPerc": 622.9493,
                  "_deepnote_index_column": 2738
                },
                {
                  "ts": "2018-12-06",
                  "serialNo": "VA2170620672",
                  "home": 234419,
                  "batteryVoltageMilliV": 2937.2598,
                  "insideTemperatureCentiC": 2072.554,
                  "humidityMilliPerc": 540.451,
                  "_deepnote_index_column": 2739
                },
                {
                  "ts": "2018-12-07",
                  "serialNo": "VA2170620672",
                  "home": 234419,
                  "batteryVoltageMilliV": 2936.7903,
                  "insideTemperatureCentiC": 2026.2849,
                  "humidityMilliPerc": 591.9301,
                  "_deepnote_index_column": 2740
                },
                {
                  "ts": "2018-12-08",
                  "serialNo": "VA2170620672",
                  "home": 234419,
                  "batteryVoltageMilliV": 2930.7957,
                  "insideTemperatureCentiC": 1954.2487,
                  "humidityMilliPerc": 518.43097,
                  "_deepnote_index_column": 2741
                },
                {
                  "ts": "2018-12-09",
                  "serialNo": "VA2170620672",
                  "home": 234419,
                  "batteryVoltageMilliV": 2935.8455,
                  "insideTemperatureCentiC": 2043.8455,
                  "humidityMilliPerc": 489.4058,
                  "_deepnote_index_column": 2742
                },
                {
                  "ts": "2018-12-10",
                  "serialNo": "VA2170620672",
                  "home": 234419,
                  "batteryVoltageMilliV": 2936.0466,
                  "insideTemperatureCentiC": 2130.1829,
                  "humidityMilliPerc": 526.6148,
                  "_deepnote_index_column": 2743
                },
                {
                  "ts": "2018-12-11",
                  "serialNo": "VA2170620672",
                  "home": 234419,
                  "batteryVoltageMilliV": 2934.3901,
                  "insideTemperatureCentiC": 2196.5923,
                  "humidityMilliPerc": 471.19165,
                  "_deepnote_index_column": 2744
                },
                {
                  "ts": "2018-12-12",
                  "serialNo": "VA2170620672",
                  "home": 234419,
                  "batteryVoltageMilliV": 2934.6821,
                  "insideTemperatureCentiC": 2111.1692,
                  "humidityMilliPerc": 552.3077,
                  "_deepnote_index_column": 2745
                },
                {
                  "ts": "2018-12-13",
                  "serialNo": "VA2170620672",
                  "home": 234419,
                  "batteryVoltageMilliV": 2931.8586,
                  "insideTemperatureCentiC": 2094.5654,
                  "humidityMilliPerc": 498.80212,
                  "_deepnote_index_column": 2746
                },
                {
                  "ts": "2018-12-14",
                  "serialNo": "VA2170620672",
                  "home": 234419,
                  "batteryVoltageMilliV": 2931.0342,
                  "insideTemperatureCentiC": 2129.3865,
                  "humidityMilliPerc": 471.27274000000006,
                  "_deepnote_index_column": 2747
                },
                {
                  "ts": "2018-12-15",
                  "serialNo": "VA2170620672",
                  "home": 234419,
                  "batteryVoltageMilliV": 2932.9924,
                  "insideTemperatureCentiC": 2071.901,
                  "humidityMilliPerc": 425.75192,
                  "_deepnote_index_column": 2748
                },
                {
                  "ts": "2018-12-16",
                  "serialNo": "VA2170620672",
                  "home": 234419,
                  "batteryVoltageMilliV": 2926.7437,
                  "insideTemperatureCentiC": 2229.4463,
                  "humidityMilliPerc": 447.91772,
                  "_deepnote_index_column": 2749
                },
                {
                  "ts": "2018-12-17",
                  "serialNo": "VA2170620672",
                  "home": 234419,
                  "batteryVoltageMilliV": 2927.35,
                  "insideTemperatureCentiC": 2071.519,
                  "humidityMilliPerc": 463.41772,
                  "_deepnote_index_column": 2750
                },
                {
                  "ts": "2018-12-18",
                  "serialNo": "VA2170620672",
                  "home": 234419,
                  "batteryVoltageMilliV": 2925.3574,
                  "insideTemperatureCentiC": 2020.5182,
                  "humidityMilliPerc": 469.70984,
                  "_deepnote_index_column": 2751
                },
                {
                  "ts": "2018-12-19",
                  "serialNo": "VA2170620672",
                  "home": 234419,
                  "batteryVoltageMilliV": 2927.5212,
                  "insideTemperatureCentiC": 2067.7412,
                  "humidityMilliPerc": 515.2092,
                  "_deepnote_index_column": 2752
                },
                {
                  "ts": "2018-12-20",
                  "serialNo": "VA2170620672",
                  "home": 234419,
                  "batteryVoltageMilliV": 2925.077,
                  "insideTemperatureCentiC": 1972.4038,
                  "humidityMilliPerc": 508.66345,
                  "_deepnote_index_column": 2753
                },
                {
                  "ts": "2018-12-21",
                  "serialNo": "VA2170620672",
                  "home": 234419,
                  "batteryVoltageMilliV": 2921.5532,
                  "insideTemperatureCentiC": 2012.9574,
                  "humidityMilliPerc": 539.04254,
                  "_deepnote_index_column": 2754
                },
                {
                  "ts": "2018-12-22",
                  "serialNo": "VA2170620672",
                  "home": 234419,
                  "batteryVoltageMilliV": 2921.3523,
                  "insideTemperatureCentiC": 2085.9897,
                  "humidityMilliPerc": 528.9326,
                  "_deepnote_index_column": 2755
                },
                {
                  "ts": "2018-12-23",
                  "serialNo": "VA2170620672",
                  "home": 234419,
                  "batteryVoltageMilliV": 2922.128,
                  "insideTemperatureCentiC": 1754.6628,
                  "humidityMilliPerc": 524.17444,
                  "_deepnote_index_column": 2756
                },
                {
                  "ts": "2018-12-24",
                  "serialNo": "VA2170620672",
                  "home": 234419,
                  "batteryVoltageMilliV": 2908.3604,
                  "insideTemperatureCentiC": 1617.221,
                  "humidityMilliPerc": 533.2325400000002,
                  "_deepnote_index_column": 2757
                },
                {
                  "ts": "2018-12-25",
                  "serialNo": "VA2170620672",
                  "home": 234419,
                  "batteryVoltageMilliV": 2915.6162,
                  "insideTemperatureCentiC": 1568.8256,
                  "humidityMilliPerc": 511.60464,
                  "_deepnote_index_column": 2758
                },
                {
                  "ts": "2018-12-26",
                  "serialNo": "VA2170620672",
                  "home": 234419,
                  "batteryVoltageMilliV": 2917.9412,
                  "insideTemperatureCentiC": 1435.6941,
                  "humidityMilliPerc": 490.3294,
                  "_deepnote_index_column": 2759
                },
                {
                  "ts": "2018-12-27",
                  "serialNo": "VA2170620672",
                  "home": 234419,
                  "batteryVoltageMilliV": 2916.3225,
                  "insideTemperatureCentiC": 1301.2151,
                  "humidityMilliPerc": 480.5914,
                  "_deepnote_index_column": 2760
                },
                {
                  "ts": "2018-12-28",
                  "serialNo": "VA2170620672",
                  "home": 234419,
                  "batteryVoltageMilliV": 2914.2708,
                  "insideTemperatureCentiC": 1214.2916,
                  "humidityMilliPerc": 489.78125,
                  "_deepnote_index_column": 2761
                },
                {
                  "ts": "2018-12-29",
                  "serialNo": "VA2170620672",
                  "home": 234419,
                  "batteryVoltageMilliV": 2912.7766,
                  "insideTemperatureCentiC": 1138.6702,
                  "humidityMilliPerc": 490.64893,
                  "_deepnote_index_column": 2762
                },
                {
                  "ts": "2018-12-30",
                  "serialNo": "VA2170620672",
                  "home": 234419,
                  "batteryVoltageMilliV": 2909.8843,
                  "insideTemperatureCentiC": 1087.4105,
                  "humidityMilliPerc": 510.70526,
                  "_deepnote_index_column": 2763
                },
                {
                  "ts": "2018-12-31",
                  "serialNo": "VA2170620672",
                  "home": 234419,
                  "batteryVoltageMilliV": 2903.0295,
                  "insideTemperatureCentiC": 1300.037,
                  "humidityMilliPerc": 501.93332,
                  "_deepnote_index_column": 2764
                },
                {
                  "ts": "2019-01-01",
                  "serialNo": "VA2170620672",
                  "home": 234419,
                  "batteryVoltageMilliV": 2904.9673,
                  "insideTemperatureCentiC": 2031.5425,
                  "humidityMilliPerc": 417.81046,
                  "_deepnote_index_column": 2765
                }
              ],
              "rows_bottom": [
                {
                  "ts": "2019-02-07",
                  "serialNo": "VA2170620672",
                  "home": 234419,
                  "batteryVoltageMilliV": 2840.9368,
                  "insideTemperatureCentiC": 2011.58,
                  "humidityMilliPerc": 448.05948,
                  "_deepnote_index_column": 2802
                },
                {
                  "ts": "2019-02-08",
                  "serialNo": "VA2170620672",
                  "home": 234419,
                  "batteryVoltageMilliV": 2843.8577,
                  "insideTemperatureCentiC": 2060.4722,
                  "humidityMilliPerc": 476.30902,
                  "_deepnote_index_column": 2803
                },
                {
                  "ts": "2019-02-09",
                  "serialNo": "VA2170620672",
                  "home": 234419,
                  "batteryVoltageMilliV": 2841.7102,
                  "insideTemperatureCentiC": 1963.1869,
                  "humidityMilliPerc": 487.47662,
                  "_deepnote_index_column": 2804
                },
                {
                  "ts": "2019-02-10",
                  "serialNo": "VA2170620672",
                  "home": 234419,
                  "batteryVoltageMilliV": 2838.5322,
                  "insideTemperatureCentiC": 2122.5564,
                  "humidityMilliPerc": 480.0121,
                  "_deepnote_index_column": 2805
                },
                {
                  "ts": "2019-02-11",
                  "serialNo": "VA2170620672",
                  "home": 234419,
                  "batteryVoltageMilliV": 2835.0278,
                  "insideTemperatureCentiC": 2163.993,
                  "humidityMilliPerc": 454.40765,
                  "_deepnote_index_column": 2806
                },
                {
                  "ts": "2019-02-12",
                  "serialNo": "VA2170620672",
                  "home": 234419,
                  "batteryVoltageMilliV": 2837.055,
                  "insideTemperatureCentiC": 2086.9536,
                  "humidityMilliPerc": 482.5696,
                  "_deepnote_index_column": 2807
                },
                {
                  "ts": "2019-02-13",
                  "serialNo": "VA2170620672",
                  "home": 234419,
                  "batteryVoltageMilliV": 2834.508,
                  "insideTemperatureCentiC": 2087.1814,
                  "humidityMilliPerc": 464.39517,
                  "_deepnote_index_column": 2808
                },
                {
                  "ts": "2019-02-14",
                  "serialNo": "VA2170620672",
                  "home": 234419,
                  "batteryVoltageMilliV": 2832.1218,
                  "insideTemperatureCentiC": 2175.8376,
                  "humidityMilliPerc": 485.1513,
                  "_deepnote_index_column": 2809
                },
                {
                  "ts": "2019-02-15",
                  "serialNo": "VA2170620672",
                  "home": 234419,
                  "batteryVoltageMilliV": 2829.5833,
                  "insideTemperatureCentiC": 2260.0344,
                  "humidityMilliPerc": 396.299,
                  "_deepnote_index_column": 2810
                },
                {
                  "ts": "2019-02-16",
                  "serialNo": "VA2170620672",
                  "home": 234419,
                  "batteryVoltageMilliV": 2829.2473,
                  "insideTemperatureCentiC": 2049.7422,
                  "humidityMilliPerc": 556.74225,
                  "_deepnote_index_column": 2811
                },
                {
                  "ts": "2019-02-17",
                  "serialNo": "VA2170620672",
                  "home": 234419,
                  "batteryVoltageMilliV": 2826.3909,
                  "insideTemperatureCentiC": 2015.6765,
                  "humidityMilliPerc": 526.5966,
                  "_deepnote_index_column": 2812
                },
                {
                  "ts": "2019-02-18",
                  "serialNo": "VA2170620672",
                  "home": 234419,
                  "batteryVoltageMilliV": 2821.1245,
                  "insideTemperatureCentiC": 2124.1929,
                  "humidityMilliPerc": 492.0723,
                  "_deepnote_index_column": 2813
                },
                {
                  "ts": "2019-02-19",
                  "serialNo": "VA2170620672",
                  "home": 234419,
                  "batteryVoltageMilliV": 2819.936,
                  "insideTemperatureCentiC": 2123.4065,
                  "humidityMilliPerc": 438.1096,
                  "_deepnote_index_column": 2814
                },
                {
                  "ts": "2019-02-20",
                  "serialNo": "VA2170620672",
                  "home": 234419,
                  "batteryVoltageMilliV": 2819.3916,
                  "insideTemperatureCentiC": 2006.8479,
                  "humidityMilliPerc": 541.20276,
                  "_deepnote_index_column": 2815
                },
                {
                  "ts": "2019-02-21",
                  "serialNo": "VA2170620672",
                  "home": 234419,
                  "batteryVoltageMilliV": 2815.9854,
                  "insideTemperatureCentiC": 2104.5684,
                  "humidityMilliPerc": 501.8487,
                  "_deepnote_index_column": 2816
                },
                {
                  "ts": "2019-02-22",
                  "serialNo": "VA2170620672",
                  "home": 234419,
                  "batteryVoltageMilliV": 2814.8390000000004,
                  "insideTemperatureCentiC": 2037.7122,
                  "humidityMilliPerc": 552.67804,
                  "_deepnote_index_column": 2817
                },
                {
                  "ts": "2019-02-23",
                  "serialNo": "VA2170620672",
                  "home": 234419,
                  "batteryVoltageMilliV": 2809.5,
                  "insideTemperatureCentiC": 1716.4457,
                  "humidityMilliPerc": 507.5435,
                  "_deepnote_index_column": 2818
                },
                {
                  "ts": "2019-02-24",
                  "serialNo": "VA2170620672",
                  "home": 234419,
                  "batteryVoltageMilliV": 2806.856,
                  "insideTemperatureCentiC": 1681.591,
                  "humidityMilliPerc": 464.49243,
                  "_deepnote_index_column": 2819
                },
                {
                  "ts": "2019-02-25",
                  "serialNo": "VA2170620672",
                  "home": 234419,
                  "batteryVoltageMilliV": 2808.3516,
                  "insideTemperatureCentiC": 1992.8369,
                  "humidityMilliPerc": 458.67392,
                  "_deepnote_index_column": 2820
                },
                {
                  "ts": "2019-02-26",
                  "serialNo": "VA2170620672",
                  "home": 234419,
                  "batteryVoltageMilliV": 2805.1501,
                  "insideTemperatureCentiC": 1982.8135,
                  "humidityMilliPerc": 512.68915,
                  "_deepnote_index_column": 2821
                },
                {
                  "ts": "2019-02-27",
                  "serialNo": "VA2170620672",
                  "home": 234419,
                  "batteryVoltageMilliV": 2802.925,
                  "insideTemperatureCentiC": 1953.8414,
                  "humidityMilliPerc": 527.8326,
                  "_deepnote_index_column": 2822
                },
                {
                  "ts": "2019-02-28",
                  "serialNo": "VA2170620672",
                  "home": 234419,
                  "batteryVoltageMilliV": 2803.4907,
                  "insideTemperatureCentiC": 2072.9438,
                  "humidityMilliPerc": 511.64487,
                  "_deepnote_index_column": 2823
                },
                {
                  "ts": "2019-03-01",
                  "serialNo": "VA2170620672",
                  "home": 234419,
                  "batteryVoltageMilliV": 2800.5574,
                  "insideTemperatureCentiC": 1948.0984,
                  "humidityMilliPerc": 514.45355,
                  "_deepnote_index_column": 2824
                },
                {
                  "ts": "2019-03-02",
                  "serialNo": "VA2170620672",
                  "home": 234419,
                  "batteryVoltageMilliV": 2798.211,
                  "insideTemperatureCentiC": 2116.7422,
                  "humidityMilliPerc": 501.54297,
                  "_deepnote_index_column": 2825
                },
                {
                  "ts": "2019-03-03",
                  "serialNo": "VA2170620672",
                  "home": 234419,
                  "batteryVoltageMilliV": 2793.3813,
                  "insideTemperatureCentiC": 2148.4124,
                  "humidityMilliPerc": 564.9766,
                  "_deepnote_index_column": 2826
                },
                {
                  "ts": "2019-03-04",
                  "serialNo": "VA2170620672",
                  "home": 234419,
                  "batteryVoltageMilliV": 2793.2527,
                  "insideTemperatureCentiC": 2048.6099,
                  "humidityMilliPerc": 583.0604,
                  "_deepnote_index_column": 2827
                },
                {
                  "ts": "2019-03-05",
                  "serialNo": "VA2170620672",
                  "home": 234419,
                  "batteryVoltageMilliV": 2791.5132,
                  "insideTemperatureCentiC": 2070.206,
                  "humidityMilliPerc": 545.1535,
                  "_deepnote_index_column": 2828
                },
                {
                  "ts": "2019-03-06",
                  "serialNo": "VA2170620672",
                  "home": 234419,
                  "batteryVoltageMilliV": 2791.4592,
                  "insideTemperatureCentiC": 2077.7383,
                  "humidityMilliPerc": 512.2151,
                  "_deepnote_index_column": 2829
                },
                {
                  "ts": "2019-03-07",
                  "serialNo": "VA2170620672",
                  "home": 234419,
                  "batteryVoltageMilliV": 2790.7234,
                  "insideTemperatureCentiC": 2052.0486,
                  "humidityMilliPerc": 595.1456,
                  "_deepnote_index_column": 2830
                },
                {
                  "ts": "2019-03-08",
                  "serialNo": "VA2170620672",
                  "home": 234419,
                  "batteryVoltageMilliV": 2788.867,
                  "insideTemperatureCentiC": 2045.1503,
                  "humidityMilliPerc": 500.2312,
                  "_deepnote_index_column": 2831
                },
                {
                  "ts": "2019-03-09",
                  "serialNo": "VA2170620672",
                  "home": 234419,
                  "batteryVoltageMilliV": 2787.7114,
                  "insideTemperatureCentiC": 2078.5205,
                  "humidityMilliPerc": 522.81445,
                  "_deepnote_index_column": 2832
                },
                {
                  "ts": "2019-03-10",
                  "serialNo": "VA2170620672",
                  "home": 234419,
                  "batteryVoltageMilliV": 2778.3047,
                  "insideTemperatureCentiC": 2086.208,
                  "humidityMilliPerc": 540.4721,
                  "_deepnote_index_column": 2833
                },
                {
                  "ts": "2019-03-11",
                  "serialNo": "VA2170620672",
                  "home": 234419,
                  "batteryVoltageMilliV": 2782.1675,
                  "insideTemperatureCentiC": 2132.564,
                  "humidityMilliPerc": 554.98236,
                  "_deepnote_index_column": 2834
                },
                {
                  "ts": "2019-03-12",
                  "serialNo": "VA2170620672",
                  "home": 234419,
                  "batteryVoltageMilliV": 2780.4773,
                  "insideTemperatureCentiC": 2016.9799,
                  "humidityMilliPerc": 651.3216,
                  "_deepnote_index_column": 2835
                },
                {
                  "ts": "2019-03-13",
                  "serialNo": "VA2170620672",
                  "home": 234419,
                  "batteryVoltageMilliV": 2778.6667,
                  "insideTemperatureCentiC": 2061.3147,
                  "humidityMilliPerc": 597.5741,
                  "_deepnote_index_column": 2836
                },
                {
                  "ts": "2019-03-14",
                  "serialNo": "VA2170620672",
                  "home": 234419,
                  "batteryVoltageMilliV": 2776.6943,
                  "insideTemperatureCentiC": 2135.6064,
                  "humidityMilliPerc": 514.6759,
                  "_deepnote_index_column": 2837
                },
                {
                  "ts": "2019-03-15",
                  "serialNo": "VA2170620672",
                  "home": 234419,
                  "batteryVoltageMilliV": 2769.913,
                  "insideTemperatureCentiC": 2107.9077,
                  "humidityMilliPerc": 507.7935,
                  "_deepnote_index_column": 2838
                },
                {
                  "ts": "2019-03-16",
                  "serialNo": "VA2170620672",
                  "home": 234419,
                  "batteryVoltageMilliV": 2772.0552,
                  "insideTemperatureCentiC": 2014.9226,
                  "humidityMilliPerc": 556.23755,
                  "_deepnote_index_column": 2839
                },
                {
                  "ts": "2019-03-17",
                  "serialNo": "VA2170620672",
                  "home": 234419,
                  "batteryVoltageMilliV": 2768.4204,
                  "insideTemperatureCentiC": 2062.5266,
                  "humidityMilliPerc": 573.13275,
                  "_deepnote_index_column": 2840
                },
                {
                  "ts": "2019-03-18",
                  "serialNo": "VA2170620672",
                  "home": 234419,
                  "batteryVoltageMilliV": 2765.359000000001,
                  "insideTemperatureCentiC": 2180.5745,
                  "humidityMilliPerc": 513.2,
                  "_deepnote_index_column": 2841
                },
                {
                  "ts": "2019-03-19",
                  "serialNo": "VA2170620672",
                  "home": 234419,
                  "batteryVoltageMilliV": 2767.827,
                  "insideTemperatureCentiC": 2151.377,
                  "humidityMilliPerc": 559.11536,
                  "_deepnote_index_column": 2842
                },
                {
                  "ts": "2019-03-20",
                  "serialNo": "VA2170620672",
                  "home": 234419,
                  "batteryVoltageMilliV": 2763.7185,
                  "insideTemperatureCentiC": 2128.1006,
                  "humidityMilliPerc": 525.804,
                  "_deepnote_index_column": 2843
                },
                {
                  "ts": "2019-03-21",
                  "serialNo": "VA2170620672",
                  "home": 234419,
                  "batteryVoltageMilliV": 2757.3472,
                  "insideTemperatureCentiC": 2135.7698,
                  "humidityMilliPerc": 575.5272,
                  "_deepnote_index_column": 2844
                },
                {
                  "ts": "2019-03-22",
                  "serialNo": "VA2170620672",
                  "home": 234419,
                  "batteryVoltageMilliV": 2757.5168,
                  "insideTemperatureCentiC": 2146.7302,
                  "humidityMilliPerc": 564.2191,
                  "_deepnote_index_column": 2845
                },
                {
                  "ts": "2019-03-23",
                  "serialNo": "VA2170620672",
                  "home": 234419,
                  "batteryVoltageMilliV": 2750.8494,
                  "insideTemperatureCentiC": 2154.1326,
                  "humidityMilliPerc": 536.43976,
                  "_deepnote_index_column": 2846
                },
                {
                  "ts": "2019-03-24",
                  "serialNo": "VA2170620672",
                  "home": 234419,
                  "batteryVoltageMilliV": 2765.1667,
                  "insideTemperatureCentiC": 1806.386,
                  "humidityMilliPerc": 549.8596,
                  "_deepnote_index_column": 2847
                },
                {
                  "ts": "2019-03-25",
                  "serialNo": "VA2170620672",
                  "home": 234419,
                  "batteryVoltageMilliV": 2753.0586,
                  "insideTemperatureCentiC": 2113.973,
                  "humidityMilliPerc": 581.536,
                  "_deepnote_index_column": 2848
                },
                {
                  "ts": "2019-03-26",
                  "serialNo": "VA2170620672",
                  "home": 234419,
                  "batteryVoltageMilliV": 2751.67,
                  "insideTemperatureCentiC": 2102.3726,
                  "humidityMilliPerc": 506.82547,
                  "_deepnote_index_column": 2849
                },
                {
                  "ts": "2019-03-27",
                  "serialNo": "VA2170620672",
                  "home": 234419,
                  "batteryVoltageMilliV": 2749.7788,
                  "insideTemperatureCentiC": 2109.5574,
                  "humidityMilliPerc": 623.7192,
                  "_deepnote_index_column": 2850
                },
                {
                  "ts": "2019-03-28",
                  "serialNo": "VA2170620672",
                  "home": 234419,
                  "batteryVoltageMilliV": 2747.4856,
                  "insideTemperatureCentiC": 2102.7144,
                  "humidityMilliPerc": 564.56,
                  "_deepnote_index_column": 2851
                },
                {
                  "ts": "2019-03-29",
                  "serialNo": "VA2170620672",
                  "home": 234419,
                  "batteryVoltageMilliV": 2745.765,
                  "insideTemperatureCentiC": 2119.636,
                  "humidityMilliPerc": 610.18896,
                  "_deepnote_index_column": 2852
                },
                {
                  "ts": "2019-03-30",
                  "serialNo": "VA2170620672",
                  "home": 234419,
                  "batteryVoltageMilliV": 2746.6367,
                  "insideTemperatureCentiC": 2337.6367,
                  "humidityMilliPerc": 515.2461,
                  "_deepnote_index_column": 2853
                },
                {
                  "ts": "2019-03-31",
                  "serialNo": "VA2170620672",
                  "home": 234419,
                  "batteryVoltageMilliV": 2743.276,
                  "insideTemperatureCentiC": 2044.1034,
                  "humidityMilliPerc": 543.8276,
                  "_deepnote_index_column": 2854
                },
                {
                  "ts": "2019-04-01",
                  "serialNo": "VA2170620672",
                  "home": 234419,
                  "batteryVoltageMilliV": 2740.3027,
                  "insideTemperatureCentiC": 2156.4604,
                  "humidityMilliPerc": 615.8991,
                  "_deepnote_index_column": 2855
                },
                {
                  "ts": "2019-04-02",
                  "serialNo": "VA2170620672",
                  "home": 234419,
                  "batteryVoltageMilliV": 2739.6697,
                  "insideTemperatureCentiC": 2123.8572,
                  "humidityMilliPerc": 517.95087,
                  "_deepnote_index_column": 2856
                },
                {
                  "ts": "2019-04-03",
                  "serialNo": "VA2170620672",
                  "home": 234419,
                  "batteryVoltageMilliV": 2740.1357,
                  "insideTemperatureCentiC": 1948.2928,
                  "humidityMilliPerc": 667.3786,
                  "_deepnote_index_column": 2857
                },
                {
                  "ts": "2019-04-04",
                  "serialNo": "VA2170620672",
                  "home": 234419,
                  "batteryVoltageMilliV": 2736.3052,
                  "insideTemperatureCentiC": 2149.169,
                  "humidityMilliPerc": 537.1315,
                  "_deepnote_index_column": 2858
                },
                {
                  "ts": "2019-04-05",
                  "serialNo": "VA2170620672",
                  "home": 234419,
                  "batteryVoltageMilliV": 2736.4634,
                  "insideTemperatureCentiC": 2139.4,
                  "humidityMilliPerc": 586.7268,
                  "_deepnote_index_column": 2859
                },
                {
                  "ts": "2019-04-06",
                  "serialNo": "VA2170620672",
                  "home": 234419,
                  "batteryVoltageMilliV": 2735.8674,
                  "insideTemperatureCentiC": 1794.024,
                  "humidityMilliPerc": 521.2651,
                  "_deepnote_index_column": 2860
                },
                {
                  "ts": "2019-04-07",
                  "serialNo": "VA2170620672",
                  "home": 234419,
                  "batteryVoltageMilliV": 2733.943,
                  "insideTemperatureCentiC": 1746.8456,
                  "humidityMilliPerc": 524.53656,
                  "_deepnote_index_column": 2861
                },
                {
                  "ts": "2019-04-08",
                  "serialNo": "VA2170620672",
                  "home": 234419,
                  "batteryVoltageMilliV": 2723.426,
                  "insideTemperatureCentiC": 1979.0986,
                  "humidityMilliPerc": 539.4933,
                  "_deepnote_index_column": 2862
                },
                {
                  "ts": "2019-04-09",
                  "serialNo": "VA2170620672",
                  "home": 234419,
                  "batteryVoltageMilliV": 2727.5134,
                  "insideTemperatureCentiC": 1948.5133,
                  "humidityMilliPerc": 614.24,
                  "_deepnote_index_column": 2863
                },
                {
                  "ts": "2019-04-10",
                  "serialNo": "VA2170620672",
                  "home": 234419,
                  "batteryVoltageMilliV": 2724.6685,
                  "insideTemperatureCentiC": 2011.4686,
                  "humidityMilliPerc": 550.7371,
                  "_deepnote_index_column": 2864
                },
                {
                  "ts": "2019-04-11",
                  "serialNo": "VA2170620672",
                  "home": 234419,
                  "batteryVoltageMilliV": 2725.566,
                  "insideTemperatureCentiC": 2074.5935,
                  "humidityMilliPerc": 585.1098599999998,
                  "_deepnote_index_column": 2865
                },
                {
                  "ts": "2019-04-12",
                  "serialNo": "VA2170620672",
                  "home": 234419,
                  "batteryVoltageMilliV": 2728.4077,
                  "insideTemperatureCentiC": 2089.9673,
                  "humidityMilliPerc": 503.3587,
                  "_deepnote_index_column": 2866
                },
                {
                  "ts": "2019-04-13",
                  "serialNo": "VA2170620672",
                  "home": 234419,
                  "batteryVoltageMilliV": 2723.5635,
                  "insideTemperatureCentiC": 1918.5,
                  "humidityMilliPerc": 574.7857,
                  "_deepnote_index_column": 2867
                },
                {
                  "ts": "2019-04-14",
                  "serialNo": "VA2170620672",
                  "home": 234419,
                  "batteryVoltageMilliV": 2730.0217,
                  "insideTemperatureCentiC": 1682.6414,
                  "humidityMilliPerc": 538.1195700000002,
                  "_deepnote_index_column": 2868
                },
                {
                  "ts": "2019-04-15",
                  "serialNo": "VA2170620672",
                  "home": 234419,
                  "batteryVoltageMilliV": 2723.1220000000008,
                  "insideTemperatureCentiC": 1592.2805,
                  "humidityMilliPerc": 528.14636,
                  "_deepnote_index_column": 2869
                },
                {
                  "ts": "2019-04-16",
                  "serialNo": "VA2170620672",
                  "home": 234419,
                  "batteryVoltageMilliV": 2721.5903,
                  "insideTemperatureCentiC": 1537.6385,
                  "humidityMilliPerc": 525.6988,
                  "_deepnote_index_column": 2870
                },
                {
                  "ts": "2019-04-17",
                  "serialNo": "VA2170620672",
                  "home": 234419,
                  "batteryVoltageMilliV": 2718.7234,
                  "insideTemperatureCentiC": 1515.6277,
                  "humidityMilliPerc": 530.6489,
                  "_deepnote_index_column": 2871
                },
                {
                  "ts": "2019-04-18",
                  "serialNo": "VA2170620672",
                  "home": 234419,
                  "batteryVoltageMilliV": 2719.0652,
                  "insideTemperatureCentiC": 1502.7391,
                  "humidityMilliPerc": 531.1304299999998,
                  "_deepnote_index_column": 2872
                },
                {
                  "ts": "2019-04-19",
                  "serialNo": "VA2170620672",
                  "home": 234419,
                  "batteryVoltageMilliV": 2715.559,
                  "insideTemperatureCentiC": 1510.7957,
                  "humidityMilliPerc": 533.215,
                  "_deepnote_index_column": 2873
                },
                {
                  "ts": "2019-04-20",
                  "serialNo": "VA2170620672",
                  "home": 234419,
                  "batteryVoltageMilliV": 2715.078,
                  "insideTemperatureCentiC": 1514.2222,
                  "humidityMilliPerc": 534.4889,
                  "_deepnote_index_column": 2874
                },
                {
                  "ts": "2019-04-21",
                  "serialNo": "VA2170620672",
                  "home": 234419,
                  "batteryVoltageMilliV": 2712.5518,
                  "insideTemperatureCentiC": 1517.3219,
                  "humidityMilliPerc": 528.4023,
                  "_deepnote_index_column": 2875
                },
                {
                  "ts": "2019-04-22",
                  "serialNo": "VA2170620672",
                  "home": 234419,
                  "batteryVoltageMilliV": 2711.2644,
                  "insideTemperatureCentiC": 1537.6897,
                  "humidityMilliPerc": 525.7241,
                  "_deepnote_index_column": 2876
                },
                {
                  "ts": "2019-04-23",
                  "serialNo": "VA2170620672",
                  "home": 234419,
                  "batteryVoltageMilliV": 2710.3720000000008,
                  "insideTemperatureCentiC": 1536.814,
                  "humidityMilliPerc": 531.3023,
                  "_deepnote_index_column": 2877
                },
                {
                  "ts": "2019-04-24",
                  "serialNo": "VA2170620672",
                  "home": 234419,
                  "batteryVoltageMilliV": 2698.5662,
                  "insideTemperatureCentiC": 1554.024,
                  "humidityMilliPerc": 538.8675,
                  "_deepnote_index_column": 2878
                },
                {
                  "ts": "2019-04-25",
                  "serialNo": "VA2170620672",
                  "home": 234419,
                  "batteryVoltageMilliV": 2709.647,
                  "insideTemperatureCentiC": 1661.8823,
                  "humidityMilliPerc": 531.35297,
                  "_deepnote_index_column": 2879
                },
                {
                  "ts": "2019-04-26",
                  "serialNo": "VA2170620672",
                  "home": 234419,
                  "batteryVoltageMilliV": 2708.6106,
                  "insideTemperatureCentiC": 2143.1892,
                  "humidityMilliPerc": 456.8143,
                  "_deepnote_index_column": 2880
                },
                {
                  "ts": "2019-04-27",
                  "serialNo": "VA2170620672",
                  "home": 234419,
                  "batteryVoltageMilliV": 2707.635,
                  "insideTemperatureCentiC": 2039.3175,
                  "humidityMilliPerc": 478.39154,
                  "_deepnote_index_column": 2881
                },
                {
                  "ts": "2019-04-28",
                  "serialNo": "VA2170620672",
                  "home": 234419,
                  "batteryVoltageMilliV": 2709.7239,
                  "insideTemperatureCentiC": 2054.105,
                  "humidityMilliPerc": 461.5746,
                  "_deepnote_index_column": 2882
                },
                {
                  "ts": "2019-04-29",
                  "serialNo": "VA2170620672",
                  "home": 234419,
                  "batteryVoltageMilliV": 2709.738,
                  "insideTemperatureCentiC": 2118.262,
                  "humidityMilliPerc": 454.8988,
                  "_deepnote_index_column": 2883
                },
                {
                  "ts": "2019-04-30",
                  "serialNo": "VA2170620672",
                  "home": 234419,
                  "batteryVoltageMilliV": 2705.8604,
                  "insideTemperatureCentiC": 2107.1162,
                  "humidityMilliPerc": 590.307,
                  "_deepnote_index_column": 2884
                }
              ]
            },
            "text/plain": "              ts      serialNo    home  batteryVoltageMilliV  \\\n2683  2018-10-11  VA2170620672  234419             3219.5670   \n2684  2018-10-12  VA2170620672  234419             3204.8310   \n2685  2018-10-13  VA2170620672  234419             3181.2230   \n2686  2018-10-14  VA2170620672  234419             3167.7480   \n2687  2018-10-15  VA2170620672  234419             3156.4385   \n...          ...           ...     ...                   ...   \n2880  2019-04-26  VA2170620672  234419             2708.6106   \n2881  2019-04-27  VA2170620672  234419             2707.6350   \n2882  2019-04-28  VA2170620672  234419             2709.7239   \n2883  2019-04-29  VA2170620672  234419             2709.7380   \n2884  2019-04-30  VA2170620672  234419             2705.8604   \n\n      insideTemperatureCentiC  humidityMilliPerc  \n2683                2089.8218          557.57960  \n2684                1991.7760          670.36255  \n2685                2087.8027          679.25050  \n2686                2017.2100          648.57200  \n2687                2006.8866          714.70510  \n...                       ...                ...  \n2880                2143.1892          456.81430  \n2881                2039.3175          478.39154  \n2882                2054.1050          461.57460  \n2883                2118.2620          454.89880  \n2884                2107.1162          590.30700  \n\n[202 rows x 6 columns]",
            "text/html": "<div>\n<style scoped>\n    .dataframe tbody tr th:only-of-type {\n        vertical-align: middle;\n    }\n\n    .dataframe tbody tr th {\n        vertical-align: top;\n    }\n\n    .dataframe thead th {\n        text-align: right;\n    }\n</style>\n<table border=\"1\" class=\"dataframe\">\n  <thead>\n    <tr style=\"text-align: right;\">\n      <th></th>\n      <th>ts</th>\n      <th>serialNo</th>\n      <th>home</th>\n      <th>batteryVoltageMilliV</th>\n      <th>insideTemperatureCentiC</th>\n      <th>humidityMilliPerc</th>\n    </tr>\n  </thead>\n  <tbody>\n    <tr>\n      <th>2683</th>\n      <td>2018-10-11</td>\n      <td>VA2170620672</td>\n      <td>234419</td>\n      <td>3219.5670</td>\n      <td>2089.8218</td>\n      <td>557.57960</td>\n    </tr>\n    <tr>\n      <th>2684</th>\n      <td>2018-10-12</td>\n      <td>VA2170620672</td>\n      <td>234419</td>\n      <td>3204.8310</td>\n      <td>1991.7760</td>\n      <td>670.36255</td>\n    </tr>\n    <tr>\n      <th>2685</th>\n      <td>2018-10-13</td>\n      <td>VA2170620672</td>\n      <td>234419</td>\n      <td>3181.2230</td>\n      <td>2087.8027</td>\n      <td>679.25050</td>\n    </tr>\n    <tr>\n      <th>2686</th>\n      <td>2018-10-14</td>\n      <td>VA2170620672</td>\n      <td>234419</td>\n      <td>3167.7480</td>\n      <td>2017.2100</td>\n      <td>648.57200</td>\n    </tr>\n    <tr>\n      <th>2687</th>\n      <td>2018-10-15</td>\n      <td>VA2170620672</td>\n      <td>234419</td>\n      <td>3156.4385</td>\n      <td>2006.8866</td>\n      <td>714.70510</td>\n    </tr>\n    <tr>\n      <th>...</th>\n      <td>...</td>\n      <td>...</td>\n      <td>...</td>\n      <td>...</td>\n      <td>...</td>\n      <td>...</td>\n    </tr>\n    <tr>\n      <th>2880</th>\n      <td>2019-04-26</td>\n      <td>VA2170620672</td>\n      <td>234419</td>\n      <td>2708.6106</td>\n      <td>2143.1892</td>\n      <td>456.81430</td>\n    </tr>\n    <tr>\n      <th>2881</th>\n      <td>2019-04-27</td>\n      <td>VA2170620672</td>\n      <td>234419</td>\n      <td>2707.6350</td>\n      <td>2039.3175</td>\n      <td>478.39154</td>\n    </tr>\n    <tr>\n      <th>2882</th>\n      <td>2019-04-28</td>\n      <td>VA2170620672</td>\n      <td>234419</td>\n      <td>2709.7239</td>\n      <td>2054.1050</td>\n      <td>461.57460</td>\n    </tr>\n    <tr>\n      <th>2883</th>\n      <td>2019-04-29</td>\n      <td>VA2170620672</td>\n      <td>234419</td>\n      <td>2709.7380</td>\n      <td>2118.2620</td>\n      <td>454.89880</td>\n    </tr>\n    <tr>\n      <th>2884</th>\n      <td>2019-04-30</td>\n      <td>VA2170620672</td>\n      <td>234419</td>\n      <td>2705.8604</td>\n      <td>2107.1162</td>\n      <td>590.30700</td>\n    </tr>\n  </tbody>\n</table>\n<p>202 rows × 6 columns</p>\n</div>"
          },
          "metadata": {}
        }
      ]
    },
    {
      "cell_type": "code",
      "metadata": {
        "tags": [],
        "cell_id": "00013-5c3e8e38-0ece-45ce-b49d-c87b21f6774a",
        "deepnote_to_be_reexecuted": false,
        "source_hash": "4adc79b5",
        "execution_millis": 36,
        "execution_start": 1614598982107,
        "deepnote_cell_type": "code"
      },
      "source": "df_battery.describe()",
      "execution_count": null,
      "outputs": [
        {
          "output_type": "execute_result",
          "execution_count": 18,
          "data": {
            "application/vnd.deepnote.dataframe.v2+json": {
              "row_count": 8,
              "column_count": 4,
              "columns": [
                {
                  "name": "home",
                  "dtype": "float64",
                  "stats": {
                    "unique_count": 3,
                    "nan_count": 0,
                    "min": 0,
                    "max": 234419,
                    "histogram": [
                      {
                        "bin_start": 0,
                        "bin_end": 23441.9,
                        "count": 2
                      },
                      {
                        "bin_start": 23441.9,
                        "bin_end": 46883.8,
                        "count": 0
                      },
                      {
                        "bin_start": 46883.8,
                        "bin_end": 70325.70000000001,
                        "count": 0
                      },
                      {
                        "bin_start": 70325.70000000001,
                        "bin_end": 93767.6,
                        "count": 0
                      },
                      {
                        "bin_start": 93767.6,
                        "bin_end": 117209.5,
                        "count": 0
                      },
                      {
                        "bin_start": 117209.5,
                        "bin_end": 140651.40000000002,
                        "count": 0
                      },
                      {
                        "bin_start": 140651.40000000002,
                        "bin_end": 164093.30000000002,
                        "count": 0
                      },
                      {
                        "bin_start": 164093.30000000002,
                        "bin_end": 187535.2,
                        "count": 0
                      },
                      {
                        "bin_start": 187535.2,
                        "bin_end": 210977.1,
                        "count": 0
                      },
                      {
                        "bin_start": 210977.1,
                        "bin_end": 234419,
                        "count": 6
                      }
                    ]
                  }
                },
                {
                  "name": "batteryVoltageMilliV",
                  "dtype": "float64",
                  "stats": {
                    "unique_count": 8,
                    "nan_count": 0,
                    "min": 117.66595993636234,
                    "max": 3219.567,
                    "histogram": [
                      {
                        "bin_start": 117.66595993636234,
                        "bin_end": 427.8560639427261,
                        "count": 2
                      },
                      {
                        "bin_start": 427.8560639427261,
                        "bin_end": 738.0461679490899,
                        "count": 0
                      },
                      {
                        "bin_start": 738.0461679490899,
                        "bin_end": 1048.2362719554535,
                        "count": 0
                      },
                      {
                        "bin_start": 1048.2362719554535,
                        "bin_end": 1358.4263759618173,
                        "count": 0
                      },
                      {
                        "bin_start": 1358.4263759618173,
                        "bin_end": 1668.616479968181,
                        "count": 0
                      },
                      {
                        "bin_start": 1668.616479968181,
                        "bin_end": 1978.8065839745448,
                        "count": 0
                      },
                      {
                        "bin_start": 1978.8065839745448,
                        "bin_end": 2288.9966879809085,
                        "count": 0
                      },
                      {
                        "bin_start": 2288.9966879809085,
                        "bin_end": 2599.1867919872725,
                        "count": 0
                      },
                      {
                        "bin_start": 2599.1867919872725,
                        "bin_end": 2909.3768959936365,
                        "count": 4
                      },
                      {
                        "bin_start": 2909.3768959936365,
                        "bin_end": 3219.567,
                        "count": 2
                      }
                    ]
                  }
                },
                {
                  "name": "insideTemperatureCentiC",
                  "dtype": "float64",
                  "stats": {
                    "unique_count": 8,
                    "nan_count": 0,
                    "min": 202,
                    "max": 2719.6428,
                    "histogram": [
                      {
                        "bin_start": 202,
                        "bin_end": 453.76428,
                        "count": 2
                      },
                      {
                        "bin_start": 453.76428,
                        "bin_end": 705.52856,
                        "count": 0
                      },
                      {
                        "bin_start": 705.52856,
                        "bin_end": 957.2928400000001,
                        "count": 0
                      },
                      {
                        "bin_start": 957.2928400000001,
                        "bin_end": 1209.05712,
                        "count": 1
                      },
                      {
                        "bin_start": 1209.05712,
                        "bin_end": 1460.8214,
                        "count": 0
                      },
                      {
                        "bin_start": 1460.8214,
                        "bin_end": 1712.5856800000001,
                        "count": 0
                      },
                      {
                        "bin_start": 1712.5856800000001,
                        "bin_end": 1964.34996,
                        "count": 0
                      },
                      {
                        "bin_start": 1964.34996,
                        "bin_end": 2216.11424,
                        "count": 4
                      },
                      {
                        "bin_start": 2216.11424,
                        "bin_end": 2467.87852,
                        "count": 0
                      },
                      {
                        "bin_start": 2467.87852,
                        "bin_end": 2719.6428,
                        "count": 1
                      }
                    ]
                  }
                },
                {
                  "name": "humidityMilliPerc",
                  "dtype": "float64",
                  "stats": {
                    "unique_count": 8,
                    "nan_count": 0,
                    "min": 72.68605182860838,
                    "max": 752.94214,
                    "histogram": [
                      {
                        "bin_start": 72.68605182860838,
                        "bin_end": 140.71166064574754,
                        "count": 1
                      },
                      {
                        "bin_start": 140.71166064574754,
                        "bin_end": 208.7372694628867,
                        "count": 1
                      },
                      {
                        "bin_start": 208.7372694628867,
                        "bin_end": 276.76287828002586,
                        "count": 0
                      },
                      {
                        "bin_start": 276.76287828002586,
                        "bin_end": 344.788487097165,
                        "count": 0
                      },
                      {
                        "bin_start": 344.788487097165,
                        "bin_end": 412.8140959143042,
                        "count": 1
                      },
                      {
                        "bin_start": 412.8140959143042,
                        "bin_end": 480.83970473144336,
                        "count": 1
                      },
                      {
                        "bin_start": 480.83970473144336,
                        "bin_end": 548.8653135485824,
                        "count": 2
                      },
                      {
                        "bin_start": 548.8653135485824,
                        "bin_end": 616.8909223657216,
                        "count": 1
                      },
                      {
                        "bin_start": 616.8909223657216,
                        "bin_end": 684.9165311828608,
                        "count": 0
                      },
                      {
                        "bin_start": 684.9165311828608,
                        "bin_end": 752.94214,
                        "count": 1
                      }
                    ]
                  }
                },
                {
                  "name": "_deepnote_index_column",
                  "dtype": "object"
                }
              ],
              "rows_top": [
                {
                  "home": 202,
                  "batteryVoltageMilliV": 202,
                  "insideTemperatureCentiC": 202,
                  "humidityMilliPerc": 202,
                  "_deepnote_index_column": "count"
                },
                {
                  "home": 234419,
                  "batteryVoltageMilliV": 2879.472766336634,
                  "insideTemperatureCentiC": 2005.530011881188,
                  "humidityMilliPerc": 530.6178325742574,
                  "_deepnote_index_column": "mean"
                },
                {
                  "home": 0,
                  "batteryVoltageMilliV": 117.66595993636234,
                  "insideTemperatureCentiC": 224.6316003222569,
                  "humidityMilliPerc": 72.68605182860838,
                  "_deepnote_index_column": "std"
                },
                {
                  "home": 234419,
                  "batteryVoltageMilliV": 2698.5662,
                  "insideTemperatureCentiC": 1087.4105,
                  "humidityMilliPerc": 371.4549,
                  "_deepnote_index_column": "min"
                },
                {
                  "home": 234419,
                  "batteryVoltageMilliV": 2780.89985,
                  "insideTemperatureCentiC": 1991.586125,
                  "humidityMilliPerc": 480.156925,
                  "_deepnote_index_column": "25%"
                },
                {
                  "home": 234419,
                  "batteryVoltageMilliV": 2879.2135,
                  "insideTemperatureCentiC": 2053.842,
                  "humidityMilliPerc": 525.71145,
                  "_deepnote_index_column": "50%"
                },
                {
                  "home": 234419,
                  "batteryVoltageMilliV": 2951.2801,
                  "insideTemperatureCentiC": 2119.2925,
                  "humidityMilliPerc": 575.341825,
                  "_deepnote_index_column": "75%"
                },
                {
                  "home": 234419,
                  "batteryVoltageMilliV": 3219.567,
                  "insideTemperatureCentiC": 2719.6428,
                  "humidityMilliPerc": 752.94214,
                  "_deepnote_index_column": "max"
                }
              ],
              "rows_bottom": null
            },
            "text/plain": "           home  batteryVoltageMilliV  insideTemperatureCentiC  \\\ncount     202.0            202.000000               202.000000   \nmean   234419.0           2879.472766              2005.530012   \nstd         0.0            117.665960               224.631600   \nmin    234419.0           2698.566200              1087.410500   \n25%    234419.0           2780.899850              1991.586125   \n50%    234419.0           2879.213500              2053.842000   \n75%    234419.0           2951.280100              2119.292500   \nmax    234419.0           3219.567000              2719.642800   \n\n       humidityMilliPerc  \ncount         202.000000  \nmean          530.617833  \nstd            72.686052  \nmin           371.454900  \n25%           480.156925  \n50%           525.711450  \n75%           575.341825  \nmax           752.942140  ",
            "text/html": "<div>\n<style scoped>\n    .dataframe tbody tr th:only-of-type {\n        vertical-align: middle;\n    }\n\n    .dataframe tbody tr th {\n        vertical-align: top;\n    }\n\n    .dataframe thead th {\n        text-align: right;\n    }\n</style>\n<table border=\"1\" class=\"dataframe\">\n  <thead>\n    <tr style=\"text-align: right;\">\n      <th></th>\n      <th>home</th>\n      <th>batteryVoltageMilliV</th>\n      <th>insideTemperatureCentiC</th>\n      <th>humidityMilliPerc</th>\n    </tr>\n  </thead>\n  <tbody>\n    <tr>\n      <th>count</th>\n      <td>202.0</td>\n      <td>202.000000</td>\n      <td>202.000000</td>\n      <td>202.000000</td>\n    </tr>\n    <tr>\n      <th>mean</th>\n      <td>234419.0</td>\n      <td>2879.472766</td>\n      <td>2005.530012</td>\n      <td>530.617833</td>\n    </tr>\n    <tr>\n      <th>std</th>\n      <td>0.0</td>\n      <td>117.665960</td>\n      <td>224.631600</td>\n      <td>72.686052</td>\n    </tr>\n    <tr>\n      <th>min</th>\n      <td>234419.0</td>\n      <td>2698.566200</td>\n      <td>1087.410500</td>\n      <td>371.454900</td>\n    </tr>\n    <tr>\n      <th>25%</th>\n      <td>234419.0</td>\n      <td>2780.899850</td>\n      <td>1991.586125</td>\n      <td>480.156925</td>\n    </tr>\n    <tr>\n      <th>50%</th>\n      <td>234419.0</td>\n      <td>2879.213500</td>\n      <td>2053.842000</td>\n      <td>525.711450</td>\n    </tr>\n    <tr>\n      <th>75%</th>\n      <td>234419.0</td>\n      <td>2951.280100</td>\n      <td>2119.292500</td>\n      <td>575.341825</td>\n    </tr>\n    <tr>\n      <th>max</th>\n      <td>234419.0</td>\n      <td>3219.567000</td>\n      <td>2719.642800</td>\n      <td>752.942140</td>\n    </tr>\n  </tbody>\n</table>\n</div>"
          },
          "metadata": {}
        }
      ]
    },
    {
      "cell_type": "code",
      "metadata": {
        "tags": [],
        "cell_id": "00014-4b0675a2-50b5-4c60-af86-da5403b35b0f",
        "deepnote_to_be_reexecuted": false,
        "source_hash": "cda99020",
        "execution_millis": 117,
        "execution_start": 1614599353469,
        "deepnote_cell_type": "code"
      },
      "source": "df_battery",
      "execution_count": null,
      "outputs": [
        {
          "output_type": "execute_result",
          "execution_count": 33,
          "data": {
            "application/vnd.deepnote.dataframe.v2+json": {
              "row_count": 181,
              "column_count": 6,
              "columns": [
                {
                  "name": "ts",
                  "dtype": "object",
                  "stats": {
                    "unique_count": 181,
                    "nan_count": 0,
                    "categories": [
                      {
                        "name": "2018-11-01",
                        "count": 1
                      },
                      {
                        "name": "2018-11-02",
                        "count": 1
                      },
                      {
                        "name": "179 others",
                        "count": 179
                      }
                    ]
                  }
                },
                {
                  "name": "serialNo",
                  "dtype": "object",
                  "stats": {
                    "unique_count": 1,
                    "nan_count": 0,
                    "categories": [
                      {
                        "name": "VA2170620672",
                        "count": 181
                      }
                    ]
                  }
                },
                {
                  "name": "home",
                  "dtype": "int64",
                  "stats": {
                    "unique_count": 1,
                    "nan_count": 0,
                    "min": 234419,
                    "max": 234419,
                    "histogram": [
                      {
                        "bin_start": 234418.5,
                        "bin_end": 234418.6,
                        "count": 0
                      },
                      {
                        "bin_start": 234418.6,
                        "bin_end": 234418.7,
                        "count": 0
                      },
                      {
                        "bin_start": 234418.7,
                        "bin_end": 234418.8,
                        "count": 0
                      },
                      {
                        "bin_start": 234418.8,
                        "bin_end": 234418.9,
                        "count": 0
                      },
                      {
                        "bin_start": 234418.9,
                        "bin_end": 234419,
                        "count": 0
                      },
                      {
                        "bin_start": 234419,
                        "bin_end": 234419.1,
                        "count": 181
                      },
                      {
                        "bin_start": 234419.1,
                        "bin_end": 234419.2,
                        "count": 0
                      },
                      {
                        "bin_start": 234419.2,
                        "bin_end": 234419.3,
                        "count": 0
                      },
                      {
                        "bin_start": 234419.3,
                        "bin_end": 234419.4,
                        "count": 0
                      },
                      {
                        "bin_start": 234419.4,
                        "bin_end": 234419.5,
                        "count": 0
                      }
                    ]
                  }
                },
                {
                  "name": "batteryVoltageMilliV",
                  "dtype": "float64",
                  "stats": {
                    "unique_count": 181,
                    "nan_count": 0,
                    "min": 2698.5662,
                    "max": 3027.3408,
                    "histogram": [
                      {
                        "bin_start": 2698.5662,
                        "bin_end": 2731.4436600000004,
                        "count": 23
                      },
                      {
                        "bin_start": 2731.4436600000004,
                        "bin_end": 2764.32112,
                        "count": 18
                      },
                      {
                        "bin_start": 2764.32112,
                        "bin_end": 2797.19858,
                        "count": 18
                      },
                      {
                        "bin_start": 2797.19858,
                        "bin_end": 2830.07604,
                        "count": 16
                      },
                      {
                        "bin_start": 2830.07604,
                        "bin_end": 2862.9535,
                        "count": 18
                      },
                      {
                        "bin_start": 2862.9535,
                        "bin_end": 2895.8309600000002,
                        "count": 17
                      },
                      {
                        "bin_start": 2895.8309600000002,
                        "bin_end": 2928.70842,
                        "count": 26
                      },
                      {
                        "bin_start": 2928.70842,
                        "bin_end": 2961.58588,
                        "count": 21
                      },
                      {
                        "bin_start": 2961.58588,
                        "bin_end": 2994.46334,
                        "count": 15
                      },
                      {
                        "bin_start": 2994.46334,
                        "bin_end": 3027.3408,
                        "count": 9
                      }
                    ]
                  }
                },
                {
                  "name": "insideTemperatureCentiC",
                  "dtype": "float64",
                  "stats": {
                    "unique_count": 181,
                    "nan_count": 0,
                    "min": 1087.4105,
                    "max": 2719.6428,
                    "histogram": [
                      {
                        "bin_start": 1087.4105,
                        "bin_end": 1250.63373,
                        "count": 3
                      },
                      {
                        "bin_start": 1250.63373,
                        "bin_end": 1413.85696,
                        "count": 2
                      },
                      {
                        "bin_start": 1413.85696,
                        "bin_end": 1577.08019,
                        "count": 11
                      },
                      {
                        "bin_start": 1577.08019,
                        "bin_end": 1740.30342,
                        "count": 8
                      },
                      {
                        "bin_start": 1740.30342,
                        "bin_end": 1903.52665,
                        "count": 6
                      },
                      {
                        "bin_start": 1903.52665,
                        "bin_end": 2066.74988,
                        "count": 61
                      },
                      {
                        "bin_start": 2066.74988,
                        "bin_end": 2229.97311,
                        "count": 79
                      },
                      {
                        "bin_start": 2229.97311,
                        "bin_end": 2393.19634,
                        "count": 9
                      },
                      {
                        "bin_start": 2393.19634,
                        "bin_end": 2556.41957,
                        "count": 0
                      },
                      {
                        "bin_start": 2556.41957,
                        "bin_end": 2719.6428,
                        "count": 2
                      }
                    ]
                  }
                },
                {
                  "name": "humidityMilliPerc",
                  "dtype": "float64",
                  "stats": {
                    "unique_count": 181,
                    "nan_count": 0,
                    "min": 371.4549,
                    "max": 752.94214,
                    "histogram": [
                      {
                        "bin_start": 371.4549,
                        "bin_end": 409.603624,
                        "count": 8
                      },
                      {
                        "bin_start": 409.603624,
                        "bin_end": 447.752348,
                        "count": 15
                      },
                      {
                        "bin_start": 447.752348,
                        "bin_end": 485.901072,
                        "count": 35
                      },
                      {
                        "bin_start": 485.901072,
                        "bin_end": 524.049796,
                        "count": 40
                      },
                      {
                        "bin_start": 524.049796,
                        "bin_end": 562.19852,
                        "count": 44
                      },
                      {
                        "bin_start": 562.19852,
                        "bin_end": 600.347244,
                        "count": 23
                      },
                      {
                        "bin_start": 600.347244,
                        "bin_end": 638.495968,
                        "count": 9
                      },
                      {
                        "bin_start": 638.495968,
                        "bin_end": 676.6446920000001,
                        "count": 5
                      },
                      {
                        "bin_start": 676.6446920000001,
                        "bin_end": 714.793416,
                        "count": 1
                      },
                      {
                        "bin_start": 714.793416,
                        "bin_end": 752.94214,
                        "count": 1
                      }
                    ]
                  }
                },
                {
                  "name": "_deepnote_index_column",
                  "dtype": "int64"
                }
              ],
              "rows_top": [
                {
                  "ts": "2018-11-01",
                  "serialNo": "VA2170620672",
                  "home": 234419,
                  "batteryVoltageMilliV": 3027.3408,
                  "insideTemperatureCentiC": 2003.8884,
                  "humidityMilliPerc": 553.89044,
                  "_deepnote_index_column": 2704
                },
                {
                  "ts": "2018-11-02",
                  "serialNo": "VA2170620672",
                  "home": 234419,
                  "batteryVoltageMilliV": 3020.7388,
                  "insideTemperatureCentiC": 2295.3186,
                  "humidityMilliPerc": 556.7518,
                  "_deepnote_index_column": 2705
                },
                {
                  "ts": "2018-11-03",
                  "serialNo": "VA2170620672",
                  "home": 234419,
                  "batteryVoltageMilliV": 3018.9058,
                  "insideTemperatureCentiC": 1958.0773,
                  "humidityMilliPerc": 593.6045,
                  "_deepnote_index_column": 2706
                },
                {
                  "ts": "2018-11-04",
                  "serialNo": "VA2170620672",
                  "home": 234419,
                  "batteryVoltageMilliV": 3016.7278,
                  "insideTemperatureCentiC": 1805.6438,
                  "humidityMilliPerc": 607.2928,
                  "_deepnote_index_column": 2707
                },
                {
                  "ts": "2018-11-05",
                  "serialNo": "VA2170620672",
                  "home": 234419,
                  "batteryVoltageMilliV": 3010.344,
                  "insideTemperatureCentiC": 2009.0709,
                  "humidityMilliPerc": 579.3564,
                  "_deepnote_index_column": 2708
                },
                {
                  "ts": "2018-11-06",
                  "serialNo": "VA2170620672",
                  "home": 234419,
                  "batteryVoltageMilliV": 3006.6672,
                  "insideTemperatureCentiC": 1998.3143,
                  "humidityMilliPerc": 671.5331,
                  "_deepnote_index_column": 2709
                },
                {
                  "ts": "2018-11-07",
                  "serialNo": "VA2170620672",
                  "home": 234419,
                  "batteryVoltageMilliV": 3002.831,
                  "insideTemperatureCentiC": 2005.6382,
                  "humidityMilliPerc": 567.8942,
                  "_deepnote_index_column": 2710
                },
                {
                  "ts": "2018-11-08",
                  "serialNo": "VA2170620672",
                  "home": 234419,
                  "batteryVoltageMilliV": 3000.4485,
                  "insideTemperatureCentiC": 1932.123,
                  "humidityMilliPerc": 658.2310000000001,
                  "_deepnote_index_column": 2711
                },
                {
                  "ts": "2018-11-09",
                  "serialNo": "VA2170620672",
                  "home": 234419,
                  "batteryVoltageMilliV": 2996.609000000001,
                  "insideTemperatureCentiC": 2069.3584,
                  "humidityMilliPerc": 587.1695599999998,
                  "_deepnote_index_column": 2712
                },
                {
                  "ts": "2018-11-10",
                  "serialNo": "VA2170620672",
                  "home": 234419,
                  "batteryVoltageMilliV": 2993.7898,
                  "insideTemperatureCentiC": 2104.0796,
                  "humidityMilliPerc": 616.51764,
                  "_deepnote_index_column": 2713
                },
                {
                  "ts": "2018-11-11",
                  "serialNo": "VA2170620672",
                  "home": 234419,
                  "batteryVoltageMilliV": 2990.8743,
                  "insideTemperatureCentiC": 2068.2388,
                  "humidityMilliPerc": 696.0341,
                  "_deepnote_index_column": 2714
                },
                {
                  "ts": "2018-11-12",
                  "serialNo": "VA2170620672",
                  "home": 234419,
                  "batteryVoltageMilliV": 2988.5170000000007,
                  "insideTemperatureCentiC": 2041.9753,
                  "humidityMilliPerc": 641.8939,
                  "_deepnote_index_column": 2715
                },
                {
                  "ts": "2018-11-13",
                  "serialNo": "VA2170620672",
                  "home": 234419,
                  "batteryVoltageMilliV": 2986.076,
                  "insideTemperatureCentiC": 1994.7052,
                  "humidityMilliPerc": 752.94214,
                  "_deepnote_index_column": 2716
                },
                {
                  "ts": "2018-11-14",
                  "serialNo": "VA2170620672",
                  "home": 234419,
                  "batteryVoltageMilliV": 2984.258,
                  "insideTemperatureCentiC": 2028.3973,
                  "humidityMilliPerc": 635.96796,
                  "_deepnote_index_column": 2717
                },
                {
                  "ts": "2018-11-15",
                  "serialNo": "VA2170620672",
                  "home": 234419,
                  "batteryVoltageMilliV": 2981.6018,
                  "insideTemperatureCentiC": 1993.8073,
                  "humidityMilliPerc": 596.3473,
                  "_deepnote_index_column": 2718
                },
                {
                  "ts": "2018-11-16",
                  "serialNo": "VA2170620672",
                  "home": 234419,
                  "batteryVoltageMilliV": 2979.7344,
                  "insideTemperatureCentiC": 2000.3619,
                  "humidityMilliPerc": 571.1451,
                  "_deepnote_index_column": 2719
                },
                {
                  "ts": "2018-11-17",
                  "serialNo": "VA2170620672",
                  "home": 234419,
                  "batteryVoltageMilliV": 2976.6177,
                  "insideTemperatureCentiC": 2359.4475,
                  "humidityMilliPerc": 521.3347,
                  "_deepnote_index_column": 2720
                },
                {
                  "ts": "2018-11-18",
                  "serialNo": "VA2170620672",
                  "home": 234419,
                  "batteryVoltageMilliV": 2977.524000000001,
                  "insideTemperatureCentiC": 2719.6428,
                  "humidityMilliPerc": 371.4549,
                  "_deepnote_index_column": 2721
                },
                {
                  "ts": "2018-11-19",
                  "serialNo": "VA2170620672",
                  "home": 234419,
                  "batteryVoltageMilliV": 2968.7996,
                  "insideTemperatureCentiC": 2701.269,
                  "humidityMilliPerc": 403.2225,
                  "_deepnote_index_column": 2722
                },
                {
                  "ts": "2018-11-20",
                  "serialNo": "VA2170620672",
                  "home": 234419,
                  "batteryVoltageMilliV": 2971.3533,
                  "insideTemperatureCentiC": 2160.8762,
                  "humidityMilliPerc": 457.86697,
                  "_deepnote_index_column": 2723
                },
                {
                  "ts": "2018-11-21",
                  "serialNo": "VA2170620672",
                  "home": 234419,
                  "batteryVoltageMilliV": 2968.242,
                  "insideTemperatureCentiC": 2148.3538,
                  "humidityMilliPerc": 532.2130000000002,
                  "_deepnote_index_column": 2724
                },
                {
                  "ts": "2018-11-22",
                  "serialNo": "VA2170620672",
                  "home": 234419,
                  "batteryVoltageMilliV": 2967.8394,
                  "insideTemperatureCentiC": 2088.1687,
                  "humidityMilliPerc": 472.1004,
                  "_deepnote_index_column": 2725
                },
                {
                  "ts": "2018-11-23",
                  "serialNo": "VA2170620672",
                  "home": 234419,
                  "batteryVoltageMilliV": 2962.4521,
                  "insideTemperatureCentiC": 2072.7815,
                  "humidityMilliPerc": 520.1763,
                  "_deepnote_index_column": 2726
                },
                {
                  "ts": "2018-11-24",
                  "serialNo": "VA2170620672",
                  "home": 234419,
                  "batteryVoltageMilliV": 2965.4773,
                  "insideTemperatureCentiC": 1629.8977,
                  "humidityMilliPerc": 564.8182,
                  "_deepnote_index_column": 2727
                },
                {
                  "ts": "2018-11-25",
                  "serialNo": "VA2170620672",
                  "home": 234419,
                  "batteryVoltageMilliV": 2961.041,
                  "insideTemperatureCentiC": 1692.596,
                  "humidityMilliPerc": 543.8219,
                  "_deepnote_index_column": 2728
                },
                {
                  "ts": "2018-11-26",
                  "serialNo": "VA2170620672",
                  "home": 234419,
                  "batteryVoltageMilliV": 2959.4,
                  "insideTemperatureCentiC": 1991.7509,
                  "humidityMilliPerc": 575.89825,
                  "_deepnote_index_column": 2729
                },
                {
                  "ts": "2018-11-27",
                  "serialNo": "VA2170620672",
                  "home": 234419,
                  "batteryVoltageMilliV": 2956.5903,
                  "insideTemperatureCentiC": 2101.9307,
                  "humidityMilliPerc": 544.8403,
                  "_deepnote_index_column": 2730
                },
                {
                  "ts": "2018-11-28",
                  "serialNo": "VA2170620672",
                  "home": 234419,
                  "batteryVoltageMilliV": 2951.4568,
                  "insideTemperatureCentiC": 2200.5032,
                  "humidityMilliPerc": 550.5123,
                  "_deepnote_index_column": 2731
                },
                {
                  "ts": "2018-11-29",
                  "serialNo": "VA2170620672",
                  "home": 234419,
                  "batteryVoltageMilliV": 2954.3584,
                  "insideTemperatureCentiC": 2072.3174,
                  "humidityMilliPerc": 508.9522,
                  "_deepnote_index_column": 2732
                },
                {
                  "ts": "2018-11-30",
                  "serialNo": "VA2170620672",
                  "home": 234419,
                  "batteryVoltageMilliV": 2952.578,
                  "insideTemperatureCentiC": 2023.6743,
                  "humidityMilliPerc": 491.22937,
                  "_deepnote_index_column": 2733
                },
                {
                  "ts": "2018-12-01",
                  "serialNo": "VA2170620672",
                  "home": 234419,
                  "batteryVoltageMilliV": 2945.7024,
                  "insideTemperatureCentiC": 2086.1157,
                  "humidityMilliPerc": 539.9545,
                  "_deepnote_index_column": 2734
                },
                {
                  "ts": "2018-12-02",
                  "serialNo": "VA2170620672",
                  "home": 234419,
                  "batteryVoltageMilliV": 2950.75,
                  "insideTemperatureCentiC": 2034.0491,
                  "humidityMilliPerc": 520.4107,
                  "_deepnote_index_column": 2735
                },
                {
                  "ts": "2018-12-03",
                  "serialNo": "VA2170620672",
                  "home": 234419,
                  "batteryVoltageMilliV": 2949.4375,
                  "insideTemperatureCentiC": 2061.5625,
                  "humidityMilliPerc": 601.1202,
                  "_deepnote_index_column": 2736
                },
                {
                  "ts": "2018-12-04",
                  "serialNo": "VA2170620672",
                  "home": 234419,
                  "batteryVoltageMilliV": 2939.7395,
                  "insideTemperatureCentiC": 2042.6884,
                  "humidityMilliPerc": 583.2325400000002,
                  "_deepnote_index_column": 2737
                },
                {
                  "ts": "2018-12-05",
                  "serialNo": "VA2170620672",
                  "home": 234419,
                  "batteryVoltageMilliV": 2934.9631,
                  "insideTemperatureCentiC": 2108.3364,
                  "humidityMilliPerc": 622.9493,
                  "_deepnote_index_column": 2738
                },
                {
                  "ts": "2018-12-06",
                  "serialNo": "VA2170620672",
                  "home": 234419,
                  "batteryVoltageMilliV": 2937.2598,
                  "insideTemperatureCentiC": 2072.554,
                  "humidityMilliPerc": 540.451,
                  "_deepnote_index_column": 2739
                },
                {
                  "ts": "2018-12-07",
                  "serialNo": "VA2170620672",
                  "home": 234419,
                  "batteryVoltageMilliV": 2936.7903,
                  "insideTemperatureCentiC": 2026.2849,
                  "humidityMilliPerc": 591.9301,
                  "_deepnote_index_column": 2740
                },
                {
                  "ts": "2018-12-08",
                  "serialNo": "VA2170620672",
                  "home": 234419,
                  "batteryVoltageMilliV": 2930.7957,
                  "insideTemperatureCentiC": 1954.2487,
                  "humidityMilliPerc": 518.43097,
                  "_deepnote_index_column": 2741
                },
                {
                  "ts": "2018-12-09",
                  "serialNo": "VA2170620672",
                  "home": 234419,
                  "batteryVoltageMilliV": 2935.8455,
                  "insideTemperatureCentiC": 2043.8455,
                  "humidityMilliPerc": 489.4058,
                  "_deepnote_index_column": 2742
                },
                {
                  "ts": "2018-12-10",
                  "serialNo": "VA2170620672",
                  "home": 234419,
                  "batteryVoltageMilliV": 2936.0466,
                  "insideTemperatureCentiC": 2130.1829,
                  "humidityMilliPerc": 526.6148,
                  "_deepnote_index_column": 2743
                },
                {
                  "ts": "2018-12-11",
                  "serialNo": "VA2170620672",
                  "home": 234419,
                  "batteryVoltageMilliV": 2934.3901,
                  "insideTemperatureCentiC": 2196.5923,
                  "humidityMilliPerc": 471.19165,
                  "_deepnote_index_column": 2744
                },
                {
                  "ts": "2018-12-12",
                  "serialNo": "VA2170620672",
                  "home": 234419,
                  "batteryVoltageMilliV": 2934.6821,
                  "insideTemperatureCentiC": 2111.1692,
                  "humidityMilliPerc": 552.3077,
                  "_deepnote_index_column": 2745
                },
                {
                  "ts": "2018-12-13",
                  "serialNo": "VA2170620672",
                  "home": 234419,
                  "batteryVoltageMilliV": 2931.8586,
                  "insideTemperatureCentiC": 2094.5654,
                  "humidityMilliPerc": 498.80212,
                  "_deepnote_index_column": 2746
                },
                {
                  "ts": "2018-12-14",
                  "serialNo": "VA2170620672",
                  "home": 234419,
                  "batteryVoltageMilliV": 2931.0342,
                  "insideTemperatureCentiC": 2129.3865,
                  "humidityMilliPerc": 471.27274000000006,
                  "_deepnote_index_column": 2747
                },
                {
                  "ts": "2018-12-15",
                  "serialNo": "VA2170620672",
                  "home": 234419,
                  "batteryVoltageMilliV": 2932.9924,
                  "insideTemperatureCentiC": 2071.901,
                  "humidityMilliPerc": 425.75192,
                  "_deepnote_index_column": 2748
                },
                {
                  "ts": "2018-12-16",
                  "serialNo": "VA2170620672",
                  "home": 234419,
                  "batteryVoltageMilliV": 2926.7437,
                  "insideTemperatureCentiC": 2229.4463,
                  "humidityMilliPerc": 447.91772,
                  "_deepnote_index_column": 2749
                },
                {
                  "ts": "2018-12-17",
                  "serialNo": "VA2170620672",
                  "home": 234419,
                  "batteryVoltageMilliV": 2927.35,
                  "insideTemperatureCentiC": 2071.519,
                  "humidityMilliPerc": 463.41772,
                  "_deepnote_index_column": 2750
                },
                {
                  "ts": "2018-12-18",
                  "serialNo": "VA2170620672",
                  "home": 234419,
                  "batteryVoltageMilliV": 2925.3574,
                  "insideTemperatureCentiC": 2020.5182,
                  "humidityMilliPerc": 469.70984,
                  "_deepnote_index_column": 2751
                },
                {
                  "ts": "2018-12-19",
                  "serialNo": "VA2170620672",
                  "home": 234419,
                  "batteryVoltageMilliV": 2927.5212,
                  "insideTemperatureCentiC": 2067.7412,
                  "humidityMilliPerc": 515.2092,
                  "_deepnote_index_column": 2752
                },
                {
                  "ts": "2018-12-20",
                  "serialNo": "VA2170620672",
                  "home": 234419,
                  "batteryVoltageMilliV": 2925.077,
                  "insideTemperatureCentiC": 1972.4038,
                  "humidityMilliPerc": 508.66345,
                  "_deepnote_index_column": 2753
                },
                {
                  "ts": "2018-12-21",
                  "serialNo": "VA2170620672",
                  "home": 234419,
                  "batteryVoltageMilliV": 2921.5532,
                  "insideTemperatureCentiC": 2012.9574,
                  "humidityMilliPerc": 539.04254,
                  "_deepnote_index_column": 2754
                },
                {
                  "ts": "2018-12-22",
                  "serialNo": "VA2170620672",
                  "home": 234419,
                  "batteryVoltageMilliV": 2921.3523,
                  "insideTemperatureCentiC": 2085.9897,
                  "humidityMilliPerc": 528.9326,
                  "_deepnote_index_column": 2755
                },
                {
                  "ts": "2018-12-23",
                  "serialNo": "VA2170620672",
                  "home": 234419,
                  "batteryVoltageMilliV": 2922.128,
                  "insideTemperatureCentiC": 1754.6628,
                  "humidityMilliPerc": 524.17444,
                  "_deepnote_index_column": 2756
                },
                {
                  "ts": "2018-12-24",
                  "serialNo": "VA2170620672",
                  "home": 234419,
                  "batteryVoltageMilliV": 2908.3604,
                  "insideTemperatureCentiC": 1617.221,
                  "humidityMilliPerc": 533.2325400000002,
                  "_deepnote_index_column": 2757
                },
                {
                  "ts": "2018-12-25",
                  "serialNo": "VA2170620672",
                  "home": 234419,
                  "batteryVoltageMilliV": 2915.6162,
                  "insideTemperatureCentiC": 1568.8256,
                  "humidityMilliPerc": 511.60464,
                  "_deepnote_index_column": 2758
                },
                {
                  "ts": "2018-12-26",
                  "serialNo": "VA2170620672",
                  "home": 234419,
                  "batteryVoltageMilliV": 2917.9412,
                  "insideTemperatureCentiC": 1435.6941,
                  "humidityMilliPerc": 490.3294,
                  "_deepnote_index_column": 2759
                },
                {
                  "ts": "2018-12-27",
                  "serialNo": "VA2170620672",
                  "home": 234419,
                  "batteryVoltageMilliV": 2916.3225,
                  "insideTemperatureCentiC": 1301.2151,
                  "humidityMilliPerc": 480.5914,
                  "_deepnote_index_column": 2760
                },
                {
                  "ts": "2018-12-28",
                  "serialNo": "VA2170620672",
                  "home": 234419,
                  "batteryVoltageMilliV": 2914.2708,
                  "insideTemperatureCentiC": 1214.2916,
                  "humidityMilliPerc": 489.78125,
                  "_deepnote_index_column": 2761
                },
                {
                  "ts": "2018-12-29",
                  "serialNo": "VA2170620672",
                  "home": 234419,
                  "batteryVoltageMilliV": 2912.7766,
                  "insideTemperatureCentiC": 1138.6702,
                  "humidityMilliPerc": 490.64893,
                  "_deepnote_index_column": 2762
                },
                {
                  "ts": "2018-12-30",
                  "serialNo": "VA2170620672",
                  "home": 234419,
                  "batteryVoltageMilliV": 2909.8843,
                  "insideTemperatureCentiC": 1087.4105,
                  "humidityMilliPerc": 510.70526,
                  "_deepnote_index_column": 2763
                },
                {
                  "ts": "2018-12-31",
                  "serialNo": "VA2170620672",
                  "home": 234419,
                  "batteryVoltageMilliV": 2903.0295,
                  "insideTemperatureCentiC": 1300.037,
                  "humidityMilliPerc": 501.93332,
                  "_deepnote_index_column": 2764
                },
                {
                  "ts": "2019-01-01",
                  "serialNo": "VA2170620672",
                  "home": 234419,
                  "batteryVoltageMilliV": 2904.9673,
                  "insideTemperatureCentiC": 2031.5425,
                  "humidityMilliPerc": 417.81046,
                  "_deepnote_index_column": 2765
                },
                {
                  "ts": "2019-01-02",
                  "serialNo": "VA2170620672",
                  "home": 234419,
                  "batteryVoltageMilliV": 2902.4507,
                  "insideTemperatureCentiC": 2194.9663,
                  "humidityMilliPerc": 458.52676,
                  "_deepnote_index_column": 2766
                },
                {
                  "ts": "2019-01-03",
                  "serialNo": "VA2170620672",
                  "home": 234419,
                  "batteryVoltageMilliV": 2903.639,
                  "insideTemperatureCentiC": 2280.9722,
                  "humidityMilliPerc": 387.7037,
                  "_deepnote_index_column": 2767
                },
                {
                  "ts": "2019-01-04",
                  "serialNo": "VA2170620672",
                  "home": 234419,
                  "batteryVoltageMilliV": 2901.9897,
                  "insideTemperatureCentiC": 2166.9897,
                  "humidityMilliPerc": 479.10544,
                  "_deepnote_index_column": 2768
                },
                {
                  "ts": "2019-01-05",
                  "serialNo": "VA2170620672",
                  "home": 234419,
                  "batteryVoltageMilliV": 2902.2666,
                  "insideTemperatureCentiC": 2016.9238,
                  "humidityMilliPerc": 450.73334000000006,
                  "_deepnote_index_column": 2769
                },
                {
                  "ts": "2019-01-06",
                  "serialNo": "VA2170620672",
                  "home": 234419,
                  "batteryVoltageMilliV": 2900.0757,
                  "insideTemperatureCentiC": 2202.2578,
                  "humidityMilliPerc": 439.78696,
                  "_deepnote_index_column": 2770
                },
                {
                  "ts": "2019-01-07",
                  "serialNo": "VA2170620672",
                  "home": 234419,
                  "batteryVoltageMilliV": 2897.0154,
                  "insideTemperatureCentiC": 2234.3005,
                  "humidityMilliPerc": 460.02148,
                  "_deepnote_index_column": 2771
                },
                {
                  "ts": "2019-01-08",
                  "serialNo": "VA2170620672",
                  "home": 234419,
                  "batteryVoltageMilliV": 2897.9346,
                  "insideTemperatureCentiC": 2077.0232,
                  "humidityMilliPerc": 516.88464,
                  "_deepnote_index_column": 2772
                },
                {
                  "ts": "2019-01-09",
                  "serialNo": "VA2170620672",
                  "home": 234419,
                  "batteryVoltageMilliV": 2898.2139,
                  "insideTemperatureCentiC": 2014.4585,
                  "humidityMilliPerc": 447.79477,
                  "_deepnote_index_column": 2773
                },
                {
                  "ts": "2019-01-10",
                  "serialNo": "VA2170620672",
                  "home": 234419,
                  "batteryVoltageMilliV": 2893.9358,
                  "insideTemperatureCentiC": 2130.7786,
                  "humidityMilliPerc": 485.29642,
                  "_deepnote_index_column": 2774
                },
                {
                  "ts": "2019-01-11",
                  "serialNo": "VA2170620672",
                  "home": 234419,
                  "batteryVoltageMilliV": 2898.0886,
                  "insideTemperatureCentiC": 2046.5696,
                  "humidityMilliPerc": 512.50635,
                  "_deepnote_index_column": 2775
                },
                {
                  "ts": "2019-01-12",
                  "serialNo": "VA2170620672",
                  "home": 234419,
                  "batteryVoltageMilliV": 2894.6118,
                  "insideTemperatureCentiC": 2037.6392,
                  "humidityMilliPerc": 437.07843,
                  "_deepnote_index_column": 2776
                },
                {
                  "ts": "2019-01-13",
                  "serialNo": "VA2170620672",
                  "home": 234419,
                  "batteryVoltageMilliV": 2891.7,
                  "insideTemperatureCentiC": 2319.85,
                  "humidityMilliPerc": 441.4,
                  "_deepnote_index_column": 2777
                },
                {
                  "ts": "2019-01-14",
                  "serialNo": "VA2170620672",
                  "home": 234419,
                  "batteryVoltageMilliV": 2888.6821,
                  "insideTemperatureCentiC": 2076.712,
                  "humidityMilliPerc": 485.51273,
                  "_deepnote_index_column": 2778
                },
                {
                  "ts": "2019-01-15",
                  "serialNo": "VA2170620672",
                  "home": 234419,
                  "batteryVoltageMilliV": 2886.634,
                  "insideTemperatureCentiC": 2159.4038,
                  "humidityMilliPerc": 462.85284,
                  "_deepnote_index_column": 2779
                },
                {
                  "ts": "2019-01-16",
                  "serialNo": "VA2170620672",
                  "home": 234419,
                  "batteryVoltageMilliV": 2885.9192,
                  "insideTemperatureCentiC": 2116.2463,
                  "humidityMilliPerc": 515.62866,
                  "_deepnote_index_column": 2780
                },
                {
                  "ts": "2019-01-17",
                  "serialNo": "VA2170620672",
                  "home": 234419,
                  "batteryVoltageMilliV": 2882.583,
                  "insideTemperatureCentiC": 1998.0718,
                  "humidityMilliPerc": 441.32736,
                  "_deepnote_index_column": 2781
                },
                {
                  "ts": "2019-01-18",
                  "serialNo": "VA2170620672",
                  "home": 234419,
                  "batteryVoltageMilliV": 2878.8677,
                  "insideTemperatureCentiC": 2121.8520000000008,
                  "humidityMilliPerc": 484.31128,
                  "_deepnote_index_column": 2782
                },
                {
                  "ts": "2019-01-19",
                  "serialNo": "VA2170620672",
                  "home": 234419,
                  "batteryVoltageMilliV": 2879.5593,
                  "insideTemperatureCentiC": 2073.8594,
                  "humidityMilliPerc": 447.66666,
                  "_deepnote_index_column": 2783
                },
                {
                  "ts": "2019-01-20",
                  "serialNo": "VA2170620672",
                  "home": 234419,
                  "batteryVoltageMilliV": 2877.3455,
                  "insideTemperatureCentiC": 2240.3455,
                  "humidityMilliPerc": 453.6877,
                  "_deepnote_index_column": 2784
                },
                {
                  "ts": "2019-01-21",
                  "serialNo": "VA2170620672",
                  "home": 234419,
                  "batteryVoltageMilliV": 2879.692,
                  "insideTemperatureCentiC": 2044.8293,
                  "humidityMilliPerc": 466.545,
                  "_deepnote_index_column": 2785
                },
                {
                  "ts": "2019-01-22",
                  "serialNo": "VA2170620672",
                  "home": 234419,
                  "batteryVoltageMilliV": 2870.8413,
                  "insideTemperatureCentiC": 1992.0278,
                  "humidityMilliPerc": 452.82938,
                  "_deepnote_index_column": 2786
                }
              ],
              "rows_bottom": [
                {
                  "ts": "2019-02-07",
                  "serialNo": "VA2170620672",
                  "home": 234419,
                  "batteryVoltageMilliV": 2840.9368,
                  "insideTemperatureCentiC": 2011.58,
                  "humidityMilliPerc": 448.05948,
                  "_deepnote_index_column": 2802
                },
                {
                  "ts": "2019-02-08",
                  "serialNo": "VA2170620672",
                  "home": 234419,
                  "batteryVoltageMilliV": 2843.8577,
                  "insideTemperatureCentiC": 2060.4722,
                  "humidityMilliPerc": 476.30902,
                  "_deepnote_index_column": 2803
                },
                {
                  "ts": "2019-02-09",
                  "serialNo": "VA2170620672",
                  "home": 234419,
                  "batteryVoltageMilliV": 2841.7102,
                  "insideTemperatureCentiC": 1963.1869,
                  "humidityMilliPerc": 487.47662,
                  "_deepnote_index_column": 2804
                },
                {
                  "ts": "2019-02-10",
                  "serialNo": "VA2170620672",
                  "home": 234419,
                  "batteryVoltageMilliV": 2838.5322,
                  "insideTemperatureCentiC": 2122.5564,
                  "humidityMilliPerc": 480.0121,
                  "_deepnote_index_column": 2805
                },
                {
                  "ts": "2019-02-11",
                  "serialNo": "VA2170620672",
                  "home": 234419,
                  "batteryVoltageMilliV": 2835.0278,
                  "insideTemperatureCentiC": 2163.993,
                  "humidityMilliPerc": 454.40765,
                  "_deepnote_index_column": 2806
                },
                {
                  "ts": "2019-02-12",
                  "serialNo": "VA2170620672",
                  "home": 234419,
                  "batteryVoltageMilliV": 2837.055,
                  "insideTemperatureCentiC": 2086.9536,
                  "humidityMilliPerc": 482.5696,
                  "_deepnote_index_column": 2807
                },
                {
                  "ts": "2019-02-13",
                  "serialNo": "VA2170620672",
                  "home": 234419,
                  "batteryVoltageMilliV": 2834.508,
                  "insideTemperatureCentiC": 2087.1814,
                  "humidityMilliPerc": 464.39517,
                  "_deepnote_index_column": 2808
                },
                {
                  "ts": "2019-02-14",
                  "serialNo": "VA2170620672",
                  "home": 234419,
                  "batteryVoltageMilliV": 2832.1218,
                  "insideTemperatureCentiC": 2175.8376,
                  "humidityMilliPerc": 485.1513,
                  "_deepnote_index_column": 2809
                },
                {
                  "ts": "2019-02-15",
                  "serialNo": "VA2170620672",
                  "home": 234419,
                  "batteryVoltageMilliV": 2829.5833,
                  "insideTemperatureCentiC": 2260.0344,
                  "humidityMilliPerc": 396.299,
                  "_deepnote_index_column": 2810
                },
                {
                  "ts": "2019-02-16",
                  "serialNo": "VA2170620672",
                  "home": 234419,
                  "batteryVoltageMilliV": 2829.2473,
                  "insideTemperatureCentiC": 2049.7422,
                  "humidityMilliPerc": 556.74225,
                  "_deepnote_index_column": 2811
                },
                {
                  "ts": "2019-02-17",
                  "serialNo": "VA2170620672",
                  "home": 234419,
                  "batteryVoltageMilliV": 2826.3909,
                  "insideTemperatureCentiC": 2015.6765,
                  "humidityMilliPerc": 526.5966,
                  "_deepnote_index_column": 2812
                },
                {
                  "ts": "2019-02-18",
                  "serialNo": "VA2170620672",
                  "home": 234419,
                  "batteryVoltageMilliV": 2821.1245,
                  "insideTemperatureCentiC": 2124.1929,
                  "humidityMilliPerc": 492.0723,
                  "_deepnote_index_column": 2813
                },
                {
                  "ts": "2019-02-19",
                  "serialNo": "VA2170620672",
                  "home": 234419,
                  "batteryVoltageMilliV": 2819.936,
                  "insideTemperatureCentiC": 2123.4065,
                  "humidityMilliPerc": 438.1096,
                  "_deepnote_index_column": 2814
                },
                {
                  "ts": "2019-02-20",
                  "serialNo": "VA2170620672",
                  "home": 234419,
                  "batteryVoltageMilliV": 2819.3916,
                  "insideTemperatureCentiC": 2006.8479,
                  "humidityMilliPerc": 541.20276,
                  "_deepnote_index_column": 2815
                },
                {
                  "ts": "2019-02-21",
                  "serialNo": "VA2170620672",
                  "home": 234419,
                  "batteryVoltageMilliV": 2815.9854,
                  "insideTemperatureCentiC": 2104.5684,
                  "humidityMilliPerc": 501.8487,
                  "_deepnote_index_column": 2816
                },
                {
                  "ts": "2019-02-22",
                  "serialNo": "VA2170620672",
                  "home": 234419,
                  "batteryVoltageMilliV": 2814.8390000000004,
                  "insideTemperatureCentiC": 2037.7122,
                  "humidityMilliPerc": 552.67804,
                  "_deepnote_index_column": 2817
                },
                {
                  "ts": "2019-02-23",
                  "serialNo": "VA2170620672",
                  "home": 234419,
                  "batteryVoltageMilliV": 2809.5,
                  "insideTemperatureCentiC": 1716.4457,
                  "humidityMilliPerc": 507.5435,
                  "_deepnote_index_column": 2818
                },
                {
                  "ts": "2019-02-24",
                  "serialNo": "VA2170620672",
                  "home": 234419,
                  "batteryVoltageMilliV": 2806.856,
                  "insideTemperatureCentiC": 1681.591,
                  "humidityMilliPerc": 464.49243,
                  "_deepnote_index_column": 2819
                },
                {
                  "ts": "2019-02-25",
                  "serialNo": "VA2170620672",
                  "home": 234419,
                  "batteryVoltageMilliV": 2808.3516,
                  "insideTemperatureCentiC": 1992.8369,
                  "humidityMilliPerc": 458.67392,
                  "_deepnote_index_column": 2820
                },
                {
                  "ts": "2019-02-26",
                  "serialNo": "VA2170620672",
                  "home": 234419,
                  "batteryVoltageMilliV": 2805.1501,
                  "insideTemperatureCentiC": 1982.8135,
                  "humidityMilliPerc": 512.68915,
                  "_deepnote_index_column": 2821
                },
                {
                  "ts": "2019-02-27",
                  "serialNo": "VA2170620672",
                  "home": 234419,
                  "batteryVoltageMilliV": 2802.925,
                  "insideTemperatureCentiC": 1953.8414,
                  "humidityMilliPerc": 527.8326,
                  "_deepnote_index_column": 2822
                },
                {
                  "ts": "2019-02-28",
                  "serialNo": "VA2170620672",
                  "home": 234419,
                  "batteryVoltageMilliV": 2803.4907,
                  "insideTemperatureCentiC": 2072.9438,
                  "humidityMilliPerc": 511.64487,
                  "_deepnote_index_column": 2823
                },
                {
                  "ts": "2019-03-01",
                  "serialNo": "VA2170620672",
                  "home": 234419,
                  "batteryVoltageMilliV": 2800.5574,
                  "insideTemperatureCentiC": 1948.0984,
                  "humidityMilliPerc": 514.45355,
                  "_deepnote_index_column": 2824
                },
                {
                  "ts": "2019-03-02",
                  "serialNo": "VA2170620672",
                  "home": 234419,
                  "batteryVoltageMilliV": 2798.211,
                  "insideTemperatureCentiC": 2116.7422,
                  "humidityMilliPerc": 501.54297,
                  "_deepnote_index_column": 2825
                },
                {
                  "ts": "2019-03-03",
                  "serialNo": "VA2170620672",
                  "home": 234419,
                  "batteryVoltageMilliV": 2793.3813,
                  "insideTemperatureCentiC": 2148.4124,
                  "humidityMilliPerc": 564.9766,
                  "_deepnote_index_column": 2826
                },
                {
                  "ts": "2019-03-04",
                  "serialNo": "VA2170620672",
                  "home": 234419,
                  "batteryVoltageMilliV": 2793.2527,
                  "insideTemperatureCentiC": 2048.6099,
                  "humidityMilliPerc": 583.0604,
                  "_deepnote_index_column": 2827
                },
                {
                  "ts": "2019-03-05",
                  "serialNo": "VA2170620672",
                  "home": 234419,
                  "batteryVoltageMilliV": 2791.5132,
                  "insideTemperatureCentiC": 2070.206,
                  "humidityMilliPerc": 545.1535,
                  "_deepnote_index_column": 2828
                },
                {
                  "ts": "2019-03-06",
                  "serialNo": "VA2170620672",
                  "home": 234419,
                  "batteryVoltageMilliV": 2791.4592,
                  "insideTemperatureCentiC": 2077.7383,
                  "humidityMilliPerc": 512.2151,
                  "_deepnote_index_column": 2829
                },
                {
                  "ts": "2019-03-07",
                  "serialNo": "VA2170620672",
                  "home": 234419,
                  "batteryVoltageMilliV": 2790.7234,
                  "insideTemperatureCentiC": 2052.0486,
                  "humidityMilliPerc": 595.1456,
                  "_deepnote_index_column": 2830
                },
                {
                  "ts": "2019-03-08",
                  "serialNo": "VA2170620672",
                  "home": 234419,
                  "batteryVoltageMilliV": 2788.867,
                  "insideTemperatureCentiC": 2045.1503,
                  "humidityMilliPerc": 500.2312,
                  "_deepnote_index_column": 2831
                },
                {
                  "ts": "2019-03-09",
                  "serialNo": "VA2170620672",
                  "home": 234419,
                  "batteryVoltageMilliV": 2787.7114,
                  "insideTemperatureCentiC": 2078.5205,
                  "humidityMilliPerc": 522.81445,
                  "_deepnote_index_column": 2832
                },
                {
                  "ts": "2019-03-10",
                  "serialNo": "VA2170620672",
                  "home": 234419,
                  "batteryVoltageMilliV": 2778.3047,
                  "insideTemperatureCentiC": 2086.208,
                  "humidityMilliPerc": 540.4721,
                  "_deepnote_index_column": 2833
                },
                {
                  "ts": "2019-03-11",
                  "serialNo": "VA2170620672",
                  "home": 234419,
                  "batteryVoltageMilliV": 2782.1675,
                  "insideTemperatureCentiC": 2132.564,
                  "humidityMilliPerc": 554.98236,
                  "_deepnote_index_column": 2834
                },
                {
                  "ts": "2019-03-12",
                  "serialNo": "VA2170620672",
                  "home": 234419,
                  "batteryVoltageMilliV": 2780.4773,
                  "insideTemperatureCentiC": 2016.9799,
                  "humidityMilliPerc": 651.3216,
                  "_deepnote_index_column": 2835
                },
                {
                  "ts": "2019-03-13",
                  "serialNo": "VA2170620672",
                  "home": 234419,
                  "batteryVoltageMilliV": 2778.6667,
                  "insideTemperatureCentiC": 2061.3147,
                  "humidityMilliPerc": 597.5741,
                  "_deepnote_index_column": 2836
                },
                {
                  "ts": "2019-03-14",
                  "serialNo": "VA2170620672",
                  "home": 234419,
                  "batteryVoltageMilliV": 2776.6943,
                  "insideTemperatureCentiC": 2135.6064,
                  "humidityMilliPerc": 514.6759,
                  "_deepnote_index_column": 2837
                },
                {
                  "ts": "2019-03-15",
                  "serialNo": "VA2170620672",
                  "home": 234419,
                  "batteryVoltageMilliV": 2769.913,
                  "insideTemperatureCentiC": 2107.9077,
                  "humidityMilliPerc": 507.7935,
                  "_deepnote_index_column": 2838
                },
                {
                  "ts": "2019-03-16",
                  "serialNo": "VA2170620672",
                  "home": 234419,
                  "batteryVoltageMilliV": 2772.0552,
                  "insideTemperatureCentiC": 2014.9226,
                  "humidityMilliPerc": 556.23755,
                  "_deepnote_index_column": 2839
                },
                {
                  "ts": "2019-03-17",
                  "serialNo": "VA2170620672",
                  "home": 234419,
                  "batteryVoltageMilliV": 2768.4204,
                  "insideTemperatureCentiC": 2062.5266,
                  "humidityMilliPerc": 573.13275,
                  "_deepnote_index_column": 2840
                },
                {
                  "ts": "2019-03-18",
                  "serialNo": "VA2170620672",
                  "home": 234419,
                  "batteryVoltageMilliV": 2765.359000000001,
                  "insideTemperatureCentiC": 2180.5745,
                  "humidityMilliPerc": 513.2,
                  "_deepnote_index_column": 2841
                },
                {
                  "ts": "2019-03-19",
                  "serialNo": "VA2170620672",
                  "home": 234419,
                  "batteryVoltageMilliV": 2767.827,
                  "insideTemperatureCentiC": 2151.377,
                  "humidityMilliPerc": 559.11536,
                  "_deepnote_index_column": 2842
                },
                {
                  "ts": "2019-03-20",
                  "serialNo": "VA2170620672",
                  "home": 234419,
                  "batteryVoltageMilliV": 2763.7185,
                  "insideTemperatureCentiC": 2128.1006,
                  "humidityMilliPerc": 525.804,
                  "_deepnote_index_column": 2843
                },
                {
                  "ts": "2019-03-21",
                  "serialNo": "VA2170620672",
                  "home": 234419,
                  "batteryVoltageMilliV": 2757.3472,
                  "insideTemperatureCentiC": 2135.7698,
                  "humidityMilliPerc": 575.5272,
                  "_deepnote_index_column": 2844
                },
                {
                  "ts": "2019-03-22",
                  "serialNo": "VA2170620672",
                  "home": 234419,
                  "batteryVoltageMilliV": 2757.5168,
                  "insideTemperatureCentiC": 2146.7302,
                  "humidityMilliPerc": 564.2191,
                  "_deepnote_index_column": 2845
                },
                {
                  "ts": "2019-03-23",
                  "serialNo": "VA2170620672",
                  "home": 234419,
                  "batteryVoltageMilliV": 2750.8494,
                  "insideTemperatureCentiC": 2154.1326,
                  "humidityMilliPerc": 536.43976,
                  "_deepnote_index_column": 2846
                },
                {
                  "ts": "2019-03-24",
                  "serialNo": "VA2170620672",
                  "home": 234419,
                  "batteryVoltageMilliV": 2765.1667,
                  "insideTemperatureCentiC": 1806.386,
                  "humidityMilliPerc": 549.8596,
                  "_deepnote_index_column": 2847
                },
                {
                  "ts": "2019-03-25",
                  "serialNo": "VA2170620672",
                  "home": 234419,
                  "batteryVoltageMilliV": 2753.0586,
                  "insideTemperatureCentiC": 2113.973,
                  "humidityMilliPerc": 581.536,
                  "_deepnote_index_column": 2848
                },
                {
                  "ts": "2019-03-26",
                  "serialNo": "VA2170620672",
                  "home": 234419,
                  "batteryVoltageMilliV": 2751.67,
                  "insideTemperatureCentiC": 2102.3726,
                  "humidityMilliPerc": 506.82547,
                  "_deepnote_index_column": 2849
                },
                {
                  "ts": "2019-03-27",
                  "serialNo": "VA2170620672",
                  "home": 234419,
                  "batteryVoltageMilliV": 2749.7788,
                  "insideTemperatureCentiC": 2109.5574,
                  "humidityMilliPerc": 623.7192,
                  "_deepnote_index_column": 2850
                },
                {
                  "ts": "2019-03-28",
                  "serialNo": "VA2170620672",
                  "home": 234419,
                  "batteryVoltageMilliV": 2747.4856,
                  "insideTemperatureCentiC": 2102.7144,
                  "humidityMilliPerc": 564.56,
                  "_deepnote_index_column": 2851
                },
                {
                  "ts": "2019-03-29",
                  "serialNo": "VA2170620672",
                  "home": 234419,
                  "batteryVoltageMilliV": 2745.765,
                  "insideTemperatureCentiC": 2119.636,
                  "humidityMilliPerc": 610.18896,
                  "_deepnote_index_column": 2852
                },
                {
                  "ts": "2019-03-30",
                  "serialNo": "VA2170620672",
                  "home": 234419,
                  "batteryVoltageMilliV": 2746.6367,
                  "insideTemperatureCentiC": 2337.6367,
                  "humidityMilliPerc": 515.2461,
                  "_deepnote_index_column": 2853
                },
                {
                  "ts": "2019-03-31",
                  "serialNo": "VA2170620672",
                  "home": 234419,
                  "batteryVoltageMilliV": 2743.276,
                  "insideTemperatureCentiC": 2044.1034,
                  "humidityMilliPerc": 543.8276,
                  "_deepnote_index_column": 2854
                },
                {
                  "ts": "2019-04-01",
                  "serialNo": "VA2170620672",
                  "home": 234419,
                  "batteryVoltageMilliV": 2740.3027,
                  "insideTemperatureCentiC": 2156.4604,
                  "humidityMilliPerc": 615.8991,
                  "_deepnote_index_column": 2855
                },
                {
                  "ts": "2019-04-02",
                  "serialNo": "VA2170620672",
                  "home": 234419,
                  "batteryVoltageMilliV": 2739.6697,
                  "insideTemperatureCentiC": 2123.8572,
                  "humidityMilliPerc": 517.95087,
                  "_deepnote_index_column": 2856
                },
                {
                  "ts": "2019-04-03",
                  "serialNo": "VA2170620672",
                  "home": 234419,
                  "batteryVoltageMilliV": 2740.1357,
                  "insideTemperatureCentiC": 1948.2928,
                  "humidityMilliPerc": 667.3786,
                  "_deepnote_index_column": 2857
                },
                {
                  "ts": "2019-04-04",
                  "serialNo": "VA2170620672",
                  "home": 234419,
                  "batteryVoltageMilliV": 2736.3052,
                  "insideTemperatureCentiC": 2149.169,
                  "humidityMilliPerc": 537.1315,
                  "_deepnote_index_column": 2858
                },
                {
                  "ts": "2019-04-05",
                  "serialNo": "VA2170620672",
                  "home": 234419,
                  "batteryVoltageMilliV": 2736.4634,
                  "insideTemperatureCentiC": 2139.4,
                  "humidityMilliPerc": 586.7268,
                  "_deepnote_index_column": 2859
                },
                {
                  "ts": "2019-04-06",
                  "serialNo": "VA2170620672",
                  "home": 234419,
                  "batteryVoltageMilliV": 2735.8674,
                  "insideTemperatureCentiC": 1794.024,
                  "humidityMilliPerc": 521.2651,
                  "_deepnote_index_column": 2860
                },
                {
                  "ts": "2019-04-07",
                  "serialNo": "VA2170620672",
                  "home": 234419,
                  "batteryVoltageMilliV": 2733.943,
                  "insideTemperatureCentiC": 1746.8456,
                  "humidityMilliPerc": 524.53656,
                  "_deepnote_index_column": 2861
                },
                {
                  "ts": "2019-04-08",
                  "serialNo": "VA2170620672",
                  "home": 234419,
                  "batteryVoltageMilliV": 2723.426,
                  "insideTemperatureCentiC": 1979.0986,
                  "humidityMilliPerc": 539.4933,
                  "_deepnote_index_column": 2862
                },
                {
                  "ts": "2019-04-09",
                  "serialNo": "VA2170620672",
                  "home": 234419,
                  "batteryVoltageMilliV": 2727.5134,
                  "insideTemperatureCentiC": 1948.5133,
                  "humidityMilliPerc": 614.24,
                  "_deepnote_index_column": 2863
                },
                {
                  "ts": "2019-04-10",
                  "serialNo": "VA2170620672",
                  "home": 234419,
                  "batteryVoltageMilliV": 2724.6685,
                  "insideTemperatureCentiC": 2011.4686,
                  "humidityMilliPerc": 550.7371,
                  "_deepnote_index_column": 2864
                },
                {
                  "ts": "2019-04-11",
                  "serialNo": "VA2170620672",
                  "home": 234419,
                  "batteryVoltageMilliV": 2725.566,
                  "insideTemperatureCentiC": 2074.5935,
                  "humidityMilliPerc": 585.1098599999998,
                  "_deepnote_index_column": 2865
                },
                {
                  "ts": "2019-04-12",
                  "serialNo": "VA2170620672",
                  "home": 234419,
                  "batteryVoltageMilliV": 2728.4077,
                  "insideTemperatureCentiC": 2089.9673,
                  "humidityMilliPerc": 503.3587,
                  "_deepnote_index_column": 2866
                },
                {
                  "ts": "2019-04-13",
                  "serialNo": "VA2170620672",
                  "home": 234419,
                  "batteryVoltageMilliV": 2723.5635,
                  "insideTemperatureCentiC": 1918.5,
                  "humidityMilliPerc": 574.7857,
                  "_deepnote_index_column": 2867
                },
                {
                  "ts": "2019-04-14",
                  "serialNo": "VA2170620672",
                  "home": 234419,
                  "batteryVoltageMilliV": 2730.0217,
                  "insideTemperatureCentiC": 1682.6414,
                  "humidityMilliPerc": 538.1195700000002,
                  "_deepnote_index_column": 2868
                },
                {
                  "ts": "2019-04-15",
                  "serialNo": "VA2170620672",
                  "home": 234419,
                  "batteryVoltageMilliV": 2723.1220000000008,
                  "insideTemperatureCentiC": 1592.2805,
                  "humidityMilliPerc": 528.14636,
                  "_deepnote_index_column": 2869
                },
                {
                  "ts": "2019-04-16",
                  "serialNo": "VA2170620672",
                  "home": 234419,
                  "batteryVoltageMilliV": 2721.5903,
                  "insideTemperatureCentiC": 1537.6385,
                  "humidityMilliPerc": 525.6988,
                  "_deepnote_index_column": 2870
                },
                {
                  "ts": "2019-04-17",
                  "serialNo": "VA2170620672",
                  "home": 234419,
                  "batteryVoltageMilliV": 2718.7234,
                  "insideTemperatureCentiC": 1515.6277,
                  "humidityMilliPerc": 530.6489,
                  "_deepnote_index_column": 2871
                },
                {
                  "ts": "2019-04-18",
                  "serialNo": "VA2170620672",
                  "home": 234419,
                  "batteryVoltageMilliV": 2719.0652,
                  "insideTemperatureCentiC": 1502.7391,
                  "humidityMilliPerc": 531.1304299999998,
                  "_deepnote_index_column": 2872
                },
                {
                  "ts": "2019-04-19",
                  "serialNo": "VA2170620672",
                  "home": 234419,
                  "batteryVoltageMilliV": 2715.559,
                  "insideTemperatureCentiC": 1510.7957,
                  "humidityMilliPerc": 533.215,
                  "_deepnote_index_column": 2873
                },
                {
                  "ts": "2019-04-20",
                  "serialNo": "VA2170620672",
                  "home": 234419,
                  "batteryVoltageMilliV": 2715.078,
                  "insideTemperatureCentiC": 1514.2222,
                  "humidityMilliPerc": 534.4889,
                  "_deepnote_index_column": 2874
                },
                {
                  "ts": "2019-04-21",
                  "serialNo": "VA2170620672",
                  "home": 234419,
                  "batteryVoltageMilliV": 2712.5518,
                  "insideTemperatureCentiC": 1517.3219,
                  "humidityMilliPerc": 528.4023,
                  "_deepnote_index_column": 2875
                },
                {
                  "ts": "2019-04-22",
                  "serialNo": "VA2170620672",
                  "home": 234419,
                  "batteryVoltageMilliV": 2711.2644,
                  "insideTemperatureCentiC": 1537.6897,
                  "humidityMilliPerc": 525.7241,
                  "_deepnote_index_column": 2876
                },
                {
                  "ts": "2019-04-23",
                  "serialNo": "VA2170620672",
                  "home": 234419,
                  "batteryVoltageMilliV": 2710.3720000000008,
                  "insideTemperatureCentiC": 1536.814,
                  "humidityMilliPerc": 531.3023,
                  "_deepnote_index_column": 2877
                },
                {
                  "ts": "2019-04-24",
                  "serialNo": "VA2170620672",
                  "home": 234419,
                  "batteryVoltageMilliV": 2698.5662,
                  "insideTemperatureCentiC": 1554.024,
                  "humidityMilliPerc": 538.8675,
                  "_deepnote_index_column": 2878
                },
                {
                  "ts": "2019-04-25",
                  "serialNo": "VA2170620672",
                  "home": 234419,
                  "batteryVoltageMilliV": 2709.647,
                  "insideTemperatureCentiC": 1661.8823,
                  "humidityMilliPerc": 531.35297,
                  "_deepnote_index_column": 2879
                },
                {
                  "ts": "2019-04-26",
                  "serialNo": "VA2170620672",
                  "home": 234419,
                  "batteryVoltageMilliV": 2708.6106,
                  "insideTemperatureCentiC": 2143.1892,
                  "humidityMilliPerc": 456.8143,
                  "_deepnote_index_column": 2880
                },
                {
                  "ts": "2019-04-27",
                  "serialNo": "VA2170620672",
                  "home": 234419,
                  "batteryVoltageMilliV": 2707.635,
                  "insideTemperatureCentiC": 2039.3175,
                  "humidityMilliPerc": 478.39154,
                  "_deepnote_index_column": 2881
                },
                {
                  "ts": "2019-04-28",
                  "serialNo": "VA2170620672",
                  "home": 234419,
                  "batteryVoltageMilliV": 2709.7239,
                  "insideTemperatureCentiC": 2054.105,
                  "humidityMilliPerc": 461.5746,
                  "_deepnote_index_column": 2882
                },
                {
                  "ts": "2019-04-29",
                  "serialNo": "VA2170620672",
                  "home": 234419,
                  "batteryVoltageMilliV": 2709.738,
                  "insideTemperatureCentiC": 2118.262,
                  "humidityMilliPerc": 454.8988,
                  "_deepnote_index_column": 2883
                },
                {
                  "ts": "2019-04-30",
                  "serialNo": "VA2170620672",
                  "home": 234419,
                  "batteryVoltageMilliV": 2705.8604,
                  "insideTemperatureCentiC": 2107.1162,
                  "humidityMilliPerc": 590.307,
                  "_deepnote_index_column": 2884
                }
              ]
            },
            "text/plain": "              ts      serialNo    home  batteryVoltageMilliV  \\\n2704  2018-11-01  VA2170620672  234419             3027.3408   \n2705  2018-11-02  VA2170620672  234419             3020.7388   \n2706  2018-11-03  VA2170620672  234419             3018.9058   \n2707  2018-11-04  VA2170620672  234419             3016.7278   \n2708  2018-11-05  VA2170620672  234419             3010.3440   \n...          ...           ...     ...                   ...   \n2880  2019-04-26  VA2170620672  234419             2708.6106   \n2881  2019-04-27  VA2170620672  234419             2707.6350   \n2882  2019-04-28  VA2170620672  234419             2709.7239   \n2883  2019-04-29  VA2170620672  234419             2709.7380   \n2884  2019-04-30  VA2170620672  234419             2705.8604   \n\n      insideTemperatureCentiC  humidityMilliPerc  \n2704                2003.8884          553.89044  \n2705                2295.3186          556.75180  \n2706                1958.0773          593.60450  \n2707                1805.6438          607.29280  \n2708                2009.0709          579.35640  \n...                       ...                ...  \n2880                2143.1892          456.81430  \n2881                2039.3175          478.39154  \n2882                2054.1050          461.57460  \n2883                2118.2620          454.89880  \n2884                2107.1162          590.30700  \n\n[181 rows x 6 columns]",
            "text/html": "<div>\n<style scoped>\n    .dataframe tbody tr th:only-of-type {\n        vertical-align: middle;\n    }\n\n    .dataframe tbody tr th {\n        vertical-align: top;\n    }\n\n    .dataframe thead th {\n        text-align: right;\n    }\n</style>\n<table border=\"1\" class=\"dataframe\">\n  <thead>\n    <tr style=\"text-align: right;\">\n      <th></th>\n      <th>ts</th>\n      <th>serialNo</th>\n      <th>home</th>\n      <th>batteryVoltageMilliV</th>\n      <th>insideTemperatureCentiC</th>\n      <th>humidityMilliPerc</th>\n    </tr>\n  </thead>\n  <tbody>\n    <tr>\n      <th>2704</th>\n      <td>2018-11-01</td>\n      <td>VA2170620672</td>\n      <td>234419</td>\n      <td>3027.3408</td>\n      <td>2003.8884</td>\n      <td>553.89044</td>\n    </tr>\n    <tr>\n      <th>2705</th>\n      <td>2018-11-02</td>\n      <td>VA2170620672</td>\n      <td>234419</td>\n      <td>3020.7388</td>\n      <td>2295.3186</td>\n      <td>556.75180</td>\n    </tr>\n    <tr>\n      <th>2706</th>\n      <td>2018-11-03</td>\n      <td>VA2170620672</td>\n      <td>234419</td>\n      <td>3018.9058</td>\n      <td>1958.0773</td>\n      <td>593.60450</td>\n    </tr>\n    <tr>\n      <th>2707</th>\n      <td>2018-11-04</td>\n      <td>VA2170620672</td>\n      <td>234419</td>\n      <td>3016.7278</td>\n      <td>1805.6438</td>\n      <td>607.29280</td>\n    </tr>\n    <tr>\n      <th>2708</th>\n      <td>2018-11-05</td>\n      <td>VA2170620672</td>\n      <td>234419</td>\n      <td>3010.3440</td>\n      <td>2009.0709</td>\n      <td>579.35640</td>\n    </tr>\n    <tr>\n      <th>...</th>\n      <td>...</td>\n      <td>...</td>\n      <td>...</td>\n      <td>...</td>\n      <td>...</td>\n      <td>...</td>\n    </tr>\n    <tr>\n      <th>2880</th>\n      <td>2019-04-26</td>\n      <td>VA2170620672</td>\n      <td>234419</td>\n      <td>2708.6106</td>\n      <td>2143.1892</td>\n      <td>456.81430</td>\n    </tr>\n    <tr>\n      <th>2881</th>\n      <td>2019-04-27</td>\n      <td>VA2170620672</td>\n      <td>234419</td>\n      <td>2707.6350</td>\n      <td>2039.3175</td>\n      <td>478.39154</td>\n    </tr>\n    <tr>\n      <th>2882</th>\n      <td>2019-04-28</td>\n      <td>VA2170620672</td>\n      <td>234419</td>\n      <td>2709.7239</td>\n      <td>2054.1050</td>\n      <td>461.57460</td>\n    </tr>\n    <tr>\n      <th>2883</th>\n      <td>2019-04-29</td>\n      <td>VA2170620672</td>\n      <td>234419</td>\n      <td>2709.7380</td>\n      <td>2118.2620</td>\n      <td>454.89880</td>\n    </tr>\n    <tr>\n      <th>2884</th>\n      <td>2019-04-30</td>\n      <td>VA2170620672</td>\n      <td>234419</td>\n      <td>2705.8604</td>\n      <td>2107.1162</td>\n      <td>590.30700</td>\n    </tr>\n  </tbody>\n</table>\n<p>181 rows × 6 columns</p>\n</div>"
          },
          "metadata": {}
        }
      ]
    },
    {
      "cell_type": "code",
      "metadata": {
        "tags": [],
        "cell_id": "00016-b216f4cd-aa0c-4ce4-a480-dfd32ebcf41d",
        "deepnote_to_be_reexecuted": false,
        "source_hash": "e1497389",
        "execution_millis": 0,
        "execution_start": 1614599338589,
        "deepnote_cell_type": "code"
      },
      "source": "df_battery = df_battery[df_battery.ts >= '2018-11-01']",
      "execution_count": null,
      "outputs": []
    },
    {
      "cell_type": "code",
      "metadata": {
        "tags": [],
        "cell_id": "00017-3beafee0-e5bf-4bb6-8381-db6b51e83d40",
        "deepnote_to_be_reexecuted": false,
        "source_hash": "5b611f0a",
        "execution_start": 1614599381617,
        "execution_millis": 0,
        "deepnote_cell_type": "code"
      },
      "source": "df_battery = df_battery[df_battery.ts <= '2018-11-31']",
      "execution_count": null,
      "outputs": []
    },
    {
      "cell_type": "code",
      "metadata": {
        "tags": [],
        "cell_id": "00018-91c6ce82-72d5-4d17-9ee2-53dcc8cc20af",
        "deepnote_to_be_reexecuted": false,
        "source_hash": "728866f7",
        "execution_millis": 9,
        "execution_start": 1614599428407,
        "deepnote_cell_type": "code"
      },
      "source": "df_battery.humidityMilliPerc.median()",
      "execution_count": null,
      "outputs": [
        {
          "output_type": "execute_result",
          "execution_count": 37,
          "data": {
            "text/plain": "566.3562"
          },
          "metadata": {}
        }
      ]
    },
    {
      "cell_type": "code",
      "metadata": {
        "tags": [],
        "cell_id": "00019-f47cd640-4ce9-47d4-9005-8cf05665168f",
        "deepnote_to_be_reexecuted": false,
        "source_hash": "e232494a",
        "execution_millis": 1,
        "execution_start": 1614599571285,
        "deepnote_cell_type": "code"
      },
      "source": "df_battery_2 = df[df.serialNo=='VA2048854528']",
      "execution_count": null,
      "outputs": []
    },
    {
      "cell_type": "code",
      "metadata": {
        "tags": [],
        "cell_id": "00020-cac8b9e6-ee4a-4777-8692-91f30b4734ad",
        "deepnote_to_be_reexecuted": false,
        "source_hash": "22acb49c",
        "execution_start": 1614599486853,
        "execution_millis": 50,
        "deepnote_cell_type": "code"
      },
      "source": "df_battery_2",
      "execution_count": null,
      "outputs": [
        {
          "output_type": "execute_result",
          "execution_count": 39,
          "data": {
            "application/vnd.deepnote.dataframe.v2+json": {
              "row_count": 211,
              "column_count": 6,
              "columns": [
                {
                  "name": "ts",
                  "dtype": "object",
                  "stats": {
                    "unique_count": 211,
                    "nan_count": 0,
                    "categories": [
                      {
                        "name": "2018-10-01",
                        "count": 1
                      },
                      {
                        "name": "2018-10-02",
                        "count": 1
                      },
                      {
                        "name": "209 others",
                        "count": 209
                      }
                    ]
                  }
                },
                {
                  "name": "serialNo",
                  "dtype": "object",
                  "stats": {
                    "unique_count": 1,
                    "nan_count": 0,
                    "categories": [
                      {
                        "name": "VA2048854528",
                        "count": 211
                      }
                    ]
                  }
                },
                {
                  "name": "home",
                  "dtype": "int64",
                  "stats": {
                    "unique_count": 1,
                    "nan_count": 0,
                    "min": 174376,
                    "max": 174376,
                    "histogram": [
                      {
                        "bin_start": 174375.5,
                        "bin_end": 174375.6,
                        "count": 0
                      },
                      {
                        "bin_start": 174375.6,
                        "bin_end": 174375.7,
                        "count": 0
                      },
                      {
                        "bin_start": 174375.7,
                        "bin_end": 174375.8,
                        "count": 0
                      },
                      {
                        "bin_start": 174375.8,
                        "bin_end": 174375.9,
                        "count": 0
                      },
                      {
                        "bin_start": 174375.9,
                        "bin_end": 174376,
                        "count": 0
                      },
                      {
                        "bin_start": 174376,
                        "bin_end": 174376.1,
                        "count": 211
                      },
                      {
                        "bin_start": 174376.1,
                        "bin_end": 174376.2,
                        "count": 0
                      },
                      {
                        "bin_start": 174376.2,
                        "bin_end": 174376.3,
                        "count": 0
                      },
                      {
                        "bin_start": 174376.3,
                        "bin_end": 174376.4,
                        "count": 0
                      },
                      {
                        "bin_start": 174376.4,
                        "bin_end": 174376.5,
                        "count": 0
                      }
                    ]
                  }
                },
                {
                  "name": "batteryVoltageMilliV",
                  "dtype": "float64",
                  "stats": {
                    "unique_count": 207,
                    "nan_count": 0,
                    "min": 2657.4443,
                    "max": 3236.406,
                    "histogram": [
                      {
                        "bin_start": 2657.4443,
                        "bin_end": 2715.34047,
                        "count": 32
                      },
                      {
                        "bin_start": 2715.34047,
                        "bin_end": 2773.23664,
                        "count": 36
                      },
                      {
                        "bin_start": 2773.23664,
                        "bin_end": 2831.13281,
                        "count": 23
                      },
                      {
                        "bin_start": 2831.13281,
                        "bin_end": 2889.02898,
                        "count": 31
                      },
                      {
                        "bin_start": 2889.02898,
                        "bin_end": 2946.92515,
                        "count": 13
                      },
                      {
                        "bin_start": 2946.92515,
                        "bin_end": 3004.82132,
                        "count": 27
                      },
                      {
                        "bin_start": 3004.82132,
                        "bin_end": 3062.71749,
                        "count": 20
                      },
                      {
                        "bin_start": 3062.71749,
                        "bin_end": 3120.61366,
                        "count": 15
                      },
                      {
                        "bin_start": 3120.61366,
                        "bin_end": 3178.50983,
                        "count": 8
                      },
                      {
                        "bin_start": 3178.50983,
                        "bin_end": 3236.406,
                        "count": 6
                      }
                    ]
                  }
                },
                {
                  "name": "insideTemperatureCentiC",
                  "dtype": "float64",
                  "stats": {
                    "unique_count": 211,
                    "nan_count": 0,
                    "min": 1016.5741,
                    "max": 2285,
                    "histogram": [
                      {
                        "bin_start": 1016.5741,
                        "bin_end": 1143.41669,
                        "count": 10
                      },
                      {
                        "bin_start": 1143.41669,
                        "bin_end": 1270.25928,
                        "count": 3
                      },
                      {
                        "bin_start": 1270.25928,
                        "bin_end": 1397.10187,
                        "count": 0
                      },
                      {
                        "bin_start": 1397.10187,
                        "bin_end": 1523.9444600000002,
                        "count": 5
                      },
                      {
                        "bin_start": 1523.9444600000002,
                        "bin_end": 1650.78705,
                        "count": 0
                      },
                      {
                        "bin_start": 1650.78705,
                        "bin_end": 1777.62964,
                        "count": 3
                      },
                      {
                        "bin_start": 1777.62964,
                        "bin_end": 1904.47223,
                        "count": 15
                      },
                      {
                        "bin_start": 1904.47223,
                        "bin_end": 2031.31482,
                        "count": 80
                      },
                      {
                        "bin_start": 2031.31482,
                        "bin_end": 2158.15741,
                        "count": 90
                      },
                      {
                        "bin_start": 2158.15741,
                        "bin_end": 2285,
                        "count": 5
                      }
                    ]
                  }
                },
                {
                  "name": "humidityMilliPerc",
                  "dtype": "float64",
                  "stats": {
                    "unique_count": 211,
                    "nan_count": 0,
                    "min": 511.8913,
                    "max": 743.3819599999998,
                    "histogram": [
                      {
                        "bin_start": 511.8913,
                        "bin_end": 535.040366,
                        "count": 10
                      },
                      {
                        "bin_start": 535.040366,
                        "bin_end": 558.189432,
                        "count": 20
                      },
                      {
                        "bin_start": 558.189432,
                        "bin_end": 581.338498,
                        "count": 23
                      },
                      {
                        "bin_start": 581.338498,
                        "bin_end": 604.4875639999999,
                        "count": 41
                      },
                      {
                        "bin_start": 604.4875639999999,
                        "bin_end": 627.63663,
                        "count": 37
                      },
                      {
                        "bin_start": 627.63663,
                        "bin_end": 650.7856959999999,
                        "count": 39
                      },
                      {
                        "bin_start": 650.7856959999999,
                        "bin_end": 673.9347619999999,
                        "count": 18
                      },
                      {
                        "bin_start": 673.9347619999999,
                        "bin_end": 697.0838279999998,
                        "count": 11
                      },
                      {
                        "bin_start": 697.0838279999998,
                        "bin_end": 720.2328939999999,
                        "count": 5
                      },
                      {
                        "bin_start": 720.2328939999999,
                        "bin_end": 743.3819599999998,
                        "count": 7
                      }
                    ]
                  }
                },
                {
                  "name": "_deepnote_index_column",
                  "dtype": "int64"
                }
              ],
              "rows_top": [
                {
                  "ts": "2018-10-01",
                  "serialNo": "VA2048854528",
                  "home": 174376,
                  "batteryVoltageMilliV": 2892.423,
                  "insideTemperatureCentiC": 2090.359,
                  "humidityMilliPerc": 630.07263,
                  "_deepnote_index_column": 212
                },
                {
                  "ts": "2018-10-02",
                  "serialNo": "VA2048854528",
                  "home": 174376,
                  "batteryVoltageMilliV": 2889.5461,
                  "insideTemperatureCentiC": 2065.7566,
                  "humidityMilliPerc": 664.4934,
                  "_deepnote_index_column": 213
                },
                {
                  "ts": "2018-10-03",
                  "serialNo": "VA2048854528",
                  "home": 174376,
                  "batteryVoltageMilliV": 2885.0188,
                  "insideTemperatureCentiC": 2147.3062,
                  "humidityMilliPerc": 680.4375,
                  "_deepnote_index_column": 214
                },
                {
                  "ts": "2018-10-04",
                  "serialNo": "VA2048854528",
                  "home": 174376,
                  "batteryVoltageMilliV": 2883.8855,
                  "insideTemperatureCentiC": 2120.373,
                  "humidityMilliPerc": 663.1542400000002,
                  "_deepnote_index_column": 215
                },
                {
                  "ts": "2018-10-05",
                  "serialNo": "VA2048854528",
                  "home": 174376,
                  "batteryVoltageMilliV": 2883,
                  "insideTemperatureCentiC": 2131.5460000000007,
                  "humidityMilliPerc": 682.68713,
                  "_deepnote_index_column": 216
                },
                {
                  "ts": "2018-10-06",
                  "serialNo": "VA2048854528",
                  "home": 174376,
                  "batteryVoltageMilliV": 2882.8044,
                  "insideTemperatureCentiC": 2140.3533,
                  "humidityMilliPerc": 693.5326,
                  "_deepnote_index_column": 217
                },
                {
                  "ts": "2018-10-07",
                  "serialNo": "VA2048854528",
                  "home": 174376,
                  "batteryVoltageMilliV": 2883,
                  "insideTemperatureCentiC": 2125.9417,
                  "humidityMilliPerc": 673.27356,
                  "_deepnote_index_column": 218
                },
                {
                  "ts": "2018-10-08",
                  "serialNo": "VA2048854528",
                  "home": 174376,
                  "batteryVoltageMilliV": 2883,
                  "insideTemperatureCentiC": 2077.884,
                  "humidityMilliPerc": 686.4033,
                  "_deepnote_index_column": 219
                },
                {
                  "ts": "2018-10-09",
                  "serialNo": "VA2048854528",
                  "home": 174376,
                  "batteryVoltageMilliV": 2879.952,
                  "insideTemperatureCentiC": 2116.7112,
                  "humidityMilliPerc": 693.6096,
                  "_deepnote_index_column": 220
                },
                {
                  "ts": "2018-10-10",
                  "serialNo": "VA2048854528",
                  "home": 174376,
                  "batteryVoltageMilliV": 2867.4673,
                  "insideTemperatureCentiC": 2106.541,
                  "humidityMilliPerc": 713.1229,
                  "_deepnote_index_column": 221
                },
                {
                  "ts": "2018-10-11",
                  "serialNo": "VA2048854528",
                  "home": 174376,
                  "batteryVoltageMilliV": 2864.1,
                  "insideTemperatureCentiC": 2153.45,
                  "humidityMilliPerc": 732.01,
                  "_deepnote_index_column": 222
                },
                {
                  "ts": "2018-10-12",
                  "serialNo": "VA2048854528",
                  "home": 174376,
                  "batteryVoltageMilliV": 2861.0735,
                  "insideTemperatureCentiC": 2151.8257,
                  "humidityMilliPerc": 723.9725,
                  "_deepnote_index_column": 223
                },
                {
                  "ts": "2018-10-13",
                  "serialNo": "VA2048854528",
                  "home": 174376,
                  "batteryVoltageMilliV": 2858.7065,
                  "insideTemperatureCentiC": 2285,
                  "humidityMilliPerc": 700.31525,
                  "_deepnote_index_column": 224
                },
                {
                  "ts": "2018-10-14",
                  "serialNo": "VA2048854528",
                  "home": 174376,
                  "batteryVoltageMilliV": 2861.2908,
                  "insideTemperatureCentiC": 2227.0496,
                  "humidityMilliPerc": 730.78015,
                  "_deepnote_index_column": 225
                },
                {
                  "ts": "2018-10-15",
                  "serialNo": "VA2048854528",
                  "home": 174376,
                  "batteryVoltageMilliV": 2868.9128,
                  "insideTemperatureCentiC": 2091.279,
                  "humidityMilliPerc": 735.8837,
                  "_deepnote_index_column": 226
                },
                {
                  "ts": "2018-10-16",
                  "serialNo": "VA2048854528",
                  "home": 174376,
                  "batteryVoltageMilliV": 2874.7083,
                  "insideTemperatureCentiC": 2137.6597,
                  "humidityMilliPerc": 743.3819599999998,
                  "_deepnote_index_column": 227
                },
                {
                  "ts": "2018-10-17",
                  "serialNo": "VA2048854528",
                  "home": 174376,
                  "batteryVoltageMilliV": 2879.0115,
                  "insideTemperatureCentiC": 2130.5342,
                  "humidityMilliPerc": 741.1648,
                  "_deepnote_index_column": 228
                },
                {
                  "ts": "2018-10-18",
                  "serialNo": "VA2048854528",
                  "home": 174376,
                  "batteryVoltageMilliV": 2880.5105,
                  "insideTemperatureCentiC": 2112.2761,
                  "humidityMilliPerc": 730.3281,
                  "_deepnote_index_column": 229
                },
                {
                  "ts": "2018-10-19",
                  "serialNo": "VA2048854528",
                  "home": 174376,
                  "batteryVoltageMilliV": 2877.1028,
                  "insideTemperatureCentiC": 2063.9688,
                  "humidityMilliPerc": 711,
                  "_deepnote_index_column": 230
                },
                {
                  "ts": "2018-10-20",
                  "serialNo": "VA2048854528",
                  "home": 174376,
                  "batteryVoltageMilliV": 2868.6807,
                  "insideTemperatureCentiC": 2134.3745,
                  "humidityMilliPerc": 687.4919,
                  "_deepnote_index_column": 231
                },
                {
                  "ts": "2018-10-21",
                  "serialNo": "VA2048854528",
                  "home": 174376,
                  "batteryVoltageMilliV": 2858.738,
                  "insideTemperatureCentiC": 2147.4905,
                  "humidityMilliPerc": 697.7762,
                  "_deepnote_index_column": 232
                },
                {
                  "ts": "2018-10-22",
                  "serialNo": "VA2048854528",
                  "home": 174376,
                  "batteryVoltageMilliV": 2838.2136,
                  "insideTemperatureCentiC": 2084.2227,
                  "humidityMilliPerc": 704.55,
                  "_deepnote_index_column": 233
                },
                {
                  "ts": "2018-10-23",
                  "serialNo": "VA2048854528",
                  "home": 174376,
                  "batteryVoltageMilliV": 2827.7913,
                  "insideTemperatureCentiC": 2122.4824,
                  "humidityMilliPerc": 654.78235,
                  "_deepnote_index_column": 234
                },
                {
                  "ts": "2018-10-24",
                  "serialNo": "VA2048854528",
                  "home": 174376,
                  "batteryVoltageMilliV": 2819.1494,
                  "insideTemperatureCentiC": 2172.617,
                  "humidityMilliPerc": 652.88477,
                  "_deepnote_index_column": 235
                },
                {
                  "ts": "2018-10-25",
                  "serialNo": "VA2048854528",
                  "home": 174376,
                  "batteryVoltageMilliV": 2813.7292,
                  "insideTemperatureCentiC": 2127.2947,
                  "humidityMilliPerc": 622.1637,
                  "_deepnote_index_column": 236
                },
                {
                  "ts": "2018-10-26",
                  "serialNo": "VA2048854528",
                  "home": 174376,
                  "batteryVoltageMilliV": 2808.0583,
                  "insideTemperatureCentiC": 2139.554,
                  "humidityMilliPerc": 607.61224,
                  "_deepnote_index_column": 237
                },
                {
                  "ts": "2018-10-27",
                  "serialNo": "VA2048854528",
                  "home": 174376,
                  "batteryVoltageMilliV": 2803.675,
                  "insideTemperatureCentiC": 2127.2976,
                  "humidityMilliPerc": 597.14545,
                  "_deepnote_index_column": 238
                },
                {
                  "ts": "2018-10-28",
                  "serialNo": "VA2048854528",
                  "home": 174376,
                  "batteryVoltageMilliV": 2799.9392,
                  "insideTemperatureCentiC": 2137.2385,
                  "humidityMilliPerc": 576.987,
                  "_deepnote_index_column": 239
                },
                {
                  "ts": "2018-10-29",
                  "serialNo": "VA2048854528",
                  "home": 174376,
                  "batteryVoltageMilliV": 2794.0676,
                  "insideTemperatureCentiC": 2116.3657,
                  "humidityMilliPerc": 555.8203,
                  "_deepnote_index_column": 240
                },
                {
                  "ts": "2018-10-30",
                  "serialNo": "VA2048854528",
                  "home": 174376,
                  "batteryVoltageMilliV": 2789.4626,
                  "insideTemperatureCentiC": 2103.0706,
                  "humidityMilliPerc": 545.1627,
                  "_deepnote_index_column": 241
                },
                {
                  "ts": "2018-10-31",
                  "serialNo": "VA2048854528",
                  "home": 174376,
                  "batteryVoltageMilliV": 2785.3665,
                  "insideTemperatureCentiC": 2139.1858,
                  "humidityMilliPerc": 561.5649,
                  "_deepnote_index_column": 242
                },
                {
                  "ts": "2018-11-01",
                  "serialNo": "VA2048854528",
                  "home": 174376,
                  "batteryVoltageMilliV": 2779.693,
                  "insideTemperatureCentiC": 2055.0664,
                  "humidityMilliPerc": 598.8133,
                  "_deepnote_index_column": 243
                },
                {
                  "ts": "2018-11-02",
                  "serialNo": "VA2048854528",
                  "home": 174376,
                  "batteryVoltageMilliV": 2775.6020000000008,
                  "insideTemperatureCentiC": 1954.9718,
                  "humidityMilliPerc": 597.6514,
                  "_deepnote_index_column": 244
                },
                {
                  "ts": "2018-11-03",
                  "serialNo": "VA2048854528",
                  "home": 174376,
                  "batteryVoltageMilliV": 2762.5215,
                  "insideTemperatureCentiC": 1515.1989999999996,
                  "humidityMilliPerc": 612.7527,
                  "_deepnote_index_column": 245
                },
                {
                  "ts": "2018-11-04",
                  "serialNo": "VA2048854528",
                  "home": 174376,
                  "batteryVoltageMilliV": 2757.388,
                  "insideTemperatureCentiC": 1868.2916,
                  "humidityMilliPerc": 578.1378,
                  "_deepnote_index_column": 246
                },
                {
                  "ts": "2018-11-05",
                  "serialNo": "VA2048854528",
                  "home": 174376,
                  "batteryVoltageMilliV": 2757.0444,
                  "insideTemperatureCentiC": 2101.3857,
                  "humidityMilliPerc": 606.82495,
                  "_deepnote_index_column": 247
                },
                {
                  "ts": "2018-11-06",
                  "serialNo": "VA2048854528",
                  "home": 174376,
                  "batteryVoltageMilliV": 2752.7324,
                  "insideTemperatureCentiC": 2121.7993,
                  "humidityMilliPerc": 633.2293,
                  "_deepnote_index_column": 248
                },
                {
                  "ts": "2018-11-07",
                  "serialNo": "VA2048854528",
                  "home": 174376,
                  "batteryVoltageMilliV": 2748.0476,
                  "insideTemperatureCentiC": 2121.813,
                  "humidityMilliPerc": 637.81635,
                  "_deepnote_index_column": 249
                },
                {
                  "ts": "2018-11-08",
                  "serialNo": "VA2048854528",
                  "home": 174376,
                  "batteryVoltageMilliV": 2744.253,
                  "insideTemperatureCentiC": 2118.2246,
                  "humidityMilliPerc": 624.69385,
                  "_deepnote_index_column": 250
                },
                {
                  "ts": "2018-11-09",
                  "serialNo": "VA2048854528",
                  "home": 174376,
                  "batteryVoltageMilliV": 2742.2405,
                  "insideTemperatureCentiC": 2010.73,
                  "humidityMilliPerc": 641.5992,
                  "_deepnote_index_column": 251
                },
                {
                  "ts": "2018-11-10",
                  "serialNo": "VA2048854528",
                  "home": 174376,
                  "batteryVoltageMilliV": 2742,
                  "insideTemperatureCentiC": 1493.1342,
                  "humidityMilliPerc": 678.7439,
                  "_deepnote_index_column": 252
                },
                {
                  "ts": "2018-11-11",
                  "serialNo": "VA2048854528",
                  "home": 174376,
                  "batteryVoltageMilliV": 2736.109000000001,
                  "insideTemperatureCentiC": 1948.504,
                  "humidityMilliPerc": 642.0968,
                  "_deepnote_index_column": 253
                },
                {
                  "ts": "2018-11-12",
                  "serialNo": "VA2048854528",
                  "home": 174376,
                  "batteryVoltageMilliV": 2739.1323,
                  "insideTemperatureCentiC": 2085.7139,
                  "humidityMilliPerc": 643.9908,
                  "_deepnote_index_column": 254
                },
                {
                  "ts": "2018-11-13",
                  "serialNo": "VA2048854528",
                  "home": 174376,
                  "batteryVoltageMilliV": 2730.8657,
                  "insideTemperatureCentiC": 2101.6,
                  "humidityMilliPerc": 635.81195,
                  "_deepnote_index_column": 255
                },
                {
                  "ts": "2018-11-14",
                  "serialNo": "VA2048854528",
                  "home": 174376,
                  "batteryVoltageMilliV": 2722.3174,
                  "insideTemperatureCentiC": 2115.9807,
                  "humidityMilliPerc": 634.3013,
                  "_deepnote_index_column": 256
                },
                {
                  "ts": "2018-11-15",
                  "serialNo": "VA2048854528",
                  "home": 174376,
                  "batteryVoltageMilliV": 2719.6013,
                  "insideTemperatureCentiC": 2157.9595,
                  "humidityMilliPerc": 652.9764,
                  "_deepnote_index_column": 257
                },
                {
                  "ts": "2018-11-16",
                  "serialNo": "VA2048854528",
                  "home": 174376,
                  "batteryVoltageMilliV": 2714.3823,
                  "insideTemperatureCentiC": 2038.0541,
                  "humidityMilliPerc": 670.695,
                  "_deepnote_index_column": 258
                },
                {
                  "ts": "2018-11-17",
                  "serialNo": "VA2048854528",
                  "home": 174376,
                  "batteryVoltageMilliV": 2709.7036,
                  "insideTemperatureCentiC": 2118.1787,
                  "humidityMilliPerc": 632.94116,
                  "_deepnote_index_column": 259
                },
                {
                  "ts": "2018-11-18",
                  "serialNo": "VA2048854528",
                  "home": 174376,
                  "batteryVoltageMilliV": 2708.9978,
                  "insideTemperatureCentiC": 2161.4143,
                  "humidityMilliPerc": 609.1144400000002,
                  "_deepnote_index_column": 260
                },
                {
                  "ts": "2018-11-19",
                  "serialNo": "VA2048854528",
                  "home": 174376,
                  "batteryVoltageMilliV": 2707.621,
                  "insideTemperatureCentiC": 2058.7292,
                  "humidityMilliPerc": 605.24786,
                  "_deepnote_index_column": 261
                },
                {
                  "ts": "2018-11-20",
                  "serialNo": "VA2048854528",
                  "home": 174376,
                  "batteryVoltageMilliV": 2705.7217,
                  "insideTemperatureCentiC": 2134.7764,
                  "humidityMilliPerc": 562.9902,
                  "_deepnote_index_column": 262
                },
                {
                  "ts": "2018-11-21",
                  "serialNo": "VA2048854528",
                  "home": 174376,
                  "batteryVoltageMilliV": 2714.8518,
                  "insideTemperatureCentiC": 2009.2864,
                  "humidityMilliPerc": 546.5728,
                  "_deepnote_index_column": 263
                },
                {
                  "ts": "2018-11-22",
                  "serialNo": "VA2048854528",
                  "home": 174376,
                  "batteryVoltageMilliV": 2721.277,
                  "insideTemperatureCentiC": 1152.241,
                  "humidityMilliPerc": 626.1084599999998,
                  "_deepnote_index_column": 264
                },
                {
                  "ts": "2018-11-23",
                  "serialNo": "VA2048854528",
                  "home": 174376,
                  "batteryVoltageMilliV": 2718.6519,
                  "insideTemperatureCentiC": 1801.1538,
                  "humidityMilliPerc": 589.5506,
                  "_deepnote_index_column": 265
                },
                {
                  "ts": "2018-11-24",
                  "serialNo": "VA2048854528",
                  "home": 174376,
                  "batteryVoltageMilliV": 2720.4788,
                  "insideTemperatureCentiC": 2128.8403,
                  "humidityMilliPerc": 570.37103,
                  "_deepnote_index_column": 266
                },
                {
                  "ts": "2018-11-25",
                  "serialNo": "VA2048854528",
                  "home": 174376,
                  "batteryVoltageMilliV": 2720.9778,
                  "insideTemperatureCentiC": 1974.9236,
                  "humidityMilliPerc": 626.1242,
                  "_deepnote_index_column": 267
                },
                {
                  "ts": "2018-11-26",
                  "serialNo": "VA2048854528",
                  "home": 174376,
                  "batteryVoltageMilliV": 2720.7214,
                  "insideTemperatureCentiC": 1960.4747,
                  "humidityMilliPerc": 629.61395,
                  "_deepnote_index_column": 268
                },
                {
                  "ts": "2018-11-27",
                  "serialNo": "VA2048854528",
                  "home": 174376,
                  "batteryVoltageMilliV": 2719.4807,
                  "insideTemperatureCentiC": 1958.1045,
                  "humidityMilliPerc": 632.4179,
                  "_deepnote_index_column": 269
                },
                {
                  "ts": "2018-11-28",
                  "serialNo": "VA2048854528",
                  "home": 174376,
                  "batteryVoltageMilliV": 2718.293,
                  "insideTemperatureCentiC": 2056.1084,
                  "humidityMilliPerc": 644.7229,
                  "_deepnote_index_column": 270
                },
                {
                  "ts": "2018-11-29",
                  "serialNo": "VA2048854528",
                  "home": 174376,
                  "batteryVoltageMilliV": 2718.455,
                  "insideTemperatureCentiC": 2031.3024,
                  "humidityMilliPerc": 643.1096,
                  "_deepnote_index_column": 271
                },
                {
                  "ts": "2018-11-30",
                  "serialNo": "VA2048854528",
                  "home": 174376,
                  "batteryVoltageMilliV": 2716.9832,
                  "insideTemperatureCentiC": 2021.9327,
                  "humidityMilliPerc": 636.67786,
                  "_deepnote_index_column": 272
                },
                {
                  "ts": "2018-12-01",
                  "serialNo": "VA2048854528",
                  "home": 174376,
                  "batteryVoltageMilliV": 2715.9705,
                  "insideTemperatureCentiC": 2069.25,
                  "humidityMilliPerc": 626.2039,
                  "_deepnote_index_column": 273
                },
                {
                  "ts": "2018-12-02",
                  "serialNo": "VA2048854528",
                  "home": 174376,
                  "batteryVoltageMilliV": 2716.547,
                  "insideTemperatureCentiC": 2084.4321,
                  "humidityMilliPerc": 654.6655,
                  "_deepnote_index_column": 274
                },
                {
                  "ts": "2018-12-03",
                  "serialNo": "VA2048854528",
                  "home": 174376,
                  "batteryVoltageMilliV": 2716.4763,
                  "insideTemperatureCentiC": 2034.6182,
                  "humidityMilliPerc": 674.8473,
                  "_deepnote_index_column": 275
                },
                {
                  "ts": "2018-12-04",
                  "serialNo": "VA2048854528",
                  "home": 174376,
                  "batteryVoltageMilliV": 2709.991,
                  "insideTemperatureCentiC": 1960.045,
                  "humidityMilliPerc": 659.1261,
                  "_deepnote_index_column": 276
                },
                {
                  "ts": "2018-12-05",
                  "serialNo": "VA2048854528",
                  "home": 174376,
                  "batteryVoltageMilliV": 2708.7004,
                  "insideTemperatureCentiC": 2057.228,
                  "humidityMilliPerc": 642.6515,
                  "_deepnote_index_column": 277
                },
                {
                  "ts": "2018-12-06",
                  "serialNo": "VA2048854528",
                  "home": 174376,
                  "batteryVoltageMilliV": 2708.4895,
                  "insideTemperatureCentiC": 2089.451,
                  "humidityMilliPerc": 648.9466,
                  "_deepnote_index_column": 278
                },
                {
                  "ts": "2018-12-07",
                  "serialNo": "VA2048854528",
                  "home": 174376,
                  "batteryVoltageMilliV": 2694.9258,
                  "insideTemperatureCentiC": 2100.5,
                  "humidityMilliPerc": 641.6318,
                  "_deepnote_index_column": 279
                },
                {
                  "ts": "2018-12-08",
                  "serialNo": "VA2048854528",
                  "home": 174376,
                  "batteryVoltageMilliV": 2691.1108,
                  "insideTemperatureCentiC": 2278.4666,
                  "humidityMilliPerc": 592.4596,
                  "_deepnote_index_column": 280
                },
                {
                  "ts": "2018-12-09",
                  "serialNo": "VA2048854528",
                  "home": 174376,
                  "batteryVoltageMilliV": 2963.9778,
                  "insideTemperatureCentiC": 2040.4778,
                  "humidityMilliPerc": 635.4185,
                  "_deepnote_index_column": 281
                },
                {
                  "ts": "2018-12-10",
                  "serialNo": "VA2048854528",
                  "home": 174376,
                  "batteryVoltageMilliV": 3236.406,
                  "insideTemperatureCentiC": 1978.8218,
                  "humidityMilliPerc": 640.49506,
                  "_deepnote_index_column": 282
                },
                {
                  "ts": "2018-12-11",
                  "serialNo": "VA2048854528",
                  "home": 174376,
                  "batteryVoltageMilliV": 3225.3857,
                  "insideTemperatureCentiC": 1951.0143,
                  "humidityMilliPerc": 605.9171,
                  "_deepnote_index_column": 283
                },
                {
                  "ts": "2018-12-12",
                  "serialNo": "VA2048854528",
                  "home": 174376,
                  "batteryVoltageMilliV": 3213.2253,
                  "insideTemperatureCentiC": 2030.1771,
                  "humidityMilliPerc": 614.3994,
                  "_deepnote_index_column": 284
                },
                {
                  "ts": "2018-12-13",
                  "serialNo": "VA2048854528",
                  "home": 174376,
                  "batteryVoltageMilliV": 3203.5027,
                  "insideTemperatureCentiC": 1922.2273,
                  "humidityMilliPerc": 607.16846,
                  "_deepnote_index_column": 285
                },
                {
                  "ts": "2018-12-14",
                  "serialNo": "VA2048854528",
                  "home": 174376,
                  "batteryVoltageMilliV": 3192.5537,
                  "insideTemperatureCentiC": 1973.8201,
                  "humidityMilliPerc": 585.9182,
                  "_deepnote_index_column": 286
                },
                {
                  "ts": "2018-12-15",
                  "serialNo": "VA2048854528",
                  "home": 174376,
                  "batteryVoltageMilliV": 3182.2773,
                  "insideTemperatureCentiC": 1990.3,
                  "humidityMilliPerc": 587.43225,
                  "_deepnote_index_column": 287
                },
                {
                  "ts": "2018-12-16",
                  "serialNo": "VA2048854528",
                  "home": 174376,
                  "batteryVoltageMilliV": 3172.0588,
                  "insideTemperatureCentiC": 2014.2288,
                  "humidityMilliPerc": 606.4085,
                  "_deepnote_index_column": 288
                },
                {
                  "ts": "2018-12-17",
                  "serialNo": "VA2048854528",
                  "home": 174376,
                  "batteryVoltageMilliV": 3165.6667,
                  "insideTemperatureCentiC": 2026.2233,
                  "humidityMilliPerc": 606.20386,
                  "_deepnote_index_column": 289
                },
                {
                  "ts": "2018-12-18",
                  "serialNo": "VA2048854528",
                  "home": 174376,
                  "batteryVoltageMilliV": 3164,
                  "insideTemperatureCentiC": 1975.3799,
                  "humidityMilliPerc": 621.2325400000002,
                  "_deepnote_index_column": 290
                },
                {
                  "ts": "2018-12-19",
                  "serialNo": "VA2048854528",
                  "home": 174376,
                  "batteryVoltageMilliV": 3160.4885,
                  "insideTemperatureCentiC": 1980.114,
                  "humidityMilliPerc": 634.54395,
                  "_deepnote_index_column": 291
                },
                {
                  "ts": "2018-12-20",
                  "serialNo": "VA2048854528",
                  "home": 174376,
                  "batteryVoltageMilliV": 3147.996,
                  "insideTemperatureCentiC": 1879.3529,
                  "humidityMilliPerc": 631.26666,
                  "_deepnote_index_column": 292
                },
                {
                  "ts": "2018-12-21",
                  "serialNo": "VA2048854528",
                  "home": 174376,
                  "batteryVoltageMilliV": 3137.7407,
                  "insideTemperatureCentiC": 1984.5927,
                  "humidityMilliPerc": 629,
                  "_deepnote_index_column": 293
                },
                {
                  "ts": "2018-12-22",
                  "serialNo": "VA2048854528",
                  "home": 174376,
                  "batteryVoltageMilliV": 3130.5508,
                  "insideTemperatureCentiC": 1944.5701,
                  "humidityMilliPerc": 653.0773,
                  "_deepnote_index_column": 294
                }
              ],
              "rows_bottom": [
                {
                  "ts": "2019-02-06",
                  "serialNo": "VA2048854528",
                  "home": 174376,
                  "batteryVoltageMilliV": 2968.0305,
                  "insideTemperatureCentiC": 1030.8877,
                  "humidityMilliPerc": 629.5816,
                  "_deepnote_index_column": 340
                },
                {
                  "ts": "2019-02-07",
                  "serialNo": "VA2048854528",
                  "home": 174376,
                  "batteryVoltageMilliV": 2968.371,
                  "insideTemperatureCentiC": 1030.2062,
                  "humidityMilliPerc": 645.9382,
                  "_deepnote_index_column": 341
                },
                {
                  "ts": "2019-02-08",
                  "serialNo": "VA2048854528",
                  "home": 174376,
                  "batteryVoltageMilliV": 2967.9895,
                  "insideTemperatureCentiC": 1023.54736,
                  "humidityMilliPerc": 658.46313,
                  "_deepnote_index_column": 342
                },
                {
                  "ts": "2019-02-09",
                  "serialNo": "VA2048854528",
                  "home": 174376,
                  "batteryVoltageMilliV": 2967.7048,
                  "insideTemperatureCentiC": 1029.1229,
                  "humidityMilliPerc": 657.7951,
                  "_deepnote_index_column": 343
                },
                {
                  "ts": "2019-02-10",
                  "serialNo": "VA2048854528",
                  "home": 174376,
                  "batteryVoltageMilliV": 2955.3816,
                  "insideTemperatureCentiC": 1016.5741,
                  "humidityMilliPerc": 646.9444599999998,
                  "_deepnote_index_column": 344
                },
                {
                  "ts": "2019-02-11",
                  "serialNo": "VA2048854528",
                  "home": 174376,
                  "batteryVoltageMilliV": 2950.612,
                  "insideTemperatureCentiC": 1018.65515,
                  "humidityMilliPerc": 626.12933,
                  "_deepnote_index_column": 345
                },
                {
                  "ts": "2019-02-12",
                  "serialNo": "VA2048854528",
                  "home": 174376,
                  "batteryVoltageMilliV": 2950.9885,
                  "insideTemperatureCentiC": 1024.7241,
                  "humidityMilliPerc": 633.1322,
                  "_deepnote_index_column": 346
                },
                {
                  "ts": "2019-02-13",
                  "serialNo": "VA2048854528",
                  "home": 174376,
                  "batteryVoltageMilliV": 2953.6,
                  "insideTemperatureCentiC": 1031.5636,
                  "humidityMilliPerc": 659.7636,
                  "_deepnote_index_column": 347
                },
                {
                  "ts": "2019-02-14",
                  "serialNo": "VA2048854528",
                  "home": 174376,
                  "batteryVoltageMilliV": 2952.8765,
                  "insideTemperatureCentiC": 1401.1713,
                  "humidityMilliPerc": 630.4303,
                  "_deepnote_index_column": 348
                },
                {
                  "ts": "2019-02-15",
                  "serialNo": "VA2048854528",
                  "home": 174376,
                  "batteryVoltageMilliV": 2955.3315,
                  "insideTemperatureCentiC": 2005.5168,
                  "humidityMilliPerc": 588.89044,
                  "_deepnote_index_column": 349
                },
                {
                  "ts": "2019-02-16",
                  "serialNo": "VA2048854528",
                  "home": 174376,
                  "batteryVoltageMilliV": 2959.5068,
                  "insideTemperatureCentiC": 2099.4036,
                  "humidityMilliPerc": 638.67584,
                  "_deepnote_index_column": 350
                },
                {
                  "ts": "2019-02-17",
                  "serialNo": "VA2048854528",
                  "home": 174376,
                  "batteryVoltageMilliV": 2963.1436,
                  "insideTemperatureCentiC": 2019.787,
                  "humidityMilliPerc": 653.52313,
                  "_deepnote_index_column": 351
                },
                {
                  "ts": "2019-02-18",
                  "serialNo": "VA2048854528",
                  "home": 174376,
                  "batteryVoltageMilliV": 2963.7773,
                  "insideTemperatureCentiC": 2028.1979,
                  "humidityMilliPerc": 652.65015,
                  "_deepnote_index_column": 352
                },
                {
                  "ts": "2019-02-19",
                  "serialNo": "VA2048854528",
                  "home": 174376,
                  "batteryVoltageMilliV": 2962.6567,
                  "insideTemperatureCentiC": 2039.1702,
                  "humidityMilliPerc": 611.74927,
                  "_deepnote_index_column": 353
                },
                {
                  "ts": "2019-02-20",
                  "serialNo": "VA2048854528",
                  "home": 174376,
                  "batteryVoltageMilliV": 2962.3198,
                  "insideTemperatureCentiC": 2054.7827,
                  "humidityMilliPerc": 602.3851,
                  "_deepnote_index_column": 354
                },
                {
                  "ts": "2019-02-21",
                  "serialNo": "VA2048854528",
                  "home": 174376,
                  "batteryVoltageMilliV": 2960.9578,
                  "insideTemperatureCentiC": 2053.5142,
                  "humidityMilliPerc": 604.5493,
                  "_deepnote_index_column": 355
                },
                {
                  "ts": "2019-02-22",
                  "serialNo": "VA2048854528",
                  "home": 174376,
                  "batteryVoltageMilliV": 2949.0723,
                  "insideTemperatureCentiC": 2081.3745,
                  "humidityMilliPerc": 612.5189,
                  "_deepnote_index_column": 356
                },
                {
                  "ts": "2019-02-23",
                  "serialNo": "VA2048854528",
                  "home": 174376,
                  "batteryVoltageMilliV": 2941.9412,
                  "insideTemperatureCentiC": 1990.9117,
                  "humidityMilliPerc": 651.2353,
                  "_deepnote_index_column": 357
                },
                {
                  "ts": "2019-02-24",
                  "serialNo": "VA2048854528",
                  "home": 174376,
                  "batteryVoltageMilliV": 2936.034,
                  "insideTemperatureCentiC": 2124.6497,
                  "humidityMilliPerc": 617.72107,
                  "_deepnote_index_column": 358
                },
                {
                  "ts": "2019-02-25",
                  "serialNo": "VA2048854528",
                  "home": 174376,
                  "batteryVoltageMilliV": 2929.3557,
                  "insideTemperatureCentiC": 2077.6409,
                  "humidityMilliPerc": 616.2007,
                  "_deepnote_index_column": 359
                },
                {
                  "ts": "2019-02-26",
                  "serialNo": "VA2048854528",
                  "home": 174376,
                  "batteryVoltageMilliV": 2926.087,
                  "insideTemperatureCentiC": 2113.8628,
                  "humidityMilliPerc": 597.40137,
                  "_deepnote_index_column": 360
                },
                {
                  "ts": "2019-02-27",
                  "serialNo": "VA2048854528",
                  "home": 174376,
                  "batteryVoltageMilliV": 2920.2664,
                  "insideTemperatureCentiC": 2106.861,
                  "humidityMilliPerc": 612.38995,
                  "_deepnote_index_column": 361
                },
                {
                  "ts": "2019-02-28",
                  "serialNo": "VA2048854528",
                  "home": 174376,
                  "batteryVoltageMilliV": 2916.4417,
                  "insideTemperatureCentiC": 2095.3994,
                  "humidityMilliPerc": 601.6607700000002,
                  "_deepnote_index_column": 362
                },
                {
                  "ts": "2019-03-01",
                  "serialNo": "VA2048854528",
                  "home": 174376,
                  "batteryVoltageMilliV": 2910.3132,
                  "insideTemperatureCentiC": 2076.5872,
                  "humidityMilliPerc": 582.2064,
                  "_deepnote_index_column": 363
                },
                {
                  "ts": "2019-03-02",
                  "serialNo": "VA2048854528",
                  "home": 174376,
                  "batteryVoltageMilliV": 2906.8435,
                  "insideTemperatureCentiC": 2046.3457,
                  "humidityMilliPerc": 582.3909,
                  "_deepnote_index_column": 364
                },
                {
                  "ts": "2019-03-03",
                  "serialNo": "VA2048854528",
                  "home": 174376,
                  "batteryVoltageMilliV": 2902.3577,
                  "insideTemperatureCentiC": 2066.478,
                  "humidityMilliPerc": 577.5949,
                  "_deepnote_index_column": 365
                },
                {
                  "ts": "2019-03-04",
                  "serialNo": "VA2048854528",
                  "home": 174376,
                  "batteryVoltageMilliV": 2896.3540000000007,
                  "insideTemperatureCentiC": 2002.6942,
                  "humidityMilliPerc": 563.92786,
                  "_deepnote_index_column": 366
                },
                {
                  "ts": "2019-03-05",
                  "serialNo": "VA2048854528",
                  "home": 174376,
                  "batteryVoltageMilliV": 2890.0490000000004,
                  "insideTemperatureCentiC": 2043.4509,
                  "humidityMilliPerc": 537.87115,
                  "_deepnote_index_column": 367
                },
                {
                  "ts": "2019-03-06",
                  "serialNo": "VA2048854528",
                  "home": 174376,
                  "batteryVoltageMilliV": 2886.3223,
                  "insideTemperatureCentiC": 2050,
                  "humidityMilliPerc": 545.3792,
                  "_deepnote_index_column": 368
                },
                {
                  "ts": "2019-03-07",
                  "serialNo": "VA2048854528",
                  "home": 174376,
                  "batteryVoltageMilliV": 2882.934,
                  "insideTemperatureCentiC": 1949.3785,
                  "humidityMilliPerc": 562.4815,
                  "_deepnote_index_column": 369
                },
                {
                  "ts": "2019-03-08",
                  "serialNo": "VA2048854528",
                  "home": 174376,
                  "batteryVoltageMilliV": 2881.7227,
                  "insideTemperatureCentiC": 2082.003,
                  "humidityMilliPerc": 571.7803299999998,
                  "_deepnote_index_column": 370
                },
                {
                  "ts": "2019-03-09",
                  "serialNo": "VA2048854528",
                  "home": 174376,
                  "batteryVoltageMilliV": 2881.9685,
                  "insideTemperatureCentiC": 2109.2832,
                  "humidityMilliPerc": 551.1049,
                  "_deepnote_index_column": 371
                },
                {
                  "ts": "2019-03-10",
                  "serialNo": "VA2048854528",
                  "home": 174376,
                  "batteryVoltageMilliV": 2877.5840000000007,
                  "insideTemperatureCentiC": 2062.481,
                  "humidityMilliPerc": 556.94275,
                  "_deepnote_index_column": 372
                },
                {
                  "ts": "2019-03-11",
                  "serialNo": "VA2048854528",
                  "home": 174376,
                  "batteryVoltageMilliV": 2863.3223,
                  "insideTemperatureCentiC": 2045.3464,
                  "humidityMilliPerc": 519.6476,
                  "_deepnote_index_column": 373
                },
                {
                  "ts": "2019-03-12",
                  "serialNo": "VA2048854528",
                  "home": 174376,
                  "batteryVoltageMilliV": 2856.0403,
                  "insideTemperatureCentiC": 2032.1145,
                  "humidityMilliPerc": 512.04333,
                  "_deepnote_index_column": 374
                },
                {
                  "ts": "2019-03-13",
                  "serialNo": "VA2048854528",
                  "home": 174376,
                  "batteryVoltageMilliV": 2850.4722,
                  "insideTemperatureCentiC": 2019.174,
                  "humidityMilliPerc": 511.8913,
                  "_deepnote_index_column": 375
                },
                {
                  "ts": "2019-03-14",
                  "serialNo": "VA2048854528",
                  "home": 174376,
                  "batteryVoltageMilliV": 2845.5017,
                  "insideTemperatureCentiC": 2029.7664,
                  "humidityMilliPerc": 533.9209599999998,
                  "_deepnote_index_column": 376
                },
                {
                  "ts": "2019-03-15",
                  "serialNo": "VA2048854528",
                  "home": 174376,
                  "batteryVoltageMilliV": 2841.0896,
                  "insideTemperatureCentiC": 2080.398,
                  "humidityMilliPerc": 568.1147,
                  "_deepnote_index_column": 377
                },
                {
                  "ts": "2019-03-16",
                  "serialNo": "VA2048854528",
                  "home": 174376,
                  "batteryVoltageMilliV": 2836.3508,
                  "insideTemperatureCentiC": 2071.0947,
                  "humidityMilliPerc": 604.00946,
                  "_deepnote_index_column": 378
                },
                {
                  "ts": "2019-03-17",
                  "serialNo": "VA2048854528",
                  "home": 174376,
                  "batteryVoltageMilliV": 2830.3540000000007,
                  "insideTemperatureCentiC": 2126.0227,
                  "humidityMilliPerc": 595.4480599999998,
                  "_deepnote_index_column": 379
                },
                {
                  "ts": "2019-03-18",
                  "serialNo": "VA2048854528",
                  "home": 174376,
                  "batteryVoltageMilliV": 2825.9026,
                  "insideTemperatureCentiC": 2032.1372,
                  "humidityMilliPerc": 589.0577400000002,
                  "_deepnote_index_column": 380
                },
                {
                  "ts": "2019-03-19",
                  "serialNo": "VA2048854528",
                  "home": 174376,
                  "batteryVoltageMilliV": 2819.6047,
                  "insideTemperatureCentiC": 2072.1694,
                  "humidityMilliPerc": 595.83466,
                  "_deepnote_index_column": 381
                },
                {
                  "ts": "2019-03-20",
                  "serialNo": "VA2048854528",
                  "home": 174376,
                  "batteryVoltageMilliV": 2814.3867,
                  "insideTemperatureCentiC": 1965.7333,
                  "humidityMilliPerc": 612.88446,
                  "_deepnote_index_column": 382
                },
                {
                  "ts": "2019-03-21",
                  "serialNo": "VA2048854528",
                  "home": 174376,
                  "batteryVoltageMilliV": 2808.949,
                  "insideTemperatureCentiC": 1987.9907,
                  "humidityMilliPerc": 635.0463,
                  "_deepnote_index_column": 383
                },
                {
                  "ts": "2019-03-22",
                  "serialNo": "VA2048854528",
                  "home": 174376,
                  "batteryVoltageMilliV": 2806.5754,
                  "insideTemperatureCentiC": 1903.6438,
                  "humidityMilliPerc": 646.1233,
                  "_deepnote_index_column": 384
                },
                {
                  "ts": "2019-03-23",
                  "serialNo": "VA2048854528",
                  "home": 174376,
                  "batteryVoltageMilliV": 2800.7444,
                  "insideTemperatureCentiC": 1996.9962,
                  "humidityMilliPerc": 623.3158,
                  "_deepnote_index_column": 385
                },
                {
                  "ts": "2019-03-24",
                  "serialNo": "VA2048854528",
                  "home": 174376,
                  "batteryVoltageMilliV": 2796.9885,
                  "insideTemperatureCentiC": 2001.39,
                  "humidityMilliPerc": 618.2548,
                  "_deepnote_index_column": 386
                },
                {
                  "ts": "2019-03-25",
                  "serialNo": "VA2048854528",
                  "home": 174376,
                  "batteryVoltageMilliV": 2791.1003,
                  "insideTemperatureCentiC": 1971.5398,
                  "humidityMilliPerc": 603.53973,
                  "_deepnote_index_column": 387
                },
                {
                  "ts": "2019-03-26",
                  "serialNo": "VA2048854528",
                  "home": 174376,
                  "batteryVoltageMilliV": 2786.7607,
                  "insideTemperatureCentiC": 1937.9615,
                  "humidityMilliPerc": 580.37177,
                  "_deepnote_index_column": 388
                },
                {
                  "ts": "2019-03-27",
                  "serialNo": "VA2048854528",
                  "home": 174376,
                  "batteryVoltageMilliV": 2780.9312,
                  "insideTemperatureCentiC": 1993.4818,
                  "humidityMilliPerc": 583.2834,
                  "_deepnote_index_column": 389
                },
                {
                  "ts": "2019-03-28",
                  "serialNo": "VA2048854528",
                  "home": 174376,
                  "batteryVoltageMilliV": 2778.1074,
                  "insideTemperatureCentiC": 1975.285,
                  "humidityMilliPerc": 598.64484,
                  "_deepnote_index_column": 390
                },
                {
                  "ts": "2019-03-29",
                  "serialNo": "VA2048854528",
                  "home": 174376,
                  "batteryVoltageMilliV": 2772.157,
                  "insideTemperatureCentiC": 1996.1372,
                  "humidityMilliPerc": 581.8039,
                  "_deepnote_index_column": 391
                },
                {
                  "ts": "2019-03-30",
                  "serialNo": "VA2048854528",
                  "home": 174376,
                  "batteryVoltageMilliV": 2768.9120000000007,
                  "insideTemperatureCentiC": 2074.7659,
                  "humidityMilliPerc": 593.2098,
                  "_deepnote_index_column": 392
                },
                {
                  "ts": "2019-03-31",
                  "serialNo": "VA2048854528",
                  "home": 174376,
                  "batteryVoltageMilliV": 2763.718,
                  "insideTemperatureCentiC": 2069.6914,
                  "humidityMilliPerc": 620.90955,
                  "_deepnote_index_column": 393
                },
                {
                  "ts": "2019-04-01",
                  "serialNo": "VA2048854528",
                  "home": 174376,
                  "batteryVoltageMilliV": 2758.5261,
                  "insideTemperatureCentiC": 1937.1198,
                  "humidityMilliPerc": 611.3489400000002,
                  "_deepnote_index_column": 394
                },
                {
                  "ts": "2019-04-02",
                  "serialNo": "VA2048854528",
                  "home": 174376,
                  "batteryVoltageMilliV": 2751.7612,
                  "insideTemperatureCentiC": 1946.4115,
                  "humidityMilliPerc": 596.1193,
                  "_deepnote_index_column": 395
                },
                {
                  "ts": "2019-04-03",
                  "serialNo": "VA2048854528",
                  "home": 174376,
                  "batteryVoltageMilliV": 2746.7559,
                  "insideTemperatureCentiC": 1830.279,
                  "humidityMilliPerc": 594.7325400000002,
                  "_deepnote_index_column": 396
                },
                {
                  "ts": "2019-04-04",
                  "serialNo": "VA2048854528",
                  "home": 174376,
                  "batteryVoltageMilliV": 2742.5796,
                  "insideTemperatureCentiC": 1917.5187,
                  "humidityMilliPerc": 554.8373,
                  "_deepnote_index_column": 397
                },
                {
                  "ts": "2019-04-05",
                  "serialNo": "VA2048854528",
                  "home": 174376,
                  "batteryVoltageMilliV": 2742,
                  "insideTemperatureCentiC": 1990.4302,
                  "humidityMilliPerc": 553.0073,
                  "_deepnote_index_column": 398
                },
                {
                  "ts": "2019-04-06",
                  "serialNo": "VA2048854528",
                  "home": 174376,
                  "batteryVoltageMilliV": 2742,
                  "insideTemperatureCentiC": 1961.2924,
                  "humidityMilliPerc": 557.01697,
                  "_deepnote_index_column": 399
                },
                {
                  "ts": "2019-04-07",
                  "serialNo": "VA2048854528",
                  "home": 174376,
                  "batteryVoltageMilliV": 2741.88,
                  "insideTemperatureCentiC": 2085.8882,
                  "humidityMilliPerc": 530.2458,
                  "_deepnote_index_column": 400
                },
                {
                  "ts": "2019-04-08",
                  "serialNo": "VA2048854528",
                  "home": 174376,
                  "batteryVoltageMilliV": 2738.8223,
                  "insideTemperatureCentiC": 1936.237,
                  "humidityMilliPerc": 622.1037,
                  "_deepnote_index_column": 401
                },
                {
                  "ts": "2019-04-10",
                  "serialNo": "VA2048854528",
                  "home": 174376,
                  "batteryVoltageMilliV": 2708.4695,
                  "insideTemperatureCentiC": 2088.1020000000008,
                  "humidityMilliPerc": 519.4898,
                  "_deepnote_index_column": 402
                },
                {
                  "ts": "2019-04-11",
                  "serialNo": "VA2048854528",
                  "home": 174376,
                  "batteryVoltageMilliV": 2708.903,
                  "insideTemperatureCentiC": 1960.7577,
                  "humidityMilliPerc": 565.79297,
                  "_deepnote_index_column": 403
                },
                {
                  "ts": "2019-04-12",
                  "serialNo": "VA2048854528",
                  "home": 174376,
                  "batteryVoltageMilliV": 2708.1220000000008,
                  "insideTemperatureCentiC": 1868.4941,
                  "humidityMilliPerc": 571.6686,
                  "_deepnote_index_column": 404
                },
                {
                  "ts": "2019-04-13",
                  "serialNo": "VA2048854528",
                  "home": 174376,
                  "batteryVoltageMilliV": 2703.9724,
                  "insideTemperatureCentiC": 2014.4587,
                  "humidityMilliPerc": 557.8681,
                  "_deepnote_index_column": 405
                },
                {
                  "ts": "2019-04-14",
                  "serialNo": "VA2048854528",
                  "home": 174376,
                  "batteryVoltageMilliV": 2702.7388,
                  "insideTemperatureCentiC": 1957.2612,
                  "humidityMilliPerc": 562.4939,
                  "_deepnote_index_column": 406
                },
                {
                  "ts": "2019-04-15",
                  "serialNo": "VA2048854528",
                  "home": 174376,
                  "batteryVoltageMilliV": 2699.077,
                  "insideTemperatureCentiC": 1963.6652,
                  "humidityMilliPerc": 593.0090299999998,
                  "_deepnote_index_column": 407
                },
                {
                  "ts": "2019-04-16",
                  "serialNo": "VA2048854528",
                  "home": 174376,
                  "batteryVoltageMilliV": 2696.7073,
                  "insideTemperatureCentiC": 1976.0342,
                  "humidityMilliPerc": 588.4683,
                  "_deepnote_index_column": 408
                },
                {
                  "ts": "2019-04-17",
                  "serialNo": "VA2048854528",
                  "home": 174376,
                  "batteryVoltageMilliV": 2693.8933,
                  "insideTemperatureCentiC": 2000.1011,
                  "humidityMilliPerc": 606.39886,
                  "_deepnote_index_column": 409
                },
                {
                  "ts": "2019-04-18",
                  "serialNo": "VA2048854528",
                  "home": 174376,
                  "batteryVoltageMilliV": 2692.627,
                  "insideTemperatureCentiC": 2036.5397,
                  "humidityMilliPerc": 603.3095,
                  "_deepnote_index_column": 410
                },
                {
                  "ts": "2019-04-19",
                  "serialNo": "VA2048854528",
                  "home": 174376,
                  "batteryVoltageMilliV": 2692.0977,
                  "insideTemperatureCentiC": 1959.1708,
                  "humidityMilliPerc": 557.95123,
                  "_deepnote_index_column": 411
                },
                {
                  "ts": "2019-04-20",
                  "serialNo": "VA2048854528",
                  "home": 174376,
                  "batteryVoltageMilliV": 2690.7285,
                  "insideTemperatureCentiC": 2036.7654,
                  "humidityMilliPerc": 543.5432,
                  "_deepnote_index_column": 412
                },
                {
                  "ts": "2019-04-21",
                  "serialNo": "VA2048854528",
                  "home": 174376,
                  "batteryVoltageMilliV": 2688.9177,
                  "insideTemperatureCentiC": 2083.3647,
                  "humidityMilliPerc": 524.84705,
                  "_deepnote_index_column": 413
                },
                {
                  "ts": "2019-04-22",
                  "serialNo": "VA2048854528",
                  "home": 174376,
                  "batteryVoltageMilliV": 2686.9512,
                  "insideTemperatureCentiC": 2111.3538,
                  "humidityMilliPerc": 561.8293,
                  "_deepnote_index_column": 414
                },
                {
                  "ts": "2019-04-23",
                  "serialNo": "VA2048854528",
                  "home": 174376,
                  "batteryVoltageMilliV": 2685.3977,
                  "insideTemperatureCentiC": 2102.3374,
                  "humidityMilliPerc": 582.4337,
                  "_deepnote_index_column": 415
                },
                {
                  "ts": "2019-04-24",
                  "serialNo": "VA2048854528",
                  "home": 174376,
                  "batteryVoltageMilliV": 2681.5422,
                  "insideTemperatureCentiC": 1965.759,
                  "humidityMilliPerc": 568.03613,
                  "_deepnote_index_column": 416
                },
                {
                  "ts": "2019-04-25",
                  "serialNo": "VA2048854528",
                  "home": 174376,
                  "batteryVoltageMilliV": 2675.7654,
                  "insideTemperatureCentiC": 1885.4321,
                  "humidityMilliPerc": 580.2716,
                  "_deepnote_index_column": 417
                },
                {
                  "ts": "2019-04-26",
                  "serialNo": "VA2048854528",
                  "home": 174376,
                  "batteryVoltageMilliV": 2673.47,
                  "insideTemperatureCentiC": 1837.5421,
                  "humidityMilliPerc": 617.7108,
                  "_deepnote_index_column": 418
                },
                {
                  "ts": "2019-04-27",
                  "serialNo": "VA2048854528",
                  "home": 174376,
                  "batteryVoltageMilliV": 2668.289,
                  "insideTemperatureCentiC": 1664.8916,
                  "humidityMilliPerc": 597.3735,
                  "_deepnote_index_column": 419
                },
                {
                  "ts": "2019-04-28",
                  "serialNo": "VA2048854528",
                  "home": 174376,
                  "batteryVoltageMilliV": 2663.2144,
                  "insideTemperatureCentiC": 1515.5476,
                  "humidityMilliPerc": 564.5,
                  "_deepnote_index_column": 420
                },
                {
                  "ts": "2019-04-29",
                  "serialNo": "VA2048854528",
                  "home": 174376,
                  "batteryVoltageMilliV": 2659.3691,
                  "insideTemperatureCentiC": 1516.2379999999996,
                  "humidityMilliPerc": 584.3095,
                  "_deepnote_index_column": 421
                },
                {
                  "ts": "2019-04-30",
                  "serialNo": "VA2048854528",
                  "home": 174376,
                  "batteryVoltageMilliV": 2657.4443,
                  "insideTemperatureCentiC": 1705.7778,
                  "humidityMilliPerc": 645.5555400000002,
                  "_deepnote_index_column": 422
                }
              ]
            },
            "text/plain": "             ts      serialNo    home  batteryVoltageMilliV  \\\n212  2018-10-01  VA2048854528  174376             2892.4230   \n213  2018-10-02  VA2048854528  174376             2889.5461   \n214  2018-10-03  VA2048854528  174376             2885.0188   \n215  2018-10-04  VA2048854528  174376             2883.8855   \n216  2018-10-05  VA2048854528  174376             2883.0000   \n..          ...           ...     ...                   ...   \n418  2019-04-26  VA2048854528  174376             2673.4700   \n419  2019-04-27  VA2048854528  174376             2668.2890   \n420  2019-04-28  VA2048854528  174376             2663.2144   \n421  2019-04-29  VA2048854528  174376             2659.3691   \n422  2019-04-30  VA2048854528  174376             2657.4443   \n\n     insideTemperatureCentiC  humidityMilliPerc  \n212                2090.3590          630.07263  \n213                2065.7566          664.49340  \n214                2147.3062          680.43750  \n215                2120.3730          663.15424  \n216                2131.5460          682.68713  \n..                       ...                ...  \n418                1837.5421          617.71080  \n419                1664.8916          597.37350  \n420                1515.5476          564.50000  \n421                1516.2380          584.30950  \n422                1705.7778          645.55554  \n\n[211 rows x 6 columns]",
            "text/html": "<div>\n<style scoped>\n    .dataframe tbody tr th:only-of-type {\n        vertical-align: middle;\n    }\n\n    .dataframe tbody tr th {\n        vertical-align: top;\n    }\n\n    .dataframe thead th {\n        text-align: right;\n    }\n</style>\n<table border=\"1\" class=\"dataframe\">\n  <thead>\n    <tr style=\"text-align: right;\">\n      <th></th>\n      <th>ts</th>\n      <th>serialNo</th>\n      <th>home</th>\n      <th>batteryVoltageMilliV</th>\n      <th>insideTemperatureCentiC</th>\n      <th>humidityMilliPerc</th>\n    </tr>\n  </thead>\n  <tbody>\n    <tr>\n      <th>212</th>\n      <td>2018-10-01</td>\n      <td>VA2048854528</td>\n      <td>174376</td>\n      <td>2892.4230</td>\n      <td>2090.3590</td>\n      <td>630.07263</td>\n    </tr>\n    <tr>\n      <th>213</th>\n      <td>2018-10-02</td>\n      <td>VA2048854528</td>\n      <td>174376</td>\n      <td>2889.5461</td>\n      <td>2065.7566</td>\n      <td>664.49340</td>\n    </tr>\n    <tr>\n      <th>214</th>\n      <td>2018-10-03</td>\n      <td>VA2048854528</td>\n      <td>174376</td>\n      <td>2885.0188</td>\n      <td>2147.3062</td>\n      <td>680.43750</td>\n    </tr>\n    <tr>\n      <th>215</th>\n      <td>2018-10-04</td>\n      <td>VA2048854528</td>\n      <td>174376</td>\n      <td>2883.8855</td>\n      <td>2120.3730</td>\n      <td>663.15424</td>\n    </tr>\n    <tr>\n      <th>216</th>\n      <td>2018-10-05</td>\n      <td>VA2048854528</td>\n      <td>174376</td>\n      <td>2883.0000</td>\n      <td>2131.5460</td>\n      <td>682.68713</td>\n    </tr>\n    <tr>\n      <th>...</th>\n      <td>...</td>\n      <td>...</td>\n      <td>...</td>\n      <td>...</td>\n      <td>...</td>\n      <td>...</td>\n    </tr>\n    <tr>\n      <th>418</th>\n      <td>2019-04-26</td>\n      <td>VA2048854528</td>\n      <td>174376</td>\n      <td>2673.4700</td>\n      <td>1837.5421</td>\n      <td>617.71080</td>\n    </tr>\n    <tr>\n      <th>419</th>\n      <td>2019-04-27</td>\n      <td>VA2048854528</td>\n      <td>174376</td>\n      <td>2668.2890</td>\n      <td>1664.8916</td>\n      <td>597.37350</td>\n    </tr>\n    <tr>\n      <th>420</th>\n      <td>2019-04-28</td>\n      <td>VA2048854528</td>\n      <td>174376</td>\n      <td>2663.2144</td>\n      <td>1515.5476</td>\n      <td>564.50000</td>\n    </tr>\n    <tr>\n      <th>421</th>\n      <td>2019-04-29</td>\n      <td>VA2048854528</td>\n      <td>174376</td>\n      <td>2659.3691</td>\n      <td>1516.2380</td>\n      <td>584.30950</td>\n    </tr>\n    <tr>\n      <th>422</th>\n      <td>2019-04-30</td>\n      <td>VA2048854528</td>\n      <td>174376</td>\n      <td>2657.4443</td>\n      <td>1705.7778</td>\n      <td>645.55554</td>\n    </tr>\n  </tbody>\n</table>\n<p>211 rows × 6 columns</p>\n</div>"
          },
          "metadata": {}
        }
      ]
    },
    {
      "cell_type": "code",
      "metadata": {
        "tags": [],
        "cell_id": "00021-f9e792e5-876e-4534-ae9b-02fcbf74c5f6",
        "deepnote_to_be_reexecuted": false,
        "source_hash": "56d9fff0",
        "execution_millis": 159,
        "execution_start": 1614599577088,
        "deepnote_cell_type": "code"
      },
      "source": "df_battery_2.plot('ts', 'batteryVoltageMilliV')",
      "execution_count": null,
      "outputs": [
        {
          "output_type": "execute_result",
          "execution_count": 43,
          "data": {
            "text/plain": "<AxesSubplot:xlabel='ts'>"
          },
          "metadata": {}
        },
        {
          "data": {
            "text/plain": "<Figure size 432x288 with 1 Axes>",
            "image/png": "[encoded data removed]"
          },
          "metadata": {
            "needs_background": "light"
          },
          "output_type": "display_data"
        }
      ]
    },
    {
      "cell_type": "code",
      "metadata": {
        "tags": [],
        "cell_id": "00022-e2ae4178-5e6f-4c6c-9c98-1b654552cfa6",
        "deepnote_to_be_reexecuted": false,
        "source_hash": "9cdb8c10",
        "execution_start": 1614599645177,
        "execution_millis": 121,
        "deepnote_cell_type": "code"
      },
      "source": "df.plot('ts', 'insideTemperatureCentiC')",
      "execution_count": null,
      "outputs": [
        {
          "output_type": "execute_result",
          "execution_count": 44,
          "data": {
            "text/plain": "<AxesSubplot:xlabel='ts'>"
          },
          "metadata": {}
        },
        {
          "data": {
            "text/plain": "<Figure size 432x288 with 1 Axes>",
            "image/png": "[encoded data removed]"
          },
          "metadata": {
            "needs_background": "light"
          },
          "output_type": "display_data"
        }
      ]
    },
    {
      "cell_type": "code",
      "metadata": {
        "tags": [],
        "cell_id": "00023-9972d799-b37a-479c-ba7f-46577fe36cba",
        "deepnote_to_be_reexecuted": false,
        "source_hash": "f1158918",
        "execution_millis": 7,
        "execution_start": 1614599808626,
        "deepnote_cell_type": "code"
      },
      "source": "df[df.insideTemperatureCentiC >= 2147.1974499999997].count()",
      "execution_count": null,
      "outputs": [
        {
          "output_type": "execute_result",
          "execution_count": 49,
          "data": {
            "text/plain": "ts                         1206\nserialNo                   1206\nhome                       1206\nbatteryVoltageMilliV       1206\ninsideTemperatureCentiC    1206\nhumidityMilliPerc          1206\ndtype: int64"
          },
          "metadata": {}
        }
      ]
    },
    {
      "cell_type": "code",
      "metadata": {
        "tags": [],
        "cell_id": "00024-f2ce5626-8230-431b-9c72-0b817c95a0ba",
        "deepnote_to_be_reexecuted": false,
        "source_hash": "f88152d9",
        "execution_start": 1614599780758,
        "execution_millis": 48,
        "deepnote_cell_type": "code"
      },
      "source": "df.describe()",
      "execution_count": null,
      "outputs": [
        {
          "output_type": "execute_result",
          "execution_count": 48,
          "data": {
            "application/vnd.deepnote.dataframe.v2+json": {
              "row_count": 8,
              "column_count": 4,
              "columns": [
                {
                  "name": "home",
                  "dtype": "float64",
                  "stats": {
                    "unique_count": 8,
                    "nan_count": 0,
                    "min": 4824,
                    "max": 300551,
                    "histogram": [
                      {
                        "bin_start": 4824,
                        "bin_end": 34396.7,
                        "count": 2
                      },
                      {
                        "bin_start": 34396.7,
                        "bin_end": 63969.4,
                        "count": 0
                      },
                      {
                        "bin_start": 63969.4,
                        "bin_end": 93542.1,
                        "count": 1
                      },
                      {
                        "bin_start": 93542.1,
                        "bin_end": 123114.8,
                        "count": 0
                      },
                      {
                        "bin_start": 123114.8,
                        "bin_end": 152687.5,
                        "count": 0
                      },
                      {
                        "bin_start": 152687.5,
                        "bin_end": 182260.2,
                        "count": 3
                      },
                      {
                        "bin_start": 182260.2,
                        "bin_end": 211832.9,
                        "count": 0
                      },
                      {
                        "bin_start": 211832.9,
                        "bin_end": 241405.6,
                        "count": 1
                      },
                      {
                        "bin_start": 241405.6,
                        "bin_end": 270978.3,
                        "count": 0
                      },
                      {
                        "bin_start": 270978.3,
                        "bin_end": 300551,
                        "count": 1
                      }
                    ]
                  }
                },
                {
                  "name": "batteryVoltageMilliV",
                  "dtype": "float64",
                  "stats": {
                    "unique_count": 8,
                    "nan_count": 0,
                    "min": 136.47928351051365,
                    "max": 4821,
                    "histogram": [
                      {
                        "bin_start": 136.47928351051365,
                        "bin_end": 604.9313551594623,
                        "count": 1
                      },
                      {
                        "bin_start": 604.9313551594623,
                        "bin_end": 1073.3834268084108,
                        "count": 0
                      },
                      {
                        "bin_start": 1073.3834268084108,
                        "bin_end": 1541.8354984573593,
                        "count": 0
                      },
                      {
                        "bin_start": 1541.8354984573593,
                        "bin_end": 2010.287570106308,
                        "count": 0
                      },
                      {
                        "bin_start": 2010.287570106308,
                        "bin_end": 2478.739641755257,
                        "count": 0
                      },
                      {
                        "bin_start": 2478.739641755257,
                        "bin_end": 2947.191713404205,
                        "count": 4
                      },
                      {
                        "bin_start": 2947.191713404205,
                        "bin_end": 3415.643785053154,
                        "count": 2
                      },
                      {
                        "bin_start": 3415.643785053154,
                        "bin_end": 3884.0958567021025,
                        "count": 0
                      },
                      {
                        "bin_start": 3884.0958567021025,
                        "bin_end": 4352.547928351051,
                        "count": 0
                      },
                      {
                        "bin_start": 4352.547928351051,
                        "bin_end": 4821,
                        "count": 1
                      }
                    ]
                  }
                },
                {
                  "name": "insideTemperatureCentiC",
                  "dtype": "float64",
                  "stats": {
                    "unique_count": 8,
                    "nan_count": 0,
                    "min": 270.98981709125087,
                    "max": 4822,
                    "histogram": [
                      {
                        "bin_start": 270.98981709125087,
                        "bin_end": 726.0908353821258,
                        "count": 1
                      },
                      {
                        "bin_start": 726.0908353821258,
                        "bin_end": 1181.1918536730007,
                        "count": 1
                      },
                      {
                        "bin_start": 1181.1918536730007,
                        "bin_end": 1636.2928719638755,
                        "count": 0
                      },
                      {
                        "bin_start": 1636.2928719638755,
                        "bin_end": 2091.3938902547507,
                        "count": 3
                      },
                      {
                        "bin_start": 2091.3938902547507,
                        "bin_end": 2546.4949085456255,
                        "count": 1
                      },
                      {
                        "bin_start": 2546.4949085456255,
                        "bin_end": 3001.5959268365004,
                        "count": 0
                      },
                      {
                        "bin_start": 3001.5959268365004,
                        "bin_end": 3456.6969451273753,
                        "count": 1
                      },
                      {
                        "bin_start": 3456.6969451273753,
                        "bin_end": 3911.79796341825,
                        "count": 0
                      },
                      {
                        "bin_start": 3911.79796341825,
                        "bin_end": 4366.898981709125,
                        "count": 0
                      },
                      {
                        "bin_start": 4366.898981709125,
                        "bin_end": 4822,
                        "count": 1
                      }
                    ]
                  }
                },
                {
                  "name": "humidityMilliPerc",
                  "dtype": "float64",
                  "stats": {
                    "unique_count": 8,
                    "nan_count": 0,
                    "min": 89.1865909294295,
                    "max": 4824,
                    "histogram": [
                      {
                        "bin_start": 89.1865909294295,
                        "bin_end": 562.6679318364866,
                        "count": 5
                      },
                      {
                        "bin_start": 562.6679318364866,
                        "bin_end": 1036.1492727435436,
                        "count": 2
                      },
                      {
                        "bin_start": 1036.1492727435436,
                        "bin_end": 1509.6306136506007,
                        "count": 0
                      },
                      {
                        "bin_start": 1509.6306136506007,
                        "bin_end": 1983.1119545576578,
                        "count": 0
                      },
                      {
                        "bin_start": 1983.1119545576578,
                        "bin_end": 2456.593295464715,
                        "count": 0
                      },
                      {
                        "bin_start": 2456.593295464715,
                        "bin_end": 2930.074636371772,
                        "count": 0
                      },
                      {
                        "bin_start": 2930.074636371772,
                        "bin_end": 3403.5559772788292,
                        "count": 0
                      },
                      {
                        "bin_start": 3403.5559772788292,
                        "bin_end": 3877.0373181858863,
                        "count": 0
                      },
                      {
                        "bin_start": 3877.0373181858863,
                        "bin_end": 4350.518659092943,
                        "count": 0
                      },
                      {
                        "bin_start": 4350.518659092943,
                        "bin_end": 4824,
                        "count": 1
                      }
                    ]
                  }
                },
                {
                  "name": "_deepnote_index_column",
                  "dtype": "object"
                }
              ],
              "rows_top": [
                {
                  "home": 4824,
                  "batteryVoltageMilliV": 4821,
                  "insideTemperatureCentiC": 4822,
                  "humidityMilliPerc": 4824,
                  "_deepnote_index_column": "count"
                },
                {
                  "home": 175021.95854063018,
                  "batteryVoltageMilliV": 2877.990863451566,
                  "insideTemperatureCentiC": 1976.1480690771464,
                  "humidityMilliPerc": 522.6798743926201,
                  "_deepnote_index_column": "mean"
                },
                {
                  "home": 66131.88197549593,
                  "batteryVoltageMilliV": 136.47928351051365,
                  "insideTemperatureCentiC": 270.98981709125087,
                  "humidityMilliPerc": 89.1865909294295,
                  "_deepnote_index_column": "std"
                },
                {
                  "home": 29473,
                  "batteryVoltageMilliV": 2495.4036,
                  "insideTemperatureCentiC": 734.4309,
                  "humidityMilliPerc": 306.85965,
                  "_deepnote_index_column": "min"
                },
                {
                  "home": 165132,
                  "batteryVoltageMilliV": 2785.4944,
                  "insideTemperatureCentiC": 1833.9263500000002,
                  "humidityMilliPerc": 456.67813,
                  "_deepnote_index_column": "25%"
                },
                {
                  "home": 174376,
                  "batteryVoltageMilliV": 2900.4785,
                  "insideTemperatureCentiC": 1974.3051,
                  "humidityMilliPerc": 513.783265,
                  "_deepnote_index_column": "50%"
                },
                {
                  "home": 234419,
                  "batteryVoltageMilliV": 2964.061,
                  "insideTemperatureCentiC": 2147.1974499999997,
                  "humidityMilliPerc": 582.2272325,
                  "_deepnote_index_column": "75%"
                },
                {
                  "home": 300551,
                  "batteryVoltageMilliV": 3236.406,
                  "insideTemperatureCentiC": 3207.7607,
                  "humidityMilliPerc": 891.5061599999998,
                  "_deepnote_index_column": "max"
                }
              ],
              "rows_bottom": null
            },
            "text/plain": "                home  batteryVoltageMilliV  insideTemperatureCentiC  \\\ncount    4824.000000           4821.000000              4822.000000   \nmean   175021.958541           2877.990863              1976.148069   \nstd     66131.881975            136.479284               270.989817   \nmin     29473.000000           2495.403600               734.430900   \n25%    165132.000000           2785.494400              1833.926350   \n50%    174376.000000           2900.478500              1974.305100   \n75%    234419.000000           2964.061000              2147.197450   \nmax    300551.000000           3236.406000              3207.760700   \n\n       humidityMilliPerc  \ncount        4824.000000  \nmean          522.679874  \nstd            89.186591  \nmin           306.859650  \n25%           456.678130  \n50%           513.783265  \n75%           582.227233  \nmax           891.506160  ",
            "text/html": "<div>\n<style scoped>\n    .dataframe tbody tr th:only-of-type {\n        vertical-align: middle;\n    }\n\n    .dataframe tbody tr th {\n        vertical-align: top;\n    }\n\n    .dataframe thead th {\n        text-align: right;\n    }\n</style>\n<table border=\"1\" class=\"dataframe\">\n  <thead>\n    <tr style=\"text-align: right;\">\n      <th></th>\n      <th>home</th>\n      <th>batteryVoltageMilliV</th>\n      <th>insideTemperatureCentiC</th>\n      <th>humidityMilliPerc</th>\n    </tr>\n  </thead>\n  <tbody>\n    <tr>\n      <th>count</th>\n      <td>4824.000000</td>\n      <td>4821.000000</td>\n      <td>4822.000000</td>\n      <td>4824.000000</td>\n    </tr>\n    <tr>\n      <th>mean</th>\n      <td>175021.958541</td>\n      <td>2877.990863</td>\n      <td>1976.148069</td>\n      <td>522.679874</td>\n    </tr>\n    <tr>\n      <th>std</th>\n      <td>66131.881975</td>\n      <td>136.479284</td>\n      <td>270.989817</td>\n      <td>89.186591</td>\n    </tr>\n    <tr>\n      <th>min</th>\n      <td>29473.000000</td>\n      <td>2495.403600</td>\n      <td>734.430900</td>\n      <td>306.859650</td>\n    </tr>\n    <tr>\n      <th>25%</th>\n      <td>165132.000000</td>\n      <td>2785.494400</td>\n      <td>1833.926350</td>\n      <td>456.678130</td>\n    </tr>\n    <tr>\n      <th>50%</th>\n      <td>174376.000000</td>\n      <td>2900.478500</td>\n      <td>1974.305100</td>\n      <td>513.783265</td>\n    </tr>\n    <tr>\n      <th>75%</th>\n      <td>234419.000000</td>\n      <td>2964.061000</td>\n      <td>2147.197450</td>\n      <td>582.227233</td>\n    </tr>\n    <tr>\n      <th>max</th>\n      <td>300551.000000</td>\n      <td>3236.406000</td>\n      <td>3207.760700</td>\n      <td>891.506160</td>\n    </tr>\n  </tbody>\n</table>\n</div>"
          },
          "metadata": {}
        }
      ]
    },
    {
      "cell_type": "code",
      "metadata": {
        "tags": [],
        "cell_id": "00025-7580c4b8-2551-475e-83cb-3654d723086e",
        "deepnote_cell_type": "code"
      },
      "source": "",
      "execution_count": null,
      "outputs": []
    },
    {
      "cell_type": "markdown",
      "source": "<a style='text-decoration:none;line-height:16px;display:flex;color:#5B5B62;padding:10px;justify-content:end;' href='https://deepnote.com?utm_source=created-in-deepnote-cell&projectId=762381e0-0fb5-4cfa-9159-464420420d1d' target=\"_blank\">\n<img style='display:inline;max-height:16px;margin:0px;margin-right:7.5px;' src='data:image/svg+xml;base64,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' > </img>\nCreated in <span style='font-weight:600;margin-left:4px;'>Deepnote</span></a>",
      "metadata": {
        "tags": [],
        "created_in_deepnote_cell": true,
        "deepnote_cell_type": "markdown"
      }
    }
  ],
  "nbformat": 4,
  "nbformat_minor": 2,
  "metadata": {
    "kernelspec": {
      "display_name": "Python 3",
      "language": "python",
      "name": "python3"
    },
    "language_info": {
      "codemirror_mode": {
        "name": "ipython",
        "version": 3
      },
      "file_extension": ".py",
      "mimetype": "text/x-python",
      "name": "python",
      "nbconvert_exporter": "python",
      "pygments_lexer": "ipython3",
      "version": "3.7.3"
    },
    "toc": {
      "base_numbering": 1,
      "nav_menu": {},
      "number_sections": true,
      "sideBar": true,
      "skip_h1_title": false,
      "title_cell": "Table of Contents",
      "title_sidebar": "Contents",
      "toc_cell": false,
      "toc_position": {},
      "toc_section_display": true,
      "toc_window_display": false
    },
    "varInspector": {
      "cols": {
        "lenName": 16,
        "lenType": 16,
        "lenVar": 40
      },
      "kernels_config": {
        "python": {
          "delete_cmd_postfix": "",
          "delete_cmd_prefix": "del ",
          "library": "var_list.py",
          "varRefreshCmd": "print(var_dic_list())"
        },
        "r": {
          "delete_cmd_postfix": ") ",
          "delete_cmd_prefix": "rm(",
          "library": "var_list.r",
          "varRefreshCmd": "cat(var_dic_list()) "
        }
      },
      "types_to_exclude": [
        "module",
        "function",
        "builtin_function_or_method",
        "instance",
        "_Feature"
      ],
      "window_display": false
    },
    "deepnote_notebook_id": "2ab3536f-d77e-4e78-8fbf-b724e93944ef",
    "deepnote": {},
    "deepnote_execution_queue": []
  }
}