{
  "cells": [
    {
      "cell_type": "markdown",
      "source": "# \"Изменение разрешения данных\"",
      "metadata": {
        "cell_id": "00000-34c3ddb4-3a66-4dc7-90de-d4247aececef",
        "deepnote_cell_type": "markdown"
      }
    },
    {
      "cell_type": "code",
      "metadata": {
        "ExecuteTime": {
          "end_time": "2019-08-11T18:28:23.884882Z",
          "start_time": "2019-08-11T18:28:21.441411Z"
        },
        "cell_id": "00001-2d3e258e-b519-42b5-ae01-b58e45c7fdd1",
        "deepnote_to_be_reexecuted": false,
        "source_hash": "1af425b8",
        "execution_start": 1614797879577,
        "execution_millis": 1059,
        "deepnote_cell_type": "code"
      },
      "source": "import numpy as np, pandas as pd\nimport matplotlib.pyplot as plt ",
      "execution_count": null,
      "outputs": []
    },
    {
      "cell_type": "markdown",
      "source": "# Понижение разрешения (downsampling)",
      "metadata": {
        "cell_id": "00002-2c303b91-5f75-48da-b976-017b890aa815",
        "deepnote_cell_type": "markdown"
      }
    },
    {
      "cell_type": "code",
      "metadata": {
        "ExecuteTime": {
          "end_time": "2019-08-11T18:28:48.454883Z",
          "start_time": "2019-08-11T18:28:48.130748Z"
        },
        "cell_id": "00003-af493197-d8f2-4b1d-90af-fab4d244d0cc",
        "deepnote_to_be_reexecuted": false,
        "source_hash": "32fa97f0",
        "execution_millis": 669,
        "execution_start": 1614797884459,
        "deepnote_cell_type": "code"
      },
      "source": "df = pd.read_csv('/work/data/gold_clean.csv')\ndf['ts'] = pd.to_datetime(df.ts)\ndf.head()",
      "execution_count": null,
      "outputs": [
        {
          "output_type": "execute_result",
          "execution_count": 3,
          "data": {
            "application/vnd.deepnote.dataframe.v2+json": {
              "row_count": 5,
              "column_count": 6,
              "columns": [
                {
                  "name": "ts",
                  "dtype": "datetime64[ns]",
                  "stats": {
                    "unique_count": 5,
                    "nan_count": 0,
                    "min": "2018-01-02T02:01:00.000000",
                    "max": "2018-01-02T02:05:00.000000",
                    "histogram": [
                      {
                        "bin_start": 1514858460000000000,
                        "bin_end": 1514858484000000000,
                        "count": 1
                      },
                      {
                        "bin_start": 1514858484000000000,
                        "bin_end": 1514858508000000000,
                        "count": 0
                      },
                      {
                        "bin_start": 1514858508000000000,
                        "bin_end": 1514858532000000000,
                        "count": 1
                      },
                      {
                        "bin_start": 1514858532000000000,
                        "bin_end": 1514858556000000000,
                        "count": 0
                      },
                      {
                        "bin_start": 1514858556000000000,
                        "bin_end": 1514858580000000000,
                        "count": 0
                      },
                      {
                        "bin_start": 1514858580000000000,
                        "bin_end": 1514858604000000000,
                        "count": 1
                      },
                      {
                        "bin_start": 1514858604000000000,
                        "bin_end": 1514858628000000000,
                        "count": 0
                      },
                      {
                        "bin_start": 1514858628000000000,
                        "bin_end": 1514858652000000000,
                        "count": 1
                      },
                      {
                        "bin_start": 1514858652000000000,
                        "bin_end": 1514858676000000000,
                        "count": 0
                      },
                      {
                        "bin_start": 1514858676000000000,
                        "bin_end": 1514858700000000000,
                        "count": 1
                      }
                    ]
                  }
                },
                {
                  "name": "open",
                  "dtype": "float64",
                  "stats": {
                    "unique_count": 5,
                    "nan_count": 0,
                    "min": 1304.7,
                    "max": 1305.4,
                    "histogram": [
                      {
                        "bin_start": 1304.7,
                        "bin_end": 1304.77,
                        "count": 1
                      },
                      {
                        "bin_start": 1304.77,
                        "bin_end": 1304.8400000000001,
                        "count": 0
                      },
                      {
                        "bin_start": 1304.8400000000001,
                        "bin_end": 1304.91,
                        "count": 0
                      },
                      {
                        "bin_start": 1304.91,
                        "bin_end": 1304.98,
                        "count": 0
                      },
                      {
                        "bin_start": 1304.98,
                        "bin_end": 1305.0500000000002,
                        "count": 1
                      },
                      {
                        "bin_start": 1305.0500000000002,
                        "bin_end": 1305.1200000000001,
                        "count": 0
                      },
                      {
                        "bin_start": 1305.1200000000001,
                        "bin_end": 1305.19,
                        "count": 0
                      },
                      {
                        "bin_start": 1305.19,
                        "bin_end": 1305.26,
                        "count": 1
                      },
                      {
                        "bin_start": 1305.26,
                        "bin_end": 1305.3300000000002,
                        "count": 1
                      },
                      {
                        "bin_start": 1305.3300000000002,
                        "bin_end": 1305.4,
                        "count": 1
                      }
                    ]
                  }
                },
                {
                  "name": "high",
                  "dtype": "float64",
                  "stats": {
                    "unique_count": 5,
                    "nan_count": 0,
                    "min": 1305.1,
                    "max": 1305.9,
                    "histogram": [
                      {
                        "bin_start": 1305.1,
                        "bin_end": 1305.1799999999998,
                        "count": 1
                      },
                      {
                        "bin_start": 1305.1799999999998,
                        "bin_end": 1305.26,
                        "count": 1
                      },
                      {
                        "bin_start": 1305.26,
                        "bin_end": 1305.34,
                        "count": 0
                      },
                      {
                        "bin_start": 1305.34,
                        "bin_end": 1305.42,
                        "count": 1
                      },
                      {
                        "bin_start": 1305.42,
                        "bin_end": 1305.5,
                        "count": 0
                      },
                      {
                        "bin_start": 1305.5,
                        "bin_end": 1305.58,
                        "count": 1
                      },
                      {
                        "bin_start": 1305.58,
                        "bin_end": 1305.66,
                        "count": 0
                      },
                      {
                        "bin_start": 1305.66,
                        "bin_end": 1305.74,
                        "count": 0
                      },
                      {
                        "bin_start": 1305.74,
                        "bin_end": 1305.8200000000002,
                        "count": 0
                      },
                      {
                        "bin_start": 1305.8200000000002,
                        "bin_end": 1305.9,
                        "count": 1
                      }
                    ]
                  }
                },
                {
                  "name": "low",
                  "dtype": "float64",
                  "stats": {
                    "unique_count": 4,
                    "nan_count": 0,
                    "min": 1304.6,
                    "max": 1305.1,
                    "histogram": [
                      {
                        "bin_start": 1304.6,
                        "bin_end": 1304.6499999999999,
                        "count": 1
                      },
                      {
                        "bin_start": 1304.6499999999999,
                        "bin_end": 1304.6999999999998,
                        "count": 0
                      },
                      {
                        "bin_start": 1304.6999999999998,
                        "bin_end": 1304.75,
                        "count": 1
                      },
                      {
                        "bin_start": 1304.75,
                        "bin_end": 1304.8,
                        "count": 0
                      },
                      {
                        "bin_start": 1304.8,
                        "bin_end": 1304.85,
                        "count": 0
                      },
                      {
                        "bin_start": 1304.85,
                        "bin_end": 1304.8999999999999,
                        "count": 0
                      },
                      {
                        "bin_start": 1304.8999999999999,
                        "bin_end": 1304.9499999999998,
                        "count": 0
                      },
                      {
                        "bin_start": 1304.9499999999998,
                        "bin_end": 1305,
                        "count": 0
                      },
                      {
                        "bin_start": 1305,
                        "bin_end": 1305.05,
                        "count": 1
                      },
                      {
                        "bin_start": 1305.05,
                        "bin_end": 1305.1,
                        "count": 2
                      }
                    ]
                  }
                },
                {
                  "name": "close",
                  "dtype": "float64",
                  "stats": {
                    "unique_count": 5,
                    "nan_count": 0,
                    "min": 1304.7,
                    "max": 1305.4,
                    "histogram": [
                      {
                        "bin_start": 1304.7,
                        "bin_end": 1304.77,
                        "count": 1
                      },
                      {
                        "bin_start": 1304.77,
                        "bin_end": 1304.8400000000001,
                        "count": 0
                      },
                      {
                        "bin_start": 1304.8400000000001,
                        "bin_end": 1304.91,
                        "count": 0
                      },
                      {
                        "bin_start": 1304.91,
                        "bin_end": 1304.98,
                        "count": 0
                      },
                      {
                        "bin_start": 1304.98,
                        "bin_end": 1305.0500000000002,
                        "count": 1
                      },
                      {
                        "bin_start": 1305.0500000000002,
                        "bin_end": 1305.1200000000001,
                        "count": 1
                      },
                      {
                        "bin_start": 1305.1200000000001,
                        "bin_end": 1305.19,
                        "count": 0
                      },
                      {
                        "bin_start": 1305.19,
                        "bin_end": 1305.26,
                        "count": 1
                      },
                      {
                        "bin_start": 1305.26,
                        "bin_end": 1305.3300000000002,
                        "count": 0
                      },
                      {
                        "bin_start": 1305.3300000000002,
                        "bin_end": 1305.4,
                        "count": 1
                      }
                    ]
                  }
                },
                {
                  "name": "vol",
                  "dtype": "int64",
                  "stats": {
                    "unique_count": 5,
                    "nan_count": 0,
                    "min": 23,
                    "max": 407,
                    "histogram": [
                      {
                        "bin_start": 23,
                        "bin_end": 61.4,
                        "count": 2
                      },
                      {
                        "bin_start": 61.4,
                        "bin_end": 99.8,
                        "count": 2
                      },
                      {
                        "bin_start": 99.8,
                        "bin_end": 138.2,
                        "count": 0
                      },
                      {
                        "bin_start": 138.2,
                        "bin_end": 176.6,
                        "count": 0
                      },
                      {
                        "bin_start": 176.6,
                        "bin_end": 215,
                        "count": 0
                      },
                      {
                        "bin_start": 215,
                        "bin_end": 253.39999999999998,
                        "count": 0
                      },
                      {
                        "bin_start": 253.39999999999998,
                        "bin_end": 291.8,
                        "count": 0
                      },
                      {
                        "bin_start": 291.8,
                        "bin_end": 330.2,
                        "count": 0
                      },
                      {
                        "bin_start": 330.2,
                        "bin_end": 368.59999999999997,
                        "count": 0
                      },
                      {
                        "bin_start": 368.59999999999997,
                        "bin_end": 407,
                        "count": 1
                      }
                    ]
                  }
                },
                {
                  "name": "_deepnote_index_column",
                  "dtype": "int64"
                }
              ],
              "rows_top": [
                {
                  "ts": "2018-01-02T02:01:00.000000",
                  "open": 1305.3,
                  "high": 1305.9,
                  "low": 1304.6,
                  "close": 1304.7,
                  "vol": 407,
                  "_deepnote_index_column": 0
                },
                {
                  "ts": "2018-01-02T02:02:00.000000",
                  "open": 1304.7,
                  "high": 1305.1,
                  "low": 1304.7,
                  "close": 1305,
                  "vol": 91,
                  "_deepnote_index_column": 1
                },
                {
                  "ts": "2018-01-02T02:03:00.000000",
                  "open": 1305,
                  "high": 1305.4,
                  "low": 1305,
                  "close": 1305.4,
                  "vol": 42,
                  "_deepnote_index_column": 2
                },
                {
                  "ts": "2018-01-02T02:04:00.000000",
                  "open": 1305.4,
                  "high": 1305.5,
                  "low": 1305.1,
                  "close": 1305.2,
                  "vol": 89,
                  "_deepnote_index_column": 3
                },
                {
                  "ts": "2018-01-02T02:05:00.000000",
                  "open": 1305.2,
                  "high": 1305.2,
                  "low": 1305.1,
                  "close": 1305.1,
                  "vol": 23,
                  "_deepnote_index_column": 4
                }
              ],
              "rows_bottom": null
            },
            "text/plain": "                   ts    open    high     low   close  vol\n0 2018-01-02 02:01:00  1305.3  1305.9  1304.6  1304.7  407\n1 2018-01-02 02:02:00  1304.7  1305.1  1304.7  1305.0   91\n2 2018-01-02 02:03:00  1305.0  1305.4  1305.0  1305.4   42\n3 2018-01-02 02:04:00  1305.4  1305.5  1305.1  1305.2   89\n4 2018-01-02 02:05:00  1305.2  1305.2  1305.1  1305.1   23",
            "text/html": "<div>\n<style scoped>\n    .dataframe tbody tr th:only-of-type {\n        vertical-align: middle;\n    }\n\n    .dataframe tbody tr th {\n        vertical-align: top;\n    }\n\n    .dataframe thead th {\n        text-align: right;\n    }\n</style>\n<table border=\"1\" class=\"dataframe\">\n  <thead>\n    <tr style=\"text-align: right;\">\n      <th></th>\n      <th>ts</th>\n      <th>open</th>\n      <th>high</th>\n      <th>low</th>\n      <th>close</th>\n      <th>vol</th>\n    </tr>\n  </thead>\n  <tbody>\n    <tr>\n      <th>0</th>\n      <td>2018-01-02 02:01:00</td>\n      <td>1305.3</td>\n      <td>1305.9</td>\n      <td>1304.6</td>\n      <td>1304.7</td>\n      <td>407</td>\n    </tr>\n    <tr>\n      <th>1</th>\n      <td>2018-01-02 02:02:00</td>\n      <td>1304.7</td>\n      <td>1305.1</td>\n      <td>1304.7</td>\n      <td>1305.0</td>\n      <td>91</td>\n    </tr>\n    <tr>\n      <th>2</th>\n      <td>2018-01-02 02:03:00</td>\n      <td>1305.0</td>\n      <td>1305.4</td>\n      <td>1305.0</td>\n      <td>1305.4</td>\n      <td>42</td>\n    </tr>\n    <tr>\n      <th>3</th>\n      <td>2018-01-02 02:04:00</td>\n      <td>1305.4</td>\n      <td>1305.5</td>\n      <td>1305.1</td>\n      <td>1305.2</td>\n      <td>89</td>\n    </tr>\n    <tr>\n      <th>4</th>\n      <td>2018-01-02 02:05:00</td>\n      <td>1305.2</td>\n      <td>1305.2</td>\n      <td>1305.1</td>\n      <td>1305.1</td>\n      <td>23</td>\n    </tr>\n  </tbody>\n</table>\n</div>"
          },
          "metadata": {}
        }
      ]
    },
    {
      "cell_type": "code",
      "metadata": {
        "ExecuteTime": {
          "end_time": "2019-08-11T18:33:44.132485Z",
          "start_time": "2019-08-11T18:33:43.866196Z"
        },
        "cell_id": "00004-3a6fd25d-72aa-4ae2-bfde-986eda8ef2f2",
        "deepnote_to_be_reexecuted": false,
        "source_hash": "b04739d3",
        "execution_start": 1614797942833,
        "execution_millis": 559,
        "deepnote_cell_type": "code"
      },
      "source": "df = df.iloc[:1440]\n\n## cвоя функция аггреагции: возвращаем наименьшее значение\ndef myFunc(value):\n    return min(value)\n\n## определяем, как аггрегировать данные в колонках\nconversion = {\n    'open' :  'first', ## для цены открытия берём первое значение \n    'close':  'max',  ## для цены закрытия - cреднее\n    'vol'  :  'sum',   ## суммируем объёмы сделок в этот час\n    'high' :  'max',   ## берём максимум пикового значения\n    'low'  :  myFunc   ## можно определить свою функцию аггрегации для наименьшого значения\n}\n\n## downsampling будем проводить по переменной времени - ts\ndf = df.set_index('ts')\n## уменьшаем частоту данных до 1 часа, аггрегируем данные, как описано выше\ndownsampled = df.resample('1H').apply(conversion)\n## возвращаем время ts из индекса в отдельную колонку\ndf = df.reset_index()\ndownsampled = downsampled.reset_index()\n\n## визуализируем\nf, ax = plt.subplots(figsize=(12, 8))\nax.plot(df.ts, df.close)\nax.plot(downsampled.ts, downsampled.close, c='r', marker='o', lw=0)\nax.legend(['Gold price', 'downsampled'])\nax.grid()\nplt.show()\n\ndownsampled.head()",
      "execution_count": null,
      "outputs": [
        {
          "data": {
            "text/plain": "<Figure size 864x576 with 1 Axes>",
            "image/png": "[encoded data removed]"
          },
          "metadata": {
            "needs_background": "light"
          },
          "output_type": "display_data"
        },
        {
          "output_type": "execute_result",
          "execution_count": 4,
          "data": {
            "application/vnd.deepnote.dataframe.v2+json": {
              "row_count": 5,
              "column_count": 6,
              "columns": [
                {
                  "name": "ts",
                  "dtype": "datetime64[ns]",
                  "stats": {
                    "unique_count": 5,
                    "nan_count": 0,
                    "min": "2018-01-02T02:00:00.000000",
                    "max": "2018-01-02T06:00:00.000000",
                    "histogram": [
                      {
                        "bin_start": 1514858400000000000,
                        "bin_end": 1514859840000000000,
                        "count": 1
                      },
                      {
                        "bin_start": 1514859840000000000,
                        "bin_end": 1514861280000000000,
                        "count": 0
                      },
                      {
                        "bin_start": 1514861280000000000,
                        "bin_end": 1514862720000000000,
                        "count": 1
                      },
                      {
                        "bin_start": 1514862720000000000,
                        "bin_end": 1514864160000000000,
                        "count": 0
                      },
                      {
                        "bin_start": 1514864160000000000,
                        "bin_end": 1514865600000000000,
                        "count": 0
                      },
                      {
                        "bin_start": 1514865600000000000,
                        "bin_end": 1514867040000000000,
                        "count": 1
                      },
                      {
                        "bin_start": 1514867040000000000,
                        "bin_end": 1514868480000000000,
                        "count": 0
                      },
                      {
                        "bin_start": 1514868480000000000,
                        "bin_end": 1514869920000000000,
                        "count": 1
                      },
                      {
                        "bin_start": 1514869920000000000,
                        "bin_end": 1514871360000000000,
                        "count": 0
                      },
                      {
                        "bin_start": 1514871360000000000,
                        "bin_end": 1514872800000000000,
                        "count": 1
                      }
                    ]
                  }
                },
                {
                  "name": "open",
                  "dtype": "float64",
                  "stats": {
                    "unique_count": 5,
                    "nan_count": 0,
                    "min": 1305.3,
                    "max": 1308.8,
                    "histogram": [
                      {
                        "bin_start": 1305.3,
                        "bin_end": 1305.6499999999999,
                        "count": 1
                      },
                      {
                        "bin_start": 1305.6499999999999,
                        "bin_end": 1306,
                        "count": 0
                      },
                      {
                        "bin_start": 1306,
                        "bin_end": 1306.35,
                        "count": 0
                      },
                      {
                        "bin_start": 1306.35,
                        "bin_end": 1306.7,
                        "count": 0
                      },
                      {
                        "bin_start": 1306.7,
                        "bin_end": 1307.05,
                        "count": 0
                      },
                      {
                        "bin_start": 1307.05,
                        "bin_end": 1307.3999999999999,
                        "count": 0
                      },
                      {
                        "bin_start": 1307.3999999999999,
                        "bin_end": 1307.75,
                        "count": 0
                      },
                      {
                        "bin_start": 1307.75,
                        "bin_end": 1308.1,
                        "count": 2
                      },
                      {
                        "bin_start": 1308.1,
                        "bin_end": 1308.45,
                        "count": 1
                      },
                      {
                        "bin_start": 1308.45,
                        "bin_end": 1308.8,
                        "count": 1
                      }
                    ]
                  }
                },
                {
                  "name": "close",
                  "dtype": "float64",
                  "stats": {
                    "unique_count": 5,
                    "nan_count": 0,
                    "min": 1308.7,
                    "max": 1309.5,
                    "histogram": [
                      {
                        "bin_start": 1308.7,
                        "bin_end": 1308.78,
                        "count": 1
                      },
                      {
                        "bin_start": 1308.78,
                        "bin_end": 1308.8600000000001,
                        "count": 0
                      },
                      {
                        "bin_start": 1308.8600000000001,
                        "bin_end": 1308.94,
                        "count": 1
                      },
                      {
                        "bin_start": 1308.94,
                        "bin_end": 1309.02,
                        "count": 0
                      },
                      {
                        "bin_start": 1309.02,
                        "bin_end": 1309.1,
                        "count": 0
                      },
                      {
                        "bin_start": 1309.1,
                        "bin_end": 1309.18,
                        "count": 0
                      },
                      {
                        "bin_start": 1309.18,
                        "bin_end": 1309.26,
                        "count": 1
                      },
                      {
                        "bin_start": 1309.26,
                        "bin_end": 1309.34,
                        "count": 1
                      },
                      {
                        "bin_start": 1309.34,
                        "bin_end": 1309.42,
                        "count": 0
                      },
                      {
                        "bin_start": 1309.42,
                        "bin_end": 1309.5,
                        "count": 1
                      }
                    ]
                  }
                },
                {
                  "name": "vol",
                  "dtype": "int64",
                  "stats": {
                    "unique_count": 5,
                    "nan_count": 0,
                    "min": 4039,
                    "max": 7923,
                    "histogram": [
                      {
                        "bin_start": 4039,
                        "bin_end": 4427.4,
                        "count": 1
                      },
                      {
                        "bin_start": 4427.4,
                        "bin_end": 4815.8,
                        "count": 1
                      },
                      {
                        "bin_start": 4815.8,
                        "bin_end": 5204.2,
                        "count": 1
                      },
                      {
                        "bin_start": 5204.2,
                        "bin_end": 5592.6,
                        "count": 1
                      },
                      {
                        "bin_start": 5592.6,
                        "bin_end": 5981,
                        "count": 0
                      },
                      {
                        "bin_start": 5981,
                        "bin_end": 6369.4,
                        "count": 0
                      },
                      {
                        "bin_start": 6369.4,
                        "bin_end": 6757.799999999999,
                        "count": 0
                      },
                      {
                        "bin_start": 6757.799999999999,
                        "bin_end": 7146.2,
                        "count": 0
                      },
                      {
                        "bin_start": 7146.2,
                        "bin_end": 7534.6,
                        "count": 0
                      },
                      {
                        "bin_start": 7534.6,
                        "bin_end": 7923,
                        "count": 1
                      }
                    ]
                  }
                },
                {
                  "name": "high",
                  "dtype": "float64",
                  "stats": {
                    "unique_count": 4,
                    "nan_count": 0,
                    "min": 1308.7,
                    "max": 1309.7,
                    "histogram": [
                      {
                        "bin_start": 1308.7,
                        "bin_end": 1308.8,
                        "count": 1
                      },
                      {
                        "bin_start": 1308.8,
                        "bin_end": 1308.9,
                        "count": 0
                      },
                      {
                        "bin_start": 1308.9,
                        "bin_end": 1309,
                        "count": 0
                      },
                      {
                        "bin_start": 1309,
                        "bin_end": 1309.1000000000001,
                        "count": 1
                      },
                      {
                        "bin_start": 1309.1000000000001,
                        "bin_end": 1309.2,
                        "count": 0
                      },
                      {
                        "bin_start": 1309.2,
                        "bin_end": 1309.3,
                        "count": 0
                      },
                      {
                        "bin_start": 1309.3,
                        "bin_end": 1309.4,
                        "count": 2
                      },
                      {
                        "bin_start": 1309.4,
                        "bin_end": 1309.5,
                        "count": 0
                      },
                      {
                        "bin_start": 1309.5,
                        "bin_end": 1309.6000000000001,
                        "count": 0
                      },
                      {
                        "bin_start": 1309.6000000000001,
                        "bin_end": 1309.7,
                        "count": 1
                      }
                    ]
                  }
                },
                {
                  "name": "low",
                  "dtype": "float64",
                  "stats": {
                    "unique_count": 4,
                    "nan_count": 0,
                    "min": 1304.6,
                    "max": 1307.4,
                    "histogram": [
                      {
                        "bin_start": 1304.6,
                        "bin_end": 1304.8799999999999,
                        "count": 1
                      },
                      {
                        "bin_start": 1304.8799999999999,
                        "bin_end": 1305.1599999999999,
                        "count": 0
                      },
                      {
                        "bin_start": 1305.1599999999999,
                        "bin_end": 1305.44,
                        "count": 0
                      },
                      {
                        "bin_start": 1305.44,
                        "bin_end": 1305.72,
                        "count": 0
                      },
                      {
                        "bin_start": 1305.72,
                        "bin_end": 1306,
                        "count": 0
                      },
                      {
                        "bin_start": 1306,
                        "bin_end": 1306.28,
                        "count": 1
                      },
                      {
                        "bin_start": 1306.28,
                        "bin_end": 1306.56,
                        "count": 0
                      },
                      {
                        "bin_start": 1306.56,
                        "bin_end": 1306.8400000000001,
                        "count": 0
                      },
                      {
                        "bin_start": 1306.8400000000001,
                        "bin_end": 1307.1200000000001,
                        "count": 0
                      },
                      {
                        "bin_start": 1307.1200000000001,
                        "bin_end": 1307.4,
                        "count": 3
                      }
                    ]
                  }
                },
                {
                  "name": "_deepnote_index_column",
                  "dtype": "int64"
                }
              ],
              "rows_top": [
                {
                  "ts": "2018-01-02T02:00:00.000000",
                  "open": 1305.3,
                  "close": 1309.5,
                  "vol": 5284,
                  "high": 1309.7,
                  "low": 1304.6,
                  "_deepnote_index_column": 0
                },
                {
                  "ts": "2018-01-02T03:00:00.000000",
                  "open": 1308.8,
                  "close": 1309.3,
                  "vol": 4906,
                  "high": 1309.3,
                  "low": 1307.3,
                  "_deepnote_index_column": 1
                },
                {
                  "ts": "2018-01-02T04:00:00.000000",
                  "open": 1308.4,
                  "close": 1308.9,
                  "vol": 7923,
                  "high": 1309,
                  "low": 1306.2,
                  "_deepnote_index_column": 2
                },
                {
                  "ts": "2018-01-02T05:00:00.000000",
                  "open": 1308,
                  "close": 1308.7,
                  "vol": 4039,
                  "high": 1308.7,
                  "low": 1307.4,
                  "_deepnote_index_column": 3
                },
                {
                  "ts": "2018-01-02T06:00:00.000000",
                  "open": 1307.8,
                  "close": 1309.2,
                  "vol": 4529,
                  "high": 1309.3,
                  "low": 1307.3,
                  "_deepnote_index_column": 4
                }
              ],
              "rows_bottom": null
            },
            "text/plain": "                   ts    open   close   vol    high     low\n0 2018-01-02 02:00:00  1305.3  1309.5  5284  1309.7  1304.6\n1 2018-01-02 03:00:00  1308.8  1309.3  4906  1309.3  1307.3\n2 2018-01-02 04:00:00  1308.4  1308.9  7923  1309.0  1306.2\n3 2018-01-02 05:00:00  1308.0  1308.7  4039  1308.7  1307.4\n4 2018-01-02 06:00:00  1307.8  1309.2  4529  1309.3  1307.3",
            "text/html": "<div>\n<style scoped>\n    .dataframe tbody tr th:only-of-type {\n        vertical-align: middle;\n    }\n\n    .dataframe tbody tr th {\n        vertical-align: top;\n    }\n\n    .dataframe thead th {\n        text-align: right;\n    }\n</style>\n<table border=\"1\" class=\"dataframe\">\n  <thead>\n    <tr style=\"text-align: right;\">\n      <th></th>\n      <th>ts</th>\n      <th>open</th>\n      <th>close</th>\n      <th>vol</th>\n      <th>high</th>\n      <th>low</th>\n    </tr>\n  </thead>\n  <tbody>\n    <tr>\n      <th>0</th>\n      <td>2018-01-02 02:00:00</td>\n      <td>1305.3</td>\n      <td>1309.5</td>\n      <td>5284</td>\n      <td>1309.7</td>\n      <td>1304.6</td>\n    </tr>\n    <tr>\n      <th>1</th>\n      <td>2018-01-02 03:00:00</td>\n      <td>1308.8</td>\n      <td>1309.3</td>\n      <td>4906</td>\n      <td>1309.3</td>\n      <td>1307.3</td>\n    </tr>\n    <tr>\n      <th>2</th>\n      <td>2018-01-02 04:00:00</td>\n      <td>1308.4</td>\n      <td>1308.9</td>\n      <td>7923</td>\n      <td>1309.0</td>\n      <td>1306.2</td>\n    </tr>\n    <tr>\n      <th>3</th>\n      <td>2018-01-02 05:00:00</td>\n      <td>1308.0</td>\n      <td>1308.7</td>\n      <td>4039</td>\n      <td>1308.7</td>\n      <td>1307.4</td>\n    </tr>\n    <tr>\n      <th>4</th>\n      <td>2018-01-02 06:00:00</td>\n      <td>1307.8</td>\n      <td>1309.2</td>\n      <td>4529</td>\n      <td>1309.3</td>\n      <td>1307.3</td>\n    </tr>\n  </tbody>\n</table>\n</div>"
          },
          "metadata": {}
        }
      ]
    },
    {
      "cell_type": "code",
      "metadata": {
        "ExecuteTime": {
          "end_time": "2019-08-11T18:34:16.711614Z",
          "start_time": "2019-08-11T18:34:16.706673Z"
        },
        "cell_id": "00005-cfc2c350-8bd2-4934-9004-6e3e5e5b114a",
        "deepnote_cell_type": "code"
      },
      "source": "print(f'len(df) = {len(df)}')\nprint(f'len(downsampled) = {len(downsampled)}')",
      "execution_count": null,
      "outputs": [
        {
          "name": "stdout",
          "output_type": "stream",
          "text": "len(df) = 1440\nlen(downsampled) = 26\n"
        }
      ]
    },
    {
      "cell_type": "markdown",
      "source": "# Upsampling",
      "metadata": {
        "cell_id": "00006-f2180204-8c31-4da8-832c-c6e5389fda30",
        "deepnote_cell_type": "markdown"
      }
    },
    {
      "cell_type": "code",
      "metadata": {
        "ExecuteTime": {
          "end_time": "2019-08-11T18:34:55.281732Z",
          "start_time": "2019-08-11T18:34:54.733199Z"
        },
        "cell_id": "00007-9f9e487e-a73d-4c4a-9b93-cad27a969df5",
        "deepnote_cell_type": "code"
      },
      "source": "df = pd.read_csv('gold_clean.csv')\n\ndf['unixtime'] = df.ts\n## преобразуем юниксовое время в таймстемп\ndf['ts'] = pd.to_datetime(df.ts)\n## возьмём только первый час данных (60 минут)\ndf = df.iloc[:60]\n\n## cделаем интерполяционную сетку, 120 значений (каждые 30 секунд)\n## np.interp не умеет работать с таймстемпами, поэтому будем использовать\n## юниксовое время, являющееся просто int\nti = np.linspace(df.unixtime.min(), df.unixtime.max(), 120)\n## интерполируем\nupsampled = np.interp(ti, df.unixtime, df.close)\n## переведём интерполяционную сетку в таймстемп\nts = pd.to_datetime(ti)\n\n## визуализируем\nf, ax = plt.subplots(figsize=(12, 8))\n## исходные данные\nax.plot(df.ts, df.close, marker='o', lw=0)\n## красными кружками помечаем моменты, в которые мы теперь имеем данные\nax.plot(ts, upsampled, c='r', marker='o', lw=0, markersize=3)\nax.legend(['original', 'upsampled'])\nax.grid()\nplt.show()",
      "execution_count": null,
      "outputs": [
        {
          "data": {
            "image/png": "[encoded data removed]",
            "text/plain": "<Figure size 864x576 with 1 Axes>"
          },
          "metadata": {
            "needs_background": "light"
          },
          "output_type": "display_data"
        }
      ]
    },
    {
      "cell_type": "markdown",
      "source": "# Понижение разрешения (Downsampling)",
      "metadata": {
        "cell_id": "00008-7c7229e2-8800-46ed-bbe9-4fdca39e3f17",
        "deepnote_cell_type": "markdown"
      }
    },
    {
      "cell_type": "code",
      "metadata": {
        "ExecuteTime": {
          "end_time": "2019-08-11T18:02:19.330763Z",
          "start_time": "2019-08-11T18:02:18.776244Z"
        },
        "cell_id": "00009-d75a09a2-63e4-4e83-b115-1b6709bfa707",
        "deepnote_cell_type": "code"
      },
      "source": "df = pd.read_csv('gold_clean.csv')\ndf = df.iloc[:1000]\n\ndf['timestamp'] = pd.to_datetime(df.ts) \n\ndf = df[['timestamp', 'close']]\nconversion = {'close' : 'mean'}\n\ndf = df.set_index('timestamp')\ndf_resampled = df.resample('1H').apply(conversion)\ndf = df.reset_index()\ndf_resampled = df_resampled.reset_index()\n\nf, ax = plt.subplots(figsize=(16, 8))\nax.plot(df.timestamp, df.close)\nax.plot(df_resampled.timestamp, df_resampled.close, c='r', lw=0, marker='o')\nax.grid()\n\ndf.head()",
      "execution_count": null,
      "outputs": []
    },
    {
      "cell_type": "code",
      "metadata": {
        "cell_id": "00010-fb9d68f9-0032-4943-8fdd-31ce57ca5f9b",
        "deepnote_cell_type": "code"
      },
      "source": "",
      "execution_count": null,
      "outputs": []
    },
    {
      "cell_type": "markdown",
      "source": "<a style='text-decoration:none;line-height:16px;display:flex;color:#5B5B62;padding:10px;justify-content:end;' href='https://deepnote.com?utm_source=created-in-deepnote-cell&projectId=762381e0-0fb5-4cfa-9159-464420420d1d' target=\"_blank\">\n<img style='display:inline;max-height:16px;margin:0px;margin-right:7.5px;' src='data:image/svg+xml;base64,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' > </img>\nCreated in <span style='font-weight:600;margin-left:4px;'>Deepnote</span></a>",
      "metadata": {
        "tags": [],
        "created_in_deepnote_cell": true,
        "deepnote_cell_type": "markdown"
      }
    }
  ],
  "nbformat": 4,
  "nbformat_minor": 2,
  "metadata": {
    "kernelspec": {
      "display_name": "Python 3",
      "language": "python",
      "name": "python3"
    },
    "language_info": {
      "codemirror_mode": {
        "name": "ipython",
        "version": 3
      },
      "file_extension": ".py",
      "mimetype": "text/x-python",
      "name": "python",
      "nbconvert_exporter": "python",
      "pygments_lexer": "ipython3",
      "version": "3.7.3"
    },
    "toc": {
      "base_numbering": 1,
      "nav_menu": {},
      "number_sections": true,
      "sideBar": true,
      "skip_h1_title": false,
      "title_cell": "Table of Contents",
      "title_sidebar": "Contents",
      "toc_cell": false,
      "toc_position": {},
      "toc_section_display": true,
      "toc_window_display": false
    },
    "varInspector": {
      "cols": {
        "lenName": 16,
        "lenType": 16,
        "lenVar": 40
      },
      "kernels_config": {
        "python": {
          "delete_cmd_postfix": "",
          "delete_cmd_prefix": "del ",
          "library": "var_list.py",
          "varRefreshCmd": "print(var_dic_list())"
        },
        "r": {
          "delete_cmd_postfix": ") ",
          "delete_cmd_prefix": "rm(",
          "library": "var_list.r",
          "varRefreshCmd": "cat(var_dic_list()) "
        }
      },
      "types_to_exclude": [
        "module",
        "function",
        "builtin_function_or_method",
        "instance",
        "_Feature"
      ],
      "window_display": false
    },
    "deepnote_notebook_id": "09055d31-4680-4299-a8e4-6d863036ff5d",
    "deepnote": {},
    "deepnote_execution_queue": []
  }
}