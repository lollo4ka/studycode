{
  "cells": [
    {
      "cell_type": "code",
      "metadata": {
        "tags": [],
        "cell_id": "00000-f38fd3ce-84e5-44a9-884b-40ba1f831b97",
        "deepnote_to_be_reexecuted": false,
        "source_hash": "71472e05",
        "execution_start": 1615313981933,
        "execution_millis": 2276,
        "deepnote_cell_type": "code"
      },
      "source": "import pandas as pd\nimport numpy as np\nimport matplotlib.pyplot as plt\n\nfrom sklearn.model_selection import cross_val_score, train_test_split\nfrom sklearn.ensemble import BaggingClassifier, RandomForestClassifier\nfrom sklearn.tree import DecisionTreeClassifier\nfrom sklearn.linear_model import LogisticRegression\nfrom sklearn.preprocessing import StandardScaler\ndf = pd.read_csv('/work/data/HR-dataset.csv')\n\n# Сделаем базовую предобработку данных: удалим признак, который отвечает за идентификатор пользователя как нерепрезетативный признак.\nnp.random.seed(42)\n%matplotlib inline\n%config InlineBackend.figure_format = 'retina'\n\ntarget = 'left'\nfeatures = df.columns.drop(target)\nfeatures = features.drop('empid')  # Удалим идентификатор пользователя как нерепрезентативный признак\nprint(features)\n\nX, y = df[features].copy(), df[target]",
      "execution_count": null,
      "outputs": [
        {
          "name": "stdout",
          "text": "Index(['satisfaction_level', 'last_evaluation', 'number_project',\n       'average_montly_hours', 'time_spend_company', 'Work_accident',\n       'promotion_last_5years', 'dept', 'salary'],\n      dtype='object')\n",
          "output_type": "stream"
        }
      ]
    },
    {
      "cell_type": "markdown",
      "source": "Заменим идентификатор отдела, к которому относился сотрудник, на количество людей в отделе, а зарплату — на ординальную категорию. Масштабируем признаки для последующего сравнения результатов.",
      "metadata": {
        "tags": [],
        "cell_id": "00001-6060bc4d-0311-4caf-ace9-8466b078a6cd",
        "deepnote_cell_type": "markdown"
      }
    },
    {
      "cell_type": "code",
      "metadata": {
        "tags": [],
        "cell_id": "00001-8abe6ed5-d30d-4694-822a-a3179ff1f60d",
        "deepnote_to_be_reexecuted": false,
        "source_hash": "e2a0e200",
        "execution_start": 1615314129490,
        "execution_millis": 20,
        "deepnote_cell_type": "code"
      },
      "source": "salary_ordinals = {'low': 1, 'medium': 2, 'high': 3}\n\nX['dept'] = X['dept'].apply(X['dept'].value_counts().get)\nX['salary'] = X['salary'].apply(salary_ordinals.get)",
      "execution_count": null,
      "outputs": []
    },
    {
      "cell_type": "code",
      "metadata": {
        "tags": [],
        "cell_id": "00003-6e12ff9e-05ac-4256-b1c0-384ce9ceecdd",
        "deepnote_to_be_reexecuted": false,
        "source_hash": "7a9fa3a0",
        "execution_start": 1615314141977,
        "execution_millis": 8,
        "deepnote_cell_type": "code"
      },
      "source": "scaler = StandardScaler()\nX = pd.DataFrame(data=scaler.fit_transform(X), columns=X.columns)",
      "execution_count": null,
      "outputs": []
    },
    {
      "cell_type": "markdown",
      "source": "В дальнейшем будем оценивать качество модели на кросс-валидации на пяти фолдах при помощи точности ().\n",
      "metadata": {
        "tags": [],
        "cell_id": "00004-295575bc-7328-4995-8b58-01dc5a147463",
        "deepnote_cell_type": "markdown"
      }
    },
    {
      "cell_type": "code",
      "metadata": {
        "tags": [],
        "cell_id": "00004-8a941e33-3d1c-490d-b364-0b11667eef36",
        "deepnote_to_be_reexecuted": false,
        "source_hash": "fd52f394",
        "execution_start": 1615314169496,
        "execution_millis": 1,
        "deepnote_cell_type": "code"
      },
      "source": "def estimate_accuracy(clf, X, y, cv=5):\n    return cross_val_score(clf, X, y, cv=5, scoring='accuracy').mean()",
      "execution_count": null,
      "outputs": []
    },
    {
      "cell_type": "markdown",
      "source": "Бэггинг (bagging, сокр. от bootstrap aggregating)  — метод построения композиции алгоритмов, в котором каждый алгоритм строится независимо от других на подвыборках обучающей выборки. Итоговый алгоритм принимает решения посредством голосования среди всех алгоритмов (возвращается самый частый ответ).",
      "metadata": {
        "tags": [],
        "cell_id": "00006-bac2ba02-4de6-4c8a-b3c1-c99c90a1491b",
        "deepnote_cell_type": "markdown"
      }
    },
    {
      "cell_type": "code",
      "metadata": {
        "tags": [],
        "cell_id": "00006-b3d6010e-069c-4d06-ae4a-ca16d297206c",
        "deepnote_to_be_reexecuted": false,
        "source_hash": "f285e391",
        "execution_start": 1615314200928,
        "execution_millis": 127,
        "deepnote_cell_type": "code"
      },
      "source": "tree = DecisionTreeClassifier(max_depth=30)\nprint(\"Decision tree:\", estimate_accuracy(tree, X, y))",
      "execution_count": null,
      "outputs": [
        {
          "name": "stdout",
          "text": "Decision tree: 0.9731310659108592\n",
          "output_type": "stream"
        }
      ]
    },
    {
      "cell_type": "markdown",
      "source": "Проведём бэггинг: для этого достаточно обернуть исходный классификатор в BaggingClassifier.\n",
      "metadata": {
        "tags": [],
        "cell_id": "00008-1a1b6946-7cd2-45a4-b3b8-76fbd5a28e74",
        "deepnote_cell_type": "markdown"
      }
    },
    {
      "cell_type": "code",
      "metadata": {
        "tags": [],
        "cell_id": "00008-4e9db533-4504-4bd2-9008-40c870b5bffa",
        "deepnote_to_be_reexecuted": false,
        "source_hash": "1e9bea5b",
        "execution_start": 1615314236558,
        "execution_millis": 1006,
        "deepnote_cell_type": "code"
      },
      "source": "bagging_trees = BaggingClassifier(tree)\nprint(\"Decision tree bagging:\", estimate_accuracy(bagging_trees, X, y))",
      "execution_count": null,
      "outputs": [
        {
          "name": "stdout",
          "text": "Decision tree bagging: 0.9880660886962321\n",
          "output_type": "stream"
        }
      ]
    },
    {
      "cell_type": "markdown",
      "source": "Композиция отдельных деревьев показывает себя лучше, чем одно дерево. Структура дерева серьёзно зависит от обучающей выборки. Это значит, что если немного изменить обучающую выборку, то дерево сильно изменится. Бэггинг идеально подходит в этом случае, поскольку композиция алгоритмов при помощи голосования работает наилучшим образом, когда модели различны.\n\nУвеличить различность построенных деревьев можно, указав параметры max_features и max_depth.",
      "metadata": {
        "tags": [],
        "cell_id": "00010-d7a17b53-0d04-4e5e-ad8e-fed22b67d7af",
        "deepnote_cell_type": "markdown"
      }
    },
    {
      "cell_type": "code",
      "metadata": {
        "tags": [],
        "cell_id": "00010-017ced5e-14e7-42dd-9d6f-7ae1e89e564b",
        "deepnote_to_be_reexecuted": false,
        "source_hash": "475589d2",
        "execution_start": 1615314301433,
        "execution_millis": 51,
        "deepnote_cell_type": "code"
      },
      "source": "random_tree = DecisionTreeClassifier(max_features=int(np.sqrt(len(features))), max_depth=30)\nprint(\"Random tree:\", estimate_accuracy(random_tree, X, y))",
      "execution_count": null,
      "outputs": [
        {
          "name": "stdout",
          "text": "Random tree: 0.9778657330221184\n",
          "output_type": "stream"
        }
      ]
    },
    {
      "cell_type": "code",
      "metadata": {
        "tags": [],
        "cell_id": "00012-ef5f08a4-be76-4d9d-917f-077f29da5413",
        "deepnote_to_be_reexecuted": false,
        "source_hash": "edc7159",
        "execution_start": 1615314311641,
        "execution_millis": 482,
        "deepnote_cell_type": "code"
      },
      "source": "bagging_random_trees = BaggingClassifier(random_tree)\nprint(\"Random tree bagging:\", estimate_accuracy(bagging_random_trees, X, y))",
      "execution_count": null,
      "outputs": [
        {
          "name": "stdout",
          "text": "Random tree bagging: 0.9902662443036567\n",
          "output_type": "stream"
        }
      ]
    },
    {
      "cell_type": "code",
      "metadata": {
        "tags": [],
        "cell_id": "00013-697a6493-485e-4c1a-8c57-d466e869240b",
        "deepnote_cell_type": "code"
      },
      "source": "",
      "execution_count": null,
      "outputs": []
    },
    {
      "cell_type": "markdown",
      "source": "Именно так внутри и работает так называемый случайный лес (Random Forest): он обучает набор деревьев (параметр n_esimators), каждое из которых обучается на подмножестве признаков (Random Subspaces) и на подмножестве объектов (bootstrap). То есть случайный лес получается случайным по двум этим параметрам, а ответы аггрегируются при помощи голосования.\n\nСтандартная эвристика: в задаче классификации брать квадратный корень числа признаков, а в задаче регрессии — треть числа признаков.",
      "metadata": {
        "tags": [],
        "cell_id": "00014-4dd4d930-35bb-483a-b610-2092c33d396e",
        "deepnote_cell_type": "markdown"
      }
    },
    {
      "cell_type": "markdown",
      "source": "",
      "metadata": {
        "tags": [],
        "cell_id": "00015-65c13a16-b900-4c20-bca4-b83120bcab8f",
        "deepnote_cell_type": "markdown"
      }
    },
    {
      "cell_type": "code",
      "metadata": {
        "tags": [],
        "cell_id": "00016-373d1f69-709c-48f3-ba14-afed493d7c45",
        "deepnote_to_be_reexecuted": false,
        "source_hash": "e27ee2b2",
        "execution_start": 1615314351205,
        "execution_millis": 5861,
        "deepnote_cell_type": "code"
      },
      "source": "random_forest = RandomForestClassifier(\n    n_estimators=100,\n    n_jobs=-1,\n    max_features=int(np.sqrt(len(features))),\n    max_depth=30)\nprint(\"Random Forest:\", estimate_accuracy(random_forest, X, y))",
      "execution_count": null,
      "outputs": [
        {
          "name": "stdout",
          "text": "Random Forest: 0.9920663109925532\n",
          "output_type": "stream"
        }
      ]
    },
    {
      "cell_type": "code",
      "metadata": {
        "tags": [],
        "cell_id": "00017-ee6fcbed-c7e4-4922-81ec-8aed2c46d115",
        "deepnote_cell_type": "code"
      },
      "source": "",
      "execution_count": null,
      "outputs": []
    },
    {
      "cell_type": "markdown",
      "source": "Ещё одно преимущество использования бэггинга для аггрегации моделей — получение оценки работы классификатора без дополнительного проведения кросс-валидации при помощи out-of-bag score. Это метод вычисления произвольной оценки качества во время обучения бэггинга. Для подсчёта требуется указать параметр oob_score = True, что имеет смысл при достаточном количестве деревьев.",
      "metadata": {
        "tags": [],
        "cell_id": "00018-ecbb6c2f-75c9-4ea9-9344-1b03b3ca7dae",
        "deepnote_cell_type": "markdown"
      }
    },
    {
      "cell_type": "markdown",
      "source": "",
      "metadata": {
        "tags": [],
        "cell_id": "00019-9c7b5fff-9f0c-47a9-91ae-6e6b3a415962",
        "deepnote_cell_type": "markdown"
      }
    },
    {
      "cell_type": "code",
      "metadata": {
        "tags": [],
        "cell_id": "00020-ba3c1f51-295c-4cd7-aea9-f06d341b8cc5",
        "deepnote_to_be_reexecuted": false,
        "source_hash": "d4af323a",
        "execution_start": 1615314401099,
        "execution_millis": 1070,
        "deepnote_cell_type": "code"
      },
      "source": "random_forest = RandomForestClassifier(\n    n_estimators=100,\n    max_features=int(np.sqrt(len(features))),\n    max_depth=30,\n    oob_score=True,\n    n_jobs=-1\n)\nrandom_forest.fit(X, y)\nrandom_forest.oob_score_.mean()",
      "execution_count": null,
      "outputs": [
        {
          "output_type": "execute_result",
          "execution_count": 10,
          "data": {
            "text/plain": "0.9929995333022201"
          },
          "metadata": {}
        }
      ]
    },
    {
      "cell_type": "markdown",
      "source": "Метод бэггинга можно применять к произвольным алгоритмам, например, к логистической регрессии. \n\n",
      "metadata": {
        "tags": [],
        "cell_id": "00021-02081ee4-4dcb-4970-8cf8-aadb2c4430dd",
        "deepnote_cell_type": "markdown"
      }
    },
    {
      "cell_type": "code",
      "metadata": {
        "tags": [],
        "cell_id": "00021-59e46872-ef86-49e7-bdd3-af510141a608",
        "deepnote_to_be_reexecuted": false,
        "source_hash": "1f56b893",
        "execution_start": 1615314438557,
        "execution_millis": 2349,
        "deepnote_cell_type": "code"
      },
      "source": "lr = LogisticRegression(solver='saga', max_iter=200)\nlr.fit(X, y)\nprint(\"LR:\", estimate_accuracy(lr, X, y))\n\nrandom_logreg = BaggingClassifier(\n    lr,\n    n_estimators=10,\n    n_jobs=-1,\n    random_state=42\n)\nprint(\"Bagging for LR:\", estimate_accuracy(random_logreg, X, y))",
      "execution_count": null,
      "outputs": [
        {
          "name": "stdout",
          "text": "LR: 0.7709770367900411\nBagging for LR: 0.7701104368122708\n",
          "output_type": "stream"
        }
      ]
    },
    {
      "cell_type": "markdown",
      "source": "В её случае он не так сильно повышает качество, поскольку линейные модели не так сильно зависят от состава обучающей выборки. Попробуем убрать часть признаков.\n\n",
      "metadata": {
        "tags": [],
        "cell_id": "00023-f9d8cc52-44a7-4c03-812f-d0013fd85da6",
        "deepnote_cell_type": "markdown"
      }
    },
    {
      "cell_type": "code",
      "metadata": {
        "tags": [],
        "cell_id": "00023-9368b1bc-543a-4cfa-85ad-fc7017a0b2fb",
        "deepnote_to_be_reexecuted": false,
        "source_hash": "ef865dca",
        "execution_start": 1615314488671,
        "execution_millis": 1343,
        "deepnote_cell_type": "code"
      },
      "source": "random_logreg = BaggingClassifier(\n    lr,\n    n_estimators=10,\n    n_jobs=-1,\n    max_features=0.5,\n    random_state=42\n)\nprint(\"Bagging for LR:\", estimate_accuracy(random_logreg, X, y))",
      "execution_count": null,
      "outputs": [
        {
          "name": "stdout",
          "text": "Bagging for LR: 0.7569754140268978\n",
          "output_type": "stream"
        }
      ]
    },
    {
      "cell_type": "markdown",
      "source": "В случае линейной регрессии повышение разнообразности моделей не дает такого прироста, как с деревьями, поскольку модели сильно теряют в качестве. Случайный лес на примере нашей задачи справляется лучше.\n\nСравнение логистической регрессии и случайного леса:",
      "metadata": {
        "tags": [],
        "cell_id": "00026-b5b89860-0a51-45a0-a7cd-1c3c800ae4a2",
        "deepnote_cell_type": "markdown"
      }
    },
    {
      "cell_type": "code",
      "metadata": {
        "tags": [],
        "cell_id": "00025-79cdfad7-dc7b-495c-a405-e33c80c68c4a",
        "deepnote_to_be_reexecuted": false,
        "source_hash": "e4f3d1da",
        "execution_start": 1615314504933,
        "execution_millis": 4,
        "deepnote_cell_type": "code"
      },
      "source": "def plot_predictions(X, y, clf, proba=False, points_size=7, xlabel='x', ylabel='y'):\n    \"\"\"Fits the classifier on the data (X, y) and plots the result on a 2-D plane.\"\"\"\n    def get_grid(data):\n        x_std, y_std = data.std(axis=0)\n        x_min, x_max = data[:, 0].min() - x_std / 2, data[:, 0].max() + x_std / 2\n        y_min, y_max = data[:, 1].min() - y_std / 2, data[:, 1].max() + y_std / 2\n        return np.meshgrid(np.linspace(x_min, x_max, num=200),\n                           np.linspace(y_min, y_max, num=200))\n    \n    clf.fit(X, y)\n    xx, yy = get_grid(X)\n    if proba:\n        predicted = clf.predict_proba(np.c_[xx.ravel(), yy.ravel()])[:, 1].reshape(xx.shape)\n    else:\n        predicted = clf.predict(np.c_[xx.ravel(), yy.ravel()]).reshape(xx.shape)\n        \n    plt.figure(figsize=(10.0, 10.0))\n    plt.pcolormesh(xx, yy, predicted, cmap=plt.cm.coolwarm, alpha=0.1)\n    plt.scatter(X[:, 0], X[:, 1], c=y, s=points_size, cmap=plt.cm.coolwarm, alpha=0.90)\n    plt.ylim([yy.min(),yy.max()])\n    plt.xlim([xx.min(),xx.max()])\n    plt.xlabel(xlabel)\n    plt.ylabel(ylabel)\n    \n    return clf",
      "execution_count": null,
      "outputs": []
    },
    {
      "cell_type": "code",
      "metadata": {
        "tags": [],
        "cell_id": "00026-af4ddfa0-86b7-433b-baa2-01a63c9c0116",
        "deepnote_to_be_reexecuted": false,
        "source_hash": "6acf62d2",
        "execution_millis": 12,
        "execution_start": 1615314630755,
        "deepnote_cell_type": "code"
      },
      "source": "plot_predictions(X,y)",
      "execution_count": null,
      "outputs": [
        {
          "output_type": "error",
          "ename": "TypeError",
          "evalue": "plot_predictions() missing 1 required positional argument: 'clf'",
          "traceback": [
            "\u001b[0;31m---------------------------------------------------------------------------\u001b[0m",
            "\u001b[0;31mTypeError\u001b[0m                                 Traceback (most recent call last)",
            "\u001b[0;32m<ipython-input-18-2b8e6cc86007>\u001b[0m in \u001b[0;36m<module>\u001b[0;34m\u001b[0m\n\u001b[0;32m----> 1\u001b[0;31m \u001b[0mplot_predictions\u001b[0m\u001b[0;34m(\u001b[0m\u001b[0mX\u001b[0m\u001b[0;34m,\u001b[0m\u001b[0my\u001b[0m\u001b[0;34m)\u001b[0m\u001b[0;34m\u001b[0m\u001b[0;34m\u001b[0m\u001b[0m\n\u001b[0m",
            "\u001b[0;31mTypeError\u001b[0m: plot_predictions() missing 1 required positional argument: 'clf'"
          ]
        }
      ]
    },
    {
      "cell_type": "code",
      "metadata": {
        "tags": [],
        "cell_id": "00028-65ce90b0-6fa6-4685-bcb2-534b2ddc7a23",
        "deepnote_to_be_reexecuted": false,
        "source_hash": "58c4672c",
        "execution_millis": 0,
        "execution_start": 1615314690816,
        "deepnote_cell_type": "code"
      },
      "source": "from sklearn.datasets import load_digits",
      "execution_count": null,
      "outputs": []
    },
    {
      "cell_type": "code",
      "metadata": {
        "tags": [],
        "cell_id": "00029-e9e758f5-1f83-4995-ba59-46bf28cb1958",
        "deepnote_to_be_reexecuted": false,
        "source_hash": "c9b837bd",
        "execution_start": 1615314738585,
        "execution_millis": 8,
        "deepnote_cell_type": "code"
      },
      "source": "load_digits",
      "execution_count": null,
      "outputs": [
        {
          "output_type": "execute_result",
          "execution_count": 21,
          "data": {
            "text/plain": "<function sklearn.datasets._base.load_digits(*, n_class=10, return_X_y=False, as_frame=False)>"
          },
          "metadata": {}
        }
      ]
    },
    {
      "cell_type": "code",
      "metadata": {
        "tags": [],
        "cell_id": "00030-81827e47-694f-44f3-9134-d2b2bb75e2b4",
        "deepnote_to_be_reexecuted": false,
        "source_hash": "488d5139",
        "execution_start": 1615316559941,
        "execution_millis": 30,
        "deepnote_cell_type": "code"
      },
      "source": "data = load_digits()\n# X, Y = iris['data'], iris['target']",
      "execution_count": null,
      "outputs": []
    },
    {
      "cell_type": "code",
      "metadata": {
        "tags": [],
        "cell_id": "00031-2b1c0f2a-64de-4cbe-b940-8362cdd41a30",
        "deepnote_to_be_reexecuted": false,
        "source_hash": "8a9971ee",
        "execution_start": 1615316562022,
        "execution_millis": 32,
        "deepnote_cell_type": "code"
      },
      "source": "print(data['DESCR'])",
      "execution_count": null,
      "outputs": [
        {
          "name": "stdout",
          "text": ".. _digits_dataset:\n\nOptical recognition of handwritten digits dataset\n--------------------------------------------------\n\n**Data Set Characteristics:**\n\n    :Number of Instances: 1797\n    :Number of Attributes: 64\n    :Attribute Information: 8x8 image of integer pixels in the range 0..16.\n    :Missing Attribute Values: None\n    :Creator: E. Alpaydin (alpaydin '@' boun.edu.tr)\n    :Date: July; 1998\n\nThis is a copy of the test set of the UCI ML hand-written digits datasets\nhttps://archive.ics.uci.edu/ml/datasets/Optical+Recognition+of+Handwritten+Digits\n\nThe data set contains images of hand-written digits: 10 classes where\neach class refers to a digit.\n\nPreprocessing programs made available by NIST were used to extract\nnormalized bitmaps of handwritten digits from a preprinted form. From a\ntotal of 43 people, 30 contributed to the training set and different 13\nto the test set. 32x32 bitmaps are divided into nonoverlapping blocks of\n4x4 and the number of on pixels are counted in each block. This generates\nan input matrix of 8x8 where each element is an integer in the range\n0..16. This reduces dimensionality and gives invariance to small\ndistortions.\n\nFor info on NIST preprocessing routines, see M. D. Garris, J. L. Blue, G.\nT. Candela, D. L. Dimmick, J. Geist, P. J. Grother, S. A. Janet, and C.\nL. Wilson, NIST Form-Based Handprint Recognition System, NISTIR 5469,\n1994.\n\n.. topic:: References\n\n  - C. Kaynak (1995) Methods of Combining Multiple Classifiers and Their\n    Applications to Handwritten Digit Recognition, MSc Thesis, Institute of\n    Graduate Studies in Science and Engineering, Bogazici University.\n  - E. Alpaydin, C. Kaynak (1998) Cascading Classifiers, Kybernetika.\n  - Ken Tang and Ponnuthurai N. Suganthan and Xi Yao and A. Kai Qin.\n    Linear dimensionalityreduction using relevance weighted LDA. School of\n    Electrical and Electronic Engineering Nanyang Technological University.\n    2005.\n  - Claudio Gentile. A New Approximate Maximal Margin Classification\n    Algorithm. NIPS. 2000.\n\n",
          "output_type": "stream"
        }
      ]
    },
    {
      "cell_type": "code",
      "metadata": {
        "tags": [],
        "cell_id": "00032-4ad07228-0891-43b7-b638-8de7f78dcb8d",
        "deepnote_to_be_reexecuted": false,
        "source_hash": "a3e1235e",
        "execution_start": 1615316680377,
        "execution_millis": 0,
        "deepnote_cell_type": "code"
      },
      "source": "# Подготовить данные\n\nX, y = data['data'], data['target']\n\nX = np.hstack([np.ones(X.shape[0])[:, np.newaxis], X])",
      "execution_count": null,
      "outputs": []
    },
    {
      "cell_type": "code",
      "metadata": {
        "tags": [],
        "cell_id": "00033-36147515-9ed8-4645-bf61-d6d5a5e29ab6",
        "deepnote_to_be_reexecuted": false,
        "source_hash": "d6b9d8c8",
        "execution_start": 1615317146155,
        "execution_millis": 1,
        "deepnote_cell_type": "code"
      },
      "source": "def estimate_accuracy(clf, X, y, cv=10):\n    return cross_val_score(clf, X, y, cv=10, scoring='accuracy').mean()",
      "execution_count": null,
      "outputs": []
    },
    {
      "cell_type": "code",
      "metadata": {
        "tags": [],
        "cell_id": "00033-e4bf8cb9-45c3-42f4-819a-50327211e4f4",
        "deepnote_to_be_reexecuted": false,
        "source_hash": "1fc7b446",
        "execution_millis": 198,
        "execution_start": 1615317148383,
        "deepnote_cell_type": "code"
      },
      "source": "tree = DecisionTreeClassifier()\nprint(\"Decision tree:\", estimate_accuracy(tree, X, y))",
      "execution_count": null,
      "outputs": [
        {
          "name": "stdout",
          "text": "Decision tree: 0.8307976412166356\n",
          "output_type": "stream"
        }
      ]
    },
    {
      "cell_type": "code",
      "metadata": {
        "tags": [],
        "cell_id": "00034-a1994a15-b5bc-469e-85a2-a708a4bbaf56",
        "deepnote_to_be_reexecuted": false,
        "source_hash": "8bb3ca77",
        "execution_millis": 12926,
        "execution_start": 1615317303985,
        "deepnote_cell_type": "code"
      },
      "source": "bagging_trees = BaggingClassifier(tree, n_estimators=100)\nprint(\"Decision tree bagging:\", estimate_accuracy(bagging_trees, X, y))",
      "execution_count": null,
      "outputs": [
        {
          "name": "stdout",
          "text": "Decision tree bagging: 0.9226070763500932\n",
          "output_type": "stream"
        }
      ]
    },
    {
      "cell_type": "code",
      "metadata": {
        "tags": [],
        "cell_id": "00035-450df3a0-4ff2-4e07-894d-393c6ec5d59b",
        "deepnote_to_be_reexecuted": false,
        "source_hash": "ffcff39a",
        "execution_millis": 2498,
        "execution_start": 1615317730453,
        "deepnote_cell_type": "code"
      },
      "source": "bagging_trees = BaggingClassifier(\n    tree,\n    n_estimators=100,\n    n_jobs=-1,\n    max_features=int(np.sqrt(len(features))))\n    # max_depth=30)\nprint(\"Decision tree bagging:\", estimate_accuracy(bagging_trees, X, y))\n",
      "execution_count": null,
      "outputs": [
        {
          "name": "stdout",
          "text": "Decision tree bagging: 0.8530974549968964\n",
          "output_type": "stream"
        }
      ]
    },
    {
      "cell_type": "code",
      "metadata": {
        "tags": [],
        "cell_id": "00037-bc23586c-d7dc-4c83-8bb9-ec97b3124d93",
        "deepnote_to_be_reexecuted": false,
        "source_hash": "5a93dfd5",
        "execution_millis": 10,
        "execution_start": 1615317919922,
        "deepnote_cell_type": "code"
      },
      "source": "d_tree = DecisionTreeClassifier(\n    # n_estimators=100,\n    # n_jobs=-1,\n    max_features=int(np.sqrt(len(features))))\n    # max_depth=30)\nprint(\"Random Forest:\", estimate_accuracy(d_tree, X, y))",
      "execution_count": null,
      "outputs": [
        {
          "name": "stdout",
          "text": "Random Forest: 0.7095344506517691\n",
          "output_type": "stream"
        }
      ]
    },
    {
      "cell_type": "code",
      "metadata": {
        "tags": [],
        "cell_id": "00038-77a031e9-85cd-4e9a-a114-5330638e7ea7",
        "deepnote_cell_type": "code"
      },
      "source": "",
      "execution_count": null,
      "outputs": []
    },
    {
      "cell_type": "markdown",
      "source": "<a style='text-decoration:none;line-height:16px;display:flex;color:#5B5B62;padding:10px;justify-content:end;' href='https://deepnote.com?utm_source=created-in-deepnote-cell&projectId=762381e0-0fb5-4cfa-9159-464420420d1d' target=\"_blank\">\n<img style='display:inline;max-height:16px;margin:0px;margin-right:7.5px;' src='data:image/svg+xml;base64,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' > </img>\nCreated in <span style='font-weight:600;margin-left:4px;'>Deepnote</span></a>",
      "metadata": {
        "tags": [],
        "created_in_deepnote_cell": true,
        "deepnote_cell_type": "markdown"
      }
    }
  ],
  "nbformat": 4,
  "nbformat_minor": 2,
  "metadata": {
    "orig_nbformat": 2,
    "deepnote_notebook_id": "6cb3b1f5-0a74-469c-b2af-c8b392ad7deb",
    "deepnote": {},
    "deepnote_execution_queue": []
  }
}