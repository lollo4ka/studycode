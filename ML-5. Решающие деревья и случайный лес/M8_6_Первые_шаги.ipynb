{
  "cells": [
    {
      "cell_type": "markdown",
      "source": "# \"Первые шаги\"",
      "metadata": {
        "cell_id": "00000-14b78c44-d5d0-497e-8942-07bd558e9331",
        "deepnote_cell_type": "markdown"
      }
    },
    {
      "cell_type": "code",
      "metadata": {
        "ExecuteTime": {
          "end_time": "2019-08-11T16:38:24.515634Z",
          "start_time": "2019-08-11T16:38:22.013322Z"
        },
        "cell_id": "00001-a07fa0ef-2639-44dd-a2e0-64bfcf3b9354",
        "deepnote_cell_type": "code"
      },
      "source": "import numpy as np, pandas as pd\nimport matplotlib.pyplot as plt",
      "execution_count": null,
      "outputs": []
    },
    {
      "cell_type": "code",
      "metadata": {
        "ExecuteTime": {
          "end_time": "2019-08-11T16:38:27.710187Z",
          "start_time": "2019-08-11T16:38:27.679268Z"
        },
        "cell_id": "00002-fbebcbb3-8e85-4ae5-9ac7-e446183e85a0",
        "deepnote_cell_type": "code"
      },
      "source": "df = pd.read_csv('srt_data.csv')\ndf.head()",
      "execution_count": null,
      "outputs": [
        {
          "data": {
            "text/html": "<div>\n<style scoped>\n    .dataframe tbody tr th:only-of-type {\n        vertical-align: middle;\n    }\n\n    .dataframe tbody tr th {\n        vertical-align: top;\n    }\n\n    .dataframe thead th {\n        text-align: right;\n    }\n</style>\n<table border=\"1\" class=\"dataframe\">\n  <thead>\n    <tr style=\"text-align: right;\">\n      <th></th>\n      <th>ts</th>\n      <th>serialNo</th>\n      <th>home</th>\n      <th>batteryVoltageMilliV</th>\n      <th>insideTemperatureCentiC</th>\n      <th>humidityMilliPerc</th>\n    </tr>\n  </thead>\n  <tbody>\n    <tr>\n      <th>0</th>\n      <td>2018-10-01</td>\n      <td>VA4202760704</td>\n      <td>165132</td>\n      <td>2787.1310</td>\n      <td>1953.0737</td>\n      <td>575.49180</td>\n    </tr>\n    <tr>\n      <th>1</th>\n      <td>2018-10-02</td>\n      <td>VA4202760704</td>\n      <td>165132</td>\n      <td>2786.1047</td>\n      <td>1901.0000</td>\n      <td>550.63710</td>\n    </tr>\n    <tr>\n      <th>2</th>\n      <td>2018-10-03</td>\n      <td>VA4202760704</td>\n      <td>165132</td>\n      <td>2784.6934</td>\n      <td>1878.0369</td>\n      <td>550.09204</td>\n    </tr>\n    <tr>\n      <th>3</th>\n      <td>2018-10-04</td>\n      <td>VA4202760704</td>\n      <td>165132</td>\n      <td>2773.3500</td>\n      <td>1976.9114</td>\n      <td>583.65820</td>\n    </tr>\n    <tr>\n      <th>4</th>\n      <td>2018-10-05</td>\n      <td>VA4202760704</td>\n      <td>165132</td>\n      <td>2776.4314</td>\n      <td>2041.4010</td>\n      <td>589.74110</td>\n    </tr>\n  </tbody>\n</table>\n</div>",
            "text/plain": "           ts      serialNo    home  batteryVoltageMilliV  \\\n0  2018-10-01  VA4202760704  165132             2787.1310   \n1  2018-10-02  VA4202760704  165132             2786.1047   \n2  2018-10-03  VA4202760704  165132             2784.6934   \n3  2018-10-04  VA4202760704  165132             2773.3500   \n4  2018-10-05  VA4202760704  165132             2776.4314   \n\n   insideTemperatureCentiC  humidityMilliPerc  \n0                1953.0737          575.49180  \n1                1901.0000          550.63710  \n2                1878.0369          550.09204  \n3                1976.9114          583.65820  \n4                2041.4010          589.74110  "
          },
          "execution_count": 2,
          "metadata": {},
          "output_type": "execute_result"
        }
      ]
    },
    {
      "cell_type": "code",
      "metadata": {
        "ExecuteTime": {
          "end_time": "2019-08-11T16:38:42.642291Z",
          "start_time": "2019-08-11T16:38:42.637304Z"
        },
        "cell_id": "00003-a848743f-dde4-4683-9780-de722833331f",
        "deepnote_cell_type": "code"
      },
      "source": "df.shape",
      "execution_count": null,
      "outputs": [
        {
          "data": {
            "text/plain": "(4824, 6)"
          },
          "execution_count": 3,
          "metadata": {},
          "output_type": "execute_result"
        }
      ]
    },
    {
      "cell_type": "code",
      "metadata": {
        "ExecuteTime": {
          "end_time": "2019-08-11T16:39:17.259008Z",
          "start_time": "2019-08-11T16:39:17.253024Z"
        },
        "cell_id": "00004-ffac2566-1fb8-42cb-9056-aafc372e33d2",
        "deepnote_cell_type": "code"
      },
      "source": "print(f'df.ts.min() = {df.ts.min()}')\nprint(f'df.ts.max() = {df.ts.max()}')",
      "execution_count": null,
      "outputs": [
        {
          "name": "stdout",
          "output_type": "stream",
          "text": "df.ts.min() = 2018-10-01\ndf.ts.max() = 2019-04-30\n"
        }
      ]
    },
    {
      "cell_type": "code",
      "metadata": {
        "ExecuteTime": {
          "end_time": "2019-08-11T16:39:40.369262Z",
          "start_time": "2019-08-11T16:39:40.360290Z"
        },
        "cell_id": "00005-50820bd5-d992-4828-9ee0-57263afb5674",
        "deepnote_cell_type": "code"
      },
      "source": "df.isna().sum()",
      "execution_count": null,
      "outputs": [
        {
          "data": {
            "text/plain": "ts                         0\nserialNo                   0\nhome                       0\nbatteryVoltageMilliV       3\ninsideTemperatureCentiC    2\nhumidityMilliPerc          0\ndtype: int64"
          },
          "execution_count": 5,
          "metadata": {},
          "output_type": "execute_result"
        }
      ]
    },
    {
      "cell_type": "code",
      "metadata": {
        "ExecuteTime": {
          "end_time": "2019-08-11T16:40:39.218359Z",
          "start_time": "2019-08-11T16:40:39.212375Z"
        },
        "cell_id": "00006-b83371ee-2d82-4643-9e51-4d92fecfe93d",
        "deepnote_cell_type": "code"
      },
      "source": "df.home.nunique()",
      "execution_count": null,
      "outputs": [
        {
          "data": {
            "text/plain": "8"
          },
          "execution_count": 6,
          "metadata": {},
          "output_type": "execute_result"
        }
      ]
    },
    {
      "cell_type": "code",
      "metadata": {
        "ExecuteTime": {
          "end_time": "2019-08-11T16:40:49.799134Z",
          "start_time": "2019-08-11T16:40:49.793149Z"
        },
        "cell_id": "00007-fc2799bb-b518-4aa5-9d5c-685dcaa45552",
        "deepnote_cell_type": "code"
      },
      "source": "df.home.unique()",
      "execution_count": null,
      "outputs": [
        {
          "data": {
            "text/plain": "array([165132, 174376,  29473, 234419, 193000, 213528, 251841, 300551],\n      dtype=int64)"
          },
          "execution_count": 7,
          "metadata": {},
          "output_type": "execute_result"
        }
      ]
    },
    {
      "cell_type": "code",
      "metadata": {
        "ExecuteTime": {
          "end_time": "2019-08-11T16:41:02.362659Z",
          "start_time": "2019-08-11T16:41:02.357672Z"
        },
        "cell_id": "00008-5a77c2ec-05c3-4ef7-bee9-19050639a459",
        "deepnote_cell_type": "code"
      },
      "source": "df.serialNo.nunique()",
      "execution_count": null,
      "outputs": [
        {
          "data": {
            "text/plain": "25"
          },
          "execution_count": 8,
          "metadata": {},
          "output_type": "execute_result"
        }
      ]
    },
    {
      "cell_type": "code",
      "metadata": {
        "ExecuteTime": {
          "end_time": "2019-08-11T16:41:46.647505Z",
          "start_time": "2019-08-11T16:41:46.429090Z"
        },
        "cell_id": "00009-62506dce-2f51-46ce-b308-080c92a8f6f8",
        "deepnote_cell_type": "code"
      },
      "source": "df.plot('ts', 'batteryVoltageMilliV')",
      "execution_count": null,
      "outputs": [
        {
          "data": {
            "text/plain": "<matplotlib.axes._subplots.AxesSubplot at 0x1ff7d949ac8>"
          },
          "execution_count": 9,
          "metadata": {},
          "output_type": "execute_result"
        },
        {
          "data": {
            "image/png": "[encoded data removed]",
            "text/plain": "<Figure size 432x288 with 1 Axes>"
          },
          "metadata": {
            "needs_background": "light"
          },
          "output_type": "display_data"
        }
      ]
    },
    {
      "cell_type": "code",
      "metadata": {
        "ExecuteTime": {
          "end_time": "2019-08-11T16:42:19.137839Z",
          "start_time": "2019-08-11T16:42:19.124872Z"
        },
        "cell_id": "00010-9ba9b2b8-a8c8-4dbd-97a8-3e07d5126b77",
        "deepnote_cell_type": "code"
      },
      "source": "df[df.batteryVoltageMilliV.isna()].head()",
      "execution_count": null,
      "outputs": [
        {
          "data": {
            "text/html": "<div>\n<style scoped>\n    .dataframe tbody tr th:only-of-type {\n        vertical-align: middle;\n    }\n\n    .dataframe tbody tr th {\n        vertical-align: top;\n    }\n\n    .dataframe thead th {\n        text-align: right;\n    }\n</style>\n<table border=\"1\" class=\"dataframe\">\n  <thead>\n    <tr style=\"text-align: right;\">\n      <th></th>\n      <th>ts</th>\n      <th>serialNo</th>\n      <th>home</th>\n      <th>batteryVoltageMilliV</th>\n      <th>insideTemperatureCentiC</th>\n      <th>humidityMilliPerc</th>\n    </tr>\n  </thead>\n  <tbody>\n    <tr>\n      <th>10</th>\n      <td>2018-10-11</td>\n      <td>VA4202760704</td>\n      <td>165132</td>\n      <td>NaN</td>\n      <td>2135.1000</td>\n      <td>657.02356</td>\n    </tr>\n    <tr>\n      <th>11</th>\n      <td>2018-10-12</td>\n      <td>VA4202760704</td>\n      <td>165132</td>\n      <td>NaN</td>\n      <td>2138.1677</td>\n      <td>676.12256</td>\n    </tr>\n    <tr>\n      <th>12</th>\n      <td>2018-10-13</td>\n      <td>VA4202760704</td>\n      <td>165132</td>\n      <td>NaN</td>\n      <td>2080.6738</td>\n      <td>653.83685</td>\n    </tr>\n  </tbody>\n</table>\n</div>",
            "text/plain": "            ts      serialNo    home  batteryVoltageMilliV  \\\n10  2018-10-11  VA4202760704  165132                   NaN   \n11  2018-10-12  VA4202760704  165132                   NaN   \n12  2018-10-13  VA4202760704  165132                   NaN   \n\n    insideTemperatureCentiC  humidityMilliPerc  \n10                2135.1000          657.02356  \n11                2138.1677          676.12256  \n12                2080.6738          653.83685  "
          },
          "execution_count": 10,
          "metadata": {},
          "output_type": "execute_result"
        }
      ]
    },
    {
      "cell_type": "code",
      "metadata": {
        "ExecuteTime": {
          "end_time": "2019-08-11T16:42:45.261041Z",
          "start_time": "2019-08-11T16:42:45.249087Z"
        },
        "cell_id": "00011-32741ffb-ea16-44ff-b40a-94bb38430eb7",
        "deepnote_cell_type": "code"
      },
      "source": "df[df.insideTemperatureCentiC.isna()].head()",
      "execution_count": null,
      "outputs": [
        {
          "data": {
            "text/html": "<div>\n<style scoped>\n    .dataframe tbody tr th:only-of-type {\n        vertical-align: middle;\n    }\n\n    .dataframe tbody tr th {\n        vertical-align: top;\n    }\n\n    .dataframe thead th {\n        text-align: right;\n    }\n</style>\n<table border=\"1\" class=\"dataframe\">\n  <thead>\n    <tr style=\"text-align: right;\">\n      <th></th>\n      <th>ts</th>\n      <th>serialNo</th>\n      <th>home</th>\n      <th>batteryVoltageMilliV</th>\n      <th>insideTemperatureCentiC</th>\n      <th>humidityMilliPerc</th>\n    </tr>\n  </thead>\n  <tbody>\n    <tr>\n      <th>23</th>\n      <td>2018-10-24</td>\n      <td>VA4202760704</td>\n      <td>165132</td>\n      <td>2750.4220</td>\n      <td>NaN</td>\n      <td>605.1256</td>\n    </tr>\n    <tr>\n      <th>24</th>\n      <td>2018-10-25</td>\n      <td>VA4202760704</td>\n      <td>165132</td>\n      <td>2750.6438</td>\n      <td>NaN</td>\n      <td>617.4750</td>\n    </tr>\n  </tbody>\n</table>\n</div>",
            "text/plain": "            ts      serialNo    home  batteryVoltageMilliV  \\\n23  2018-10-24  VA4202760704  165132             2750.4220   \n24  2018-10-25  VA4202760704  165132             2750.6438   \n\n    insideTemperatureCentiC  humidityMilliPerc  \n23                      NaN           605.1256  \n24                      NaN           617.4750  "
          },
          "execution_count": 11,
          "metadata": {},
          "output_type": "execute_result"
        }
      ]
    },
    {
      "cell_type": "code",
      "metadata": {
        "cell_id": "00012-3171d8f7-9f75-4d6f-ba87-032a145e6899",
        "deepnote_cell_type": "code"
      },
      "source": "",
      "execution_count": null,
      "outputs": []
    },
    {
      "cell_type": "markdown",
      "source": "<a style='text-decoration:none;line-height:16px;display:flex;color:#5B5B62;padding:10px;justify-content:end;' href='https://deepnote.com?utm_source=created-in-deepnote-cell&projectId=762381e0-0fb5-4cfa-9159-464420420d1d' target=\"_blank\">\n<img style='display:inline;max-height:16px;margin:0px;margin-right:7.5px;' src='data:image/svg+xml;base64,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' > </img>\nCreated in <span style='font-weight:600;margin-left:4px;'>Deepnote</span></a>",
      "metadata": {
        "tags": [],
        "created_in_deepnote_cell": true,
        "deepnote_cell_type": "markdown"
      }
    }
  ],
  "nbformat": 4,
  "nbformat_minor": 2,
  "metadata": {
    "kernelspec": {
      "display_name": "Python 3",
      "language": "python",
      "name": "python3"
    },
    "language_info": {
      "codemirror_mode": {
        "name": "ipython",
        "version": 3
      },
      "file_extension": ".py",
      "mimetype": "text/x-python",
      "name": "python",
      "nbconvert_exporter": "python",
      "pygments_lexer": "ipython3",
      "version": "3.7.3"
    },
    "toc": {
      "base_numbering": 1,
      "nav_menu": {},
      "number_sections": true,
      "sideBar": true,
      "skip_h1_title": false,
      "title_cell": "Table of Contents",
      "title_sidebar": "Contents",
      "toc_cell": false,
      "toc_position": {},
      "toc_section_display": true,
      "toc_window_display": false
    },
    "varInspector": {
      "cols": {
        "lenName": 16,
        "lenType": 16,
        "lenVar": 40
      },
      "kernels_config": {
        "python": {
          "delete_cmd_postfix": "",
          "delete_cmd_prefix": "del ",
          "library": "var_list.py",
          "varRefreshCmd": "print(var_dic_list())"
        },
        "r": {
          "delete_cmd_postfix": ") ",
          "delete_cmd_prefix": "rm(",
          "library": "var_list.r",
          "varRefreshCmd": "cat(var_dic_list()) "
        }
      },
      "types_to_exclude": [
        "module",
        "function",
        "builtin_function_or_method",
        "instance",
        "_Feature"
      ],
      "window_display": false
    },
    "deepnote_notebook_id": "74f0b87d-bd28-4988-8973-df4855b78d7d",
    "deepnote": {},
    "deepnote_execution_queue": []
  }
}