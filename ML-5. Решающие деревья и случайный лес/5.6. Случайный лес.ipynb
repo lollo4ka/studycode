{
  "cells": [
    {
      "cell_type": "code",
      "metadata": {
        "tags": [],
        "cell_id": "00000-68639158-d06c-4ac8-8880-977fe051b97b",
        "deepnote_to_be_reexecuted": false,
        "source_hash": "65671212",
        "execution_millis": 1,
        "execution_start": 1615311221838,
        "deepnote_cell_type": "code"
      },
      "source": "# загрузим библиотеки\nimport pandas as pd\nimport numpy as np\n# import pandas_profiling\n\nimport matplotlib.pyplot as plt\nimport seaborn as sns\n\n# from sklearn.feature_selection import mutual_info_classif\n# from sklearn.preprocessing import StandardScaler\n\n# from datetime import datetime\nfrom sklearn.model_selection import train_test_split\nfrom sklearn.linear_model import LogisticRegression\n\n# # from sklearn.metrics import (\n#     accuracy_score,\n#     roc_curve,\n#     roc_auc_score,\n#     classification_report,\n#     confusion_matrix,\n#     precision_score,\n#     recall_score,\n#     f1_score,\n#     log_loss,\n#     auc,\n# )",
      "execution_count": null,
      "outputs": []
    },
    {
      "cell_type": "code",
      "metadata": {
        "tags": [],
        "cell_id": "00000-32d56172-0601-40ec-be0a-48564de143c3",
        "deepnote_to_be_reexecuted": false,
        "source_hash": "e981229c",
        "execution_millis": 8,
        "execution_start": 1615311352801,
        "deepnote_cell_type": "code"
      },
      "source": "weather=pd.read_csv('/work/data/temps_extended.csv')\ny = weather['actual']\nX = weather.drop(['actual','weekday','month','day','year'],axis =1)\nX_train, X_test, y_train, y_test=train_test_split(X,y,test_size=0.3, random_state=42)",
      "execution_count": null,
      "outputs": []
    },
    {
      "cell_type": "code",
      "metadata": {
        "tags": [],
        "cell_id": "00001-fd307c02-1be2-41fd-a325-51a7d5ee730b",
        "deepnote_to_be_reexecuted": false,
        "source_hash": "495c4774",
        "execution_millis": 14,
        "execution_start": 1615311359904,
        "deepnote_cell_type": "code"
      },
      "source": "from sklearn.ensemble import RandomForestRegressor\nfrom pprint import pprint\nrf = RandomForestRegressor(random_state = 42)\nfrom pprint import pprint\n# Look at parameters used by our current forest\nprint('Параметры по умолчанию:\\n')\npprint(rf.get_params())",
      "execution_count": null,
      "outputs": [
        {
          "name": "stdout",
          "text": "Параметры по умолчанию:\n\n{'bootstrap': True,\n 'ccp_alpha': 0.0,\n 'criterion': 'mse',\n 'max_depth': None,\n 'max_features': 'auto',\n 'max_leaf_nodes': None,\n 'max_samples': None,\n 'min_impurity_decrease': 0.0,\n 'min_impurity_split': None,\n 'min_samples_leaf': 1,\n 'min_samples_split': 2,\n 'min_weight_fraction_leaf': 0.0,\n 'n_estimators': 100,\n 'n_jobs': None,\n 'oob_score': False,\n 'random_state': 42,\n 'verbose': 0,\n 'warm_start': False}\n",
          "output_type": "stream"
        }
      ]
    },
    {
      "cell_type": "code",
      "metadata": {
        "tags": [],
        "cell_id": "00003-3d4e4b5c-391c-46cf-a0dd-9df428787415",
        "deepnote_to_be_reexecuted": false,
        "source_hash": "fcbeb379",
        "execution_millis": 461,
        "execution_start": 1615311418884,
        "deepnote_cell_type": "code"
      },
      "source": "rf.fit(X_train, y_train)\ny_pred = rf.predict(X_test)",
      "execution_count": null,
      "outputs": []
    },
    {
      "cell_type": "code",
      "metadata": {
        "tags": [],
        "cell_id": "00004-abad6627-265f-47e5-ae7b-3af8dac4c9e9",
        "deepnote_to_be_reexecuted": false,
        "source_hash": "9813a961",
        "execution_start": 1615311467042,
        "execution_millis": 17,
        "deepnote_cell_type": "code"
      },
      "source": "mse(y_test, y_pred)",
      "execution_count": null,
      "outputs": [
        {
          "output_type": "execute_result",
          "execution_count": 21,
          "data": {
            "text/plain": "24.570648328267477"
          },
          "metadata": {}
        }
      ]
    },
    {
      "cell_type": "markdown",
      "source": "Попробуем подбирать разные значения для некоторых параметров. Для перебора вариантов возьмем следующие параметры:\n\n- n_estimators \n- max_features \n- max_depth \n- min_samples_split \n- min_samples_leaf\n- bootstrap\n\nМы можем сами указать, какие значения гиперпараметров надо перебрать.\n\nЗададим сетку гиперпараметров, которые будут перебираться:",
      "metadata": {
        "tags": [],
        "cell_id": "00003-6a9389a3-9aa1-453f-9590-3d6ed1c297d4",
        "deepnote_cell_type": "markdown"
      }
    },
    {
      "cell_type": "code",
      "metadata": {
        "tags": [],
        "cell_id": "00003-a31cfc64-0d47-43fc-ba21-f7e7cb4c11b0",
        "deepnote_to_be_reexecuted": false,
        "source_hash": "9d16054a",
        "execution_millis": 1,
        "execution_start": 1615309894110,
        "deepnote_cell_type": "code"
      },
      "source": "from sklearn.model_selection import RandomizedSearchCV\nn_estimators = [int(x) for x in np.linspace(start = 200, stop = 2000, num = 10)]\nmax_features = ['auto', 'sqrt']\nmax_depth = [int(x) for x in np.linspace(10, 110, num = 11)]\nmax_depth.append(None)\nmin_samples_split = [2, 5, 10]\nmin_samples_leaf = [1, 2, 4]\nbootstrap = [True, False]\nrandom_grid = {'n_estimators': n_estimators,\n               'max_features': max_features,\n               'max_depth': max_depth,\n               'min_samples_split': min_samples_split,\n               'min_samples_leaf': min_samples_leaf,\n               'bootstrap': bootstrap}",
      "execution_count": null,
      "outputs": []
    },
    {
      "cell_type": "code",
      "metadata": {
        "tags": [],
        "cell_id": "00005-7d8e249b-e6b5-46c2-8fa6-1cfa0c6300f9",
        "deepnote_to_be_reexecuted": false,
        "source_hash": "de09cf17",
        "execution_millis": 554894,
        "execution_start": 1615311527912,
        "deepnote_cell_type": "code"
      },
      "source": "rf = RandomForestRegressor(random_state=42)\nrf_random = RandomizedSearchCV(estimator=rf, param_distributions=random_grid, n_iter=100, \n                               cv=3, verbose=2, random_state=42, n_jobs=-1)\nrf_random.fit(X_train, y_train)",
      "execution_count": null,
      "outputs": [
        {
          "name": "stdout",
          "text": "Fitting 3 folds for each of 100 candidates, totalling 300 fits\n",
          "output_type": "stream"
        },
        {
          "output_type": "execute_result",
          "execution_count": 22,
          "data": {
            "text/plain": "RandomizedSearchCV(cv=3, estimator=RandomForestRegressor(random_state=42),\n                   n_iter=100, n_jobs=-1,\n                   param_distributions={'bootstrap': [True, False],\n                                        'max_depth': [10, 20, 30, 40, 50, 60,\n                                                      70, 80, 90, 100, 110,\n                                                      None],\n                                        'max_features': ['auto', 'sqrt'],\n                                        'min_samples_leaf': [1, 2, 4],\n                                        'min_samples_split': [2, 5, 10],\n                                        'n_estimators': [200, 400, 600, 800,\n                                                         1000, 1200, 1400, 1600,\n                                                         1800, 2000]},\n                   random_state=42, verbose=2)"
          },
          "metadata": {}
        }
      ]
    },
    {
      "cell_type": "code",
      "metadata": {
        "tags": [],
        "cell_id": "00006-fe68fdb5-c5d2-44dd-98a6-2051a8ff3dc8",
        "deepnote_to_be_reexecuted": false,
        "source_hash": "3dc81bc9",
        "execution_millis": 130,
        "execution_start": 1615312613117,
        "deepnote_cell_type": "code"
      },
      "source": "y_pred = rf_random.predict(X_test)",
      "execution_count": null,
      "outputs": []
    },
    {
      "cell_type": "code",
      "metadata": {
        "tags": [],
        "cell_id": "00006-02cf4bb9-64b5-4762-b429-c1e5c4a657f6",
        "deepnote_to_be_reexecuted": false,
        "source_hash": "4d41104c",
        "execution_millis": 4,
        "execution_start": 1615310663611,
        "deepnote_cell_type": "code"
      },
      "source": "rf_random.best_params_\n",
      "execution_count": null,
      "outputs": [
        {
          "output_type": "execute_result",
          "execution_count": 7,
          "data": {
            "text/plain": "{'n_estimators': 1000,\n 'min_samples_split': 5,\n 'min_samples_leaf': 2,\n 'max_features': 'sqrt',\n 'max_depth': 10,\n 'bootstrap': True}"
          },
          "metadata": {}
        }
      ]
    },
    {
      "cell_type": "code",
      "metadata": {
        "tags": [],
        "cell_id": "00007-865dcae0-d726-4a13-a6aa-f561b6c12cf7",
        "deepnote_to_be_reexecuted": false,
        "source_hash": "1849c84f",
        "execution_start": 1615310762842,
        "execution_millis": 1,
        "deepnote_cell_type": "code"
      },
      "source": "from sklearn.metrics import mean_squared_error as mse",
      "execution_count": null,
      "outputs": []
    },
    {
      "cell_type": "code",
      "metadata": {
        "tags": [],
        "cell_id": "00008-d9e756d6-cff7-4078-b71d-44cc669df9c9",
        "deepnote_to_be_reexecuted": false,
        "source_hash": "9813a961",
        "execution_millis": 10,
        "execution_start": 1615312657977,
        "deepnote_cell_type": "code"
      },
      "source": "mse(y_test, y_pred)",
      "execution_count": null,
      "outputs": [
        {
          "output_type": "execute_result",
          "execution_count": 25,
          "data": {
            "text/plain": "23.10053911088241"
          },
          "metadata": {}
        }
      ]
    },
    {
      "cell_type": "code",
      "metadata": {
        "tags": [],
        "cell_id": "00009-c2a2488b-f547-4188-9183-a517e248df7a",
        "deepnote_to_be_reexecuted": false,
        "source_hash": "7369ee09",
        "execution_start": 1615312789289,
        "execution_millis": 45,
        "deepnote_cell_type": "code"
      },
      "source": "24.570648328267477 - 23.10053911088241\n",
      "execution_count": null,
      "outputs": [
        {
          "output_type": "execute_result",
          "execution_count": 26,
          "data": {
            "text/plain": "1.470109217385069"
          },
          "metadata": {}
        }
      ]
    },
    {
      "cell_type": "code",
      "metadata": {
        "tags": [],
        "cell_id": "00013-cbd602d4-4473-46ef-9e6e-d71f29ef45e0",
        "deepnote_cell_type": "code"
      },
      "source": "",
      "execution_count": null,
      "outputs": []
    },
    {
      "cell_type": "markdown",
      "source": "<a style='text-decoration:none;line-height:16px;display:flex;color:#5B5B62;padding:10px;justify-content:end;' href='https://deepnote.com?utm_source=created-in-deepnote-cell&projectId=762381e0-0fb5-4cfa-9159-464420420d1d' target=\"_blank\">\n<img style='display:inline;max-height:16px;margin:0px;margin-right:7.5px;' src='data:image/svg+xml;base64,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' > </img>\nCreated in <span style='font-weight:600;margin-left:4px;'>Deepnote</span></a>",
      "metadata": {
        "tags": [],
        "created_in_deepnote_cell": true,
        "deepnote_cell_type": "markdown"
      }
    }
  ],
  "nbformat": 4,
  "nbformat_minor": 2,
  "metadata": {
    "orig_nbformat": 2,
    "deepnote_notebook_id": "3b1f8fca-6429-41e5-8ce3-da0421f66f07",
    "deepnote": {},
    "deepnote_execution_queue": []
  }
}