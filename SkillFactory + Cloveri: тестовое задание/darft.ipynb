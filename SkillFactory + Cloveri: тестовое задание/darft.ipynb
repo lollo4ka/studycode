{
  "cells": [
    {
      "cell_type": "code",
      "metadata": {
        "tags": [],
        "cell_id": "00000-ac0b6d43-5355-43fd-98bd-ad14cfebf701",
        "deepnote_cell_type": "code"
      },
      "source": "# Start writing code here...",
      "execution_count": null,
      "outputs": []
    },
    {
      "cell_type": "markdown",
      "source": "Есть три файла - в каждом показатели с датчиков. Целевая переменная StuckPipe. Данные несбалансированы.\nСпрогнозировать вероятность аварии - задача классификации (да или нет)\nГипотезы - \n\n1. Адекватно загрузить файлы\n2. Поковырять предыдущий проект по банкам\n3. Книжка про мастермашинлернинг - подготовка данных и алгоритмы\n4. Гвидо - полный цикл посмотреть\n5. Пеп8 и загрузить на гитхаб\n6. Загрузить пандас_профайл?\n7. Объединять файлы в один или как-то по-другому работать? Интересно понять, если между ними какие-то различия кроме времени.\n8. Что такое временные ряды\n9. Поискать в интернете расшифровку столбцов\n10. Полистать мою книжку по статистике - метрики, алгоритмы\n11. Выбросы - могут ли они быть в показателях?\n12. Можно посмотреть презентацию Анны по подготовке к проекту - шаги\n13. Тюфяковой - посмотреть ноутбук\n14. В конце добавить источники, что использовала для работы\n15. Привратить столбец со временем во что-то приличное\n16. Посмотреть корреляцию и хитмапы?\n17. Насколько данные реальны? Нет ли искажений и перекосов, кроме как в таргете.\n18. Что-то про уменьшение количества данных, было у Эмиля  - как работать, когда перекос в таргете\n19. Рассказать историю, преобразовать то, что нельзя почувствовать (цифры, столбцы) во что-то осязаемое, понятное, что-то, что можно связать с жизнью и поведением.\n20. Что я совсем не знаю - Где за всем этим скрывается оператор? Как быстро можно начать реагировать? Как будут выводиться предупреждения? Сколько времени требуется, чтобы предотвратить аварию? Стоимость аварии, как ее посчитать? Какую стоимость можно считать критической? Можно предположить, что какие-то сбои проще допустить, чем полностью тормозить оборудование?\n21. Похоже на дерево решений, только как разделить на предсказание через 1 минуту, 5 минут, час?\n22. Временные ряды - Характеристики технических систем: температура, давление, напряжение, сила тока; как их прислюнявить?\n\n----\n\nСгенерировать новые столбцы из столбца со временем?\n\nНужны примеры кода",
      "metadata": {
        "tags": [],
        "cell_id": "00001-985c9bc5-bb27-4f82-b666-6e883c85b808",
        "deepnote_cell_type": "markdown"
      }
    },
    {
      "cell_type": "markdown",
      "source": "Открыла и увидела, много непонятных столбцов - надо сделать их более понятными, добавить больше контекста.\nИзначально показалось, что нужно использовать дерево решений или catBoost, сделать сэмплинг - все, что я делала для бинарной классификации в проекте про предсказание дефолта. Но не давал покоя столбец со временем и датой. Решила начать чуть раньше изучать модуль про врменные ряды и это изменило мой дальнейший план работы, так как для временных рядов мы либо выделяем из рядов признаки и работаем с ними и можем использовать все стандартные алгоритмы машинного обучения, либо работаем напрямую с данными временного ряда — тогда используем рекуррентные нейросети.\nЯ решила пойти по первому пути.",
      "metadata": {
        "tags": [],
        "cell_id": "00002-5605fe38-8a68-4a1c-8caf-4152ac705f5a",
        "deepnote_cell_type": "markdown"
      }
    },
    {
      "cell_type": "markdown",
      "source": "",
      "metadata": {
        "tags": [],
        "cell_id": "00003-e62dedd4-1740-42e5-9898-efbe1e0a4b8d",
        "deepnote_cell_type": "markdown"
      }
    },
    {
      "cell_type": "markdown",
      "source": "<a style='text-decoration:none;line-height:16px;display:flex;color:#5B5B62;padding:10px;justify-content:end;' href='https://deepnote.com?utm_source=created-in-deepnote-cell&projectId=762381e0-0fb5-4cfa-9159-464420420d1d' target=\"_blank\">\n<img style='display:inline;max-height:16px;margin:0px;margin-right:7.5px;' src='data:image/svg+xml;base64,PD94bWwgdmVyc2lvbj0iMS4wIiBlbmNvZGluZz0iVVRGLTgiPz4KPHN2ZyB3aWR0aD0iODBweCIgaGVpZ2h0PSI4MHB4IiB2aWV3Qm94PSIwIDAgODAgODAiIHZlcnNpb249IjEuMSIgeG1sbnM9Imh0dHA6Ly93d3cudzMub3JnLzIwMDAvc3ZnIiB4bWxuczp4bGluaz0iaHR0cDovL3d3dy53My5vcmcvMTk5OS94bGluayI+CiAgICA8IS0tIEdlbmVyYXRvcjogU2tldGNoIDU0LjEgKDc2NDkwKSAtIGh0dHBzOi8vc2tldGNoYXBwLmNvbSAtLT4KICAgIDx0aXRsZT5Hcm91cCAzPC90aXRsZT4KICAgIDxkZXNjPkNyZWF0ZWQgd2l0aCBTa2V0Y2guPC9kZXNjPgogICAgPGcgaWQ9IkxhbmRpbmciIHN0cm9rZT0ibm9uZSIgc3Ryb2tlLXdpZHRoPSIxIiBmaWxsPSJub25lIiBmaWxsLXJ1bGU9ImV2ZW5vZGQiPgogICAgICAgIDxnIGlkPSJBcnRib2FyZCIgdHJhbnNmb3JtPSJ0cmFuc2xhdGUoLTEyMzUuMDAwMDAwLCAtNzkuMDAwMDAwKSI+CiAgICAgICAgICAgIDxnIGlkPSJHcm91cC0zIiB0cmFuc2Zvcm09InRyYW5zbGF0ZSgxMjM1LjAwMDAwMCwgNzkuMDAwMDAwKSI+CiAgICAgICAgICAgICAgICA8cG9seWdvbiBpZD0iUGF0aC0yMCIgZmlsbD0iIzAyNjVCNCIgcG9pbnRzPSIyLjM3NjIzNzYyIDgwIDM4LjA0NzY2NjcgODAgNTcuODIxNzgyMiA3My44MDU3NTkyIDU3LjgyMTc4MjIgMzIuNzU5MjczOSAzOS4xNDAyMjc4IDMxLjY4MzE2ODMiPjwvcG9seWdvbj4KICAgICAgICAgICAgICAgIDxwYXRoIGQ9Ik0zNS4wMDc3MTgsODAgQzQyLjkwNjIwMDcsNzYuNDU0OTM1OCA0Ny41NjQ5MTY3LDcxLjU0MjI2NzEgNDguOTgzODY2LDY1LjI2MTk5MzkgQzUxLjExMjI4OTksNTUuODQxNTg0MiA0MS42NzcxNzk1LDQ5LjIxMjIyODQgMjUuNjIzOTg0Niw0OS4yMTIyMjg0IEMyNS40ODQ5Mjg5LDQ5LjEyNjg0NDggMjkuODI2MTI5Niw0My4yODM4MjQ4IDM4LjY0NzU4NjksMzEuNjgzMTY4MyBMNzIuODcxMjg3MSwzMi41NTQ0MjUgTDY1LjI4MDk3Myw2Ny42NzYzNDIxIEw1MS4xMTIyODk5LDc3LjM3NjE0NCBMMzUuMDA3NzE4LDgwIFoiIGlkPSJQYXRoLTIyIiBmaWxsPSIjMDAyODY4Ij48L3BhdGg+CiAgICAgICAgICAgICAgICA8cGF0aCBkPSJNMCwzNy43MzA0NDA1IEwyNy4xMTQ1MzcsMC4yNTcxMTE0MzYgQzYyLjM3MTUxMjMsLTEuOTkwNzE3MDEgODAsMTAuNTAwMzkyNyA4MCwzNy43MzA0NDA1IEM4MCw2NC45NjA0ODgyIDY0Ljc3NjUwMzgsNzkuMDUwMzQxNCAzNC4zMjk1MTEzLDgwIEM0Ny4wNTUzNDg5LDc3LjU2NzA4MDggNTMuNDE4MjY3Nyw3MC4zMTM2MTAzIDUzLjQxODI2NzcsNTguMjM5NTg4NSBDNTMuNDE4MjY3Nyw0MC4xMjg1NTU3IDM2LjMwMzk1NDQsMzcuNzMwNDQwNSAyNS4yMjc0MTcsMzcuNzMwNDQwNSBDMTcuODQzMDU4NiwzNy43MzA0NDA1IDkuNDMzOTE5NjYsMzcuNzMwNDQwNSAwLDM3LjczMDQ0MDUgWiIgaWQ9IlBhdGgtMTkiIGZpbGw9IiMzNzkzRUYiPjwvcGF0aD4KICAgICAgICAgICAgPC9nPgogICAgICAgIDwvZz4KICAgIDwvZz4KPC9zdmc+' > </img>\nCreated in <span style='font-weight:600;margin-left:4px;'>Deepnote</span></a>",
      "metadata": {
        "tags": [],
        "created_in_deepnote_cell": true,
        "deepnote_cell_type": "markdown"
      }
    }
  ],
  "nbformat": 4,
  "nbformat_minor": 2,
  "metadata": {
    "orig_nbformat": 2,
    "deepnote_notebook_id": "15764eed-a7c7-42c6-b4a3-6ad97cf305ca",
    "deepnote": {},
    "deepnote_execution_queue": []
  }
}