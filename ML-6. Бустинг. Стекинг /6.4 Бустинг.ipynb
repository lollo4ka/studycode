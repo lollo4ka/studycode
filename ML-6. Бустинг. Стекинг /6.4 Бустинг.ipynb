{
  "cells": [
    {
      "cell_type": "code",
      "metadata": {
        "tags": [],
        "cell_id": "00000-53eb2ecd-7e92-49e7-909d-9bf1c6581567",
        "deepnote_to_be_reexecuted": false,
        "source_hash": "6be64cf6",
        "execution_millis": 916,
        "execution_start": 1615470001489,
        "deepnote_cell_type": "code"
      },
      "source": "import pandas as pd\nimport numpy as np\n\nfrom sklearn.model_selection import train_test_split\nimport matplotlib.pyplot as plt\nimport seaborn as sns",
      "execution_count": null,
      "outputs": []
    },
    {
      "cell_type": "code",
      "metadata": {
        "tags": [],
        "cell_id": "00000-adf99b9e-33fd-4cd4-853a-e274f22c0b34",
        "deepnote_to_be_reexecuted": false,
        "source_hash": "ddfa5b0a",
        "execution_millis": 125,
        "execution_start": 1615468624542,
        "deepnote_cell_type": "code"
      },
      "source": "df = pd.read_csv('https://raw.githubusercontent.com/vincentarelbundock/Rdatasets/master/csv/DAAG/spam7.csv')\n",
      "execution_count": null,
      "outputs": []
    },
    {
      "cell_type": "code",
      "metadata": {
        "tags": [],
        "cell_id": "00002-1cab3508-542d-45f3-973e-effc282fb4af",
        "deepnote_to_be_reexecuted": false,
        "source_hash": "f804c160",
        "execution_start": 1615398167511,
        "execution_millis": 55,
        "deepnote_cell_type": "code"
      },
      "source": "df",
      "execution_count": null,
      "outputs": [
        {
          "output_type": "execute_result",
          "execution_count": 4,
          "data": {
            "application/vnd.deepnote.dataframe.v2+json": {
              "row_count": 4601,
              "column_count": 8,
              "columns": [
                {
                  "name": "Unnamed: 0",
                  "dtype": "int64",
                  "stats": {
                    "unique_count": 4601,
                    "nan_count": 0,
                    "min": 1,
                    "max": 4601,
                    "histogram": [
                      {
                        "bin_start": 1,
                        "bin_end": 461,
                        "count": 460
                      },
                      {
                        "bin_start": 461,
                        "bin_end": 921,
                        "count": 460
                      },
                      {
                        "bin_start": 921,
                        "bin_end": 1381,
                        "count": 460
                      },
                      {
                        "bin_start": 1381,
                        "bin_end": 1841,
                        "count": 460
                      },
                      {
                        "bin_start": 1841,
                        "bin_end": 2301,
                        "count": 460
                      },
                      {
                        "bin_start": 2301,
                        "bin_end": 2761,
                        "count": 460
                      },
                      {
                        "bin_start": 2761,
                        "bin_end": 3221,
                        "count": 460
                      },
                      {
                        "bin_start": 3221,
                        "bin_end": 3681,
                        "count": 460
                      },
                      {
                        "bin_start": 3681,
                        "bin_end": 4141,
                        "count": 460
                      },
                      {
                        "bin_start": 4141,
                        "bin_end": 4601,
                        "count": 461
                      }
                    ]
                  }
                },
                {
                  "name": "crl.tot",
                  "dtype": "int64",
                  "stats": {
                    "unique_count": 919,
                    "nan_count": 0,
                    "min": 1,
                    "max": 15841,
                    "histogram": [
                      {
                        "bin_start": 1,
                        "bin_end": 1585,
                        "count": 4473
                      },
                      {
                        "bin_start": 1585,
                        "bin_end": 3169,
                        "count": 94
                      },
                      {
                        "bin_start": 3169,
                        "bin_end": 4753,
                        "count": 27
                      },
                      {
                        "bin_start": 4753,
                        "bin_end": 6337,
                        "count": 2
                      },
                      {
                        "bin_start": 6337,
                        "bin_end": 7921,
                        "count": 0
                      },
                      {
                        "bin_start": 7921,
                        "bin_end": 9505,
                        "count": 3
                      },
                      {
                        "bin_start": 9505,
                        "bin_end": 11089,
                        "count": 1
                      },
                      {
                        "bin_start": 11089,
                        "bin_end": 12673,
                        "count": 0
                      },
                      {
                        "bin_start": 12673,
                        "bin_end": 14257,
                        "count": 0
                      },
                      {
                        "bin_start": 14257,
                        "bin_end": 15841,
                        "count": 1
                      }
                    ]
                  }
                },
                {
                  "name": "dollar",
                  "dtype": "float64",
                  "stats": {
                    "unique_count": 504,
                    "nan_count": 0,
                    "min": 0,
                    "max": 6.003,
                    "histogram": [
                      {
                        "bin_start": 0,
                        "bin_end": 0.6003000000000001,
                        "count": 4484
                      },
                      {
                        "bin_start": 0.6003000000000001,
                        "bin_end": 1.2006000000000001,
                        "count": 84
                      },
                      {
                        "bin_start": 1.2006000000000001,
                        "bin_end": 1.8009000000000002,
                        "count": 23
                      },
                      {
                        "bin_start": 1.8009000000000002,
                        "bin_end": 2.4012000000000002,
                        "count": 3
                      },
                      {
                        "bin_start": 2.4012000000000002,
                        "bin_end": 3.0015,
                        "count": 0
                      },
                      {
                        "bin_start": 3.0015,
                        "bin_end": 3.6018000000000003,
                        "count": 3
                      },
                      {
                        "bin_start": 3.6018000000000003,
                        "bin_end": 4.202100000000001,
                        "count": 1
                      },
                      {
                        "bin_start": 4.202100000000001,
                        "bin_end": 4.8024000000000004,
                        "count": 0
                      },
                      {
                        "bin_start": 4.8024000000000004,
                        "bin_end": 5.4027,
                        "count": 2
                      },
                      {
                        "bin_start": 5.4027,
                        "bin_end": 6.003,
                        "count": 1
                      }
                    ]
                  }
                },
                {
                  "name": "bang",
                  "dtype": "float64",
                  "stats": {
                    "unique_count": 964,
                    "nan_count": 0,
                    "min": 0,
                    "max": 32.478,
                    "histogram": [
                      {
                        "bin_start": 0,
                        "bin_end": 3.2478000000000002,
                        "count": 4564
                      },
                      {
                        "bin_start": 3.2478000000000002,
                        "bin_end": 6.4956000000000005,
                        "count": 30
                      },
                      {
                        "bin_start": 6.4956000000000005,
                        "bin_end": 9.743400000000001,
                        "count": 5
                      },
                      {
                        "bin_start": 9.743400000000001,
                        "bin_end": 12.991200000000001,
                        "count": 0
                      },
                      {
                        "bin_start": 12.991200000000001,
                        "bin_end": 16.239,
                        "count": 0
                      },
                      {
                        "bin_start": 16.239,
                        "bin_end": 19.486800000000002,
                        "count": 1
                      },
                      {
                        "bin_start": 19.486800000000002,
                        "bin_end": 22.7346,
                        "count": 0
                      },
                      {
                        "bin_start": 22.7346,
                        "bin_end": 25.982400000000002,
                        "count": 0
                      },
                      {
                        "bin_start": 25.982400000000002,
                        "bin_end": 29.230200000000004,
                        "count": 0
                      },
                      {
                        "bin_start": 29.230200000000004,
                        "bin_end": 32.478,
                        "count": 1
                      }
                    ]
                  }
                },
                {
                  "name": "money",
                  "dtype": "float64",
                  "stats": {
                    "unique_count": 143,
                    "nan_count": 0,
                    "min": 0,
                    "max": 12.5,
                    "histogram": [
                      {
                        "bin_start": 0,
                        "bin_end": 1.25,
                        "count": 4535
                      },
                      {
                        "bin_start": 1.25,
                        "bin_end": 2.5,
                        "count": 53
                      },
                      {
                        "bin_start": 2.5,
                        "bin_end": 3.75,
                        "count": 2
                      },
                      {
                        "bin_start": 3.75,
                        "bin_end": 5,
                        "count": 3
                      },
                      {
                        "bin_start": 5,
                        "bin_end": 6.25,
                        "count": 1
                      },
                      {
                        "bin_start": 6.25,
                        "bin_end": 7.5,
                        "count": 3
                      },
                      {
                        "bin_start": 7.5,
                        "bin_end": 8.75,
                        "count": 0
                      },
                      {
                        "bin_start": 8.75,
                        "bin_end": 10,
                        "count": 3
                      },
                      {
                        "bin_start": 10,
                        "bin_end": 11.25,
                        "count": 0
                      },
                      {
                        "bin_start": 11.25,
                        "bin_end": 12.5,
                        "count": 1
                      }
                    ]
                  }
                },
                {
                  "name": "n000",
                  "dtype": "float64",
                  "stats": {
                    "unique_count": 164,
                    "nan_count": 0,
                    "min": 0,
                    "max": 5.45,
                    "histogram": [
                      {
                        "bin_start": 0,
                        "bin_end": 0.545,
                        "count": 4286
                      },
                      {
                        "bin_start": 0.545,
                        "bin_end": 1.09,
                        "count": 193
                      },
                      {
                        "bin_start": 1.09,
                        "bin_end": 1.6350000000000002,
                        "count": 77
                      },
                      {
                        "bin_start": 1.6350000000000002,
                        "bin_end": 2.18,
                        "count": 20
                      },
                      {
                        "bin_start": 2.18,
                        "bin_end": 2.725,
                        "count": 14
                      },
                      {
                        "bin_start": 2.725,
                        "bin_end": 3.2700000000000005,
                        "count": 3
                      },
                      {
                        "bin_start": 3.2700000000000005,
                        "bin_end": 3.8150000000000004,
                        "count": 4
                      },
                      {
                        "bin_start": 3.8150000000000004,
                        "bin_end": 4.36,
                        "count": 2
                      },
                      {
                        "bin_start": 4.36,
                        "bin_end": 4.905,
                        "count": 1
                      },
                      {
                        "bin_start": 4.905,
                        "bin_end": 5.45,
                        "count": 1
                      }
                    ]
                  }
                },
                {
                  "name": "make",
                  "dtype": "float64",
                  "stats": {
                    "unique_count": 142,
                    "nan_count": 0,
                    "min": 0,
                    "max": 4.54,
                    "histogram": [
                      {
                        "bin_start": 0,
                        "bin_end": 0.454,
                        "count": 4222
                      },
                      {
                        "bin_start": 0.454,
                        "bin_end": 0.908,
                        "count": 265
                      },
                      {
                        "bin_start": 0.908,
                        "bin_end": 1.362,
                        "count": 71
                      },
                      {
                        "bin_start": 1.362,
                        "bin_end": 1.816,
                        "count": 14
                      },
                      {
                        "bin_start": 1.816,
                        "bin_end": 2.27,
                        "count": 13
                      },
                      {
                        "bin_start": 2.27,
                        "bin_end": 2.724,
                        "count": 7
                      },
                      {
                        "bin_start": 2.724,
                        "bin_end": 3.178,
                        "count": 4
                      },
                      {
                        "bin_start": 3.178,
                        "bin_end": 3.632,
                        "count": 0
                      },
                      {
                        "bin_start": 3.632,
                        "bin_end": 4.086,
                        "count": 3
                      },
                      {
                        "bin_start": 4.086,
                        "bin_end": 4.54,
                        "count": 2
                      }
                    ]
                  }
                },
                {
                  "name": "yesno",
                  "dtype": "object",
                  "stats": {
                    "unique_count": 2,
                    "nan_count": 0,
                    "categories": [
                      {
                        "name": "n",
                        "count": 2788
                      },
                      {
                        "name": "y",
                        "count": 1813
                      }
                    ]
                  }
                },
                {
                  "name": "_deepnote_index_column",
                  "dtype": "int64"
                }
              ],
              "rows_top": [
                {
                  "Unnamed: 0": 1,
                  "crl.tot": 278,
                  "dollar": 0,
                  "bang": 0.778,
                  "money": 0,
                  "n000": 0,
                  "make": 0,
                  "yesno": "y",
                  "_deepnote_index_column": 0
                },
                {
                  "Unnamed: 0": 2,
                  "crl.tot": 1028,
                  "dollar": 0.18,
                  "bang": 0.372,
                  "money": 0.43,
                  "n000": 0.43,
                  "make": 0.21,
                  "yesno": "y",
                  "_deepnote_index_column": 1
                },
                {
                  "Unnamed: 0": 3,
                  "crl.tot": 2259,
                  "dollar": 0.184,
                  "bang": 0.276,
                  "money": 0.06,
                  "n000": 1.16,
                  "make": 0.06,
                  "yesno": "y",
                  "_deepnote_index_column": 2
                },
                {
                  "Unnamed: 0": 4,
                  "crl.tot": 191,
                  "dollar": 0,
                  "bang": 0.137,
                  "money": 0,
                  "n000": 0,
                  "make": 0,
                  "yesno": "y",
                  "_deepnote_index_column": 3
                },
                {
                  "Unnamed: 0": 5,
                  "crl.tot": 191,
                  "dollar": 0,
                  "bang": 0.135,
                  "money": 0,
                  "n000": 0,
                  "make": 0,
                  "yesno": "y",
                  "_deepnote_index_column": 4
                },
                {
                  "Unnamed: 0": 6,
                  "crl.tot": 54,
                  "dollar": 0,
                  "bang": 0,
                  "money": 0,
                  "n000": 0,
                  "make": 0,
                  "yesno": "y",
                  "_deepnote_index_column": 5
                },
                {
                  "Unnamed: 0": 7,
                  "crl.tot": 112,
                  "dollar": 0.054,
                  "bang": 0.164,
                  "money": 0,
                  "n000": 0,
                  "make": 0,
                  "yesno": "y",
                  "_deepnote_index_column": 6
                },
                {
                  "Unnamed: 0": 8,
                  "crl.tot": 49,
                  "dollar": 0,
                  "bang": 0,
                  "money": 0,
                  "n000": 0,
                  "make": 0,
                  "yesno": "y",
                  "_deepnote_index_column": 7
                },
                {
                  "Unnamed: 0": 9,
                  "crl.tot": 1257,
                  "dollar": 0.203,
                  "bang": 0.181,
                  "money": 0.15,
                  "n000": 0,
                  "make": 0.15,
                  "yesno": "y",
                  "_deepnote_index_column": 8
                },
                {
                  "Unnamed: 0": 10,
                  "crl.tot": 749,
                  "dollar": 0.081,
                  "bang": 0.244,
                  "money": 0,
                  "n000": 0.19,
                  "make": 0.06,
                  "yesno": "y",
                  "_deepnote_index_column": 9
                },
                {
                  "Unnamed: 0": 11,
                  "crl.tot": 21,
                  "dollar": 0,
                  "bang": 0.462,
                  "money": 0,
                  "n000": 0,
                  "make": 0,
                  "yesno": "y",
                  "_deepnote_index_column": 10
                },
                {
                  "Unnamed: 0": 12,
                  "crl.tot": 184,
                  "dollar": 0,
                  "bang": 0.663,
                  "money": 0,
                  "n000": 0,
                  "make": 0,
                  "yesno": "y",
                  "_deepnote_index_column": 11
                },
                {
                  "Unnamed: 0": 13,
                  "crl.tot": 261,
                  "dollar": 0,
                  "bang": 0.786,
                  "money": 0,
                  "n000": 0,
                  "make": 0,
                  "yesno": "y",
                  "_deepnote_index_column": 12
                },
                {
                  "Unnamed: 0": 14,
                  "crl.tot": 25,
                  "dollar": 0,
                  "bang": 0,
                  "money": 0,
                  "n000": 0,
                  "make": 0,
                  "yesno": "y",
                  "_deepnote_index_column": 13
                },
                {
                  "Unnamed: 0": 15,
                  "crl.tot": 205,
                  "dollar": 0,
                  "bang": 0.357,
                  "money": 0,
                  "n000": 0.35,
                  "make": 0,
                  "yesno": "y",
                  "_deepnote_index_column": 14
                },
                {
                  "Unnamed: 0": 16,
                  "crl.tot": 249,
                  "dollar": 0.063,
                  "bang": 0.572,
                  "money": 0.42,
                  "n000": 0,
                  "make": 0,
                  "yesno": "y",
                  "_deepnote_index_column": 15
                },
                {
                  "Unnamed: 0": 17,
                  "crl.tot": 107,
                  "dollar": 0,
                  "bang": 0.428,
                  "money": 0,
                  "n000": 0,
                  "make": 0,
                  "yesno": "y",
                  "_deepnote_index_column": 16
                },
                {
                  "Unnamed: 0": 18,
                  "crl.tot": 461,
                  "dollar": 0.37,
                  "bang": 1.975,
                  "money": 0,
                  "n000": 0.7,
                  "make": 0,
                  "yesno": "y",
                  "_deepnote_index_column": 17
                },
                {
                  "Unnamed: 0": 19,
                  "crl.tot": 70,
                  "dollar": 0,
                  "bang": 0.455,
                  "money": 0,
                  "n000": 0,
                  "make": 0,
                  "yesno": "y",
                  "_deepnote_index_column": 18
                },
                {
                  "Unnamed: 0": 20,
                  "crl.tot": 186,
                  "dollar": 0.496,
                  "bang": 0.055,
                  "money": 0.63,
                  "n000": 0.31,
                  "make": 0,
                  "yesno": "y",
                  "_deepnote_index_column": 19
                },
                {
                  "Unnamed: 0": 21,
                  "crl.tot": 23,
                  "dollar": 0,
                  "bang": 0.729,
                  "money": 0,
                  "n000": 0,
                  "make": 0,
                  "yesno": "y",
                  "_deepnote_index_column": 20
                },
                {
                  "Unnamed: 0": 22,
                  "crl.tot": 2259,
                  "dollar": 0.046,
                  "bang": 0.25,
                  "money": 0,
                  "n000": 0.05,
                  "make": 0.05,
                  "yesno": "y",
                  "_deepnote_index_column": 21
                },
                {
                  "Unnamed: 0": 23,
                  "crl.tot": 34,
                  "dollar": 0,
                  "bang": 0.809,
                  "money": 0,
                  "n000": 0,
                  "make": 0,
                  "yesno": "y",
                  "_deepnote_index_column": 22
                },
                {
                  "Unnamed: 0": 24,
                  "crl.tot": 69,
                  "dollar": 0,
                  "bang": 0.667,
                  "money": 0,
                  "n000": 0,
                  "make": 0,
                  "yesno": "y",
                  "_deepnote_index_column": 23
                },
                {
                  "Unnamed: 0": 25,
                  "crl.tot": 82,
                  "dollar": 0.196,
                  "bang": 0.392,
                  "money": 0,
                  "n000": 0,
                  "make": 0,
                  "yesno": "y",
                  "_deepnote_index_column": 24
                },
                {
                  "Unnamed: 0": 26,
                  "crl.tot": 2258,
                  "dollar": 0.046,
                  "bang": 0.25,
                  "money": 0,
                  "n000": 0.05,
                  "make": 0.05,
                  "yesno": "y",
                  "_deepnote_index_column": 25
                },
                {
                  "Unnamed: 0": 27,
                  "crl.tot": 82,
                  "dollar": 0.196,
                  "bang": 0.392,
                  "money": 0,
                  "n000": 0,
                  "make": 0,
                  "yesno": "y",
                  "_deepnote_index_column": 26
                },
                {
                  "Unnamed: 0": 28,
                  "crl.tot": 47,
                  "dollar": 0,
                  "bang": 0.368,
                  "money": 3.33,
                  "n000": 0,
                  "make": 0,
                  "yesno": "y",
                  "_deepnote_index_column": 27
                },
                {
                  "Unnamed: 0": 29,
                  "crl.tot": 36,
                  "dollar": 0,
                  "bang": 0.352,
                  "money": 0,
                  "n000": 0,
                  "make": 0,
                  "yesno": "y",
                  "_deepnote_index_column": 28
                },
                {
                  "Unnamed: 0": 30,
                  "crl.tot": 129,
                  "dollar": 0,
                  "bang": 0.091,
                  "money": 0.65,
                  "n000": 0,
                  "make": 0,
                  "yesno": "y",
                  "_deepnote_index_column": 29
                },
                {
                  "Unnamed: 0": 31,
                  "crl.tot": 59,
                  "dollar": 0,
                  "bang": 0.886,
                  "money": 0,
                  "n000": 0,
                  "make": 1.17,
                  "yesno": "y",
                  "_deepnote_index_column": 30
                },
                {
                  "Unnamed: 0": 32,
                  "crl.tot": 43,
                  "dollar": 0,
                  "bang": 2.112,
                  "money": 0,
                  "n000": 0,
                  "make": 0,
                  "yesno": "y",
                  "_deepnote_index_column": 31
                },
                {
                  "Unnamed: 0": 33,
                  "crl.tot": 89,
                  "dollar": 0.091,
                  "bang": 0,
                  "money": 0.27,
                  "n000": 0,
                  "make": 0,
                  "yesno": "y",
                  "_deepnote_index_column": 32
                },
                {
                  "Unnamed: 0": 34,
                  "crl.tot": 17,
                  "dollar": 0.302,
                  "bang": 0,
                  "money": 0,
                  "n000": 0,
                  "make": 0,
                  "yesno": "y",
                  "_deepnote_index_column": 33
                },
                {
                  "Unnamed: 0": 35,
                  "crl.tot": 264,
                  "dollar": 0,
                  "bang": 0,
                  "money": 0,
                  "n000": 0,
                  "make": 0,
                  "yesno": "y",
                  "_deepnote_index_column": 34
                },
                {
                  "Unnamed: 0": 36,
                  "crl.tot": 25,
                  "dollar": 0,
                  "bang": 1.543,
                  "money": 0,
                  "n000": 0,
                  "make": 0,
                  "yesno": "y",
                  "_deepnote_index_column": 35
                },
                {
                  "Unnamed: 0": 37,
                  "crl.tot": 29,
                  "dollar": 0,
                  "bang": 0.873,
                  "money": 0,
                  "n000": 0,
                  "make": 0,
                  "yesno": "y",
                  "_deepnote_index_column": 36
                },
                {
                  "Unnamed: 0": 38,
                  "crl.tot": 239,
                  "dollar": 0.244,
                  "bang": 0.488,
                  "money": 0,
                  "n000": 0.48,
                  "make": 0,
                  "yesno": "y",
                  "_deepnote_index_column": 37
                },
                {
                  "Unnamed: 0": 39,
                  "crl.tot": 186,
                  "dollar": 0,
                  "bang": 0.963,
                  "money": 0,
                  "n000": 0,
                  "make": 0,
                  "yesno": "y",
                  "_deepnote_index_column": 38
                },
                {
                  "Unnamed: 0": 40,
                  "crl.tot": 285,
                  "dollar": 0,
                  "bang": 0.75,
                  "money": 0,
                  "n000": 0,
                  "make": 0,
                  "yesno": "y",
                  "_deepnote_index_column": 39
                },
                {
                  "Unnamed: 0": 41,
                  "crl.tot": 226,
                  "dollar": 0.207,
                  "bang": 0.207,
                  "money": 0.61,
                  "n000": 0.3,
                  "make": 0.3,
                  "yesno": "y",
                  "_deepnote_index_column": 40
                },
                {
                  "Unnamed: 0": 42,
                  "crl.tot": 28,
                  "dollar": 0,
                  "bang": 0.671,
                  "money": 0,
                  "n000": 0,
                  "make": 0,
                  "yesno": "y",
                  "_deepnote_index_column": 41
                },
                {
                  "Unnamed: 0": 43,
                  "crl.tot": 28,
                  "dollar": 0,
                  "bang": 0.711,
                  "money": 0,
                  "n000": 0,
                  "make": 0,
                  "yesno": "y",
                  "_deepnote_index_column": 42
                },
                {
                  "Unnamed: 0": 44,
                  "crl.tot": 68,
                  "dollar": 0,
                  "bang": 0.426,
                  "money": 0,
                  "n000": 0,
                  "make": 0,
                  "yesno": "y",
                  "_deepnote_index_column": 43
                },
                {
                  "Unnamed: 0": 45,
                  "crl.tot": 339,
                  "dollar": 0.036,
                  "bang": 0.813,
                  "money": 0,
                  "n000": 0,
                  "make": 0,
                  "yesno": "y",
                  "_deepnote_index_column": 44
                },
                {
                  "Unnamed: 0": 46,
                  "crl.tot": 774,
                  "dollar": 0.068,
                  "bang": 1.318,
                  "money": 0.3,
                  "n000": 0,
                  "make": 0.15,
                  "yesno": "y",
                  "_deepnote_index_column": 45
                },
                {
                  "Unnamed: 0": 47,
                  "crl.tot": 442,
                  "dollar": 0.167,
                  "bang": 0.01,
                  "money": 0.06,
                  "n000": 0.84,
                  "make": 0.18,
                  "yesno": "y",
                  "_deepnote_index_column": 46
                },
                {
                  "Unnamed: 0": 48,
                  "crl.tot": 94,
                  "dollar": 0,
                  "bang": 0.17,
                  "money": 0,
                  "n000": 0.49,
                  "make": 0.49,
                  "yesno": "y",
                  "_deepnote_index_column": 47
                },
                {
                  "Unnamed: 0": 49,
                  "crl.tot": 3040,
                  "dollar": 0.756,
                  "bang": 0.325,
                  "money": 0.36,
                  "n000": 1.05,
                  "make": 0.46,
                  "yesno": "y",
                  "_deepnote_index_column": 48
                },
                {
                  "Unnamed: 0": 50,
                  "crl.tot": 898,
                  "dollar": 0.23,
                  "bang": 0.278,
                  "money": 0.26,
                  "n000": 0.19,
                  "make": 0.46,
                  "yesno": "y",
                  "_deepnote_index_column": 49
                },
                {
                  "Unnamed: 0": 51,
                  "crl.tot": 33,
                  "dollar": 0,
                  "bang": 0,
                  "money": 0,
                  "n000": 0,
                  "make": 0,
                  "yesno": "y",
                  "_deepnote_index_column": 50
                },
                {
                  "Unnamed: 0": 52,
                  "crl.tot": 179,
                  "dollar": 0.332,
                  "bang": 0.498,
                  "money": 0,
                  "n000": 1.83,
                  "make": 0.73,
                  "yesno": "y",
                  "_deepnote_index_column": 51
                },
                {
                  "Unnamed: 0": 53,
                  "crl.tot": 750,
                  "dollar": 0.071,
                  "bang": 0.244,
                  "money": 0,
                  "n000": 0.19,
                  "make": 0.06,
                  "yesno": "y",
                  "_deepnote_index_column": 52
                },
                {
                  "Unnamed: 0": 54,
                  "crl.tot": 69,
                  "dollar": 0.596,
                  "bang": 0.198,
                  "money": 1.26,
                  "n000": 0,
                  "make": 0,
                  "yesno": "y",
                  "_deepnote_index_column": 53
                },
                {
                  "Unnamed: 0": 55,
                  "crl.tot": 176,
                  "dollar": 0.333,
                  "bang": 0.5,
                  "money": 0,
                  "n000": 1.83,
                  "make": 0.73,
                  "yesno": "y",
                  "_deepnote_index_column": 54
                },
                {
                  "Unnamed: 0": 56,
                  "crl.tot": 106,
                  "dollar": 0,
                  "bang": 1.478,
                  "money": 0,
                  "n000": 0,
                  "make": 0,
                  "yesno": "y",
                  "_deepnote_index_column": 55
                },
                {
                  "Unnamed: 0": 57,
                  "crl.tot": 146,
                  "dollar": 0.061,
                  "bang": 0.615,
                  "money": 0,
                  "n000": 0,
                  "make": 0,
                  "yesno": "y",
                  "_deepnote_index_column": 56
                },
                {
                  "Unnamed: 0": 58,
                  "crl.tot": 51,
                  "dollar": 0,
                  "bang": 0,
                  "money": 0,
                  "n000": 0,
                  "make": 0,
                  "yesno": "y",
                  "_deepnote_index_column": 57
                },
                {
                  "Unnamed: 0": 59,
                  "crl.tot": 200,
                  "dollar": 0,
                  "bang": 1.501,
                  "money": 0,
                  "n000": 0,
                  "make": 0,
                  "yesno": "y",
                  "_deepnote_index_column": 58
                },
                {
                  "Unnamed: 0": 60,
                  "crl.tot": 284,
                  "dollar": 0,
                  "bang": 0.669,
                  "money": 0,
                  "n000": 0,
                  "make": 0,
                  "yesno": "y",
                  "_deepnote_index_column": 59
                },
                {
                  "Unnamed: 0": 61,
                  "crl.tot": 249,
                  "dollar": 0,
                  "bang": 0,
                  "money": 0,
                  "n000": 0,
                  "make": 0,
                  "yesno": "y",
                  "_deepnote_index_column": 60
                },
                {
                  "Unnamed: 0": 62,
                  "crl.tot": 66,
                  "dollar": 0,
                  "bang": 0.175,
                  "money": 0.23,
                  "n000": 0,
                  "make": 0.23,
                  "yesno": "y",
                  "_deepnote_index_column": 61
                }
              ],
              "rows_bottom": [
                {
                  "Unnamed: 0": 4539,
                  "crl.tot": 25,
                  "dollar": 0,
                  "bang": 0,
                  "money": 0,
                  "n000": 0,
                  "make": 0,
                  "yesno": "n",
                  "_deepnote_index_column": 4538
                },
                {
                  "Unnamed: 0": 4540,
                  "crl.tot": 8,
                  "dollar": 0,
                  "bang": 0,
                  "money": 0,
                  "n000": 0,
                  "make": 0,
                  "yesno": "n",
                  "_deepnote_index_column": 4539
                },
                {
                  "Unnamed: 0": 4541,
                  "crl.tot": 106,
                  "dollar": 0,
                  "bang": 0.039,
                  "money": 0,
                  "n000": 0,
                  "make": 0,
                  "yesno": "n",
                  "_deepnote_index_column": 4540
                },
                {
                  "Unnamed: 0": 4542,
                  "crl.tot": 2,
                  "dollar": 0,
                  "bang": 0,
                  "money": 0,
                  "n000": 0,
                  "make": 0,
                  "yesno": "n",
                  "_deepnote_index_column": 4541
                },
                {
                  "Unnamed: 0": 4543,
                  "crl.tot": 25,
                  "dollar": 0,
                  "bang": 0,
                  "money": 0,
                  "n000": 0,
                  "make": 0,
                  "yesno": "n",
                  "_deepnote_index_column": 4542
                },
                {
                  "Unnamed: 0": 4544,
                  "crl.tot": 10,
                  "dollar": 0,
                  "bang": 0,
                  "money": 0,
                  "n000": 0,
                  "make": 0,
                  "yesno": "n",
                  "_deepnote_index_column": 4543
                },
                {
                  "Unnamed: 0": 4545,
                  "crl.tot": 65,
                  "dollar": 0,
                  "bang": 0,
                  "money": 0,
                  "n000": 0,
                  "make": 0,
                  "yesno": "n",
                  "_deepnote_index_column": 4544
                },
                {
                  "Unnamed: 0": 4546,
                  "crl.tot": 57,
                  "dollar": 0,
                  "bang": 0,
                  "money": 0,
                  "n000": 0,
                  "make": 0,
                  "yesno": "n",
                  "_deepnote_index_column": 4545
                },
                {
                  "Unnamed: 0": 4547,
                  "crl.tot": 5,
                  "dollar": 0,
                  "bang": 0,
                  "money": 0,
                  "n000": 0,
                  "make": 0,
                  "yesno": "n",
                  "_deepnote_index_column": 4546
                },
                {
                  "Unnamed: 0": 4548,
                  "crl.tot": 7,
                  "dollar": 0,
                  "bang": 0,
                  "money": 0,
                  "n000": 0,
                  "make": 0,
                  "yesno": "n",
                  "_deepnote_index_column": 4547
                },
                {
                  "Unnamed: 0": 4549,
                  "crl.tot": 12,
                  "dollar": 0,
                  "bang": 0,
                  "money": 0,
                  "n000": 0,
                  "make": 0,
                  "yesno": "n",
                  "_deepnote_index_column": 4548
                },
                {
                  "Unnamed: 0": 4550,
                  "crl.tot": 14,
                  "dollar": 0,
                  "bang": 0,
                  "money": 0,
                  "n000": 0,
                  "make": 0,
                  "yesno": "n",
                  "_deepnote_index_column": 4549
                },
                {
                  "Unnamed: 0": 4551,
                  "crl.tot": 4,
                  "dollar": 0,
                  "bang": 0,
                  "money": 0,
                  "n000": 0,
                  "make": 0,
                  "yesno": "n",
                  "_deepnote_index_column": 4550
                },
                {
                  "Unnamed: 0": 4552,
                  "crl.tot": 43,
                  "dollar": 0,
                  "bang": 0.168,
                  "money": 0,
                  "n000": 0,
                  "make": 0,
                  "yesno": "n",
                  "_deepnote_index_column": 4551
                },
                {
                  "Unnamed: 0": 4553,
                  "crl.tot": 60,
                  "dollar": 0,
                  "bang": 0,
                  "money": 0,
                  "n000": 0,
                  "make": 0,
                  "yesno": "n",
                  "_deepnote_index_column": 4552
                },
                {
                  "Unnamed: 0": 4554,
                  "crl.tot": 4,
                  "dollar": 0,
                  "bang": 0,
                  "money": 0,
                  "n000": 0,
                  "make": 0,
                  "yesno": "n",
                  "_deepnote_index_column": 4553
                },
                {
                  "Unnamed: 0": 4555,
                  "crl.tot": 75,
                  "dollar": 0,
                  "bang": 0.116,
                  "money": 0,
                  "n000": 0,
                  "make": 0.33,
                  "yesno": "n",
                  "_deepnote_index_column": 4554
                },
                {
                  "Unnamed: 0": 4556,
                  "crl.tot": 69,
                  "dollar": 0,
                  "bang": 0.065,
                  "money": 0,
                  "n000": 0,
                  "make": 0.17,
                  "yesno": "n",
                  "_deepnote_index_column": 4555
                },
                {
                  "Unnamed: 0": 4557,
                  "crl.tot": 10,
                  "dollar": 0,
                  "bang": 0,
                  "money": 0,
                  "n000": 0,
                  "make": 0,
                  "yesno": "n",
                  "_deepnote_index_column": 4556
                },
                {
                  "Unnamed: 0": 4558,
                  "crl.tot": 93,
                  "dollar": 0,
                  "bang": 0,
                  "money": 0,
                  "n000": 0,
                  "make": 0.69,
                  "yesno": "n",
                  "_deepnote_index_column": 4557
                },
                {
                  "Unnamed: 0": 4559,
                  "crl.tot": 244,
                  "dollar": 0.008,
                  "bang": 0,
                  "money": 0,
                  "n000": 0.1,
                  "make": 0.16,
                  "yesno": "n",
                  "_deepnote_index_column": 4558
                },
                {
                  "Unnamed: 0": 4560,
                  "crl.tot": 54,
                  "dollar": 0,
                  "bang": 0,
                  "money": 0,
                  "n000": 0,
                  "make": 0,
                  "yesno": "n",
                  "_deepnote_index_column": 4559
                },
                {
                  "Unnamed: 0": 4561,
                  "crl.tot": 7,
                  "dollar": 0,
                  "bang": 0,
                  "money": 0,
                  "n000": 0,
                  "make": 0,
                  "yesno": "n",
                  "_deepnote_index_column": 4560
                },
                {
                  "Unnamed: 0": 4562,
                  "crl.tot": 7,
                  "dollar": 0,
                  "bang": 0,
                  "money": 0,
                  "n000": 0,
                  "make": 0,
                  "yesno": "n",
                  "_deepnote_index_column": 4561
                },
                {
                  "Unnamed: 0": 4563,
                  "crl.tot": 28,
                  "dollar": 0,
                  "bang": 0,
                  "money": 0,
                  "n000": 0,
                  "make": 0,
                  "yesno": "n",
                  "_deepnote_index_column": 4562
                },
                {
                  "Unnamed: 0": 4564,
                  "crl.tot": 59,
                  "dollar": 0,
                  "bang": 0,
                  "money": 0,
                  "n000": 0,
                  "make": 0.54,
                  "yesno": "n",
                  "_deepnote_index_column": 4563
                },
                {
                  "Unnamed: 0": 4565,
                  "crl.tot": 128,
                  "dollar": 0,
                  "bang": 0,
                  "money": 0,
                  "n000": 0,
                  "make": 0,
                  "yesno": "n",
                  "_deepnote_index_column": 4564
                },
                {
                  "Unnamed: 0": 4566,
                  "crl.tot": 55,
                  "dollar": 0,
                  "bang": 0,
                  "money": 0,
                  "n000": 0,
                  "make": 0,
                  "yesno": "n",
                  "_deepnote_index_column": 4565
                },
                {
                  "Unnamed: 0": 4567,
                  "crl.tot": 78,
                  "dollar": 0,
                  "bang": 0,
                  "money": 0,
                  "n000": 0,
                  "make": 0,
                  "yesno": "n",
                  "_deepnote_index_column": 4566
                },
                {
                  "Unnamed: 0": 4568,
                  "crl.tot": 108,
                  "dollar": 0,
                  "bang": 0,
                  "money": 0,
                  "n000": 0,
                  "make": 0.14,
                  "yesno": "n",
                  "_deepnote_index_column": 4567
                },
                {
                  "Unnamed: 0": 4569,
                  "crl.tot": 90,
                  "dollar": 0,
                  "bang": 0,
                  "money": 0,
                  "n000": 0,
                  "make": 0.67,
                  "yesno": "n",
                  "_deepnote_index_column": 4568
                },
                {
                  "Unnamed: 0": 4570,
                  "crl.tot": 42,
                  "dollar": 0,
                  "bang": 0,
                  "money": 0,
                  "n000": 0,
                  "make": 0.25,
                  "yesno": "n",
                  "_deepnote_index_column": 4569
                },
                {
                  "Unnamed: 0": 4571,
                  "crl.tot": 38,
                  "dollar": 0.087,
                  "bang": 0,
                  "money": 0,
                  "n000": 0,
                  "make": 0,
                  "yesno": "n",
                  "_deepnote_index_column": 4570
                },
                {
                  "Unnamed: 0": 4572,
                  "crl.tot": 98,
                  "dollar": 0,
                  "bang": 0.082,
                  "money": 0,
                  "n000": 0,
                  "make": 0,
                  "yesno": "n",
                  "_deepnote_index_column": 4571
                },
                {
                  "Unnamed: 0": 4573,
                  "crl.tot": 13,
                  "dollar": 0,
                  "bang": 0,
                  "money": 0,
                  "n000": 0,
                  "make": 0,
                  "yesno": "n",
                  "_deepnote_index_column": 4572
                },
                {
                  "Unnamed: 0": 4574,
                  "crl.tot": 137,
                  "dollar": 0,
                  "bang": 0.099,
                  "money": 0,
                  "n000": 0,
                  "make": 0,
                  "yesno": "n",
                  "_deepnote_index_column": 4573
                },
                {
                  "Unnamed: 0": 4575,
                  "crl.tot": 61,
                  "dollar": 0,
                  "bang": 0,
                  "money": 0,
                  "n000": 0,
                  "make": 0.29,
                  "yesno": "n",
                  "_deepnote_index_column": 4574
                },
                {
                  "Unnamed: 0": 4576,
                  "crl.tot": 43,
                  "dollar": 0,
                  "bang": 0,
                  "money": 0,
                  "n000": 0,
                  "make": 0,
                  "yesno": "n",
                  "_deepnote_index_column": 4575
                },
                {
                  "Unnamed: 0": 4577,
                  "crl.tot": 64,
                  "dollar": 0,
                  "bang": 0,
                  "money": 0,
                  "n000": 0,
                  "make": 0,
                  "yesno": "n",
                  "_deepnote_index_column": 4576
                },
                {
                  "Unnamed: 0": 4578,
                  "crl.tot": 24,
                  "dollar": 0,
                  "bang": 0,
                  "money": 0,
                  "n000": 0,
                  "make": 0,
                  "yesno": "n",
                  "_deepnote_index_column": 4577
                },
                {
                  "Unnamed: 0": 4579,
                  "crl.tot": 70,
                  "dollar": 0,
                  "bang": 0,
                  "money": 0.4,
                  "n000": 0,
                  "make": 0,
                  "yesno": "n",
                  "_deepnote_index_column": 4578
                },
                {
                  "Unnamed: 0": 4580,
                  "crl.tot": 1789,
                  "dollar": 0,
                  "bang": 0.055,
                  "money": 0,
                  "n000": 0,
                  "make": 0.27,
                  "yesno": "n",
                  "_deepnote_index_column": 4579
                },
                {
                  "Unnamed: 0": 4581,
                  "crl.tot": 11,
                  "dollar": 0,
                  "bang": 0,
                  "money": 0,
                  "n000": 0,
                  "make": 0,
                  "yesno": "n",
                  "_deepnote_index_column": 4580
                },
                {
                  "Unnamed: 0": 4582,
                  "crl.tot": 46,
                  "dollar": 0,
                  "bang": 0.091,
                  "money": 0,
                  "n000": 0,
                  "make": 0,
                  "yesno": "n",
                  "_deepnote_index_column": 4581
                },
                {
                  "Unnamed: 0": 4583,
                  "crl.tot": 19,
                  "dollar": 0,
                  "bang": 0,
                  "money": 0,
                  "n000": 0,
                  "make": 0,
                  "yesno": "n",
                  "_deepnote_index_column": 4582
                },
                {
                  "Unnamed: 0": 4584,
                  "crl.tot": 70,
                  "dollar": 0,
                  "bang": 0,
                  "money": 0,
                  "n000": 0,
                  "make": 0,
                  "yesno": "n",
                  "_deepnote_index_column": 4583
                },
                {
                  "Unnamed: 0": 4585,
                  "crl.tot": 123,
                  "dollar": 0,
                  "bang": 0.041,
                  "money": 0,
                  "n000": 0,
                  "make": 0,
                  "yesno": "n",
                  "_deepnote_index_column": 4584
                },
                {
                  "Unnamed: 0": 4586,
                  "crl.tot": 11,
                  "dollar": 0,
                  "bang": 0,
                  "money": 0,
                  "n000": 0,
                  "make": 0,
                  "yesno": "n",
                  "_deepnote_index_column": 4585
                },
                {
                  "Unnamed: 0": 4587,
                  "crl.tot": 174,
                  "dollar": 0,
                  "bang": 0,
                  "money": 0,
                  "n000": 0,
                  "make": 0,
                  "yesno": "n",
                  "_deepnote_index_column": 4586
                },
                {
                  "Unnamed: 0": 4588,
                  "crl.tot": 28,
                  "dollar": 0.125,
                  "bang": 0,
                  "money": 0,
                  "n000": 0,
                  "make": 0,
                  "yesno": "n",
                  "_deepnote_index_column": 4587
                },
                {
                  "Unnamed: 0": 4589,
                  "crl.tot": 10,
                  "dollar": 0,
                  "bang": 0,
                  "money": 0,
                  "n000": 0,
                  "make": 0,
                  "yesno": "n",
                  "_deepnote_index_column": 4588
                },
                {
                  "Unnamed: 0": 4590,
                  "crl.tot": 22,
                  "dollar": 0,
                  "bang": 0,
                  "money": 0,
                  "n000": 0,
                  "make": 0,
                  "yesno": "n",
                  "_deepnote_index_column": 4589
                },
                {
                  "Unnamed: 0": 4591,
                  "crl.tot": 79,
                  "dollar": 0,
                  "bang": 0,
                  "money": 0,
                  "n000": 0,
                  "make": 0,
                  "yesno": "n",
                  "_deepnote_index_column": 4590
                },
                {
                  "Unnamed: 0": 4592,
                  "crl.tot": 8,
                  "dollar": 0,
                  "bang": 0,
                  "money": 0,
                  "n000": 0,
                  "make": 0,
                  "yesno": "n",
                  "_deepnote_index_column": 4591
                },
                {
                  "Unnamed: 0": 4593,
                  "crl.tot": 27,
                  "dollar": 0,
                  "bang": 0,
                  "money": 0,
                  "n000": 0,
                  "make": 0,
                  "yesno": "n",
                  "_deepnote_index_column": 4592
                },
                {
                  "Unnamed: 0": 4594,
                  "crl.tot": 6,
                  "dollar": 0,
                  "bang": 1.052,
                  "money": 0,
                  "n000": 0,
                  "make": 0,
                  "yesno": "n",
                  "_deepnote_index_column": 4593
                },
                {
                  "Unnamed: 0": 4595,
                  "crl.tot": 19,
                  "dollar": 0,
                  "bang": 0,
                  "money": 0,
                  "n000": 0,
                  "make": 0,
                  "yesno": "n",
                  "_deepnote_index_column": 4594
                },
                {
                  "Unnamed: 0": 4596,
                  "crl.tot": 24,
                  "dollar": 0,
                  "bang": 0,
                  "money": 0,
                  "n000": 0,
                  "make": 0,
                  "yesno": "n",
                  "_deepnote_index_column": 4595
                },
                {
                  "Unnamed: 0": 4597,
                  "crl.tot": 88,
                  "dollar": 0,
                  "bang": 0,
                  "money": 0,
                  "n000": 0,
                  "make": 0.31,
                  "yesno": "n",
                  "_deepnote_index_column": 4596
                },
                {
                  "Unnamed: 0": 4598,
                  "crl.tot": 14,
                  "dollar": 0,
                  "bang": 0.353,
                  "money": 0,
                  "n000": 0,
                  "make": 0,
                  "yesno": "n",
                  "_deepnote_index_column": 4597
                },
                {
                  "Unnamed: 0": 4599,
                  "crl.tot": 118,
                  "dollar": 0,
                  "bang": 0,
                  "money": 0,
                  "n000": 0,
                  "make": 0.3,
                  "yesno": "n",
                  "_deepnote_index_column": 4598
                },
                {
                  "Unnamed: 0": 4600,
                  "crl.tot": 78,
                  "dollar": 0,
                  "bang": 0,
                  "money": 0,
                  "n000": 0,
                  "make": 0.96,
                  "yesno": "n",
                  "_deepnote_index_column": 4599
                },
                {
                  "Unnamed: 0": 4601,
                  "crl.tot": 40,
                  "dollar": 0,
                  "bang": 0.125,
                  "money": 0,
                  "n000": 0,
                  "make": 0,
                  "yesno": "n",
                  "_deepnote_index_column": 4600
                }
              ]
            },
            "text/plain": "      Unnamed: 0  crl.tot  dollar   bang  money  n000  make yesno\n0              1      278   0.000  0.778   0.00  0.00  0.00     y\n1              2     1028   0.180  0.372   0.43  0.43  0.21     y\n2              3     2259   0.184  0.276   0.06  1.16  0.06     y\n3              4      191   0.000  0.137   0.00  0.00  0.00     y\n4              5      191   0.000  0.135   0.00  0.00  0.00     y\n...          ...      ...     ...    ...    ...   ...   ...   ...\n4596        4597       88   0.000  0.000   0.00  0.00  0.31     n\n4597        4598       14   0.000  0.353   0.00  0.00  0.00     n\n4598        4599      118   0.000  0.000   0.00  0.00  0.30     n\n4599        4600       78   0.000  0.000   0.00  0.00  0.96     n\n4600        4601       40   0.000  0.125   0.00  0.00  0.00     n\n\n[4601 rows x 8 columns]",
            "text/html": "<div>\n<style scoped>\n    .dataframe tbody tr th:only-of-type {\n        vertical-align: middle;\n    }\n\n    .dataframe tbody tr th {\n        vertical-align: top;\n    }\n\n    .dataframe thead th {\n        text-align: right;\n    }\n</style>\n<table border=\"1\" class=\"dataframe\">\n  <thead>\n    <tr style=\"text-align: right;\">\n      <th></th>\n      <th>Unnamed: 0</th>\n      <th>crl.tot</th>\n      <th>dollar</th>\n      <th>bang</th>\n      <th>money</th>\n      <th>n000</th>\n      <th>make</th>\n      <th>yesno</th>\n    </tr>\n  </thead>\n  <tbody>\n    <tr>\n      <th>0</th>\n      <td>1</td>\n      <td>278</td>\n      <td>0.000</td>\n      <td>0.778</td>\n      <td>0.00</td>\n      <td>0.00</td>\n      <td>0.00</td>\n      <td>y</td>\n    </tr>\n    <tr>\n      <th>1</th>\n      <td>2</td>\n      <td>1028</td>\n      <td>0.180</td>\n      <td>0.372</td>\n      <td>0.43</td>\n      <td>0.43</td>\n      <td>0.21</td>\n      <td>y</td>\n    </tr>\n    <tr>\n      <th>2</th>\n      <td>3</td>\n      <td>2259</td>\n      <td>0.184</td>\n      <td>0.276</td>\n      <td>0.06</td>\n      <td>1.16</td>\n      <td>0.06</td>\n      <td>y</td>\n    </tr>\n    <tr>\n      <th>3</th>\n      <td>4</td>\n      <td>191</td>\n      <td>0.000</td>\n      <td>0.137</td>\n      <td>0.00</td>\n      <td>0.00</td>\n      <td>0.00</td>\n      <td>y</td>\n    </tr>\n    <tr>\n      <th>4</th>\n      <td>5</td>\n      <td>191</td>\n      <td>0.000</td>\n      <td>0.135</td>\n      <td>0.00</td>\n      <td>0.00</td>\n      <td>0.00</td>\n      <td>y</td>\n    </tr>\n    <tr>\n      <th>...</th>\n      <td>...</td>\n      <td>...</td>\n      <td>...</td>\n      <td>...</td>\n      <td>...</td>\n      <td>...</td>\n      <td>...</td>\n      <td>...</td>\n    </tr>\n    <tr>\n      <th>4596</th>\n      <td>4597</td>\n      <td>88</td>\n      <td>0.000</td>\n      <td>0.000</td>\n      <td>0.00</td>\n      <td>0.00</td>\n      <td>0.31</td>\n      <td>n</td>\n    </tr>\n    <tr>\n      <th>4597</th>\n      <td>4598</td>\n      <td>14</td>\n      <td>0.000</td>\n      <td>0.353</td>\n      <td>0.00</td>\n      <td>0.00</td>\n      <td>0.00</td>\n      <td>n</td>\n    </tr>\n    <tr>\n      <th>4598</th>\n      <td>4599</td>\n      <td>118</td>\n      <td>0.000</td>\n      <td>0.000</td>\n      <td>0.00</td>\n      <td>0.00</td>\n      <td>0.30</td>\n      <td>n</td>\n    </tr>\n    <tr>\n      <th>4599</th>\n      <td>4600</td>\n      <td>78</td>\n      <td>0.000</td>\n      <td>0.000</td>\n      <td>0.00</td>\n      <td>0.00</td>\n      <td>0.96</td>\n      <td>n</td>\n    </tr>\n    <tr>\n      <th>4600</th>\n      <td>4601</td>\n      <td>40</td>\n      <td>0.000</td>\n      <td>0.125</td>\n      <td>0.00</td>\n      <td>0.00</td>\n      <td>0.00</td>\n      <td>n</td>\n    </tr>\n  </tbody>\n</table>\n<p>4601 rows × 8 columns</p>\n</div>"
          },
          "metadata": {}
        }
      ]
    },
    {
      "cell_type": "code",
      "metadata": {
        "tags": [],
        "cell_id": "00005-87df5070-04f4-4c4f-bcd4-d57f51eb10b4",
        "deepnote_to_be_reexecuted": false,
        "source_hash": "9b763153",
        "execution_millis": 0,
        "execution_start": 1615468647832,
        "deepnote_cell_type": "code"
      },
      "source": "def is_spam(row):\n    if row['yesno'] == 'y':\n        return 1\n    return 0",
      "execution_count": null,
      "outputs": []
    },
    {
      "cell_type": "code",
      "metadata": {
        "tags": [],
        "cell_id": "00006-c8118cbd-41d5-4f09-af38-d0cf2bad46a9",
        "deepnote_to_be_reexecuted": false,
        "source_hash": "e9893e05",
        "execution_millis": 74,
        "execution_start": 1615468656693,
        "deepnote_cell_type": "code"
      },
      "source": "df['spam'] = df.apply(is_spam, axis = 1)",
      "execution_count": null,
      "outputs": []
    },
    {
      "cell_type": "code",
      "metadata": {
        "tags": [],
        "cell_id": "00007-f7184414-f43c-4f5a-bbdd-e21ffb07dfa1",
        "deepnote_to_be_reexecuted": false,
        "source_hash": "afbed06e",
        "execution_millis": 2,
        "execution_start": 1615468679605,
        "deepnote_cell_type": "code"
      },
      "source": "df.drop(['yesno', 'Unnamed: 0'],axis = 1, inplace = True)",
      "execution_count": null,
      "outputs": []
    },
    {
      "cell_type": "code",
      "metadata": {
        "tags": [],
        "cell_id": "00009-a0ee0a10-854c-4a0e-9e94-66c72230b582",
        "deepnote_to_be_reexecuted": false,
        "source_hash": "f804c160",
        "execution_start": 1615399093981,
        "execution_millis": 41,
        "deepnote_cell_type": "code"
      },
      "source": "df",
      "execution_count": null,
      "outputs": [
        {
          "output_type": "execute_result",
          "execution_count": 11,
          "data": {
            "application/vnd.deepnote.dataframe.v2+json": {
              "row_count": 4601,
              "column_count": 7,
              "columns": [
                {
                  "name": "crl.tot",
                  "dtype": "int64",
                  "stats": {
                    "unique_count": 919,
                    "nan_count": 0,
                    "min": 1,
                    "max": 15841,
                    "histogram": [
                      {
                        "bin_start": 1,
                        "bin_end": 1585,
                        "count": 4473
                      },
                      {
                        "bin_start": 1585,
                        "bin_end": 3169,
                        "count": 94
                      },
                      {
                        "bin_start": 3169,
                        "bin_end": 4753,
                        "count": 27
                      },
                      {
                        "bin_start": 4753,
                        "bin_end": 6337,
                        "count": 2
                      },
                      {
                        "bin_start": 6337,
                        "bin_end": 7921,
                        "count": 0
                      },
                      {
                        "bin_start": 7921,
                        "bin_end": 9505,
                        "count": 3
                      },
                      {
                        "bin_start": 9505,
                        "bin_end": 11089,
                        "count": 1
                      },
                      {
                        "bin_start": 11089,
                        "bin_end": 12673,
                        "count": 0
                      },
                      {
                        "bin_start": 12673,
                        "bin_end": 14257,
                        "count": 0
                      },
                      {
                        "bin_start": 14257,
                        "bin_end": 15841,
                        "count": 1
                      }
                    ]
                  }
                },
                {
                  "name": "dollar",
                  "dtype": "float64",
                  "stats": {
                    "unique_count": 504,
                    "nan_count": 0,
                    "min": 0,
                    "max": 6.003,
                    "histogram": [
                      {
                        "bin_start": 0,
                        "bin_end": 0.6003000000000001,
                        "count": 4484
                      },
                      {
                        "bin_start": 0.6003000000000001,
                        "bin_end": 1.2006000000000001,
                        "count": 84
                      },
                      {
                        "bin_start": 1.2006000000000001,
                        "bin_end": 1.8009000000000002,
                        "count": 23
                      },
                      {
                        "bin_start": 1.8009000000000002,
                        "bin_end": 2.4012000000000002,
                        "count": 3
                      },
                      {
                        "bin_start": 2.4012000000000002,
                        "bin_end": 3.0015,
                        "count": 0
                      },
                      {
                        "bin_start": 3.0015,
                        "bin_end": 3.6018000000000003,
                        "count": 3
                      },
                      {
                        "bin_start": 3.6018000000000003,
                        "bin_end": 4.202100000000001,
                        "count": 1
                      },
                      {
                        "bin_start": 4.202100000000001,
                        "bin_end": 4.8024000000000004,
                        "count": 0
                      },
                      {
                        "bin_start": 4.8024000000000004,
                        "bin_end": 5.4027,
                        "count": 2
                      },
                      {
                        "bin_start": 5.4027,
                        "bin_end": 6.003,
                        "count": 1
                      }
                    ]
                  }
                },
                {
                  "name": "bang",
                  "dtype": "float64",
                  "stats": {
                    "unique_count": 964,
                    "nan_count": 0,
                    "min": 0,
                    "max": 32.478,
                    "histogram": [
                      {
                        "bin_start": 0,
                        "bin_end": 3.2478000000000002,
                        "count": 4564
                      },
                      {
                        "bin_start": 3.2478000000000002,
                        "bin_end": 6.4956000000000005,
                        "count": 30
                      },
                      {
                        "bin_start": 6.4956000000000005,
                        "bin_end": 9.743400000000001,
                        "count": 5
                      },
                      {
                        "bin_start": 9.743400000000001,
                        "bin_end": 12.991200000000001,
                        "count": 0
                      },
                      {
                        "bin_start": 12.991200000000001,
                        "bin_end": 16.239,
                        "count": 0
                      },
                      {
                        "bin_start": 16.239,
                        "bin_end": 19.486800000000002,
                        "count": 1
                      },
                      {
                        "bin_start": 19.486800000000002,
                        "bin_end": 22.7346,
                        "count": 0
                      },
                      {
                        "bin_start": 22.7346,
                        "bin_end": 25.982400000000002,
                        "count": 0
                      },
                      {
                        "bin_start": 25.982400000000002,
                        "bin_end": 29.230200000000004,
                        "count": 0
                      },
                      {
                        "bin_start": 29.230200000000004,
                        "bin_end": 32.478,
                        "count": 1
                      }
                    ]
                  }
                },
                {
                  "name": "money",
                  "dtype": "float64",
                  "stats": {
                    "unique_count": 143,
                    "nan_count": 0,
                    "min": 0,
                    "max": 12.5,
                    "histogram": [
                      {
                        "bin_start": 0,
                        "bin_end": 1.25,
                        "count": 4535
                      },
                      {
                        "bin_start": 1.25,
                        "bin_end": 2.5,
                        "count": 53
                      },
                      {
                        "bin_start": 2.5,
                        "bin_end": 3.75,
                        "count": 2
                      },
                      {
                        "bin_start": 3.75,
                        "bin_end": 5,
                        "count": 3
                      },
                      {
                        "bin_start": 5,
                        "bin_end": 6.25,
                        "count": 1
                      },
                      {
                        "bin_start": 6.25,
                        "bin_end": 7.5,
                        "count": 3
                      },
                      {
                        "bin_start": 7.5,
                        "bin_end": 8.75,
                        "count": 0
                      },
                      {
                        "bin_start": 8.75,
                        "bin_end": 10,
                        "count": 3
                      },
                      {
                        "bin_start": 10,
                        "bin_end": 11.25,
                        "count": 0
                      },
                      {
                        "bin_start": 11.25,
                        "bin_end": 12.5,
                        "count": 1
                      }
                    ]
                  }
                },
                {
                  "name": "n000",
                  "dtype": "float64",
                  "stats": {
                    "unique_count": 164,
                    "nan_count": 0,
                    "min": 0,
                    "max": 5.45,
                    "histogram": [
                      {
                        "bin_start": 0,
                        "bin_end": 0.545,
                        "count": 4286
                      },
                      {
                        "bin_start": 0.545,
                        "bin_end": 1.09,
                        "count": 193
                      },
                      {
                        "bin_start": 1.09,
                        "bin_end": 1.6350000000000002,
                        "count": 77
                      },
                      {
                        "bin_start": 1.6350000000000002,
                        "bin_end": 2.18,
                        "count": 20
                      },
                      {
                        "bin_start": 2.18,
                        "bin_end": 2.725,
                        "count": 14
                      },
                      {
                        "bin_start": 2.725,
                        "bin_end": 3.2700000000000005,
                        "count": 3
                      },
                      {
                        "bin_start": 3.2700000000000005,
                        "bin_end": 3.8150000000000004,
                        "count": 4
                      },
                      {
                        "bin_start": 3.8150000000000004,
                        "bin_end": 4.36,
                        "count": 2
                      },
                      {
                        "bin_start": 4.36,
                        "bin_end": 4.905,
                        "count": 1
                      },
                      {
                        "bin_start": 4.905,
                        "bin_end": 5.45,
                        "count": 1
                      }
                    ]
                  }
                },
                {
                  "name": "make",
                  "dtype": "float64",
                  "stats": {
                    "unique_count": 142,
                    "nan_count": 0,
                    "min": 0,
                    "max": 4.54,
                    "histogram": [
                      {
                        "bin_start": 0,
                        "bin_end": 0.454,
                        "count": 4222
                      },
                      {
                        "bin_start": 0.454,
                        "bin_end": 0.908,
                        "count": 265
                      },
                      {
                        "bin_start": 0.908,
                        "bin_end": 1.362,
                        "count": 71
                      },
                      {
                        "bin_start": 1.362,
                        "bin_end": 1.816,
                        "count": 14
                      },
                      {
                        "bin_start": 1.816,
                        "bin_end": 2.27,
                        "count": 13
                      },
                      {
                        "bin_start": 2.27,
                        "bin_end": 2.724,
                        "count": 7
                      },
                      {
                        "bin_start": 2.724,
                        "bin_end": 3.178,
                        "count": 4
                      },
                      {
                        "bin_start": 3.178,
                        "bin_end": 3.632,
                        "count": 0
                      },
                      {
                        "bin_start": 3.632,
                        "bin_end": 4.086,
                        "count": 3
                      },
                      {
                        "bin_start": 4.086,
                        "bin_end": 4.54,
                        "count": 2
                      }
                    ]
                  }
                },
                {
                  "name": "spam",
                  "dtype": "int64",
                  "stats": {
                    "unique_count": 2,
                    "nan_count": 0,
                    "min": 0,
                    "max": 1,
                    "histogram": [
                      {
                        "bin_start": 0,
                        "bin_end": 0.1,
                        "count": 2788
                      },
                      {
                        "bin_start": 0.1,
                        "bin_end": 0.2,
                        "count": 0
                      },
                      {
                        "bin_start": 0.2,
                        "bin_end": 0.30000000000000004,
                        "count": 0
                      },
                      {
                        "bin_start": 0.30000000000000004,
                        "bin_end": 0.4,
                        "count": 0
                      },
                      {
                        "bin_start": 0.4,
                        "bin_end": 0.5,
                        "count": 0
                      },
                      {
                        "bin_start": 0.5,
                        "bin_end": 0.6000000000000001,
                        "count": 0
                      },
                      {
                        "bin_start": 0.6000000000000001,
                        "bin_end": 0.7000000000000001,
                        "count": 0
                      },
                      {
                        "bin_start": 0.7000000000000001,
                        "bin_end": 0.8,
                        "count": 0
                      },
                      {
                        "bin_start": 0.8,
                        "bin_end": 0.9,
                        "count": 0
                      },
                      {
                        "bin_start": 0.9,
                        "bin_end": 1,
                        "count": 1813
                      }
                    ]
                  }
                },
                {
                  "name": "_deepnote_index_column",
                  "dtype": "int64"
                }
              ],
              "rows_top": [
                {
                  "crl.tot": 278,
                  "dollar": 0,
                  "bang": 0.778,
                  "money": 0,
                  "n000": 0,
                  "make": 0,
                  "spam": 1,
                  "_deepnote_index_column": 0
                },
                {
                  "crl.tot": 1028,
                  "dollar": 0.18,
                  "bang": 0.372,
                  "money": 0.43,
                  "n000": 0.43,
                  "make": 0.21,
                  "spam": 1,
                  "_deepnote_index_column": 1
                },
                {
                  "crl.tot": 2259,
                  "dollar": 0.184,
                  "bang": 0.276,
                  "money": 0.06,
                  "n000": 1.16,
                  "make": 0.06,
                  "spam": 1,
                  "_deepnote_index_column": 2
                },
                {
                  "crl.tot": 191,
                  "dollar": 0,
                  "bang": 0.137,
                  "money": 0,
                  "n000": 0,
                  "make": 0,
                  "spam": 1,
                  "_deepnote_index_column": 3
                },
                {
                  "crl.tot": 191,
                  "dollar": 0,
                  "bang": 0.135,
                  "money": 0,
                  "n000": 0,
                  "make": 0,
                  "spam": 1,
                  "_deepnote_index_column": 4
                },
                {
                  "crl.tot": 54,
                  "dollar": 0,
                  "bang": 0,
                  "money": 0,
                  "n000": 0,
                  "make": 0,
                  "spam": 1,
                  "_deepnote_index_column": 5
                },
                {
                  "crl.tot": 112,
                  "dollar": 0.054,
                  "bang": 0.164,
                  "money": 0,
                  "n000": 0,
                  "make": 0,
                  "spam": 1,
                  "_deepnote_index_column": 6
                },
                {
                  "crl.tot": 49,
                  "dollar": 0,
                  "bang": 0,
                  "money": 0,
                  "n000": 0,
                  "make": 0,
                  "spam": 1,
                  "_deepnote_index_column": 7
                },
                {
                  "crl.tot": 1257,
                  "dollar": 0.203,
                  "bang": 0.181,
                  "money": 0.15,
                  "n000": 0,
                  "make": 0.15,
                  "spam": 1,
                  "_deepnote_index_column": 8
                },
                {
                  "crl.tot": 749,
                  "dollar": 0.081,
                  "bang": 0.244,
                  "money": 0,
                  "n000": 0.19,
                  "make": 0.06,
                  "spam": 1,
                  "_deepnote_index_column": 9
                },
                {
                  "crl.tot": 21,
                  "dollar": 0,
                  "bang": 0.462,
                  "money": 0,
                  "n000": 0,
                  "make": 0,
                  "spam": 1,
                  "_deepnote_index_column": 10
                },
                {
                  "crl.tot": 184,
                  "dollar": 0,
                  "bang": 0.663,
                  "money": 0,
                  "n000": 0,
                  "make": 0,
                  "spam": 1,
                  "_deepnote_index_column": 11
                },
                {
                  "crl.tot": 261,
                  "dollar": 0,
                  "bang": 0.786,
                  "money": 0,
                  "n000": 0,
                  "make": 0,
                  "spam": 1,
                  "_deepnote_index_column": 12
                },
                {
                  "crl.tot": 25,
                  "dollar": 0,
                  "bang": 0,
                  "money": 0,
                  "n000": 0,
                  "make": 0,
                  "spam": 1,
                  "_deepnote_index_column": 13
                },
                {
                  "crl.tot": 205,
                  "dollar": 0,
                  "bang": 0.357,
                  "money": 0,
                  "n000": 0.35,
                  "make": 0,
                  "spam": 1,
                  "_deepnote_index_column": 14
                },
                {
                  "crl.tot": 249,
                  "dollar": 0.063,
                  "bang": 0.572,
                  "money": 0.42,
                  "n000": 0,
                  "make": 0,
                  "spam": 1,
                  "_deepnote_index_column": 15
                },
                {
                  "crl.tot": 107,
                  "dollar": 0,
                  "bang": 0.428,
                  "money": 0,
                  "n000": 0,
                  "make": 0,
                  "spam": 1,
                  "_deepnote_index_column": 16
                },
                {
                  "crl.tot": 461,
                  "dollar": 0.37,
                  "bang": 1.975,
                  "money": 0,
                  "n000": 0.7,
                  "make": 0,
                  "spam": 1,
                  "_deepnote_index_column": 17
                },
                {
                  "crl.tot": 70,
                  "dollar": 0,
                  "bang": 0.455,
                  "money": 0,
                  "n000": 0,
                  "make": 0,
                  "spam": 1,
                  "_deepnote_index_column": 18
                },
                {
                  "crl.tot": 186,
                  "dollar": 0.496,
                  "bang": 0.055,
                  "money": 0.63,
                  "n000": 0.31,
                  "make": 0,
                  "spam": 1,
                  "_deepnote_index_column": 19
                },
                {
                  "crl.tot": 23,
                  "dollar": 0,
                  "bang": 0.729,
                  "money": 0,
                  "n000": 0,
                  "make": 0,
                  "spam": 1,
                  "_deepnote_index_column": 20
                },
                {
                  "crl.tot": 2259,
                  "dollar": 0.046,
                  "bang": 0.25,
                  "money": 0,
                  "n000": 0.05,
                  "make": 0.05,
                  "spam": 1,
                  "_deepnote_index_column": 21
                },
                {
                  "crl.tot": 34,
                  "dollar": 0,
                  "bang": 0.809,
                  "money": 0,
                  "n000": 0,
                  "make": 0,
                  "spam": 1,
                  "_deepnote_index_column": 22
                },
                {
                  "crl.tot": 69,
                  "dollar": 0,
                  "bang": 0.667,
                  "money": 0,
                  "n000": 0,
                  "make": 0,
                  "spam": 1,
                  "_deepnote_index_column": 23
                },
                {
                  "crl.tot": 82,
                  "dollar": 0.196,
                  "bang": 0.392,
                  "money": 0,
                  "n000": 0,
                  "make": 0,
                  "spam": 1,
                  "_deepnote_index_column": 24
                },
                {
                  "crl.tot": 2258,
                  "dollar": 0.046,
                  "bang": 0.25,
                  "money": 0,
                  "n000": 0.05,
                  "make": 0.05,
                  "spam": 1,
                  "_deepnote_index_column": 25
                },
                {
                  "crl.tot": 82,
                  "dollar": 0.196,
                  "bang": 0.392,
                  "money": 0,
                  "n000": 0,
                  "make": 0,
                  "spam": 1,
                  "_deepnote_index_column": 26
                },
                {
                  "crl.tot": 47,
                  "dollar": 0,
                  "bang": 0.368,
                  "money": 3.33,
                  "n000": 0,
                  "make": 0,
                  "spam": 1,
                  "_deepnote_index_column": 27
                },
                {
                  "crl.tot": 36,
                  "dollar": 0,
                  "bang": 0.352,
                  "money": 0,
                  "n000": 0,
                  "make": 0,
                  "spam": 1,
                  "_deepnote_index_column": 28
                },
                {
                  "crl.tot": 129,
                  "dollar": 0,
                  "bang": 0.091,
                  "money": 0.65,
                  "n000": 0,
                  "make": 0,
                  "spam": 1,
                  "_deepnote_index_column": 29
                },
                {
                  "crl.tot": 59,
                  "dollar": 0,
                  "bang": 0.886,
                  "money": 0,
                  "n000": 0,
                  "make": 1.17,
                  "spam": 1,
                  "_deepnote_index_column": 30
                },
                {
                  "crl.tot": 43,
                  "dollar": 0,
                  "bang": 2.112,
                  "money": 0,
                  "n000": 0,
                  "make": 0,
                  "spam": 1,
                  "_deepnote_index_column": 31
                },
                {
                  "crl.tot": 89,
                  "dollar": 0.091,
                  "bang": 0,
                  "money": 0.27,
                  "n000": 0,
                  "make": 0,
                  "spam": 1,
                  "_deepnote_index_column": 32
                },
                {
                  "crl.tot": 17,
                  "dollar": 0.302,
                  "bang": 0,
                  "money": 0,
                  "n000": 0,
                  "make": 0,
                  "spam": 1,
                  "_deepnote_index_column": 33
                },
                {
                  "crl.tot": 264,
                  "dollar": 0,
                  "bang": 0,
                  "money": 0,
                  "n000": 0,
                  "make": 0,
                  "spam": 1,
                  "_deepnote_index_column": 34
                },
                {
                  "crl.tot": 25,
                  "dollar": 0,
                  "bang": 1.543,
                  "money": 0,
                  "n000": 0,
                  "make": 0,
                  "spam": 1,
                  "_deepnote_index_column": 35
                },
                {
                  "crl.tot": 29,
                  "dollar": 0,
                  "bang": 0.873,
                  "money": 0,
                  "n000": 0,
                  "make": 0,
                  "spam": 1,
                  "_deepnote_index_column": 36
                },
                {
                  "crl.tot": 239,
                  "dollar": 0.244,
                  "bang": 0.488,
                  "money": 0,
                  "n000": 0.48,
                  "make": 0,
                  "spam": 1,
                  "_deepnote_index_column": 37
                },
                {
                  "crl.tot": 186,
                  "dollar": 0,
                  "bang": 0.963,
                  "money": 0,
                  "n000": 0,
                  "make": 0,
                  "spam": 1,
                  "_deepnote_index_column": 38
                },
                {
                  "crl.tot": 285,
                  "dollar": 0,
                  "bang": 0.75,
                  "money": 0,
                  "n000": 0,
                  "make": 0,
                  "spam": 1,
                  "_deepnote_index_column": 39
                },
                {
                  "crl.tot": 226,
                  "dollar": 0.207,
                  "bang": 0.207,
                  "money": 0.61,
                  "n000": 0.3,
                  "make": 0.3,
                  "spam": 1,
                  "_deepnote_index_column": 40
                },
                {
                  "crl.tot": 28,
                  "dollar": 0,
                  "bang": 0.671,
                  "money": 0,
                  "n000": 0,
                  "make": 0,
                  "spam": 1,
                  "_deepnote_index_column": 41
                },
                {
                  "crl.tot": 28,
                  "dollar": 0,
                  "bang": 0.711,
                  "money": 0,
                  "n000": 0,
                  "make": 0,
                  "spam": 1,
                  "_deepnote_index_column": 42
                },
                {
                  "crl.tot": 68,
                  "dollar": 0,
                  "bang": 0.426,
                  "money": 0,
                  "n000": 0,
                  "make": 0,
                  "spam": 1,
                  "_deepnote_index_column": 43
                },
                {
                  "crl.tot": 339,
                  "dollar": 0.036,
                  "bang": 0.813,
                  "money": 0,
                  "n000": 0,
                  "make": 0,
                  "spam": 1,
                  "_deepnote_index_column": 44
                },
                {
                  "crl.tot": 774,
                  "dollar": 0.068,
                  "bang": 1.318,
                  "money": 0.3,
                  "n000": 0,
                  "make": 0.15,
                  "spam": 1,
                  "_deepnote_index_column": 45
                },
                {
                  "crl.tot": 442,
                  "dollar": 0.167,
                  "bang": 0.01,
                  "money": 0.06,
                  "n000": 0.84,
                  "make": 0.18,
                  "spam": 1,
                  "_deepnote_index_column": 46
                },
                {
                  "crl.tot": 94,
                  "dollar": 0,
                  "bang": 0.17,
                  "money": 0,
                  "n000": 0.49,
                  "make": 0.49,
                  "spam": 1,
                  "_deepnote_index_column": 47
                },
                {
                  "crl.tot": 3040,
                  "dollar": 0.756,
                  "bang": 0.325,
                  "money": 0.36,
                  "n000": 1.05,
                  "make": 0.46,
                  "spam": 1,
                  "_deepnote_index_column": 48
                },
                {
                  "crl.tot": 898,
                  "dollar": 0.23,
                  "bang": 0.278,
                  "money": 0.26,
                  "n000": 0.19,
                  "make": 0.46,
                  "spam": 1,
                  "_deepnote_index_column": 49
                },
                {
                  "crl.tot": 33,
                  "dollar": 0,
                  "bang": 0,
                  "money": 0,
                  "n000": 0,
                  "make": 0,
                  "spam": 1,
                  "_deepnote_index_column": 50
                },
                {
                  "crl.tot": 179,
                  "dollar": 0.332,
                  "bang": 0.498,
                  "money": 0,
                  "n000": 1.83,
                  "make": 0.73,
                  "spam": 1,
                  "_deepnote_index_column": 51
                },
                {
                  "crl.tot": 750,
                  "dollar": 0.071,
                  "bang": 0.244,
                  "money": 0,
                  "n000": 0.19,
                  "make": 0.06,
                  "spam": 1,
                  "_deepnote_index_column": 52
                },
                {
                  "crl.tot": 69,
                  "dollar": 0.596,
                  "bang": 0.198,
                  "money": 1.26,
                  "n000": 0,
                  "make": 0,
                  "spam": 1,
                  "_deepnote_index_column": 53
                },
                {
                  "crl.tot": 176,
                  "dollar": 0.333,
                  "bang": 0.5,
                  "money": 0,
                  "n000": 1.83,
                  "make": 0.73,
                  "spam": 1,
                  "_deepnote_index_column": 54
                },
                {
                  "crl.tot": 106,
                  "dollar": 0,
                  "bang": 1.478,
                  "money": 0,
                  "n000": 0,
                  "make": 0,
                  "spam": 1,
                  "_deepnote_index_column": 55
                },
                {
                  "crl.tot": 146,
                  "dollar": 0.061,
                  "bang": 0.615,
                  "money": 0,
                  "n000": 0,
                  "make": 0,
                  "spam": 1,
                  "_deepnote_index_column": 56
                },
                {
                  "crl.tot": 51,
                  "dollar": 0,
                  "bang": 0,
                  "money": 0,
                  "n000": 0,
                  "make": 0,
                  "spam": 1,
                  "_deepnote_index_column": 57
                },
                {
                  "crl.tot": 200,
                  "dollar": 0,
                  "bang": 1.501,
                  "money": 0,
                  "n000": 0,
                  "make": 0,
                  "spam": 1,
                  "_deepnote_index_column": 58
                },
                {
                  "crl.tot": 284,
                  "dollar": 0,
                  "bang": 0.669,
                  "money": 0,
                  "n000": 0,
                  "make": 0,
                  "spam": 1,
                  "_deepnote_index_column": 59
                },
                {
                  "crl.tot": 249,
                  "dollar": 0,
                  "bang": 0,
                  "money": 0,
                  "n000": 0,
                  "make": 0,
                  "spam": 1,
                  "_deepnote_index_column": 60
                },
                {
                  "crl.tot": 66,
                  "dollar": 0,
                  "bang": 0.175,
                  "money": 0.23,
                  "n000": 0,
                  "make": 0.23,
                  "spam": 1,
                  "_deepnote_index_column": 61
                },
                {
                  "crl.tot": 75,
                  "dollar": 0,
                  "bang": 0,
                  "money": 0,
                  "n000": 0,
                  "make": 0,
                  "spam": 1,
                  "_deepnote_index_column": 62
                },
                {
                  "crl.tot": 96,
                  "dollar": 0.048,
                  "bang": 0.048,
                  "money": 0,
                  "n000": 0,
                  "make": 0,
                  "spam": 1,
                  "_deepnote_index_column": 63
                },
                {
                  "crl.tot": 180,
                  "dollar": 0.019,
                  "bang": 0.019,
                  "money": 0,
                  "n000": 0.12,
                  "make": 0.12,
                  "spam": 1,
                  "_deepnote_index_column": 64
                },
                {
                  "crl.tot": 121,
                  "dollar": 0,
                  "bang": 2.205,
                  "money": 0,
                  "n000": 0,
                  "make": 0.66,
                  "spam": 1,
                  "_deepnote_index_column": 65
                },
                {
                  "crl.tot": 194,
                  "dollar": 0.294,
                  "bang": 0.589,
                  "money": 0.48,
                  "n000": 0,
                  "make": 0,
                  "spam": 1,
                  "_deepnote_index_column": 66
                },
                {
                  "crl.tot": 17,
                  "dollar": 0,
                  "bang": 0.5,
                  "money": 0,
                  "n000": 0,
                  "make": 0,
                  "spam": 1,
                  "_deepnote_index_column": 67
                },
                {
                  "crl.tot": 303,
                  "dollar": 0.351,
                  "bang": 1.053,
                  "money": 0.3,
                  "n000": 0,
                  "make": 0.3,
                  "spam": 1,
                  "_deepnote_index_column": 68
                },
                {
                  "crl.tot": 141,
                  "dollar": 0.1,
                  "bang": 0,
                  "money": 0,
                  "n000": 1.96,
                  "make": 0,
                  "spam": 1,
                  "_deepnote_index_column": 69
                },
                {
                  "crl.tot": 290,
                  "dollar": 0,
                  "bang": 0.537,
                  "money": 0,
                  "n000": 0,
                  "make": 0,
                  "spam": 1,
                  "_deepnote_index_column": 70
                }
              ],
              "rows_bottom": [
                {
                  "crl.tot": 5,
                  "dollar": 0,
                  "bang": 0,
                  "money": 0,
                  "n000": 0,
                  "make": 0,
                  "spam": 0,
                  "_deepnote_index_column": 4530
                },
                {
                  "crl.tot": 32,
                  "dollar": 0,
                  "bang": 0,
                  "money": 0,
                  "n000": 0,
                  "make": 0,
                  "spam": 0,
                  "_deepnote_index_column": 4531
                },
                {
                  "crl.tot": 29,
                  "dollar": 0,
                  "bang": 0,
                  "money": 0,
                  "n000": 0,
                  "make": 0,
                  "spam": 0,
                  "_deepnote_index_column": 4532
                },
                {
                  "crl.tot": 9,
                  "dollar": 0,
                  "bang": 0,
                  "money": 0,
                  "n000": 0,
                  "make": 0,
                  "spam": 0,
                  "_deepnote_index_column": 4533
                },
                {
                  "crl.tot": 11,
                  "dollar": 0,
                  "bang": 0,
                  "money": 0,
                  "n000": 0,
                  "make": 0,
                  "spam": 0,
                  "_deepnote_index_column": 4534
                },
                {
                  "crl.tot": 32,
                  "dollar": 0,
                  "bang": 0,
                  "money": 0,
                  "n000": 0,
                  "make": 0,
                  "spam": 0,
                  "_deepnote_index_column": 4535
                },
                {
                  "crl.tot": 27,
                  "dollar": 0,
                  "bang": 0,
                  "money": 0,
                  "n000": 0,
                  "make": 0,
                  "spam": 0,
                  "_deepnote_index_column": 4536
                },
                {
                  "crl.tot": 6,
                  "dollar": 0,
                  "bang": 0,
                  "money": 0,
                  "n000": 0,
                  "make": 0,
                  "spam": 0,
                  "_deepnote_index_column": 4537
                },
                {
                  "crl.tot": 25,
                  "dollar": 0,
                  "bang": 0,
                  "money": 0,
                  "n000": 0,
                  "make": 0,
                  "spam": 0,
                  "_deepnote_index_column": 4538
                },
                {
                  "crl.tot": 8,
                  "dollar": 0,
                  "bang": 0,
                  "money": 0,
                  "n000": 0,
                  "make": 0,
                  "spam": 0,
                  "_deepnote_index_column": 4539
                },
                {
                  "crl.tot": 106,
                  "dollar": 0,
                  "bang": 0.039,
                  "money": 0,
                  "n000": 0,
                  "make": 0,
                  "spam": 0,
                  "_deepnote_index_column": 4540
                },
                {
                  "crl.tot": 2,
                  "dollar": 0,
                  "bang": 0,
                  "money": 0,
                  "n000": 0,
                  "make": 0,
                  "spam": 0,
                  "_deepnote_index_column": 4541
                },
                {
                  "crl.tot": 25,
                  "dollar": 0,
                  "bang": 0,
                  "money": 0,
                  "n000": 0,
                  "make": 0,
                  "spam": 0,
                  "_deepnote_index_column": 4542
                },
                {
                  "crl.tot": 10,
                  "dollar": 0,
                  "bang": 0,
                  "money": 0,
                  "n000": 0,
                  "make": 0,
                  "spam": 0,
                  "_deepnote_index_column": 4543
                },
                {
                  "crl.tot": 65,
                  "dollar": 0,
                  "bang": 0,
                  "money": 0,
                  "n000": 0,
                  "make": 0,
                  "spam": 0,
                  "_deepnote_index_column": 4544
                },
                {
                  "crl.tot": 57,
                  "dollar": 0,
                  "bang": 0,
                  "money": 0,
                  "n000": 0,
                  "make": 0,
                  "spam": 0,
                  "_deepnote_index_column": 4545
                },
                {
                  "crl.tot": 5,
                  "dollar": 0,
                  "bang": 0,
                  "money": 0,
                  "n000": 0,
                  "make": 0,
                  "spam": 0,
                  "_deepnote_index_column": 4546
                },
                {
                  "crl.tot": 7,
                  "dollar": 0,
                  "bang": 0,
                  "money": 0,
                  "n000": 0,
                  "make": 0,
                  "spam": 0,
                  "_deepnote_index_column": 4547
                },
                {
                  "crl.tot": 12,
                  "dollar": 0,
                  "bang": 0,
                  "money": 0,
                  "n000": 0,
                  "make": 0,
                  "spam": 0,
                  "_deepnote_index_column": 4548
                },
                {
                  "crl.tot": 14,
                  "dollar": 0,
                  "bang": 0,
                  "money": 0,
                  "n000": 0,
                  "make": 0,
                  "spam": 0,
                  "_deepnote_index_column": 4549
                },
                {
                  "crl.tot": 4,
                  "dollar": 0,
                  "bang": 0,
                  "money": 0,
                  "n000": 0,
                  "make": 0,
                  "spam": 0,
                  "_deepnote_index_column": 4550
                },
                {
                  "crl.tot": 43,
                  "dollar": 0,
                  "bang": 0.168,
                  "money": 0,
                  "n000": 0,
                  "make": 0,
                  "spam": 0,
                  "_deepnote_index_column": 4551
                },
                {
                  "crl.tot": 60,
                  "dollar": 0,
                  "bang": 0,
                  "money": 0,
                  "n000": 0,
                  "make": 0,
                  "spam": 0,
                  "_deepnote_index_column": 4552
                },
                {
                  "crl.tot": 4,
                  "dollar": 0,
                  "bang": 0,
                  "money": 0,
                  "n000": 0,
                  "make": 0,
                  "spam": 0,
                  "_deepnote_index_column": 4553
                },
                {
                  "crl.tot": 75,
                  "dollar": 0,
                  "bang": 0.116,
                  "money": 0,
                  "n000": 0,
                  "make": 0.33,
                  "spam": 0,
                  "_deepnote_index_column": 4554
                },
                {
                  "crl.tot": 69,
                  "dollar": 0,
                  "bang": 0.065,
                  "money": 0,
                  "n000": 0,
                  "make": 0.17,
                  "spam": 0,
                  "_deepnote_index_column": 4555
                },
                {
                  "crl.tot": 10,
                  "dollar": 0,
                  "bang": 0,
                  "money": 0,
                  "n000": 0,
                  "make": 0,
                  "spam": 0,
                  "_deepnote_index_column": 4556
                },
                {
                  "crl.tot": 93,
                  "dollar": 0,
                  "bang": 0,
                  "money": 0,
                  "n000": 0,
                  "make": 0.69,
                  "spam": 0,
                  "_deepnote_index_column": 4557
                },
                {
                  "crl.tot": 244,
                  "dollar": 0.008,
                  "bang": 0,
                  "money": 0,
                  "n000": 0.1,
                  "make": 0.16,
                  "spam": 0,
                  "_deepnote_index_column": 4558
                },
                {
                  "crl.tot": 54,
                  "dollar": 0,
                  "bang": 0,
                  "money": 0,
                  "n000": 0,
                  "make": 0,
                  "spam": 0,
                  "_deepnote_index_column": 4559
                },
                {
                  "crl.tot": 7,
                  "dollar": 0,
                  "bang": 0,
                  "money": 0,
                  "n000": 0,
                  "make": 0,
                  "spam": 0,
                  "_deepnote_index_column": 4560
                },
                {
                  "crl.tot": 7,
                  "dollar": 0,
                  "bang": 0,
                  "money": 0,
                  "n000": 0,
                  "make": 0,
                  "spam": 0,
                  "_deepnote_index_column": 4561
                },
                {
                  "crl.tot": 28,
                  "dollar": 0,
                  "bang": 0,
                  "money": 0,
                  "n000": 0,
                  "make": 0,
                  "spam": 0,
                  "_deepnote_index_column": 4562
                },
                {
                  "crl.tot": 59,
                  "dollar": 0,
                  "bang": 0,
                  "money": 0,
                  "n000": 0,
                  "make": 0.54,
                  "spam": 0,
                  "_deepnote_index_column": 4563
                },
                {
                  "crl.tot": 128,
                  "dollar": 0,
                  "bang": 0,
                  "money": 0,
                  "n000": 0,
                  "make": 0,
                  "spam": 0,
                  "_deepnote_index_column": 4564
                },
                {
                  "crl.tot": 55,
                  "dollar": 0,
                  "bang": 0,
                  "money": 0,
                  "n000": 0,
                  "make": 0,
                  "spam": 0,
                  "_deepnote_index_column": 4565
                },
                {
                  "crl.tot": 78,
                  "dollar": 0,
                  "bang": 0,
                  "money": 0,
                  "n000": 0,
                  "make": 0,
                  "spam": 0,
                  "_deepnote_index_column": 4566
                },
                {
                  "crl.tot": 108,
                  "dollar": 0,
                  "bang": 0,
                  "money": 0,
                  "n000": 0,
                  "make": 0.14,
                  "spam": 0,
                  "_deepnote_index_column": 4567
                },
                {
                  "crl.tot": 90,
                  "dollar": 0,
                  "bang": 0,
                  "money": 0,
                  "n000": 0,
                  "make": 0.67,
                  "spam": 0,
                  "_deepnote_index_column": 4568
                },
                {
                  "crl.tot": 42,
                  "dollar": 0,
                  "bang": 0,
                  "money": 0,
                  "n000": 0,
                  "make": 0.25,
                  "spam": 0,
                  "_deepnote_index_column": 4569
                },
                {
                  "crl.tot": 38,
                  "dollar": 0.087,
                  "bang": 0,
                  "money": 0,
                  "n000": 0,
                  "make": 0,
                  "spam": 0,
                  "_deepnote_index_column": 4570
                },
                {
                  "crl.tot": 98,
                  "dollar": 0,
                  "bang": 0.082,
                  "money": 0,
                  "n000": 0,
                  "make": 0,
                  "spam": 0,
                  "_deepnote_index_column": 4571
                },
                {
                  "crl.tot": 13,
                  "dollar": 0,
                  "bang": 0,
                  "money": 0,
                  "n000": 0,
                  "make": 0,
                  "spam": 0,
                  "_deepnote_index_column": 4572
                },
                {
                  "crl.tot": 137,
                  "dollar": 0,
                  "bang": 0.099,
                  "money": 0,
                  "n000": 0,
                  "make": 0,
                  "spam": 0,
                  "_deepnote_index_column": 4573
                },
                {
                  "crl.tot": 61,
                  "dollar": 0,
                  "bang": 0,
                  "money": 0,
                  "n000": 0,
                  "make": 0.29,
                  "spam": 0,
                  "_deepnote_index_column": 4574
                },
                {
                  "crl.tot": 43,
                  "dollar": 0,
                  "bang": 0,
                  "money": 0,
                  "n000": 0,
                  "make": 0,
                  "spam": 0,
                  "_deepnote_index_column": 4575
                },
                {
                  "crl.tot": 64,
                  "dollar": 0,
                  "bang": 0,
                  "money": 0,
                  "n000": 0,
                  "make": 0,
                  "spam": 0,
                  "_deepnote_index_column": 4576
                },
                {
                  "crl.tot": 24,
                  "dollar": 0,
                  "bang": 0,
                  "money": 0,
                  "n000": 0,
                  "make": 0,
                  "spam": 0,
                  "_deepnote_index_column": 4577
                },
                {
                  "crl.tot": 70,
                  "dollar": 0,
                  "bang": 0,
                  "money": 0.4,
                  "n000": 0,
                  "make": 0,
                  "spam": 0,
                  "_deepnote_index_column": 4578
                },
                {
                  "crl.tot": 1789,
                  "dollar": 0,
                  "bang": 0.055,
                  "money": 0,
                  "n000": 0,
                  "make": 0.27,
                  "spam": 0,
                  "_deepnote_index_column": 4579
                },
                {
                  "crl.tot": 11,
                  "dollar": 0,
                  "bang": 0,
                  "money": 0,
                  "n000": 0,
                  "make": 0,
                  "spam": 0,
                  "_deepnote_index_column": 4580
                },
                {
                  "crl.tot": 46,
                  "dollar": 0,
                  "bang": 0.091,
                  "money": 0,
                  "n000": 0,
                  "make": 0,
                  "spam": 0,
                  "_deepnote_index_column": 4581
                },
                {
                  "crl.tot": 19,
                  "dollar": 0,
                  "bang": 0,
                  "money": 0,
                  "n000": 0,
                  "make": 0,
                  "spam": 0,
                  "_deepnote_index_column": 4582
                },
                {
                  "crl.tot": 70,
                  "dollar": 0,
                  "bang": 0,
                  "money": 0,
                  "n000": 0,
                  "make": 0,
                  "spam": 0,
                  "_deepnote_index_column": 4583
                },
                {
                  "crl.tot": 123,
                  "dollar": 0,
                  "bang": 0.041,
                  "money": 0,
                  "n000": 0,
                  "make": 0,
                  "spam": 0,
                  "_deepnote_index_column": 4584
                },
                {
                  "crl.tot": 11,
                  "dollar": 0,
                  "bang": 0,
                  "money": 0,
                  "n000": 0,
                  "make": 0,
                  "spam": 0,
                  "_deepnote_index_column": 4585
                },
                {
                  "crl.tot": 174,
                  "dollar": 0,
                  "bang": 0,
                  "money": 0,
                  "n000": 0,
                  "make": 0,
                  "spam": 0,
                  "_deepnote_index_column": 4586
                },
                {
                  "crl.tot": 28,
                  "dollar": 0.125,
                  "bang": 0,
                  "money": 0,
                  "n000": 0,
                  "make": 0,
                  "spam": 0,
                  "_deepnote_index_column": 4587
                },
                {
                  "crl.tot": 10,
                  "dollar": 0,
                  "bang": 0,
                  "money": 0,
                  "n000": 0,
                  "make": 0,
                  "spam": 0,
                  "_deepnote_index_column": 4588
                },
                {
                  "crl.tot": 22,
                  "dollar": 0,
                  "bang": 0,
                  "money": 0,
                  "n000": 0,
                  "make": 0,
                  "spam": 0,
                  "_deepnote_index_column": 4589
                },
                {
                  "crl.tot": 79,
                  "dollar": 0,
                  "bang": 0,
                  "money": 0,
                  "n000": 0,
                  "make": 0,
                  "spam": 0,
                  "_deepnote_index_column": 4590
                },
                {
                  "crl.tot": 8,
                  "dollar": 0,
                  "bang": 0,
                  "money": 0,
                  "n000": 0,
                  "make": 0,
                  "spam": 0,
                  "_deepnote_index_column": 4591
                },
                {
                  "crl.tot": 27,
                  "dollar": 0,
                  "bang": 0,
                  "money": 0,
                  "n000": 0,
                  "make": 0,
                  "spam": 0,
                  "_deepnote_index_column": 4592
                },
                {
                  "crl.tot": 6,
                  "dollar": 0,
                  "bang": 1.052,
                  "money": 0,
                  "n000": 0,
                  "make": 0,
                  "spam": 0,
                  "_deepnote_index_column": 4593
                },
                {
                  "crl.tot": 19,
                  "dollar": 0,
                  "bang": 0,
                  "money": 0,
                  "n000": 0,
                  "make": 0,
                  "spam": 0,
                  "_deepnote_index_column": 4594
                },
                {
                  "crl.tot": 24,
                  "dollar": 0,
                  "bang": 0,
                  "money": 0,
                  "n000": 0,
                  "make": 0,
                  "spam": 0,
                  "_deepnote_index_column": 4595
                },
                {
                  "crl.tot": 88,
                  "dollar": 0,
                  "bang": 0,
                  "money": 0,
                  "n000": 0,
                  "make": 0.31,
                  "spam": 0,
                  "_deepnote_index_column": 4596
                },
                {
                  "crl.tot": 14,
                  "dollar": 0,
                  "bang": 0.353,
                  "money": 0,
                  "n000": 0,
                  "make": 0,
                  "spam": 0,
                  "_deepnote_index_column": 4597
                },
                {
                  "crl.tot": 118,
                  "dollar": 0,
                  "bang": 0,
                  "money": 0,
                  "n000": 0,
                  "make": 0.3,
                  "spam": 0,
                  "_deepnote_index_column": 4598
                },
                {
                  "crl.tot": 78,
                  "dollar": 0,
                  "bang": 0,
                  "money": 0,
                  "n000": 0,
                  "make": 0.96,
                  "spam": 0,
                  "_deepnote_index_column": 4599
                },
                {
                  "crl.tot": 40,
                  "dollar": 0,
                  "bang": 0.125,
                  "money": 0,
                  "n000": 0,
                  "make": 0,
                  "spam": 0,
                  "_deepnote_index_column": 4600
                }
              ]
            },
            "text/plain": "      crl.tot  dollar   bang  money  n000  make  spam\n0         278   0.000  0.778   0.00  0.00  0.00     1\n1        1028   0.180  0.372   0.43  0.43  0.21     1\n2        2259   0.184  0.276   0.06  1.16  0.06     1\n3         191   0.000  0.137   0.00  0.00  0.00     1\n4         191   0.000  0.135   0.00  0.00  0.00     1\n...       ...     ...    ...    ...   ...   ...   ...\n4596       88   0.000  0.000   0.00  0.00  0.31     0\n4597       14   0.000  0.353   0.00  0.00  0.00     0\n4598      118   0.000  0.000   0.00  0.00  0.30     0\n4599       78   0.000  0.000   0.00  0.00  0.96     0\n4600       40   0.000  0.125   0.00  0.00  0.00     0\n\n[4601 rows x 7 columns]",
            "text/html": "<div>\n<style scoped>\n    .dataframe tbody tr th:only-of-type {\n        vertical-align: middle;\n    }\n\n    .dataframe tbody tr th {\n        vertical-align: top;\n    }\n\n    .dataframe thead th {\n        text-align: right;\n    }\n</style>\n<table border=\"1\" class=\"dataframe\">\n  <thead>\n    <tr style=\"text-align: right;\">\n      <th></th>\n      <th>crl.tot</th>\n      <th>dollar</th>\n      <th>bang</th>\n      <th>money</th>\n      <th>n000</th>\n      <th>make</th>\n      <th>spam</th>\n    </tr>\n  </thead>\n  <tbody>\n    <tr>\n      <th>0</th>\n      <td>278</td>\n      <td>0.000</td>\n      <td>0.778</td>\n      <td>0.00</td>\n      <td>0.00</td>\n      <td>0.00</td>\n      <td>1</td>\n    </tr>\n    <tr>\n      <th>1</th>\n      <td>1028</td>\n      <td>0.180</td>\n      <td>0.372</td>\n      <td>0.43</td>\n      <td>0.43</td>\n      <td>0.21</td>\n      <td>1</td>\n    </tr>\n    <tr>\n      <th>2</th>\n      <td>2259</td>\n      <td>0.184</td>\n      <td>0.276</td>\n      <td>0.06</td>\n      <td>1.16</td>\n      <td>0.06</td>\n      <td>1</td>\n    </tr>\n    <tr>\n      <th>3</th>\n      <td>191</td>\n      <td>0.000</td>\n      <td>0.137</td>\n      <td>0.00</td>\n      <td>0.00</td>\n      <td>0.00</td>\n      <td>1</td>\n    </tr>\n    <tr>\n      <th>4</th>\n      <td>191</td>\n      <td>0.000</td>\n      <td>0.135</td>\n      <td>0.00</td>\n      <td>0.00</td>\n      <td>0.00</td>\n      <td>1</td>\n    </tr>\n    <tr>\n      <th>...</th>\n      <td>...</td>\n      <td>...</td>\n      <td>...</td>\n      <td>...</td>\n      <td>...</td>\n      <td>...</td>\n      <td>...</td>\n    </tr>\n    <tr>\n      <th>4596</th>\n      <td>88</td>\n      <td>0.000</td>\n      <td>0.000</td>\n      <td>0.00</td>\n      <td>0.00</td>\n      <td>0.31</td>\n      <td>0</td>\n    </tr>\n    <tr>\n      <th>4597</th>\n      <td>14</td>\n      <td>0.000</td>\n      <td>0.353</td>\n      <td>0.00</td>\n      <td>0.00</td>\n      <td>0.00</td>\n      <td>0</td>\n    </tr>\n    <tr>\n      <th>4598</th>\n      <td>118</td>\n      <td>0.000</td>\n      <td>0.000</td>\n      <td>0.00</td>\n      <td>0.00</td>\n      <td>0.30</td>\n      <td>0</td>\n    </tr>\n    <tr>\n      <th>4599</th>\n      <td>78</td>\n      <td>0.000</td>\n      <td>0.000</td>\n      <td>0.00</td>\n      <td>0.00</td>\n      <td>0.96</td>\n      <td>0</td>\n    </tr>\n    <tr>\n      <th>4600</th>\n      <td>40</td>\n      <td>0.000</td>\n      <td>0.125</td>\n      <td>0.00</td>\n      <td>0.00</td>\n      <td>0.00</td>\n      <td>0</td>\n    </tr>\n  </tbody>\n</table>\n<p>4601 rows × 7 columns</p>\n</div>"
          },
          "metadata": {}
        }
      ]
    },
    {
      "cell_type": "code",
      "metadata": {
        "tags": [],
        "cell_id": "00011-322cec4a-0682-42a7-a772-72466f2d2104",
        "deepnote_to_be_reexecuted": false,
        "source_hash": "521ad6d2",
        "execution_millis": 2,
        "execution_start": 1615468704718,
        "deepnote_cell_type": "code"
      },
      "source": "X = df.drop(['spam'], axis=1)\ny = df.spam.values",
      "execution_count": null,
      "outputs": []
    },
    {
      "cell_type": "code",
      "metadata": {
        "tags": [],
        "cell_id": "00012-2abbca34-aeca-4250-aa2c-dea21b7a4809",
        "deepnote_to_be_reexecuted": false,
        "source_hash": "b2696ff6",
        "execution_millis": 167,
        "execution_start": 1615469236294,
        "deepnote_cell_type": "code"
      },
      "source": "X",
      "execution_count": null,
      "outputs": [
        {
          "output_type": "execute_result",
          "execution_count": 13,
          "data": {
            "application/vnd.deepnote.dataframe.v2+json": {
              "row_count": 4601,
              "column_count": 21,
              "columns": [
                {
                  "name": "crl.tot",
                  "dtype": "int64",
                  "stats": {
                    "unique_count": 919,
                    "nan_count": 0,
                    "min": 1,
                    "max": 15841,
                    "histogram": [
                      {
                        "bin_start": 1,
                        "bin_end": 1585,
                        "count": 4473
                      },
                      {
                        "bin_start": 1585,
                        "bin_end": 3169,
                        "count": 94
                      },
                      {
                        "bin_start": 3169,
                        "bin_end": 4753,
                        "count": 27
                      },
                      {
                        "bin_start": 4753,
                        "bin_end": 6337,
                        "count": 2
                      },
                      {
                        "bin_start": 6337,
                        "bin_end": 7921,
                        "count": 0
                      },
                      {
                        "bin_start": 7921,
                        "bin_end": 9505,
                        "count": 3
                      },
                      {
                        "bin_start": 9505,
                        "bin_end": 11089,
                        "count": 1
                      },
                      {
                        "bin_start": 11089,
                        "bin_end": 12673,
                        "count": 0
                      },
                      {
                        "bin_start": 12673,
                        "bin_end": 14257,
                        "count": 0
                      },
                      {
                        "bin_start": 14257,
                        "bin_end": 15841,
                        "count": 1
                      }
                    ]
                  }
                },
                {
                  "name": "dollar",
                  "dtype": "float64",
                  "stats": {
                    "unique_count": 504,
                    "nan_count": 0,
                    "min": 0,
                    "max": 6.003,
                    "histogram": [
                      {
                        "bin_start": 0,
                        "bin_end": 0.6003000000000001,
                        "count": 4484
                      },
                      {
                        "bin_start": 0.6003000000000001,
                        "bin_end": 1.2006000000000001,
                        "count": 84
                      },
                      {
                        "bin_start": 1.2006000000000001,
                        "bin_end": 1.8009000000000002,
                        "count": 23
                      },
                      {
                        "bin_start": 1.8009000000000002,
                        "bin_end": 2.4012000000000002,
                        "count": 3
                      },
                      {
                        "bin_start": 2.4012000000000002,
                        "bin_end": 3.0015,
                        "count": 0
                      },
                      {
                        "bin_start": 3.0015,
                        "bin_end": 3.6018000000000003,
                        "count": 3
                      },
                      {
                        "bin_start": 3.6018000000000003,
                        "bin_end": 4.202100000000001,
                        "count": 1
                      },
                      {
                        "bin_start": 4.202100000000001,
                        "bin_end": 4.8024000000000004,
                        "count": 0
                      },
                      {
                        "bin_start": 4.8024000000000004,
                        "bin_end": 5.4027,
                        "count": 2
                      },
                      {
                        "bin_start": 5.4027,
                        "bin_end": 6.003,
                        "count": 1
                      }
                    ]
                  }
                },
                {
                  "name": "bang",
                  "dtype": "float64",
                  "stats": {
                    "unique_count": 964,
                    "nan_count": 0,
                    "min": 0,
                    "max": 32.478,
                    "histogram": [
                      {
                        "bin_start": 0,
                        "bin_end": 3.2478000000000002,
                        "count": 4564
                      },
                      {
                        "bin_start": 3.2478000000000002,
                        "bin_end": 6.4956000000000005,
                        "count": 30
                      },
                      {
                        "bin_start": 6.4956000000000005,
                        "bin_end": 9.743400000000001,
                        "count": 5
                      },
                      {
                        "bin_start": 9.743400000000001,
                        "bin_end": 12.991200000000001,
                        "count": 0
                      },
                      {
                        "bin_start": 12.991200000000001,
                        "bin_end": 16.239,
                        "count": 0
                      },
                      {
                        "bin_start": 16.239,
                        "bin_end": 19.486800000000002,
                        "count": 1
                      },
                      {
                        "bin_start": 19.486800000000002,
                        "bin_end": 22.7346,
                        "count": 0
                      },
                      {
                        "bin_start": 22.7346,
                        "bin_end": 25.982400000000002,
                        "count": 0
                      },
                      {
                        "bin_start": 25.982400000000002,
                        "bin_end": 29.230200000000004,
                        "count": 0
                      },
                      {
                        "bin_start": 29.230200000000004,
                        "bin_end": 32.478,
                        "count": 1
                      }
                    ]
                  }
                },
                {
                  "name": "money",
                  "dtype": "float64",
                  "stats": {
                    "unique_count": 143,
                    "nan_count": 0,
                    "min": 0,
                    "max": 12.5,
                    "histogram": [
                      {
                        "bin_start": 0,
                        "bin_end": 1.25,
                        "count": 4535
                      },
                      {
                        "bin_start": 1.25,
                        "bin_end": 2.5,
                        "count": 53
                      },
                      {
                        "bin_start": 2.5,
                        "bin_end": 3.75,
                        "count": 2
                      },
                      {
                        "bin_start": 3.75,
                        "bin_end": 5,
                        "count": 3
                      },
                      {
                        "bin_start": 5,
                        "bin_end": 6.25,
                        "count": 1
                      },
                      {
                        "bin_start": 6.25,
                        "bin_end": 7.5,
                        "count": 3
                      },
                      {
                        "bin_start": 7.5,
                        "bin_end": 8.75,
                        "count": 0
                      },
                      {
                        "bin_start": 8.75,
                        "bin_end": 10,
                        "count": 3
                      },
                      {
                        "bin_start": 10,
                        "bin_end": 11.25,
                        "count": 0
                      },
                      {
                        "bin_start": 11.25,
                        "bin_end": 12.5,
                        "count": 1
                      }
                    ]
                  }
                },
                {
                  "name": "n000",
                  "dtype": "float64",
                  "stats": {
                    "unique_count": 164,
                    "nan_count": 0,
                    "min": 0,
                    "max": 5.45,
                    "histogram": [
                      {
                        "bin_start": 0,
                        "bin_end": 0.545,
                        "count": 4286
                      },
                      {
                        "bin_start": 0.545,
                        "bin_end": 1.09,
                        "count": 193
                      },
                      {
                        "bin_start": 1.09,
                        "bin_end": 1.6350000000000002,
                        "count": 77
                      },
                      {
                        "bin_start": 1.6350000000000002,
                        "bin_end": 2.18,
                        "count": 20
                      },
                      {
                        "bin_start": 2.18,
                        "bin_end": 2.725,
                        "count": 14
                      },
                      {
                        "bin_start": 2.725,
                        "bin_end": 3.2700000000000005,
                        "count": 3
                      },
                      {
                        "bin_start": 3.2700000000000005,
                        "bin_end": 3.8150000000000004,
                        "count": 4
                      },
                      {
                        "bin_start": 3.8150000000000004,
                        "bin_end": 4.36,
                        "count": 2
                      },
                      {
                        "bin_start": 4.36,
                        "bin_end": 4.905,
                        "count": 1
                      },
                      {
                        "bin_start": 4.905,
                        "bin_end": 5.45,
                        "count": 1
                      }
                    ]
                  }
                },
                {
                  "name": "make",
                  "dtype": "float64",
                  "stats": {
                    "unique_count": 142,
                    "nan_count": 0,
                    "min": 0,
                    "max": 4.54,
                    "histogram": [
                      {
                        "bin_start": 0,
                        "bin_end": 0.454,
                        "count": 4222
                      },
                      {
                        "bin_start": 0.454,
                        "bin_end": 0.908,
                        "count": 265
                      },
                      {
                        "bin_start": 0.908,
                        "bin_end": 1.362,
                        "count": 71
                      },
                      {
                        "bin_start": 1.362,
                        "bin_end": 1.816,
                        "count": 14
                      },
                      {
                        "bin_start": 1.816,
                        "bin_end": 2.27,
                        "count": 13
                      },
                      {
                        "bin_start": 2.27,
                        "bin_end": 2.724,
                        "count": 7
                      },
                      {
                        "bin_start": 2.724,
                        "bin_end": 3.178,
                        "count": 4
                      },
                      {
                        "bin_start": 3.178,
                        "bin_end": 3.632,
                        "count": 0
                      },
                      {
                        "bin_start": 3.632,
                        "bin_end": 4.086,
                        "count": 3
                      },
                      {
                        "bin_start": 4.086,
                        "bin_end": 4.54,
                        "count": 2
                      }
                    ]
                  }
                },
                {
                  "name": "crl.tot_dollar",
                  "dtype": "float64",
                  "stats": {
                    "unique_count": 1236,
                    "nan_count": 0,
                    "min": 0,
                    "max": 17960.67,
                    "histogram": [
                      {
                        "bin_start": 0,
                        "bin_end": 1796.0669999999998,
                        "count": 4576
                      },
                      {
                        "bin_start": 1796.0669999999998,
                        "bin_end": 3592.1339999999996,
                        "count": 22
                      },
                      {
                        "bin_start": 3592.1339999999996,
                        "bin_end": 5388.200999999999,
                        "count": 0
                      },
                      {
                        "bin_start": 5388.200999999999,
                        "bin_end": 7184.267999999999,
                        "count": 2
                      },
                      {
                        "bin_start": 7184.267999999999,
                        "bin_end": 8980.335,
                        "count": 0
                      },
                      {
                        "bin_start": 8980.335,
                        "bin_end": 10776.401999999998,
                        "count": 0
                      },
                      {
                        "bin_start": 10776.401999999998,
                        "bin_end": 12572.469,
                        "count": 0
                      },
                      {
                        "bin_start": 12572.469,
                        "bin_end": 14368.535999999998,
                        "count": 0
                      },
                      {
                        "bin_start": 14368.535999999998,
                        "bin_end": 16164.602999999997,
                        "count": 0
                      },
                      {
                        "bin_start": 16164.602999999997,
                        "bin_end": 17960.67,
                        "count": 1
                      }
                    ]
                  }
                },
                {
                  "name": "crl.tot_bang",
                  "dtype": "float64",
                  "stats": {
                    "unique_count": 2084,
                    "nan_count": 0,
                    "min": 0,
                    "max": 15515.604000000001,
                    "histogram": [
                      {
                        "bin_start": 0,
                        "bin_end": 1551.5604,
                        "count": 4579
                      },
                      {
                        "bin_start": 1551.5604,
                        "bin_end": 3103.1208,
                        "count": 10
                      },
                      {
                        "bin_start": 3103.1208,
                        "bin_end": 4654.6812,
                        "count": 11
                      },
                      {
                        "bin_start": 4654.6812,
                        "bin_end": 6206.2416,
                        "count": 0
                      },
                      {
                        "bin_start": 6206.2416,
                        "bin_end": 7757.802000000001,
                        "count": 0
                      },
                      {
                        "bin_start": 7757.802000000001,
                        "bin_end": 9309.3624,
                        "count": 0
                      },
                      {
                        "bin_start": 9309.3624,
                        "bin_end": 10860.9228,
                        "count": 0
                      },
                      {
                        "bin_start": 10860.9228,
                        "bin_end": 12412.4832,
                        "count": 0
                      },
                      {
                        "bin_start": 12412.4832,
                        "bin_end": 13964.0436,
                        "count": 0
                      },
                      {
                        "bin_start": 13964.0436,
                        "bin_end": 15515.604000000001,
                        "count": 1
                      }
                    ]
                  }
                },
                {
                  "name": "crl.tot_money",
                  "dtype": "float64",
                  "stats": {
                    "unique_count": 560,
                    "nan_count": 0,
                    "min": 0,
                    "max": 4306.61,
                    "histogram": [
                      {
                        "bin_start": 0,
                        "bin_end": 430.66099999999994,
                        "count": 4467
                      },
                      {
                        "bin_start": 430.66099999999994,
                        "bin_end": 861.3219999999999,
                        "count": 56
                      },
                      {
                        "bin_start": 861.3219999999999,
                        "bin_end": 1291.9829999999997,
                        "count": 45
                      },
                      {
                        "bin_start": 1291.9829999999997,
                        "bin_end": 1722.6439999999998,
                        "count": 19
                      },
                      {
                        "bin_start": 1722.6439999999998,
                        "bin_end": 2153.305,
                        "count": 5
                      },
                      {
                        "bin_start": 2153.305,
                        "bin_end": 2583.9659999999994,
                        "count": 3
                      },
                      {
                        "bin_start": 2583.9659999999994,
                        "bin_end": 3014.6269999999995,
                        "count": 5
                      },
                      {
                        "bin_start": 3014.6269999999995,
                        "bin_end": 3445.2879999999996,
                        "count": 0
                      },
                      {
                        "bin_start": 3445.2879999999996,
                        "bin_end": 3875.9489999999996,
                        "count": 0
                      },
                      {
                        "bin_start": 3875.9489999999996,
                        "bin_end": 4306.61,
                        "count": 1
                      }
                    ]
                  }
                },
                {
                  "name": "crl.tot_n000",
                  "dtype": "float64",
                  "stats": {
                    "unique_count": 555,
                    "nan_count": 0,
                    "min": 0,
                    "max": 6322.469999999999,
                    "histogram": [
                      {
                        "bin_start": 0,
                        "bin_end": 632.247,
                        "count": 4470
                      },
                      {
                        "bin_start": 632.247,
                        "bin_end": 1264.494,
                        "count": 91
                      },
                      {
                        "bin_start": 1264.494,
                        "bin_end": 1896.741,
                        "count": 13
                      },
                      {
                        "bin_start": 1896.741,
                        "bin_end": 2528.988,
                        "count": 3
                      },
                      {
                        "bin_start": 2528.988,
                        "bin_end": 3161.2349999999997,
                        "count": 9
                      },
                      {
                        "bin_start": 3161.2349999999997,
                        "bin_end": 3793.482,
                        "count": 13
                      },
                      {
                        "bin_start": 3793.482,
                        "bin_end": 4425.728999999999,
                        "count": 1
                      },
                      {
                        "bin_start": 4425.728999999999,
                        "bin_end": 5057.976,
                        "count": 0
                      },
                      {
                        "bin_start": 5057.976,
                        "bin_end": 5690.223,
                        "count": 0
                      },
                      {
                        "bin_start": 5690.223,
                        "bin_end": 6322.469999999999,
                        "count": 1
                      }
                    ]
                  }
                },
                {
                  "name": "crl.tot_make",
                  "dtype": "float64",
                  "stats": {
                    "unique_count": 874,
                    "nan_count": 0,
                    "min": 0,
                    "max": 3043.2599999999998,
                    "histogram": [
                      {
                        "bin_start": 0,
                        "bin_end": 304.32599999999996,
                        "count": 4443
                      },
                      {
                        "bin_start": 304.32599999999996,
                        "bin_end": 608.6519999999999,
                        "count": 73
                      },
                      {
                        "bin_start": 608.6519999999999,
                        "bin_end": 912.9779999999998,
                        "count": 37
                      },
                      {
                        "bin_start": 912.9779999999998,
                        "bin_end": 1217.3039999999999,
                        "count": 19
                      },
                      {
                        "bin_start": 1217.3039999999999,
                        "bin_end": 1521.6299999999999,
                        "count": 14
                      },
                      {
                        "bin_start": 1521.6299999999999,
                        "bin_end": 1825.9559999999997,
                        "count": 6
                      },
                      {
                        "bin_start": 1825.9559999999997,
                        "bin_end": 2130.2819999999997,
                        "count": 1
                      },
                      {
                        "bin_start": 2130.2819999999997,
                        "bin_end": 2434.6079999999997,
                        "count": 1
                      },
                      {
                        "bin_start": 2434.6079999999997,
                        "bin_end": 2738.9339999999997,
                        "count": 1
                      },
                      {
                        "bin_start": 2738.9339999999997,
                        "bin_end": 3043.2599999999998,
                        "count": 6
                      }
                    ]
                  }
                },
                {
                  "name": "dollar_bang",
                  "dtype": "float64",
                  "stats": {
                    "unique_count": 939,
                    "nan_count": 0,
                    "min": 0,
                    "max": 7.926628000000001,
                    "histogram": [
                      {
                        "bin_start": 0,
                        "bin_end": 0.7926628000000001,
                        "count": 4571
                      },
                      {
                        "bin_start": 0.7926628000000001,
                        "bin_end": 1.5853256000000002,
                        "count": 11
                      },
                      {
                        "bin_start": 1.5853256000000002,
                        "bin_end": 2.3779884000000004,
                        "count": 3
                      },
                      {
                        "bin_start": 2.3779884000000004,
                        "bin_end": 3.1706512000000004,
                        "count": 4
                      },
                      {
                        "bin_start": 3.1706512000000004,
                        "bin_end": 3.9633140000000004,
                        "count": 0
                      },
                      {
                        "bin_start": 3.9633140000000004,
                        "bin_end": 4.755976800000001,
                        "count": 0
                      },
                      {
                        "bin_start": 4.755976800000001,
                        "bin_end": 5.5486396000000004,
                        "count": 3
                      },
                      {
                        "bin_start": 5.5486396000000004,
                        "bin_end": 6.341302400000001,
                        "count": 0
                      },
                      {
                        "bin_start": 6.341302400000001,
                        "bin_end": 7.133965200000001,
                        "count": 0
                      },
                      {
                        "bin_start": 7.133965200000001,
                        "bin_end": 7.926628000000001,
                        "count": 9
                      }
                    ]
                  }
                },
                {
                  "name": "dollar_money",
                  "dtype": "float64",
                  "stats": {
                    "unique_count": 460,
                    "nan_count": 0,
                    "min": 0,
                    "max": 4.85835,
                    "histogram": [
                      {
                        "bin_start": 0,
                        "bin_end": 0.48583499999999996,
                        "count": 4584
                      },
                      {
                        "bin_start": 0.48583499999999996,
                        "bin_end": 0.9716699999999999,
                        "count": 9
                      },
                      {
                        "bin_start": 0.9716699999999999,
                        "bin_end": 1.4575049999999998,
                        "count": 4
                      },
                      {
                        "bin_start": 1.4575049999999998,
                        "bin_end": 1.9433399999999998,
                        "count": 0
                      },
                      {
                        "bin_start": 1.9433399999999998,
                        "bin_end": 2.429175,
                        "count": 0
                      },
                      {
                        "bin_start": 2.429175,
                        "bin_end": 2.9150099999999997,
                        "count": 1
                      },
                      {
                        "bin_start": 2.9150099999999997,
                        "bin_end": 3.400845,
                        "count": 0
                      },
                      {
                        "bin_start": 3.400845,
                        "bin_end": 3.8866799999999997,
                        "count": 0
                      },
                      {
                        "bin_start": 3.8866799999999997,
                        "bin_end": 4.372515,
                        "count": 2
                      },
                      {
                        "bin_start": 4.372515,
                        "bin_end": 4.85835,
                        "count": 1
                      }
                    ]
                  }
                },
                {
                  "name": "dollar_n000",
                  "dtype": "float64",
                  "stats": {
                    "unique_count": 501,
                    "nan_count": 0,
                    "min": 0,
                    "max": 6.7233600000000004,
                    "histogram": [
                      {
                        "bin_start": 0,
                        "bin_end": 0.672336,
                        "count": 4537
                      },
                      {
                        "bin_start": 0.672336,
                        "bin_end": 1.344672,
                        "count": 47
                      },
                      {
                        "bin_start": 1.344672,
                        "bin_end": 2.017008,
                        "count": 5
                      },
                      {
                        "bin_start": 2.017008,
                        "bin_end": 2.689344,
                        "count": 7
                      },
                      {
                        "bin_start": 2.689344,
                        "bin_end": 3.3616800000000002,
                        "count": 1
                      },
                      {
                        "bin_start": 3.3616800000000002,
                        "bin_end": 4.034016,
                        "count": 2
                      },
                      {
                        "bin_start": 4.034016,
                        "bin_end": 4.706352000000001,
                        "count": 0
                      },
                      {
                        "bin_start": 4.706352000000001,
                        "bin_end": 5.378688,
                        "count": 1
                      },
                      {
                        "bin_start": 5.378688,
                        "bin_end": 6.051024,
                        "count": 0
                      },
                      {
                        "bin_start": 6.051024,
                        "bin_end": 6.7233600000000004,
                        "count": 1
                      }
                    ]
                  }
                },
                {
                  "name": "dollar_make",
                  "dtype": "float64",
                  "stats": {
                    "unique_count": 518,
                    "nan_count": 0,
                    "min": 0,
                    "max": 6.572,
                    "histogram": [
                      {
                        "bin_start": 0,
                        "bin_end": 0.6572,
                        "count": 4591
                      },
                      {
                        "bin_start": 0.6572,
                        "bin_end": 1.3144,
                        "count": 8
                      },
                      {
                        "bin_start": 1.3144,
                        "bin_end": 1.9716,
                        "count": 0
                      },
                      {
                        "bin_start": 1.9716,
                        "bin_end": 2.6288,
                        "count": 0
                      },
                      {
                        "bin_start": 2.6288,
                        "bin_end": 3.286,
                        "count": 0
                      },
                      {
                        "bin_start": 3.286,
                        "bin_end": 3.9432,
                        "count": 0
                      },
                      {
                        "bin_start": 3.9432,
                        "bin_end": 4.6004000000000005,
                        "count": 0
                      },
                      {
                        "bin_start": 4.6004000000000005,
                        "bin_end": 5.2576,
                        "count": 0
                      },
                      {
                        "bin_start": 5.2576,
                        "bin_end": 5.9148,
                        "count": 0
                      },
                      {
                        "bin_start": 5.9148,
                        "bin_end": 6.572,
                        "count": 2
                      }
                    ]
                  }
                },
                {
                  "name": "bang_n000",
                  "dtype": "float64",
                  "stats": {
                    "unique_count": 527,
                    "nan_count": 0,
                    "min": 0,
                    "max": 7.011500000000001,
                    "histogram": [
                      {
                        "bin_start": 0,
                        "bin_end": 0.70115,
                        "count": 4532
                      },
                      {
                        "bin_start": 0.70115,
                        "bin_end": 1.4023,
                        "count": 39
                      },
                      {
                        "bin_start": 1.4023,
                        "bin_end": 2.10345,
                        "count": 14
                      },
                      {
                        "bin_start": 2.10345,
                        "bin_end": 2.8046,
                        "count": 6
                      },
                      {
                        "bin_start": 2.8046,
                        "bin_end": 3.5057500000000004,
                        "count": 7
                      },
                      {
                        "bin_start": 3.5057500000000004,
                        "bin_end": 4.2069,
                        "count": 0
                      },
                      {
                        "bin_start": 4.2069,
                        "bin_end": 4.90805,
                        "count": 0
                      },
                      {
                        "bin_start": 4.90805,
                        "bin_end": 5.6092,
                        "count": 1
                      },
                      {
                        "bin_start": 5.6092,
                        "bin_end": 6.310350000000001,
                        "count": 0
                      },
                      {
                        "bin_start": 6.310350000000001,
                        "bin_end": 7.011500000000001,
                        "count": 2
                      }
                    ]
                  }
                },
                {
                  "name": "bang_make",
                  "dtype": "float64",
                  "stats": {
                    "unique_count": 663,
                    "nan_count": 0,
                    "min": 0,
                    "max": 13.96504,
                    "histogram": [
                      {
                        "bin_start": 0,
                        "bin_end": 1.396504,
                        "count": 4585
                      },
                      {
                        "bin_start": 1.396504,
                        "bin_end": 2.793008,
                        "count": 14
                      },
                      {
                        "bin_start": 2.793008,
                        "bin_end": 4.189512,
                        "count": 0
                      },
                      {
                        "bin_start": 4.189512,
                        "bin_end": 5.586016,
                        "count": 1
                      },
                      {
                        "bin_start": 5.586016,
                        "bin_end": 6.98252,
                        "count": 0
                      },
                      {
                        "bin_start": 6.98252,
                        "bin_end": 8.379024,
                        "count": 0
                      },
                      {
                        "bin_start": 8.379024,
                        "bin_end": 9.775528,
                        "count": 0
                      },
                      {
                        "bin_start": 9.775528,
                        "bin_end": 11.172032,
                        "count": 0
                      },
                      {
                        "bin_start": 11.172032,
                        "bin_end": 12.568536,
                        "count": 0
                      },
                      {
                        "bin_start": 12.568536,
                        "bin_end": 13.96504,
                        "count": 1
                      }
                    ]
                  }
                },
                {
                  "name": "bang_money",
                  "dtype": "float64",
                  "stats": {
                    "unique_count": 533,
                    "nan_count": 0,
                    "min": 0,
                    "max": 27.96084,
                    "histogram": [
                      {
                        "bin_start": 0,
                        "bin_end": 2.796084,
                        "count": 4593
                      },
                      {
                        "bin_start": 2.796084,
                        "bin_end": 5.592168,
                        "count": 5
                      },
                      {
                        "bin_start": 5.592168,
                        "bin_end": 8.388252,
                        "count": 2
                      },
                      {
                        "bin_start": 8.388252,
                        "bin_end": 11.184336,
                        "count": 0
                      },
                      {
                        "bin_start": 11.184336,
                        "bin_end": 13.98042,
                        "count": 0
                      },
                      {
                        "bin_start": 13.98042,
                        "bin_end": 16.776504,
                        "count": 0
                      },
                      {
                        "bin_start": 16.776504,
                        "bin_end": 19.572588,
                        "count": 0
                      },
                      {
                        "bin_start": 19.572588,
                        "bin_end": 22.368672,
                        "count": 0
                      },
                      {
                        "bin_start": 22.368672,
                        "bin_end": 25.164756,
                        "count": 0
                      },
                      {
                        "bin_start": 25.164756,
                        "bin_end": 27.96084,
                        "count": 1
                      }
                    ]
                  }
                },
                {
                  "name": "money_n000",
                  "dtype": "float64",
                  "stats": {
                    "unique_count": 203,
                    "nan_count": 0,
                    "min": 0,
                    "max": 2.0747999999999998,
                    "histogram": [
                      {
                        "bin_start": 0,
                        "bin_end": 0.20747999999999997,
                        "count": 4469
                      },
                      {
                        "bin_start": 0.20747999999999997,
                        "bin_end": 0.41495999999999994,
                        "count": 79
                      },
                      {
                        "bin_start": 0.41495999999999994,
                        "bin_end": 0.6224399999999999,
                        "count": 25
                      },
                      {
                        "bin_start": 0.6224399999999999,
                        "bin_end": 0.8299199999999999,
                        "count": 10
                      },
                      {
                        "bin_start": 0.8299199999999999,
                        "bin_end": 1.0373999999999999,
                        "count": 8
                      },
                      {
                        "bin_start": 1.0373999999999999,
                        "bin_end": 1.2448799999999998,
                        "count": 4
                      },
                      {
                        "bin_start": 1.2448799999999998,
                        "bin_end": 1.4523599999999999,
                        "count": 1
                      },
                      {
                        "bin_start": 1.4523599999999999,
                        "bin_end": 1.6598399999999998,
                        "count": 2
                      },
                      {
                        "bin_start": 1.6598399999999998,
                        "bin_end": 1.8673199999999996,
                        "count": 0
                      },
                      {
                        "bin_start": 1.8673199999999996,
                        "bin_end": 2.0747999999999998,
                        "count": 3
                      }
                    ]
                  }
                },
                {
                  "name": "money_make",
                  "dtype": "float64",
                  "stats": {
                    "unique_count": 228,
                    "nan_count": 0,
                    "min": 0,
                    "max": 41.2686,
                    "histogram": [
                      {
                        "bin_start": 0,
                        "bin_end": 4.12686,
                        "count": 4597
                      },
                      {
                        "bin_start": 4.12686,
                        "bin_end": 8.25372,
                        "count": 3
                      },
                      {
                        "bin_start": 8.25372,
                        "bin_end": 12.380579999999998,
                        "count": 0
                      },
                      {
                        "bin_start": 12.380579999999998,
                        "bin_end": 16.50744,
                        "count": 0
                      },
                      {
                        "bin_start": 16.50744,
                        "bin_end": 20.6343,
                        "count": 0
                      },
                      {
                        "bin_start": 20.6343,
                        "bin_end": 24.761159999999997,
                        "count": 0
                      },
                      {
                        "bin_start": 24.761159999999997,
                        "bin_end": 28.888019999999997,
                        "count": 0
                      },
                      {
                        "bin_start": 28.888019999999997,
                        "bin_end": 33.01488,
                        "count": 0
                      },
                      {
                        "bin_start": 33.01488,
                        "bin_end": 37.14174,
                        "count": 0
                      },
                      {
                        "bin_start": 37.14174,
                        "bin_end": 41.2686,
                        "count": 1
                      }
                    ]
                  }
                },
                {
                  "name": "n000_make",
                  "dtype": "float64",
                  "stats": {
                    "unique_count": 239,
                    "nan_count": 0,
                    "min": 0,
                    "max": 5.522500000000001,
                    "histogram": [
                      {
                        "bin_start": 0,
                        "bin_end": 0.5522500000000001,
                        "count": 4541
                      },
                      {
                        "bin_start": 0.5522500000000001,
                        "bin_end": 1.1045000000000003,
                        "count": 47
                      },
                      {
                        "bin_start": 1.1045000000000003,
                        "bin_end": 1.6567500000000004,
                        "count": 7
                      },
                      {
                        "bin_start": 1.6567500000000004,
                        "bin_end": 2.2090000000000005,
                        "count": 5
                      },
                      {
                        "bin_start": 2.2090000000000005,
                        "bin_end": 2.7612500000000004,
                        "count": 0
                      },
                      {
                        "bin_start": 2.7612500000000004,
                        "bin_end": 3.313500000000001,
                        "count": 0
                      },
                      {
                        "bin_start": 3.313500000000001,
                        "bin_end": 3.865750000000001,
                        "count": 0
                      },
                      {
                        "bin_start": 3.865750000000001,
                        "bin_end": 4.418000000000001,
                        "count": 0
                      },
                      {
                        "bin_start": 4.418000000000001,
                        "bin_end": 4.970250000000001,
                        "count": 0
                      },
                      {
                        "bin_start": 4.970250000000001,
                        "bin_end": 5.522500000000001,
                        "count": 1
                      }
                    ]
                  }
                },
                {
                  "name": "_deepnote_index_column",
                  "dtype": "int64"
                }
              ],
              "rows_top": [
                {
                  "crl.tot": 278,
                  "dollar": 0,
                  "bang": 0.778,
                  "money": 0,
                  "n000": 0,
                  "make": 0,
                  "crl.tot_dollar": 0,
                  "crl.tot_bang": 216.28400000000002,
                  "crl.tot_money": 0,
                  "crl.tot_n000": 0,
                  "crl.tot_make": 0,
                  "dollar_bang": 0,
                  "dollar_money": 0,
                  "dollar_n000": 0,
                  "dollar_make": 0,
                  "bang_n000": 0,
                  "bang_make": 0,
                  "bang_money": 0,
                  "money_n000": 0,
                  "money_make": 0,
                  "n000_make": 0,
                  "_deepnote_index_column": 0
                },
                {
                  "crl.tot": 1028,
                  "dollar": 0.18,
                  "bang": 0.372,
                  "money": 0.43,
                  "n000": 0.43,
                  "make": 0.21,
                  "crl.tot_dollar": 185.04,
                  "crl.tot_bang": 382.416,
                  "crl.tot_money": 442.04,
                  "crl.tot_n000": 442.04,
                  "crl.tot_make": 215.88,
                  "dollar_bang": 0.06695999999999999,
                  "dollar_money": 0.0774,
                  "dollar_n000": 0.0774,
                  "dollar_make": 0.0378,
                  "bang_n000": 0.15996,
                  "bang_make": 0.07812,
                  "bang_money": 0.15996,
                  "money_n000": 0.18489999999999998,
                  "money_make": 0.09029999999999999,
                  "n000_make": 0.09029999999999999,
                  "_deepnote_index_column": 1
                },
                {
                  "crl.tot": 2259,
                  "dollar": 0.184,
                  "bang": 0.276,
                  "money": 0.06,
                  "n000": 1.16,
                  "make": 0.06,
                  "crl.tot_dollar": 415.656,
                  "crl.tot_bang": 623.484,
                  "crl.tot_money": 135.54,
                  "crl.tot_n000": 2620.4399999999996,
                  "crl.tot_make": 135.54,
                  "dollar_bang": 0.050784,
                  "dollar_money": 0.01104,
                  "dollar_n000": 0.21344,
                  "dollar_make": 0.01104,
                  "bang_n000": 0.32016,
                  "bang_make": 0.016560000000000002,
                  "bang_money": 0.016560000000000002,
                  "money_n000": 0.0696,
                  "money_make": 0.0036,
                  "n000_make": 0.0696,
                  "_deepnote_index_column": 2
                },
                {
                  "crl.tot": 191,
                  "dollar": 0,
                  "bang": 0.137,
                  "money": 0,
                  "n000": 0,
                  "make": 0,
                  "crl.tot_dollar": 0,
                  "crl.tot_bang": 26.167,
                  "crl.tot_money": 0,
                  "crl.tot_n000": 0,
                  "crl.tot_make": 0,
                  "dollar_bang": 0,
                  "dollar_money": 0,
                  "dollar_n000": 0,
                  "dollar_make": 0,
                  "bang_n000": 0,
                  "bang_make": 0,
                  "bang_money": 0,
                  "money_n000": 0,
                  "money_make": 0,
                  "n000_make": 0,
                  "_deepnote_index_column": 3
                },
                {
                  "crl.tot": 191,
                  "dollar": 0,
                  "bang": 0.135,
                  "money": 0,
                  "n000": 0,
                  "make": 0,
                  "crl.tot_dollar": 0,
                  "crl.tot_bang": 25.785,
                  "crl.tot_money": 0,
                  "crl.tot_n000": 0,
                  "crl.tot_make": 0,
                  "dollar_bang": 0,
                  "dollar_money": 0,
                  "dollar_n000": 0,
                  "dollar_make": 0,
                  "bang_n000": 0,
                  "bang_make": 0,
                  "bang_money": 0,
                  "money_n000": 0,
                  "money_make": 0,
                  "n000_make": 0,
                  "_deepnote_index_column": 4
                },
                {
                  "crl.tot": 54,
                  "dollar": 0,
                  "bang": 0,
                  "money": 0,
                  "n000": 0,
                  "make": 0,
                  "crl.tot_dollar": 0,
                  "crl.tot_bang": 0,
                  "crl.tot_money": 0,
                  "crl.tot_n000": 0,
                  "crl.tot_make": 0,
                  "dollar_bang": 0,
                  "dollar_money": 0,
                  "dollar_n000": 0,
                  "dollar_make": 0,
                  "bang_n000": 0,
                  "bang_make": 0,
                  "bang_money": 0,
                  "money_n000": 0,
                  "money_make": 0,
                  "n000_make": 0,
                  "_deepnote_index_column": 5
                },
                {
                  "crl.tot": 112,
                  "dollar": 0.054,
                  "bang": 0.164,
                  "money": 0,
                  "n000": 0,
                  "make": 0,
                  "crl.tot_dollar": 6.048,
                  "crl.tot_bang": 18.368000000000002,
                  "crl.tot_money": 0,
                  "crl.tot_n000": 0,
                  "crl.tot_make": 0,
                  "dollar_bang": 0.008856000000000001,
                  "dollar_money": 0,
                  "dollar_n000": 0,
                  "dollar_make": 0,
                  "bang_n000": 0,
                  "bang_make": 0,
                  "bang_money": 0,
                  "money_n000": 0,
                  "money_make": 0,
                  "n000_make": 0,
                  "_deepnote_index_column": 6
                },
                {
                  "crl.tot": 49,
                  "dollar": 0,
                  "bang": 0,
                  "money": 0,
                  "n000": 0,
                  "make": 0,
                  "crl.tot_dollar": 0,
                  "crl.tot_bang": 0,
                  "crl.tot_money": 0,
                  "crl.tot_n000": 0,
                  "crl.tot_make": 0,
                  "dollar_bang": 0,
                  "dollar_money": 0,
                  "dollar_n000": 0,
                  "dollar_make": 0,
                  "bang_n000": 0,
                  "bang_make": 0,
                  "bang_money": 0,
                  "money_n000": 0,
                  "money_make": 0,
                  "n000_make": 0,
                  "_deepnote_index_column": 7
                },
                {
                  "crl.tot": 1257,
                  "dollar": 0.203,
                  "bang": 0.181,
                  "money": 0.15,
                  "n000": 0,
                  "make": 0.15,
                  "crl.tot_dollar": 255.17100000000002,
                  "crl.tot_bang": 227.517,
                  "crl.tot_money": 188.54999999999998,
                  "crl.tot_n000": 0,
                  "crl.tot_make": 188.54999999999998,
                  "dollar_bang": 0.036743,
                  "dollar_money": 0.03045,
                  "dollar_n000": 0,
                  "dollar_make": 0.03045,
                  "bang_n000": 0,
                  "bang_make": 0.027149999999999997,
                  "bang_money": 0.027149999999999997,
                  "money_n000": 0,
                  "money_make": 0.0225,
                  "n000_make": 0,
                  "_deepnote_index_column": 8
                },
                {
                  "crl.tot": 749,
                  "dollar": 0.081,
                  "bang": 0.244,
                  "money": 0,
                  "n000": 0.19,
                  "make": 0.06,
                  "crl.tot_dollar": 60.669000000000004,
                  "crl.tot_bang": 182.756,
                  "crl.tot_money": 0,
                  "crl.tot_n000": 142.31,
                  "crl.tot_make": 44.94,
                  "dollar_bang": 0.019764,
                  "dollar_money": 0,
                  "dollar_n000": 0.015390000000000001,
                  "dollar_make": 0.00486,
                  "bang_n000": 0.04636,
                  "bang_make": 0.014639999999999999,
                  "bang_money": 0,
                  "money_n000": 0,
                  "money_make": 0,
                  "n000_make": 0.0114,
                  "_deepnote_index_column": 9
                },
                {
                  "crl.tot": 21,
                  "dollar": 0,
                  "bang": 0.462,
                  "money": 0,
                  "n000": 0,
                  "make": 0,
                  "crl.tot_dollar": 0,
                  "crl.tot_bang": 9.702,
                  "crl.tot_money": 0,
                  "crl.tot_n000": 0,
                  "crl.tot_make": 0,
                  "dollar_bang": 0,
                  "dollar_money": 0,
                  "dollar_n000": 0,
                  "dollar_make": 0,
                  "bang_n000": 0,
                  "bang_make": 0,
                  "bang_money": 0,
                  "money_n000": 0,
                  "money_make": 0,
                  "n000_make": 0,
                  "_deepnote_index_column": 10
                },
                {
                  "crl.tot": 184,
                  "dollar": 0,
                  "bang": 0.663,
                  "money": 0,
                  "n000": 0,
                  "make": 0,
                  "crl.tot_dollar": 0,
                  "crl.tot_bang": 121.992,
                  "crl.tot_money": 0,
                  "crl.tot_n000": 0,
                  "crl.tot_make": 0,
                  "dollar_bang": 0,
                  "dollar_money": 0,
                  "dollar_n000": 0,
                  "dollar_make": 0,
                  "bang_n000": 0,
                  "bang_make": 0,
                  "bang_money": 0,
                  "money_n000": 0,
                  "money_make": 0,
                  "n000_make": 0,
                  "_deepnote_index_column": 11
                },
                {
                  "crl.tot": 261,
                  "dollar": 0,
                  "bang": 0.786,
                  "money": 0,
                  "n000": 0,
                  "make": 0,
                  "crl.tot_dollar": 0,
                  "crl.tot_bang": 205.14600000000002,
                  "crl.tot_money": 0,
                  "crl.tot_n000": 0,
                  "crl.tot_make": 0,
                  "dollar_bang": 0,
                  "dollar_money": 0,
                  "dollar_n000": 0,
                  "dollar_make": 0,
                  "bang_n000": 0,
                  "bang_make": 0,
                  "bang_money": 0,
                  "money_n000": 0,
                  "money_make": 0,
                  "n000_make": 0,
                  "_deepnote_index_column": 12
                },
                {
                  "crl.tot": 25,
                  "dollar": 0,
                  "bang": 0,
                  "money": 0,
                  "n000": 0,
                  "make": 0,
                  "crl.tot_dollar": 0,
                  "crl.tot_bang": 0,
                  "crl.tot_money": 0,
                  "crl.tot_n000": 0,
                  "crl.tot_make": 0,
                  "dollar_bang": 0,
                  "dollar_money": 0,
                  "dollar_n000": 0,
                  "dollar_make": 0,
                  "bang_n000": 0,
                  "bang_make": 0,
                  "bang_money": 0,
                  "money_n000": 0,
                  "money_make": 0,
                  "n000_make": 0,
                  "_deepnote_index_column": 13
                },
                {
                  "crl.tot": 205,
                  "dollar": 0,
                  "bang": 0.357,
                  "money": 0,
                  "n000": 0.35,
                  "make": 0,
                  "crl.tot_dollar": 0,
                  "crl.tot_bang": 73.185,
                  "crl.tot_money": 0,
                  "crl.tot_n000": 71.75,
                  "crl.tot_make": 0,
                  "dollar_bang": 0,
                  "dollar_money": 0,
                  "dollar_n000": 0,
                  "dollar_make": 0,
                  "bang_n000": 0.12494999999999999,
                  "bang_make": 0,
                  "bang_money": 0,
                  "money_n000": 0,
                  "money_make": 0,
                  "n000_make": 0,
                  "_deepnote_index_column": 14
                },
                {
                  "crl.tot": 249,
                  "dollar": 0.063,
                  "bang": 0.572,
                  "money": 0.42,
                  "n000": 0,
                  "make": 0,
                  "crl.tot_dollar": 15.687,
                  "crl.tot_bang": 142.428,
                  "crl.tot_money": 104.58,
                  "crl.tot_n000": 0,
                  "crl.tot_make": 0,
                  "dollar_bang": 0.036036,
                  "dollar_money": 0.02646,
                  "dollar_n000": 0,
                  "dollar_make": 0,
                  "bang_n000": 0,
                  "bang_make": 0,
                  "bang_money": 0.24023999999999998,
                  "money_n000": 0,
                  "money_make": 0,
                  "n000_make": 0,
                  "_deepnote_index_column": 15
                },
                {
                  "crl.tot": 107,
                  "dollar": 0,
                  "bang": 0.428,
                  "money": 0,
                  "n000": 0,
                  "make": 0,
                  "crl.tot_dollar": 0,
                  "crl.tot_bang": 45.796,
                  "crl.tot_money": 0,
                  "crl.tot_n000": 0,
                  "crl.tot_make": 0,
                  "dollar_bang": 0,
                  "dollar_money": 0,
                  "dollar_n000": 0,
                  "dollar_make": 0,
                  "bang_n000": 0,
                  "bang_make": 0,
                  "bang_money": 0,
                  "money_n000": 0,
                  "money_make": 0,
                  "n000_make": 0,
                  "_deepnote_index_column": 16
                },
                {
                  "crl.tot": 461,
                  "dollar": 0.37,
                  "bang": 1.975,
                  "money": 0,
                  "n000": 0.7,
                  "make": 0,
                  "crl.tot_dollar": 170.57,
                  "crl.tot_bang": 910.475,
                  "crl.tot_money": 0,
                  "crl.tot_n000": 322.7,
                  "crl.tot_make": 0,
                  "dollar_bang": 0.73075,
                  "dollar_money": 0,
                  "dollar_n000": 0.259,
                  "dollar_make": 0,
                  "bang_n000": 1.3825,
                  "bang_make": 0,
                  "bang_money": 0,
                  "money_n000": 0,
                  "money_make": 0,
                  "n000_make": 0,
                  "_deepnote_index_column": 17
                },
                {
                  "crl.tot": 70,
                  "dollar": 0,
                  "bang": 0.455,
                  "money": 0,
                  "n000": 0,
                  "make": 0,
                  "crl.tot_dollar": 0,
                  "crl.tot_bang": 31.85,
                  "crl.tot_money": 0,
                  "crl.tot_n000": 0,
                  "crl.tot_make": 0,
                  "dollar_bang": 0,
                  "dollar_money": 0,
                  "dollar_n000": 0,
                  "dollar_make": 0,
                  "bang_n000": 0,
                  "bang_make": 0,
                  "bang_money": 0,
                  "money_n000": 0,
                  "money_make": 0,
                  "n000_make": 0,
                  "_deepnote_index_column": 18
                },
                {
                  "crl.tot": 186,
                  "dollar": 0.496,
                  "bang": 0.055,
                  "money": 0.63,
                  "n000": 0.31,
                  "make": 0,
                  "crl.tot_dollar": 92.256,
                  "crl.tot_bang": 10.23,
                  "crl.tot_money": 117.18,
                  "crl.tot_n000": 57.66,
                  "crl.tot_make": 0,
                  "dollar_bang": 0.02728,
                  "dollar_money": 0.31248,
                  "dollar_n000": 0.15376,
                  "dollar_make": 0,
                  "bang_n000": 0.01705,
                  "bang_make": 0,
                  "bang_money": 0.03465,
                  "money_n000": 0.1953,
                  "money_make": 0,
                  "n000_make": 0,
                  "_deepnote_index_column": 19
                },
                {
                  "crl.tot": 23,
                  "dollar": 0,
                  "bang": 0.729,
                  "money": 0,
                  "n000": 0,
                  "make": 0,
                  "crl.tot_dollar": 0,
                  "crl.tot_bang": 16.767,
                  "crl.tot_money": 0,
                  "crl.tot_n000": 0,
                  "crl.tot_make": 0,
                  "dollar_bang": 0,
                  "dollar_money": 0,
                  "dollar_n000": 0,
                  "dollar_make": 0,
                  "bang_n000": 0,
                  "bang_make": 0,
                  "bang_money": 0,
                  "money_n000": 0,
                  "money_make": 0,
                  "n000_make": 0,
                  "_deepnote_index_column": 20
                },
                {
                  "crl.tot": 2259,
                  "dollar": 0.046,
                  "bang": 0.25,
                  "money": 0,
                  "n000": 0.05,
                  "make": 0.05,
                  "crl.tot_dollar": 103.914,
                  "crl.tot_bang": 564.75,
                  "crl.tot_money": 0,
                  "crl.tot_n000": 112.95,
                  "crl.tot_make": 112.95,
                  "dollar_bang": 0.0115,
                  "dollar_money": 0,
                  "dollar_n000": 0.0023,
                  "dollar_make": 0.0023,
                  "bang_n000": 0.0125,
                  "bang_make": 0.0125,
                  "bang_money": 0,
                  "money_n000": 0,
                  "money_make": 0,
                  "n000_make": 0.0025000000000000005,
                  "_deepnote_index_column": 21
                },
                {
                  "crl.tot": 34,
                  "dollar": 0,
                  "bang": 0.809,
                  "money": 0,
                  "n000": 0,
                  "make": 0,
                  "crl.tot_dollar": 0,
                  "crl.tot_bang": 27.506,
                  "crl.tot_money": 0,
                  "crl.tot_n000": 0,
                  "crl.tot_make": 0,
                  "dollar_bang": 0,
                  "dollar_money": 0,
                  "dollar_n000": 0,
                  "dollar_make": 0,
                  "bang_n000": 0,
                  "bang_make": 0,
                  "bang_money": 0,
                  "money_n000": 0,
                  "money_make": 0,
                  "n000_make": 0,
                  "_deepnote_index_column": 22
                }
              ],
              "rows_bottom": [
                {
                  "crl.tot": 24,
                  "dollar": 0,
                  "bang": 0,
                  "money": 0,
                  "n000": 0,
                  "make": 0,
                  "crl.tot_dollar": 0,
                  "crl.tot_bang": 0,
                  "crl.tot_money": 0,
                  "crl.tot_n000": 0,
                  "crl.tot_make": 0,
                  "dollar_bang": 0,
                  "dollar_money": 0,
                  "dollar_n000": 0,
                  "dollar_make": 0,
                  "bang_n000": 0,
                  "bang_make": 0,
                  "bang_money": 0,
                  "money_n000": 0,
                  "money_make": 0,
                  "n000_make": 0,
                  "_deepnote_index_column": 4577
                },
                {
                  "crl.tot": 70,
                  "dollar": 0,
                  "bang": 0,
                  "money": 0.4,
                  "n000": 0,
                  "make": 0,
                  "crl.tot_dollar": 0,
                  "crl.tot_bang": 0,
                  "crl.tot_money": 28,
                  "crl.tot_n000": 0,
                  "crl.tot_make": 0,
                  "dollar_bang": 0,
                  "dollar_money": 0,
                  "dollar_n000": 0,
                  "dollar_make": 0,
                  "bang_n000": 0,
                  "bang_make": 0,
                  "bang_money": 0,
                  "money_n000": 0,
                  "money_make": 0,
                  "n000_make": 0,
                  "_deepnote_index_column": 4578
                },
                {
                  "crl.tot": 1789,
                  "dollar": 0,
                  "bang": 0.055,
                  "money": 0,
                  "n000": 0,
                  "make": 0.27,
                  "crl.tot_dollar": 0,
                  "crl.tot_bang": 98.395,
                  "crl.tot_money": 0,
                  "crl.tot_n000": 0,
                  "crl.tot_make": 483.03000000000003,
                  "dollar_bang": 0,
                  "dollar_money": 0,
                  "dollar_n000": 0,
                  "dollar_make": 0,
                  "bang_n000": 0,
                  "bang_make": 0.01485,
                  "bang_money": 0,
                  "money_n000": 0,
                  "money_make": 0,
                  "n000_make": 0,
                  "_deepnote_index_column": 4579
                },
                {
                  "crl.tot": 11,
                  "dollar": 0,
                  "bang": 0,
                  "money": 0,
                  "n000": 0,
                  "make": 0,
                  "crl.tot_dollar": 0,
                  "crl.tot_bang": 0,
                  "crl.tot_money": 0,
                  "crl.tot_n000": 0,
                  "crl.tot_make": 0,
                  "dollar_bang": 0,
                  "dollar_money": 0,
                  "dollar_n000": 0,
                  "dollar_make": 0,
                  "bang_n000": 0,
                  "bang_make": 0,
                  "bang_money": 0,
                  "money_n000": 0,
                  "money_make": 0,
                  "n000_make": 0,
                  "_deepnote_index_column": 4580
                },
                {
                  "crl.tot": 46,
                  "dollar": 0,
                  "bang": 0.091,
                  "money": 0,
                  "n000": 0,
                  "make": 0,
                  "crl.tot_dollar": 0,
                  "crl.tot_bang": 4.186,
                  "crl.tot_money": 0,
                  "crl.tot_n000": 0,
                  "crl.tot_make": 0,
                  "dollar_bang": 0,
                  "dollar_money": 0,
                  "dollar_n000": 0,
                  "dollar_make": 0,
                  "bang_n000": 0,
                  "bang_make": 0,
                  "bang_money": 0,
                  "money_n000": 0,
                  "money_make": 0,
                  "n000_make": 0,
                  "_deepnote_index_column": 4581
                },
                {
                  "crl.tot": 19,
                  "dollar": 0,
                  "bang": 0,
                  "money": 0,
                  "n000": 0,
                  "make": 0,
                  "crl.tot_dollar": 0,
                  "crl.tot_bang": 0,
                  "crl.tot_money": 0,
                  "crl.tot_n000": 0,
                  "crl.tot_make": 0,
                  "dollar_bang": 0,
                  "dollar_money": 0,
                  "dollar_n000": 0,
                  "dollar_make": 0,
                  "bang_n000": 0,
                  "bang_make": 0,
                  "bang_money": 0,
                  "money_n000": 0,
                  "money_make": 0,
                  "n000_make": 0,
                  "_deepnote_index_column": 4582
                },
                {
                  "crl.tot": 70,
                  "dollar": 0,
                  "bang": 0,
                  "money": 0,
                  "n000": 0,
                  "make": 0,
                  "crl.tot_dollar": 0,
                  "crl.tot_bang": 0,
                  "crl.tot_money": 0,
                  "crl.tot_n000": 0,
                  "crl.tot_make": 0,
                  "dollar_bang": 0,
                  "dollar_money": 0,
                  "dollar_n000": 0,
                  "dollar_make": 0,
                  "bang_n000": 0,
                  "bang_make": 0,
                  "bang_money": 0,
                  "money_n000": 0,
                  "money_make": 0,
                  "n000_make": 0,
                  "_deepnote_index_column": 4583
                },
                {
                  "crl.tot": 123,
                  "dollar": 0,
                  "bang": 0.041,
                  "money": 0,
                  "n000": 0,
                  "make": 0,
                  "crl.tot_dollar": 0,
                  "crl.tot_bang": 5.043,
                  "crl.tot_money": 0,
                  "crl.tot_n000": 0,
                  "crl.tot_make": 0,
                  "dollar_bang": 0,
                  "dollar_money": 0,
                  "dollar_n000": 0,
                  "dollar_make": 0,
                  "bang_n000": 0,
                  "bang_make": 0,
                  "bang_money": 0,
                  "money_n000": 0,
                  "money_make": 0,
                  "n000_make": 0,
                  "_deepnote_index_column": 4584
                },
                {
                  "crl.tot": 11,
                  "dollar": 0,
                  "bang": 0,
                  "money": 0,
                  "n000": 0,
                  "make": 0,
                  "crl.tot_dollar": 0,
                  "crl.tot_bang": 0,
                  "crl.tot_money": 0,
                  "crl.tot_n000": 0,
                  "crl.tot_make": 0,
                  "dollar_bang": 0,
                  "dollar_money": 0,
                  "dollar_n000": 0,
                  "dollar_make": 0,
                  "bang_n000": 0,
                  "bang_make": 0,
                  "bang_money": 0,
                  "money_n000": 0,
                  "money_make": 0,
                  "n000_make": 0,
                  "_deepnote_index_column": 4585
                },
                {
                  "crl.tot": 174,
                  "dollar": 0,
                  "bang": 0,
                  "money": 0,
                  "n000": 0,
                  "make": 0,
                  "crl.tot_dollar": 0,
                  "crl.tot_bang": 0,
                  "crl.tot_money": 0,
                  "crl.tot_n000": 0,
                  "crl.tot_make": 0,
                  "dollar_bang": 0,
                  "dollar_money": 0,
                  "dollar_n000": 0,
                  "dollar_make": 0,
                  "bang_n000": 0,
                  "bang_make": 0,
                  "bang_money": 0,
                  "money_n000": 0,
                  "money_make": 0,
                  "n000_make": 0,
                  "_deepnote_index_column": 4586
                },
                {
                  "crl.tot": 28,
                  "dollar": 0.125,
                  "bang": 0,
                  "money": 0,
                  "n000": 0,
                  "make": 0,
                  "crl.tot_dollar": 3.5,
                  "crl.tot_bang": 0,
                  "crl.tot_money": 0,
                  "crl.tot_n000": 0,
                  "crl.tot_make": 0,
                  "dollar_bang": 0,
                  "dollar_money": 0,
                  "dollar_n000": 0,
                  "dollar_make": 0,
                  "bang_n000": 0,
                  "bang_make": 0,
                  "bang_money": 0,
                  "money_n000": 0,
                  "money_make": 0,
                  "n000_make": 0,
                  "_deepnote_index_column": 4587
                },
                {
                  "crl.tot": 10,
                  "dollar": 0,
                  "bang": 0,
                  "money": 0,
                  "n000": 0,
                  "make": 0,
                  "crl.tot_dollar": 0,
                  "crl.tot_bang": 0,
                  "crl.tot_money": 0,
                  "crl.tot_n000": 0,
                  "crl.tot_make": 0,
                  "dollar_bang": 0,
                  "dollar_money": 0,
                  "dollar_n000": 0,
                  "dollar_make": 0,
                  "bang_n000": 0,
                  "bang_make": 0,
                  "bang_money": 0,
                  "money_n000": 0,
                  "money_make": 0,
                  "n000_make": 0,
                  "_deepnote_index_column": 4588
                },
                {
                  "crl.tot": 22,
                  "dollar": 0,
                  "bang": 0,
                  "money": 0,
                  "n000": 0,
                  "make": 0,
                  "crl.tot_dollar": 0,
                  "crl.tot_bang": 0,
                  "crl.tot_money": 0,
                  "crl.tot_n000": 0,
                  "crl.tot_make": 0,
                  "dollar_bang": 0,
                  "dollar_money": 0,
                  "dollar_n000": 0,
                  "dollar_make": 0,
                  "bang_n000": 0,
                  "bang_make": 0,
                  "bang_money": 0,
                  "money_n000": 0,
                  "money_make": 0,
                  "n000_make": 0,
                  "_deepnote_index_column": 4589
                },
                {
                  "crl.tot": 79,
                  "dollar": 0,
                  "bang": 0,
                  "money": 0,
                  "n000": 0,
                  "make": 0,
                  "crl.tot_dollar": 0,
                  "crl.tot_bang": 0,
                  "crl.tot_money": 0,
                  "crl.tot_n000": 0,
                  "crl.tot_make": 0,
                  "dollar_bang": 0,
                  "dollar_money": 0,
                  "dollar_n000": 0,
                  "dollar_make": 0,
                  "bang_n000": 0,
                  "bang_make": 0,
                  "bang_money": 0,
                  "money_n000": 0,
                  "money_make": 0,
                  "n000_make": 0,
                  "_deepnote_index_column": 4590
                },
                {
                  "crl.tot": 8,
                  "dollar": 0,
                  "bang": 0,
                  "money": 0,
                  "n000": 0,
                  "make": 0,
                  "crl.tot_dollar": 0,
                  "crl.tot_bang": 0,
                  "crl.tot_money": 0,
                  "crl.tot_n000": 0,
                  "crl.tot_make": 0,
                  "dollar_bang": 0,
                  "dollar_money": 0,
                  "dollar_n000": 0,
                  "dollar_make": 0,
                  "bang_n000": 0,
                  "bang_make": 0,
                  "bang_money": 0,
                  "money_n000": 0,
                  "money_make": 0,
                  "n000_make": 0,
                  "_deepnote_index_column": 4591
                },
                {
                  "crl.tot": 27,
                  "dollar": 0,
                  "bang": 0,
                  "money": 0,
                  "n000": 0,
                  "make": 0,
                  "crl.tot_dollar": 0,
                  "crl.tot_bang": 0,
                  "crl.tot_money": 0,
                  "crl.tot_n000": 0,
                  "crl.tot_make": 0,
                  "dollar_bang": 0,
                  "dollar_money": 0,
                  "dollar_n000": 0,
                  "dollar_make": 0,
                  "bang_n000": 0,
                  "bang_make": 0,
                  "bang_money": 0,
                  "money_n000": 0,
                  "money_make": 0,
                  "n000_make": 0,
                  "_deepnote_index_column": 4592
                },
                {
                  "crl.tot": 6,
                  "dollar": 0,
                  "bang": 1.052,
                  "money": 0,
                  "n000": 0,
                  "make": 0,
                  "crl.tot_dollar": 0,
                  "crl.tot_bang": 6.312,
                  "crl.tot_money": 0,
                  "crl.tot_n000": 0,
                  "crl.tot_make": 0,
                  "dollar_bang": 0,
                  "dollar_money": 0,
                  "dollar_n000": 0,
                  "dollar_make": 0,
                  "bang_n000": 0,
                  "bang_make": 0,
                  "bang_money": 0,
                  "money_n000": 0,
                  "money_make": 0,
                  "n000_make": 0,
                  "_deepnote_index_column": 4593
                },
                {
                  "crl.tot": 19,
                  "dollar": 0,
                  "bang": 0,
                  "money": 0,
                  "n000": 0,
                  "make": 0,
                  "crl.tot_dollar": 0,
                  "crl.tot_bang": 0,
                  "crl.tot_money": 0,
                  "crl.tot_n000": 0,
                  "crl.tot_make": 0,
                  "dollar_bang": 0,
                  "dollar_money": 0,
                  "dollar_n000": 0,
                  "dollar_make": 0,
                  "bang_n000": 0,
                  "bang_make": 0,
                  "bang_money": 0,
                  "money_n000": 0,
                  "money_make": 0,
                  "n000_make": 0,
                  "_deepnote_index_column": 4594
                },
                {
                  "crl.tot": 24,
                  "dollar": 0,
                  "bang": 0,
                  "money": 0,
                  "n000": 0,
                  "make": 0,
                  "crl.tot_dollar": 0,
                  "crl.tot_bang": 0,
                  "crl.tot_money": 0,
                  "crl.tot_n000": 0,
                  "crl.tot_make": 0,
                  "dollar_bang": 0,
                  "dollar_money": 0,
                  "dollar_n000": 0,
                  "dollar_make": 0,
                  "bang_n000": 0,
                  "bang_make": 0,
                  "bang_money": 0,
                  "money_n000": 0,
                  "money_make": 0,
                  "n000_make": 0,
                  "_deepnote_index_column": 4595
                },
                {
                  "crl.tot": 88,
                  "dollar": 0,
                  "bang": 0,
                  "money": 0,
                  "n000": 0,
                  "make": 0.31,
                  "crl.tot_dollar": 0,
                  "crl.tot_bang": 0,
                  "crl.tot_money": 0,
                  "crl.tot_n000": 0,
                  "crl.tot_make": 27.28,
                  "dollar_bang": 0,
                  "dollar_money": 0,
                  "dollar_n000": 0,
                  "dollar_make": 0,
                  "bang_n000": 0,
                  "bang_make": 0,
                  "bang_money": 0,
                  "money_n000": 0,
                  "money_make": 0,
                  "n000_make": 0,
                  "_deepnote_index_column": 4596
                },
                {
                  "crl.tot": 14,
                  "dollar": 0,
                  "bang": 0.353,
                  "money": 0,
                  "n000": 0,
                  "make": 0,
                  "crl.tot_dollar": 0,
                  "crl.tot_bang": 4.942,
                  "crl.tot_money": 0,
                  "crl.tot_n000": 0,
                  "crl.tot_make": 0,
                  "dollar_bang": 0,
                  "dollar_money": 0,
                  "dollar_n000": 0,
                  "dollar_make": 0,
                  "bang_n000": 0,
                  "bang_make": 0,
                  "bang_money": 0,
                  "money_n000": 0,
                  "money_make": 0,
                  "n000_make": 0,
                  "_deepnote_index_column": 4597
                },
                {
                  "crl.tot": 118,
                  "dollar": 0,
                  "bang": 0,
                  "money": 0,
                  "n000": 0,
                  "make": 0.3,
                  "crl.tot_dollar": 0,
                  "crl.tot_bang": 0,
                  "crl.tot_money": 0,
                  "crl.tot_n000": 0,
                  "crl.tot_make": 35.4,
                  "dollar_bang": 0,
                  "dollar_money": 0,
                  "dollar_n000": 0,
                  "dollar_make": 0,
                  "bang_n000": 0,
                  "bang_make": 0,
                  "bang_money": 0,
                  "money_n000": 0,
                  "money_make": 0,
                  "n000_make": 0,
                  "_deepnote_index_column": 4598
                },
                {
                  "crl.tot": 78,
                  "dollar": 0,
                  "bang": 0,
                  "money": 0,
                  "n000": 0,
                  "make": 0.96,
                  "crl.tot_dollar": 0,
                  "crl.tot_bang": 0,
                  "crl.tot_money": 0,
                  "crl.tot_n000": 0,
                  "crl.tot_make": 74.88,
                  "dollar_bang": 0,
                  "dollar_money": 0,
                  "dollar_n000": 0,
                  "dollar_make": 0,
                  "bang_n000": 0,
                  "bang_make": 0,
                  "bang_money": 0,
                  "money_n000": 0,
                  "money_make": 0,
                  "n000_make": 0,
                  "_deepnote_index_column": 4599
                },
                {
                  "crl.tot": 40,
                  "dollar": 0,
                  "bang": 0.125,
                  "money": 0,
                  "n000": 0,
                  "make": 0,
                  "crl.tot_dollar": 0,
                  "crl.tot_bang": 5,
                  "crl.tot_money": 0,
                  "crl.tot_n000": 0,
                  "crl.tot_make": 0,
                  "dollar_bang": 0,
                  "dollar_money": 0,
                  "dollar_n000": 0,
                  "dollar_make": 0,
                  "bang_n000": 0,
                  "bang_make": 0,
                  "bang_money": 0,
                  "money_n000": 0,
                  "money_make": 0,
                  "n000_make": 0,
                  "_deepnote_index_column": 4600
                }
              ]
            },
            "text/plain": "      crl.tot  dollar   bang  money  n000  make  crl.tot_dollar  crl.tot_bang  \\\n0         278   0.000  0.778   0.00  0.00  0.00           0.000       216.284   \n1        1028   0.180  0.372   0.43  0.43  0.21         185.040       382.416   \n2        2259   0.184  0.276   0.06  1.16  0.06         415.656       623.484   \n3         191   0.000  0.137   0.00  0.00  0.00           0.000        26.167   \n4         191   0.000  0.135   0.00  0.00  0.00           0.000        25.785   \n...       ...     ...    ...    ...   ...   ...             ...           ...   \n4596       88   0.000  0.000   0.00  0.00  0.31           0.000         0.000   \n4597       14   0.000  0.353   0.00  0.00  0.00           0.000         4.942   \n4598      118   0.000  0.000   0.00  0.00  0.30           0.000         0.000   \n4599       78   0.000  0.000   0.00  0.00  0.96           0.000         0.000   \n4600       40   0.000  0.125   0.00  0.00  0.00           0.000         5.000   \n\n      crl.tot_money  crl.tot_n000  ...  dollar_bang  dollar_money  \\\n0              0.00          0.00  ...     0.000000       0.00000   \n1            442.04        442.04  ...     0.066960       0.07740   \n2            135.54       2620.44  ...     0.050784       0.01104   \n3              0.00          0.00  ...     0.000000       0.00000   \n4              0.00          0.00  ...     0.000000       0.00000   \n...             ...           ...  ...          ...           ...   \n4596           0.00          0.00  ...     0.000000       0.00000   \n4597           0.00          0.00  ...     0.000000       0.00000   \n4598           0.00          0.00  ...     0.000000       0.00000   \n4599           0.00          0.00  ...     0.000000       0.00000   \n4600           0.00          0.00  ...     0.000000       0.00000   \n\n      dollar_n000  dollar_make  bang_n000  bang_make  bang_money  money_n000  \\\n0         0.00000      0.00000    0.00000    0.00000     0.00000      0.0000   \n1         0.07740      0.03780    0.15996    0.07812     0.15996      0.1849   \n2         0.21344      0.01104    0.32016    0.01656     0.01656      0.0696   \n3         0.00000      0.00000    0.00000    0.00000     0.00000      0.0000   \n4         0.00000      0.00000    0.00000    0.00000     0.00000      0.0000   \n...           ...          ...        ...        ...         ...         ...   \n4596      0.00000      0.00000    0.00000    0.00000     0.00000      0.0000   \n4597      0.00000      0.00000    0.00000    0.00000     0.00000      0.0000   \n4598      0.00000      0.00000    0.00000    0.00000     0.00000      0.0000   \n4599      0.00000      0.00000    0.00000    0.00000     0.00000      0.0000   \n4600      0.00000      0.00000    0.00000    0.00000     0.00000      0.0000   \n\n      money_make  n000_make  \n0         0.0000     0.0000  \n1         0.0903     0.0903  \n2         0.0036     0.0696  \n3         0.0000     0.0000  \n4         0.0000     0.0000  \n...          ...        ...  \n4596      0.0000     0.0000  \n4597      0.0000     0.0000  \n4598      0.0000     0.0000  \n4599      0.0000     0.0000  \n4600      0.0000     0.0000  \n\n[4601 rows x 21 columns]",
            "text/html": "<div>\n<style scoped>\n    .dataframe tbody tr th:only-of-type {\n        vertical-align: middle;\n    }\n\n    .dataframe tbody tr th {\n        vertical-align: top;\n    }\n\n    .dataframe thead th {\n        text-align: right;\n    }\n</style>\n<table border=\"1\" class=\"dataframe\">\n  <thead>\n    <tr style=\"text-align: right;\">\n      <th></th>\n      <th>crl.tot</th>\n      <th>dollar</th>\n      <th>bang</th>\n      <th>money</th>\n      <th>n000</th>\n      <th>make</th>\n      <th>crl.tot_dollar</th>\n      <th>crl.tot_bang</th>\n      <th>crl.tot_money</th>\n      <th>crl.tot_n000</th>\n      <th>...</th>\n      <th>dollar_bang</th>\n      <th>dollar_money</th>\n      <th>dollar_n000</th>\n      <th>dollar_make</th>\n      <th>bang_n000</th>\n      <th>bang_make</th>\n      <th>bang_money</th>\n      <th>money_n000</th>\n      <th>money_make</th>\n      <th>n000_make</th>\n    </tr>\n  </thead>\n  <tbody>\n    <tr>\n      <th>0</th>\n      <td>278</td>\n      <td>0.000</td>\n      <td>0.778</td>\n      <td>0.00</td>\n      <td>0.00</td>\n      <td>0.00</td>\n      <td>0.000</td>\n      <td>216.284</td>\n      <td>0.00</td>\n      <td>0.00</td>\n      <td>...</td>\n      <td>0.000000</td>\n      <td>0.00000</td>\n      <td>0.00000</td>\n      <td>0.00000</td>\n      <td>0.00000</td>\n      <td>0.00000</td>\n      <td>0.00000</td>\n      <td>0.0000</td>\n      <td>0.0000</td>\n      <td>0.0000</td>\n    </tr>\n    <tr>\n      <th>1</th>\n      <td>1028</td>\n      <td>0.180</td>\n      <td>0.372</td>\n      <td>0.43</td>\n      <td>0.43</td>\n      <td>0.21</td>\n      <td>185.040</td>\n      <td>382.416</td>\n      <td>442.04</td>\n      <td>442.04</td>\n      <td>...</td>\n      <td>0.066960</td>\n      <td>0.07740</td>\n      <td>0.07740</td>\n      <td>0.03780</td>\n      <td>0.15996</td>\n      <td>0.07812</td>\n      <td>0.15996</td>\n      <td>0.1849</td>\n      <td>0.0903</td>\n      <td>0.0903</td>\n    </tr>\n    <tr>\n      <th>2</th>\n      <td>2259</td>\n      <td>0.184</td>\n      <td>0.276</td>\n      <td>0.06</td>\n      <td>1.16</td>\n      <td>0.06</td>\n      <td>415.656</td>\n      <td>623.484</td>\n      <td>135.54</td>\n      <td>2620.44</td>\n      <td>...</td>\n      <td>0.050784</td>\n      <td>0.01104</td>\n      <td>0.21344</td>\n      <td>0.01104</td>\n      <td>0.32016</td>\n      <td>0.01656</td>\n      <td>0.01656</td>\n      <td>0.0696</td>\n      <td>0.0036</td>\n      <td>0.0696</td>\n    </tr>\n    <tr>\n      <th>3</th>\n      <td>191</td>\n      <td>0.000</td>\n      <td>0.137</td>\n      <td>0.00</td>\n      <td>0.00</td>\n      <td>0.00</td>\n      <td>0.000</td>\n      <td>26.167</td>\n      <td>0.00</td>\n      <td>0.00</td>\n      <td>...</td>\n      <td>0.000000</td>\n      <td>0.00000</td>\n      <td>0.00000</td>\n      <td>0.00000</td>\n      <td>0.00000</td>\n      <td>0.00000</td>\n      <td>0.00000</td>\n      <td>0.0000</td>\n      <td>0.0000</td>\n      <td>0.0000</td>\n    </tr>\n    <tr>\n      <th>4</th>\n      <td>191</td>\n      <td>0.000</td>\n      <td>0.135</td>\n      <td>0.00</td>\n      <td>0.00</td>\n      <td>0.00</td>\n      <td>0.000</td>\n      <td>25.785</td>\n      <td>0.00</td>\n      <td>0.00</td>\n      <td>...</td>\n      <td>0.000000</td>\n      <td>0.00000</td>\n      <td>0.00000</td>\n      <td>0.00000</td>\n      <td>0.00000</td>\n      <td>0.00000</td>\n      <td>0.00000</td>\n      <td>0.0000</td>\n      <td>0.0000</td>\n      <td>0.0000</td>\n    </tr>\n    <tr>\n      <th>...</th>\n      <td>...</td>\n      <td>...</td>\n      <td>...</td>\n      <td>...</td>\n      <td>...</td>\n      <td>...</td>\n      <td>...</td>\n      <td>...</td>\n      <td>...</td>\n      <td>...</td>\n      <td>...</td>\n      <td>...</td>\n      <td>...</td>\n      <td>...</td>\n      <td>...</td>\n      <td>...</td>\n      <td>...</td>\n      <td>...</td>\n      <td>...</td>\n      <td>...</td>\n      <td>...</td>\n    </tr>\n    <tr>\n      <th>4596</th>\n      <td>88</td>\n      <td>0.000</td>\n      <td>0.000</td>\n      <td>0.00</td>\n      <td>0.00</td>\n      <td>0.31</td>\n      <td>0.000</td>\n      <td>0.000</td>\n      <td>0.00</td>\n      <td>0.00</td>\n      <td>...</td>\n      <td>0.000000</td>\n      <td>0.00000</td>\n      <td>0.00000</td>\n      <td>0.00000</td>\n      <td>0.00000</td>\n      <td>0.00000</td>\n      <td>0.00000</td>\n      <td>0.0000</td>\n      <td>0.0000</td>\n      <td>0.0000</td>\n    </tr>\n    <tr>\n      <th>4597</th>\n      <td>14</td>\n      <td>0.000</td>\n      <td>0.353</td>\n      <td>0.00</td>\n      <td>0.00</td>\n      <td>0.00</td>\n      <td>0.000</td>\n      <td>4.942</td>\n      <td>0.00</td>\n      <td>0.00</td>\n      <td>...</td>\n      <td>0.000000</td>\n      <td>0.00000</td>\n      <td>0.00000</td>\n      <td>0.00000</td>\n      <td>0.00000</td>\n      <td>0.00000</td>\n      <td>0.00000</td>\n      <td>0.0000</td>\n      <td>0.0000</td>\n      <td>0.0000</td>\n    </tr>\n    <tr>\n      <th>4598</th>\n      <td>118</td>\n      <td>0.000</td>\n      <td>0.000</td>\n      <td>0.00</td>\n      <td>0.00</td>\n      <td>0.30</td>\n      <td>0.000</td>\n      <td>0.000</td>\n      <td>0.00</td>\n      <td>0.00</td>\n      <td>...</td>\n      <td>0.000000</td>\n      <td>0.00000</td>\n      <td>0.00000</td>\n      <td>0.00000</td>\n      <td>0.00000</td>\n      <td>0.00000</td>\n      <td>0.00000</td>\n      <td>0.0000</td>\n      <td>0.0000</td>\n      <td>0.0000</td>\n    </tr>\n    <tr>\n      <th>4599</th>\n      <td>78</td>\n      <td>0.000</td>\n      <td>0.000</td>\n      <td>0.00</td>\n      <td>0.00</td>\n      <td>0.96</td>\n      <td>0.000</td>\n      <td>0.000</td>\n      <td>0.00</td>\n      <td>0.00</td>\n      <td>...</td>\n      <td>0.000000</td>\n      <td>0.00000</td>\n      <td>0.00000</td>\n      <td>0.00000</td>\n      <td>0.00000</td>\n      <td>0.00000</td>\n      <td>0.00000</td>\n      <td>0.0000</td>\n      <td>0.0000</td>\n      <td>0.0000</td>\n    </tr>\n    <tr>\n      <th>4600</th>\n      <td>40</td>\n      <td>0.000</td>\n      <td>0.125</td>\n      <td>0.00</td>\n      <td>0.00</td>\n      <td>0.00</td>\n      <td>0.000</td>\n      <td>5.000</td>\n      <td>0.00</td>\n      <td>0.00</td>\n      <td>...</td>\n      <td>0.000000</td>\n      <td>0.00000</td>\n      <td>0.00000</td>\n      <td>0.00000</td>\n      <td>0.00000</td>\n      <td>0.00000</td>\n      <td>0.00000</td>\n      <td>0.0000</td>\n      <td>0.0000</td>\n      <td>0.0000</td>\n    </tr>\n  </tbody>\n</table>\n<p>4601 rows × 21 columns</p>\n</div>"
          },
          "metadata": {}
        }
      ]
    },
    {
      "cell_type": "code",
      "metadata": {
        "tags": [],
        "cell_id": "00013-0b370a37-7241-4008-95a2-c8a9ea88c1be",
        "deepnote_to_be_reexecuted": false,
        "source_hash": "bb492e3a",
        "execution_millis": 0,
        "execution_start": 1615469231237,
        "deepnote_cell_type": "code"
      },
      "source": "X['crl.tot_dollar'] = X['crl.tot']*X['dollar']\nX['crl.tot_bang'] = X['crl.tot']*X['bang']\nX['crl.tot_money'] = X['crl.tot']*X['money']\nX['crl.tot_n000'] = X['crl.tot']*X['n000']\nX['crl.tot_make'] = X['crl.tot']*X['make']\nX['dollar_bang'] = X['dollar']*X['bang']\nX['dollar_money'] = X['dollar']*X['money']\nX['dollar_n000'] = X['dollar']*X['n000']\nX['dollar_make'] = X['dollar']*X['make']\nX['bang_n000'] = X['bang']*X['n000']\nX['bang_make'] = X['bang']*X['make']\nX['bang_money'] = X['bang']*X['money']\nX['money_n000'] = X['money']*X['n000']\nX['money_make'] = X['money']*X['make']\nX['n000_make'] = X['make']*X['n000']",
      "execution_count": null,
      "outputs": []
    },
    {
      "cell_type": "code",
      "metadata": {
        "tags": [],
        "cell_id": "00010-33386cb8-41f8-4338-b569-f02ca5a8f1ee",
        "deepnote_to_be_reexecuted": false,
        "source_hash": "350666cf",
        "execution_start": 1615469296437,
        "execution_millis": 1561,
        "deepnote_cell_type": "code"
      },
      "source": "from sklearn.ensemble import GradientBoostingClassifier",
      "execution_count": null,
      "outputs": []
    },
    {
      "cell_type": "code",
      "metadata": {
        "tags": [],
        "cell_id": "00011-8e174f61-3d9b-417e-b23f-5bd361354403",
        "deepnote_to_be_reexecuted": false,
        "source_hash": "fd1a27cd",
        "execution_millis": 0,
        "execution_start": 1615469464193,
        "deepnote_cell_type": "code"
      },
      "source": "X_train, X_test, y_train, y_test=train_test_split(X,y,test_size=0.2, random_state=42)",
      "execution_count": null,
      "outputs": []
    },
    {
      "cell_type": "code",
      "metadata": {
        "tags": [],
        "cell_id": "00012-573b2084-5779-467a-91bb-5bc95ddc31b8",
        "deepnote_to_be_reexecuted": false,
        "source_hash": "9d00b9a",
        "execution_millis": 553,
        "execution_start": 1615469653302,
        "deepnote_cell_type": "code"
      },
      "source": "clf = GradientBoostingClassifier(learning_rate=0.1, n_estimators=100,max_depth=3, min_samples_split=2, min_samples_leaf=1, subsample=1,max_features=None, random_state=42).fit(X_train, y_train)\nclf.score(X_test, y_test)",
      "execution_count": null,
      "outputs": [
        {
          "output_type": "execute_result",
          "execution_count": 21,
          "data": {
            "text/plain": "0.8653637350705755"
          },
          "metadata": {}
        }
      ]
    },
    {
      "cell_type": "code",
      "metadata": {
        "tags": [],
        "cell_id": "00013-fdbc4181-79c1-460b-976e-8f830c095bc5",
        "deepnote_to_be_reexecuted": false,
        "source_hash": "c4af6073",
        "execution_start": 1615469737101,
        "execution_millis": 5,
        "deepnote_cell_type": "code"
      },
      "source": "importances = clf.feature_importances_",
      "execution_count": null,
      "outputs": []
    },
    {
      "cell_type": "code",
      "metadata": {
        "tags": [],
        "cell_id": "00014-9c312238-c744-4d9a-a06a-616f417ebaee",
        "deepnote_to_be_reexecuted": false,
        "source_hash": "d0b1f9c4",
        "execution_millis": 588,
        "execution_start": 1615470008321,
        "deepnote_cell_type": "code"
      },
      "source": "std = np.std([importances for clf in clf.estimators_],\n             axis=0)\nindices = np.argsort(importances)[::-1]\n\n# Print the feature ranking\nprint(\"Feature ranking:\")\n\nfor f in range(X.shape[1]):\n    print(\"%d. feature %d (%f)\" % (f + 1, indices[f], importances[indices[f]]))\n\n# Plot the impurity-based feature importances of the forest\nplt.figure()\nplt.title(\"Feature importances\")\nplt.bar(range(X.shape[1]), importances[indices],\n        color=\"r\", yerr=std[indices], align=\"center\")\nplt.xticks(range(X.shape[1]), indices)\nplt.xlim([-1, X.shape[1]])\nplt.show()",
      "execution_count": null,
      "outputs": [
        {
          "name": "stdout",
          "text": "Feature ranking:\n1. feature 7 (0.614883)\n2. feature 1 (0.139914)\n3. feature 11 (0.060325)\n4. feature 2 (0.042615)\n5. feature 8 (0.040128)\n6. feature 0 (0.029810)\n7. feature 4 (0.024777)\n8. feature 6 (0.009534)\n9. feature 12 (0.007240)\n10. feature 10 (0.006539)\n11. feature 17 (0.006501)\n12. feature 3 (0.006090)\n13. feature 13 (0.003102)\n14. feature 14 (0.001694)\n15. feature 16 (0.001693)\n16. feature 15 (0.001608)\n17. feature 5 (0.001531)\n18. feature 9 (0.001328)\n19. feature 20 (0.000661)\n20. feature 18 (0.000027)\n21. feature 19 (0.000000)\n",
          "output_type": "stream"
        },
        {
          "data": {
            "text/plain": "<Figure size 432x288 with 1 Axes>",
            "image/png": "[encoded data removed]"
          },
          "metadata": {
            "needs_background": "light"
          },
          "output_type": "display_data"
        }
      ]
    },
    {
      "cell_type": "code",
      "metadata": {
        "tags": [],
        "cell_id": "00016-499d03e9-62b5-43ff-9260-61d48f09bb84",
        "deepnote_to_be_reexecuted": false,
        "source_hash": "5b5c9347",
        "execution_start": 1615470511504,
        "execution_millis": 1717561,
        "deepnote_cell_type": "code"
      },
      "source": "from sklearn.model_selection import GridSearchCV\n\nX_train, X_test, y_train, y_test=train_test_split(X,y,test_size=0.2, random_state=42)\n\nmodel = GradientBoostingClassifier(random_state=42)\n\nparam_grid = {'learning_rate':[0.00001, 0.0001, 0.001, 0.01, 0.1, 1], \n              'n_estimators':[100, 250, 500, 750, 1000, 1250, 1500, 1750]}\n\ngridsearch = GridSearchCV(model, param_grid, scoring='accuracy', n_jobs=-1, cv=5)\ngridsearch.fit(X_train, y_train)\nmodel_bestparams = gridsearch.best_estimator_\n## печатаем параметры\nbest_parameters = model.get_params()",
      "execution_count": null,
      "outputs": []
    },
    {
      "cell_type": "code",
      "metadata": {
        "tags": [],
        "cell_id": "00016-fe34f03b-7e64-4a69-960b-629df57b57ef",
        "deepnote_to_be_reexecuted": false,
        "source_hash": "7c1a5ecd",
        "execution_start": 1615544071123,
        "execution_millis": 0,
        "deepnote_cell_type": "code"
      },
      "source": "a = [0, 25, 50, 75]",
      "outputs": [],
      "execution_count": null
    },
    {
      "cell_type": "code",
      "source": "b = [25, 50, 75, 100]",
      "metadata": {
        "tags": [],
        "cell_id": "00017-58f7e120-f2e0-4fe3-a460-618e47c3044c",
        "deepnote_to_be_reexecuted": false,
        "source_hash": "c84e6017",
        "execution_millis": 0,
        "execution_start": 1615544308101,
        "deepnote_cell_type": "code"
      },
      "outputs": [],
      "execution_count": null
    },
    {
      "cell_type": "code",
      "source": "statistics.pstdev(b)",
      "metadata": {
        "tags": [],
        "cell_id": "00018-8e12007b-c762-4299-8cf5-a2e90c19abe7",
        "deepnote_to_be_reexecuted": false,
        "source_hash": "c62325a",
        "execution_millis": 7,
        "execution_start": 1615544488228,
        "deepnote_cell_type": "code"
      },
      "outputs": [
        {
          "output_type": "execute_result",
          "execution_count": 10,
          "data": {
            "text/plain": "27.95084971874737"
          },
          "metadata": {}
        }
      ],
      "execution_count": null
    },
    {
      "cell_type": "code",
      "source": "import statistics \n",
      "metadata": {
        "tags": [],
        "cell_id": "00019-0f3af8f1-1edb-456f-bab8-fbd18b1ab79b",
        "deepnote_to_be_reexecuted": false,
        "source_hash": "ef94efb",
        "execution_start": 1615544459017,
        "execution_millis": 0,
        "deepnote_cell_type": "code"
      },
      "outputs": [],
      "execution_count": null
    },
    {
      "cell_type": "code",
      "source": "",
      "metadata": {
        "tags": [],
        "cell_id": "00020-d9346141-74da-4166-be10-2e886de142d2",
        "deepnote_cell_type": "code"
      },
      "outputs": [],
      "execution_count": null
    },
    {
      "cell_type": "markdown",
      "source": "<a style='text-decoration:none;line-height:16px;display:flex;color:#5B5B62;padding:10px;justify-content:end;' href='https://deepnote.com?utm_source=created-in-deepnote-cell&projectId=762381e0-0fb5-4cfa-9159-464420420d1d' target=\"_blank\">\n<img style='display:inline;max-height:16px;margin:0px;margin-right:7.5px;' src='data:image/svg+xml;base64,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' > </img>\nCreated in <span style='font-weight:600;margin-left:4px;'>Deepnote</span></a>",
      "metadata": {
        "tags": [],
        "created_in_deepnote_cell": true,
        "deepnote_cell_type": "markdown"
      }
    }
  ],
  "nbformat": 4,
  "nbformat_minor": 2,
  "metadata": {
    "orig_nbformat": 2,
    "deepnote_notebook_id": "91ce6359-0c19-4c89-b42e-66224695ac75",
    "deepnote": {},
    "deepnote_execution_queue": []
  }
}